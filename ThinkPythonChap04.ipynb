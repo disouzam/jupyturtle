{
 "cells": [
  {
   "cell_type": "markdown",
   "id": "fbb4d5a2",
   "metadata": {
    "id": "fbb4d5a2"
   },
   "source": [
    "# Code from Downey's _Think Python_\n",
    "\n",
    "This notebook contains code for examples and exercises from chapter 4,\n",
    "_Functions and Interfaces_ of Allen Downey's\n",
    "_Think Python Third Edition_ (O'Reilly, 2024) using turtle graphics.\n",
    "\n",
    "I removed the main text, keeping only the section titles to make it easier to locate the code in the book.\n",
    "I also added some very brief comments for context."
   ]
  },
  {
   "cell_type": "markdown",
   "id": "0b0efa00",
   "metadata": {
    "id": "0b0efa00"
   },
   "source": [
    "## The Turtle module\n",
    "\n",
    "Import the `Turtle` class:"
   ]
  },
  {
   "cell_type": "code",
   "execution_count": 1,
   "id": "8f5a8a45",
   "metadata": {
    "id": "8f5a8a45"
   },
   "outputs": [],
   "source": [
    "from jupyturtle import Turtle"
   ]
  },
  {
   "cell_type": "markdown",
   "id": "8c801121",
   "metadata": {
    "id": "8c801121"
   },
   "source": [
    "Create `Turtle` object, use a method:"
   ]
  },
  {
   "cell_type": "code",
   "execution_count": 2,
   "id": "b3f255cd",
   "metadata": {
    "id": "b3f255cd",
    "outputId": "deb4d489-1a62-47ef-d6bf-39617641f591"
   },
   "outputs": [
    {
     "data": {
      "text/html": [
       "<svg width=\"300\" height=\"150\" style=\"fill:none;\">\n",
       "    <rect width=\"100%\" height=\"100%\" fill=\"#F3F3F7\" />\n",
       "\n",
       "\n",
       "<path stroke=\"#663399\" stroke-width=\"2\" d=\"M 150,75 250.0,75.0\" />'\n",
       "\n",
       "<g transform=\"rotate(-90.0,250.0,75.0) translate(250.0, 75.0)\">\n",
       "    <circle stroke=\"#63A375\" stroke-width=\"2\" fill=\"transparent\" r=\"5.5\" cx=\"0\" cy=\"0\"/>\n",
       "    <polygon points=\"0,12 2,9 -2,9\" style=\"fill:#63A375;stroke:#63A375;stroke-width:2\"/>\n",
       "</g>\n",
       "\n",
       "</svg>"
      ],
      "text/plain": [
       "<IPython.core.display.HTML object>"
      ]
     },
     "metadata": {},
     "output_type": "display_data"
    }
   ],
   "source": [
    "t = Turtle()\n",
    "t.forward(100)"
   ]
  },
  {
   "cell_type": "markdown",
   "id": "77a61cbb",
   "metadata": {
    "id": "77a61cbb"
   },
   "source": [
    "Shortcuts for exploratory programming with an imperative API:"
   ]
  },
  {
   "cell_type": "code",
   "execution_count": 3,
   "id": "234fde81",
   "metadata": {
    "id": "234fde81"
   },
   "outputs": [
    {
     "data": {
      "text/html": [
       "<svg width=\"300\" height=\"150\" style=\"fill:none;\">\n",
       "    <rect width=\"100%\" height=\"100%\" fill=\"#F3F3F7\" />\n",
       "\n",
       "\n",
       "<path stroke=\"#663399\" stroke-width=\"2\" d=\"M 150,75 250.0,75.0 250.0,25.0\" />'\n",
       "\n",
       "<g transform=\"rotate(180.0,250.0,25.0) translate(250.0, 25.0)\">\n",
       "    <circle stroke=\"#63A375\" stroke-width=\"2\" fill=\"transparent\" r=\"5.5\" cx=\"0\" cy=\"0\"/>\n",
       "    <polygon points=\"0,12 2,9 -2,9\" style=\"fill:#63A375;stroke:#63A375;stroke-width:2\"/>\n",
       "</g>\n",
       "\n",
       "</svg>"
      ],
      "text/plain": [
       "<IPython.core.display.HTML object>"
      ]
     },
     "metadata": {},
     "output_type": "display_data"
    }
   ],
   "source": [
    "from jupyturtle import fd\n",
    "fd(100)"
   ]
  },
  {
   "cell_type": "markdown",
   "id": "c1322d31",
   "metadata": {
    "id": "c1322d31"
   },
   "source": [
    "The `fd()` call created a new turtle and drawing.\n",
    "Further commands will update that same drawing."
   ]
  },
  {
   "cell_type": "markdown",
   "id": "bd319754",
   "metadata": {
    "id": "bd319754"
   },
   "source": [
    "Import more functions:"
   ]
  },
  {
   "cell_type": "code",
   "execution_count": 4,
   "id": "6d874b03",
   "metadata": {
    "id": "6d874b03"
   },
   "outputs": [],
   "source": [
    "from jupyturtle import lt, rt, fd"
   ]
  },
  {
   "cell_type": "markdown",
   "id": "0da2a311",
   "metadata": {
    "id": "0da2a311"
   },
   "source": [
    "Experiment with `left`, aliased to `lt`."
   ]
  },
  {
   "cell_type": "code",
   "execution_count": 5,
   "id": "1bb57a0c",
   "metadata": {
    "id": "1bb57a0c",
    "outputId": "7c5c99bb-d1c1-4e70-8eeb-60dd7e4d9976"
   },
   "outputs": [],
   "source": [
    "lt(90)\n",
    "fd(50)"
   ]
  },
  {
   "cell_type": "markdown",
   "id": "e20ea96c",
   "metadata": {
    "id": "e20ea96c"
   },
   "source": [
    "## Making a square"
   ]
  },
  {
   "cell_type": "code",
   "execution_count": 6,
   "id": "9a9e455f",
   "metadata": {
    "id": "9a9e455f",
    "outputId": "b2f6fc88-1ae0-4058-94ab-b11fb7278169"
   },
   "outputs": [
    {
     "data": {
      "text/html": [
       "<svg width=\"300\" height=\"150\" style=\"fill:none;\">\n",
       "    <rect width=\"100%\" height=\"100%\" fill=\"#F3F3F7\" />\n",
       "\n",
       "\n",
       "<path stroke=\"#663399\" stroke-width=\"2\" d=\"M 150,75 200.0,75.0 200.0,25.0 150.0,25.000000000000007 150.0,75.0\" />'\n",
       "\n",
       "<g transform=\"rotate(-90.0,150.0,75.0) translate(150.0, 75.0)\">\n",
       "    <circle stroke=\"#63A375\" stroke-width=\"2\" fill=\"transparent\" r=\"5.5\" cx=\"0\" cy=\"0\"/>\n",
       "    <polygon points=\"0,12 2,9 -2,9\" style=\"fill:#63A375;stroke:#63A375;stroke-width:2\"/>\n",
       "</g>\n",
       "\n",
       "</svg>"
      ],
      "text/plain": [
       "<IPython.core.display.HTML object>"
      ]
     },
     "metadata": {},
     "output_type": "display_data"
    }
   ],
   "source": [
    "from jupyturtle import make_turtle, forward, left\n",
    "\n",
    "make_turtle()\n",
    "\n",
    "forward(50)\n",
    "left(90)\n",
    "\n",
    "forward(50)\n",
    "left(90)\n",
    "\n",
    "forward(50)\n",
    "left(90)\n",
    "\n",
    "forward(50)\n",
    "left(90)"
   ]
  },
  {
   "cell_type": "markdown",
   "id": "a7500957",
   "metadata": {
    "id": "a7500957"
   },
   "source": [
    "Using a `for` loop."
   ]
  },
  {
   "cell_type": "code",
   "execution_count": 7,
   "id": "cc27ad66",
   "metadata": {
    "id": "cc27ad66",
    "outputId": "d13253a3-9547-49a5-8181-38994a7d9bcf"
   },
   "outputs": [
    {
     "data": {
      "text/html": [
       "<svg width=\"300\" height=\"150\" style=\"fill:none;\">\n",
       "    <rect width=\"100%\" height=\"100%\" fill=\"#F3F3F7\" />\n",
       "\n",
       "\n",
       "<path stroke=\"#663399\" stroke-width=\"2\" d=\"M 150,75 200.0,75.0 200.0,25.0 150.0,25.000000000000007 150.0,75.0\" />'\n",
       "\n",
       "<g transform=\"rotate(-90.0,150.0,75.0) translate(150.0, 75.0)\">\n",
       "    <circle stroke=\"#63A375\" stroke-width=\"2\" fill=\"transparent\" r=\"5.5\" cx=\"0\" cy=\"0\"/>\n",
       "    <polygon points=\"0,12 2,9 -2,9\" style=\"fill:#63A375;stroke:#63A375;stroke-width:2\"/>\n",
       "</g>\n",
       "\n",
       "</svg>"
      ],
      "text/plain": [
       "<IPython.core.display.HTML object>"
      ]
     },
     "metadata": {},
     "output_type": "display_data"
    }
   ],
   "source": [
    "make_turtle()\n",
    "for i in range(4):\n",
    "    forward(50)\n",
    "    left(90)"
   ]
  },
  {
   "cell_type": "markdown",
   "id": "c072ea41",
   "metadata": {
    "id": "c072ea41"
   },
   "source": [
    "## Encapsulation and generalization\n",
    "\n",
    "Write function"
   ]
  },
  {
   "cell_type": "code",
   "execution_count": 8,
   "id": "ad5f1128",
   "metadata": {
    "id": "ad5f1128"
   },
   "outputs": [],
   "source": [
    "def square():\n",
    "    for i in range(4):\n",
    "        forward(50)\n",
    "        left(90)"
   ]
  },
  {
   "cell_type": "markdown",
   "id": "0789b5d9",
   "metadata": {
    "id": "0789b5d9"
   },
   "source": [
    "Call it."
   ]
  },
  {
   "cell_type": "code",
   "execution_count": 9,
   "id": "193bbe5e",
   "metadata": {
    "id": "193bbe5e",
    "outputId": "685b50ca-1d40-43e6-c9d0-c04eb3384e9c"
   },
   "outputs": [
    {
     "data": {
      "text/html": [
       "<svg width=\"300\" height=\"150\" style=\"fill:none;\">\n",
       "    <rect width=\"100%\" height=\"100%\" fill=\"#F3F3F7\" />\n",
       "\n",
       "\n",
       "<path stroke=\"#663399\" stroke-width=\"2\" d=\"M 150,75 200.0,75.0 200.0,25.0 150.0,25.000000000000007 150.0,75.0\" />'\n",
       "\n",
       "<g transform=\"rotate(-90.0,150.0,75.0) translate(150.0, 75.0)\">\n",
       "    <circle stroke=\"#63A375\" stroke-width=\"2\" fill=\"transparent\" r=\"5.5\" cx=\"0\" cy=\"0\"/>\n",
       "    <polygon points=\"0,12 2,9 -2,9\" style=\"fill:#63A375;stroke:#63A375;stroke-width:2\"/>\n",
       "</g>\n",
       "\n",
       "</svg>"
      ],
      "text/plain": [
       "<IPython.core.display.HTML object>"
      ]
     },
     "metadata": {},
     "output_type": "display_data"
    }
   ],
   "source": [
    "make_turtle()\n",
    "square()"
   ]
  },
  {
   "cell_type": "markdown",
   "id": "da905fc6",
   "metadata": {
    "id": "da905fc6"
   },
   "source": [
    "Function with parameter"
   ]
  },
  {
   "cell_type": "code",
   "execution_count": 10,
   "id": "def8a5f1",
   "metadata": {
    "id": "def8a5f1"
   },
   "outputs": [],
   "source": [
    "def square(length):\n",
    "    for i in range(4):\n",
    "        forward(length)\n",
    "        left(90)"
   ]
  },
  {
   "cell_type": "markdown",
   "id": "397fda4b",
   "metadata": {
    "id": "397fda4b"
   },
   "source": [
    "Now we can draw squares with different sizes."
   ]
  },
  {
   "cell_type": "code",
   "execution_count": 11,
   "id": "b283e795",
   "metadata": {
    "id": "b283e795",
    "outputId": "f1681b48-b958-430c-fa9d-2290dcb64e85"
   },
   "outputs": [
    {
     "data": {
      "text/html": [
       "<svg width=\"300\" height=\"150\" style=\"fill:none;\">\n",
       "    <rect width=\"100%\" height=\"100%\" fill=\"#F3F3F7\" />\n",
       "\n",
       "\n",
       "<path stroke=\"#663399\" stroke-width=\"2\" d=\"M 150,75 180.0,75.0 180.0,45.0 150.0,45.00000000000001 150.0,75.0 210.0,75.0 210.0,15.0 150.0,15.000000000000007 150.0,75.0\" />'\n",
       "\n",
       "<g transform=\"rotate(-90.0,150.0,75.0) translate(150.0, 75.0)\">\n",
       "    <circle stroke=\"#63A375\" stroke-width=\"2\" fill=\"transparent\" r=\"5.5\" cx=\"0\" cy=\"0\"/>\n",
       "    <polygon points=\"0,12 2,9 -2,9\" style=\"fill:#63A375;stroke:#63A375;stroke-width:2\"/>\n",
       "</g>\n",
       "\n",
       "</svg>"
      ],
      "text/plain": [
       "<IPython.core.display.HTML object>"
      ]
     },
     "metadata": {},
     "output_type": "display_data"
    }
   ],
   "source": [
    "make_turtle()\n",
    "square(30)\n",
    "square(60)"
   ]
  },
  {
   "cell_type": "markdown",
   "id": "5a46bf64",
   "metadata": {
    "id": "5a46bf64"
   },
   "source": [
    "Generalization:"
   ]
  },
  {
   "cell_type": "code",
   "execution_count": 12,
   "id": "171974ed",
   "metadata": {
    "id": "171974ed"
   },
   "outputs": [],
   "source": [
    "def polygon(n, length):\n",
    "    angle = 360 / n\n",
    "    for i in range(n):\n",
    "        forward(length)\n",
    "        left(angle)"
   ]
  },
  {
   "cell_type": "markdown",
   "id": "286d3c77",
   "metadata": {
    "id": "286d3c77"
   },
   "source": [
    "Example:"
   ]
  },
  {
   "cell_type": "code",
   "execution_count": 13,
   "id": "71f7d9d2",
   "metadata": {
    "id": "71f7d9d2",
    "outputId": "b9160d99-658e-4933-f17e-1ecf02c9a6fa"
   },
   "outputs": [
    {
     "data": {
      "text/html": [
       "<svg width=\"300\" height=\"150\" style=\"fill:none;\">\n",
       "    <rect width=\"100%\" height=\"100%\" fill=\"#F3F3F7\" />\n",
       "\n",
       "\n",
       "<path stroke=\"#663399\" stroke-width=\"2\" d=\"M 150,75 180.0,75.0 198.704694055762,51.5450555259591 192.02906603707254,22.297218160504396 164.99999999999994,9.280705986977681 137.97093396292738,22.29721816050445 131.29530594423798,51.545055525959164 150.0,75.00000000000003\" />'\n",
       "\n",
       "<g transform=\"rotate(270.0,150.0,75.0) translate(150.0, 75.0)\">\n",
       "    <circle stroke=\"#63A375\" stroke-width=\"2\" fill=\"transparent\" r=\"5.5\" cx=\"0\" cy=\"0\"/>\n",
       "    <polygon points=\"0,12 2,9 -2,9\" style=\"fill:#63A375;stroke:#63A375;stroke-width:2\"/>\n",
       "</g>\n",
       "\n",
       "</svg>"
      ],
      "text/plain": [
       "<IPython.core.display.HTML object>"
      ]
     },
     "metadata": {},
     "output_type": "display_data"
    }
   ],
   "source": [
    "make_turtle()\n",
    "polygon(7, 30)"
   ]
  },
  {
   "cell_type": "markdown",
   "id": "dc0226db",
   "metadata": {
    "id": "dc0226db"
   },
   "source": [
    "Named arguments:"
   ]
  },
  {
   "cell_type": "code",
   "execution_count": 14,
   "id": "8ff2a5f4",
   "metadata": {
    "id": "8ff2a5f4",
    "outputId": "4b4a744d-bf00-4d1e-feba-9f4174506318",
    "tags": [
     "remove-output"
    ]
   },
   "outputs": [
    {
     "data": {
      "text/html": [
       "<svg width=\"300\" height=\"150\" style=\"fill:none;\">\n",
       "    <rect width=\"100%\" height=\"100%\" fill=\"#F3F3F7\" />\n",
       "\n",
       "\n",
       "<path stroke=\"#663399\" stroke-width=\"2\" d=\"M 150,75 180.0,75.0 198.704694055762,51.5450555259591 192.02906603707254,22.297218160504396 164.99999999999994,9.280705986977681 137.97093396292738,22.29721816050445 131.29530594423798,51.545055525959164 150.0,75.00000000000003\" />'\n",
       "\n",
       "<g transform=\"rotate(270.0,150.0,75.0) translate(150.0, 75.0)\">\n",
       "    <circle stroke=\"#63A375\" stroke-width=\"2\" fill=\"transparent\" r=\"5.5\" cx=\"0\" cy=\"0\"/>\n",
       "    <polygon points=\"0,12 2,9 -2,9\" style=\"fill:#63A375;stroke:#63A375;stroke-width:2\"/>\n",
       "</g>\n",
       "\n",
       "</svg>"
      ],
      "text/plain": [
       "<IPython.core.display.HTML object>"
      ]
     },
     "metadata": {},
     "output_type": "display_data"
    }
   ],
   "source": [
    "make_turtle()\n",
    "polygon(n=7, length=30)"
   ]
  },
  {
   "cell_type": "markdown",
   "id": "b10184b4",
   "metadata": {
    "id": "b10184b4"
   },
   "source": [
    "## Approximating a circle\n",
    "\n",
    "To draw a circle:"
   ]
  },
  {
   "cell_type": "code",
   "execution_count": 15,
   "id": "7f2a5f28",
   "metadata": {
    "id": "7f2a5f28"
   },
   "outputs": [],
   "source": [
    "import math\n",
    "\n",
    "def circle(radius):\n",
    "    circumference = 2 * math.pi * radius\n",
    "    n = 30\n",
    "    length = circumference / n\n",
    "    polygon(n, length)"
   ]
  },
  {
   "cell_type": "markdown",
   "id": "39023314",
   "metadata": {
    "id": "39023314"
   },
   "source": [
    "The `delay` argument:"
   ]
  },
  {
   "cell_type": "code",
   "execution_count": 16,
   "id": "75258056",
   "metadata": {
    "id": "75258056",
    "outputId": "9cbf7b6a-c5e7-433e-a14f-2b275e9e9f05"
   },
   "outputs": [
    {
     "data": {
      "text/html": [
       "<svg width=\"300\" height=\"150\" style=\"fill:none;\">\n",
       "    <rect width=\"100%\" height=\"100%\" fill=\"#F3F3F7\" />\n",
       "\n",
       "\n",
       "<path stroke=\"#663399\" stroke-width=\"2\" d=\"M 150,75 156.2831853071796,75.0 162.4290679403632,73.69365231906299 168.16904333726384,71.13805061939757 173.2522470295791,67.44488695841666 177.45651862403724,62.77557030987056 180.59811127762703,57.334172217167904 182.53972231635248,51.358507887684794 183.19649402093785,45.10974252703846 182.53972231635248,38.86097716639213 180.59811127762703,32.88531283690902 177.45651862403724,27.44391474420637 173.2522470295791,22.77459809566027 168.16904333726384,19.08143443467936 162.4290679403632,16.525832735013942 156.2831853071796,15.219485054076932 150.0,15.219485054076932 143.85411736681638,16.525832735013942 138.11414196991575,19.08143443467936 133.03093827760048,22.774598095660274 128.82666668314235,27.443914744206374 125.68507402955255,32.88531283690903 123.74346299082708,38.86097716639214 123.0866912862417,45.10974252703846 123.74346299082708,51.358507887684794 125.68507402955255,57.334172217167904 128.82666668314235,62.77557030987056 133.03093827760048,67.44488695841666 138.11414196991575,71.13805061939757 143.85411736681638,73.69365231906299 150.0,75.0\" />'\n",
       "\n",
       "<g transform=\"rotate(-90.0,150.0,75.0) translate(150.0, 75.0)\">\n",
       "    <circle stroke=\"#63A375\" stroke-width=\"2\" fill=\"transparent\" r=\"5.5\" cx=\"0\" cy=\"0\"/>\n",
       "    <polygon points=\"0,12 2,9 -2,9\" style=\"fill:#63A375;stroke:#63A375;stroke-width:2\"/>\n",
       "</g>\n",
       "\n",
       "</svg>"
      ],
      "text/plain": [
       "<IPython.core.display.HTML object>"
      ]
     },
     "metadata": {},
     "output_type": "display_data"
    }
   ],
   "source": [
    "make_turtle(delay=.01)\n",
    "circle(30)"
   ]
  },
  {
   "cell_type": "markdown",
   "id": "c48f262c",
   "metadata": {
    "id": "c48f262c"
   },
   "source": [
    "## Refactoring\n",
    "\n",
    "`polyline`, a more general version of `polygon`:"
   ]
  },
  {
   "cell_type": "code",
   "execution_count": 17,
   "id": "381edd23",
   "metadata": {
    "id": "381edd23"
   },
   "outputs": [],
   "source": [
    "def polyline(n, length, angle):\n",
    "    for i in range(n):\n",
    "        forward(length)\n",
    "        left(angle)"
   ]
  },
  {
   "cell_type": "markdown",
   "id": "c2b2503e",
   "metadata": {
    "id": "c2b2503e"
   },
   "source": [
    "Parameters:\n",
    "\n",
    "`n`: number of segments to draw\n",
    "\n",
    "`length`: length each segment\n",
    "\n",
    "`angle`: angle between them\n",
    "\n",
    "New `polygon` using `polyline`:"
   ]
  },
  {
   "cell_type": "code",
   "execution_count": 18,
   "id": "2f4eecc0",
   "metadata": {
    "id": "2f4eecc0"
   },
   "outputs": [],
   "source": [
    "def polygon(n, length):\n",
    "    angle = 360.0 / n\n",
    "    polyline(n, length, angle)"
   ]
  },
  {
   "cell_type": "markdown",
   "id": "2714a59e",
   "metadata": {
    "id": "2714a59e"
   },
   "source": [
    "Use `polyline` to write `arc`:"
   ]
  },
  {
   "cell_type": "code",
   "execution_count": 19,
   "id": "539466f6",
   "metadata": {
    "id": "539466f6"
   },
   "outputs": [],
   "source": [
    "def arc(radius, angle):\n",
    "    arc_length = 2 * math.pi * radius * angle / 360\n",
    "    n = 30\n",
    "    length = arc_length / n\n",
    "    step_angle = float(angle) / n\n",
    "    polyline(n, length, step_angle)"
   ]
  },
  {
   "cell_type": "markdown",
   "id": "3c18773c",
   "metadata": {
    "id": "3c18773c"
   },
   "source": [
    "Rewrite `circle` to use `arc`:"
   ]
  },
  {
   "cell_type": "code",
   "execution_count": 20,
   "id": "8e09f456",
   "metadata": {
    "id": "8e09f456"
   },
   "outputs": [],
   "source": [
    "def circle(radius):\n",
    "    arc(radius,  360)"
   ]
  },
  {
   "cell_type": "markdown",
   "id": "313a357c",
   "metadata": {
    "id": "313a357c"
   },
   "source": [
    "To check that these functions work as expected, we'll use them to draw something like a snail."
   ]
  },
  {
   "cell_type": "code",
   "execution_count": 21,
   "id": "80d6eadd",
   "metadata": {
    "id": "80d6eadd",
    "outputId": "7568b421-69a5-4e3d-c369-e706f92b2e7e"
   },
   "outputs": [
    {
     "data": {
      "text/html": [
       "<svg width=\"300\" height=\"150\" style=\"fill:none;\">\n",
       "    <rect width=\"100%\" height=\"100%\" fill=\"#F3F3F7\" />\n",
       "\n",
       "\n",
       "<path stroke=\"#663399\" stroke-width=\"2\" d=\"M 150,75 159.0,75.0 167.55950864665638,72.21884705062547 174.8406615960309,66.9287797799932 180.13072886666316,59.64762683061868 182.9118818160377,51.088118183962294 182.9118818160377,42.088118183962294 180.13072886666316,33.52860953730591 174.8406615960309,26.247456587931385 167.55950864665638,20.95738931729913 159.0,18.176236367924602 150.0,18.176236367924602 141.44049135334362,20.95738931729913 134.1593384039691,26.24745658793139 128.86927113333684,33.52860953730592 126.08811818396231,42.0881181839623 126.08811818396231,51.0881181839623 128.86927113333684,59.647626830618684 134.1593384039691,66.9287797799932 141.44049135334362,72.21884705062547 150.0,75.0 152.85070444492408,75.0 155.69904530890327,74.88393900355373 158.5402993494404,74.65200946804494 161.3697550757166,74.30459598909991 164.18272056139003,73.84227466283431 166.9745312249518,73.26581213054563 169.7405575647376,72.5761643074352 172.47621283576842,71.77447479746822 175.17696065569015,70.8620729969999 177.83832252719984,69.8404718903128 180.45588526448432,68.7113655407205 183.02530831135658,67.47662628139831 185.54233093895454,66.13830161059913 188.00277931106658,64.69861079640287 190.402573405368,63.159941196629816 192.7377337790913,61.52484430002019 195.00438816791072,59.796031495244776 197.19877790709938,57.97636957476247 199.31726416431013,56.06887598098055 201.35633397364538,54.07671380260065 203.31260606100977,52.00318652944777 205.1828364510856,49.851732574479946 206.96392384663358,47.62591957206264 208.65291477119862,45.32943846196251 210.2470084666927,42.966097368870805 211.74356153773348,40.53981528760568 213.14009233503742,38.054615584464806 214.43428507059826,35.51461932550469 215.62399365782736,32.924038442809994 216.70724527028753,30.287168750084867 217.42357058338865,28.31908112735584 217.7150540444243,26.24506853412713 217.56895642745442,24.155775272939437 216.9916628993947,22.14251348484804 216.00840395758306,20.29327237069443 214.66215273597655,18.68887264081051 213.01174687298948,17.399434262156266 211.12931702436035,16.481311879290715 209.09713440737485,15.974631845985073 207.00401515388938,15.901538511015348 204.94143861918175,16.26522640386045 202.99954929515903,17.049800618434915 201.26321706349978,18.220971496757063 199.808327974574,19.72755325154282 198.69846766290016,21.5037010307267 197.98214234979903,23.471788653455725 197.69065888876338,25.545801246684434 197.83675650573326,27.635094507872132 198.414050033793,29.64835629596353 199.39730897560463,31.497597410117137 200.74356019721114,33.10199714000106 202.3939660601982,34.39143551865531 204.27639590882734,35.309557901520854 206.30857852581283,35.816237934826496 208.4016977792983,35.88933126979622 210.46427431400593,35.52564337695112 212.40616363802866,34.741069162376654 214.1424958696879,33.56989828405451 215.59738495861367,32.063316529268754 216.70724527028753,30.287168750084874\" />'\n",
       "\n",
       "<g transform=\"rotate(200.0,216.7,30.3) translate(216.7, 30.3)\">\n",
       "    <circle stroke=\"#63A375\" stroke-width=\"2\" fill=\"transparent\" r=\"5.5\" cx=\"0\" cy=\"0\"/>\n",
       "    <polygon points=\"0,12 2,9 -2,9\" style=\"fill:#63A375;stroke:#63A375;stroke-width:2\"/>\n",
       "</g>\n",
       "\n",
       "</svg>"
      ],
      "text/plain": [
       "<IPython.core.display.HTML object>"
      ]
     },
     "metadata": {},
     "output_type": "display_data"
    }
   ],
   "source": [
    "make_turtle(delay=0)\n",
    "polygon(n=20, length=9)\n",
    "arc(radius=70, angle=70)\n",
    "circle(radius=10)"
   ]
  },
  {
   "cell_type": "markdown",
   "id": "d18c9d16",
   "metadata": {
    "id": "d18c9d16"
   },
   "source": [
    "## Stack diagram\n",
    "\n",
    "(no turtle examples in this section)"
   ]
  },
  {
   "cell_type": "markdown",
   "id": "3e3bae20",
   "metadata": {
    "id": "3e3bae20"
   },
   "source": [
    "## Docstrings\n",
    "\n",
    "`polyline` with docstring:"
   ]
  },
  {
   "cell_type": "code",
   "execution_count": 22,
   "id": "b68f3682",
   "metadata": {
    "id": "b68f3682"
   },
   "outputs": [],
   "source": [
    "def polyline(n, length, angle):\n",
    "    \"\"\"Draws line segments with the given length and angle between them.\n",
    "\n",
    "    n: integer number of line segments\n",
    "    length: length of the line segments\n",
    "    angle: angle between segments (in degrees)\n",
    "    \"\"\"\n",
    "    for i in range(n):\n",
    "        forward(length)\n",
    "        left(angle)"
   ]
  },
  {
   "cell_type": "code",
   "execution_count": 23,
   "id": "1182531b-8252-4389-a6b4-58adec2fc19b",
   "metadata": {},
   "outputs": [
    {
     "data": {
      "text/html": [
       "<svg width=\"300\" height=\"150\" style=\"fill:none;\">\n",
       "    <rect width=\"100%\" height=\"100%\" fill=\"#F3F3F7\" />\n",
       "\n",
       "\n",
       "<path stroke=\"#663399\" stroke-width=\"2\" d=\"M 150,75 180.0,75.0 204.27050983124843,57.3664424312258 213.54101966249684,28.83474694237119 204.2705098312484,0.30305145351658425 179.99999999999997,-17.330506115257606 149.99999999999997,-17.330506115257602 125.72949016875155,0.3030514535165949 116.45898033750314,28.834746942371204 125.72949016875155,57.366442431225806\" />'\n",
       "\n",
       "<g transform=\"rotate(-54.0,125.7,57.4) translate(125.7, 57.4)\">\n",
       "    <circle stroke=\"#63A375\" stroke-width=\"2\" fill=\"transparent\" r=\"5.5\" cx=\"0\" cy=\"0\"/>\n",
       "    <polygon points=\"0,12 2,9 -2,9\" style=\"fill:#63A375;stroke:#63A375;stroke-width:2\"/>\n",
       "</g>\n",
       "\n",
       "</svg>"
      ],
      "text/plain": [
       "<IPython.core.display.HTML object>"
      ]
     },
     "metadata": {},
     "output_type": "display_data"
    }
   ],
   "source": [
    "make_turtle(delay=0.5)\n",
    "polyline(9, 30, 36)"
   ]
  },
  {
   "cell_type": "markdown",
   "id": "f1115940",
   "metadata": {
    "id": "f1115940"
   },
   "source": [
    "## Debugging\n",
    "\n",
    "(no turtle examples in this section)"
   ]
  },
  {
   "cell_type": "markdown",
   "id": "a4d33a70",
   "metadata": {
    "id": "a4d33a70"
   },
   "source": [
    "## Glossary\n",
    "\n",
    "(no turtle examples in this section)"
   ]
  },
  {
   "cell_type": "markdown",
   "id": "50ed5c38",
   "metadata": {
    "id": "50ed5c38"
   },
   "source": [
    "## Exercises\n",
    "\n",
    "`penup` and `pendown`"
   ]
  },
  {
   "cell_type": "code",
   "execution_count": 24,
   "id": "6f9a0106",
   "metadata": {
    "id": "6f9a0106"
   },
   "outputs": [],
   "source": [
    "from jupyturtle import forward, penup, pendown\n",
    "\n",
    "def jump(length):\n",
    "    \"\"\"Move forward length units without leaving a trail.\n",
    "\n",
    "    Postcondition: Leaves the pen down.\n",
    "    \"\"\"\n",
    "    penup()\n",
    "    forward(length)\n",
    "    pendown()"
   ]
  },
  {
   "cell_type": "markdown",
   "id": "c78c1e17",
   "metadata": {
    "id": "c78c1e17"
   },
   "source": [
    "### Exercise\n",
    "\n",
    "Draw a rectangle:"
   ]
  },
  {
   "cell_type": "code",
   "execution_count": 25,
   "id": "c54ba660",
   "metadata": {
    "id": "c54ba660"
   },
   "outputs": [],
   "source": [
    "# Solution\n",
    "\n",
    "def rectangle(length1, length2):\n",
    "    \"\"\"Draw a rectangle with the given lengths.\n",
    "\n",
    "    length1: length of the first side\n",
    "    length2: length of the second size\n",
    "    \"\"\"\n",
    "    for i in range(2):\n",
    "        forward(length1)\n",
    "        left(90)\n",
    "        forward(length2)\n",
    "        left(90)"
   ]
  },
  {
   "cell_type": "code",
   "execution_count": 26,
   "id": "1311ee08",
   "metadata": {
    "id": "1311ee08",
    "outputId": "f73e1eaf-e057-4099-8d25-45fc326b491a"
   },
   "outputs": [
    {
     "data": {
      "text/html": [
       "<svg width=\"300\" height=\"150\" style=\"fill:none;\">\n",
       "    <rect width=\"100%\" height=\"100%\" fill=\"#F3F3F7\" />\n",
       "\n",
       "\n",
       "<path stroke=\"#663399\" stroke-width=\"2\" d=\"M 150,75 230.0,75.0 230.0,35.0 150.0,35.00000000000001 150.0,75.0\" />'\n",
       "\n",
       "<g transform=\"rotate(-90.0,150.0,75.0) translate(150.0, 75.0)\">\n",
       "    <circle stroke=\"#63A375\" stroke-width=\"2\" fill=\"transparent\" r=\"5.5\" cx=\"0\" cy=\"0\"/>\n",
       "    <polygon points=\"0,12 2,9 -2,9\" style=\"fill:#63A375;stroke:#63A375;stroke-width:2\"/>\n",
       "</g>\n",
       "\n",
       "</svg>"
      ],
      "text/plain": [
       "<IPython.core.display.HTML object>"
      ]
     },
     "metadata": {},
     "output_type": "display_data"
    }
   ],
   "source": [
    "make_turtle()\n",
    "rectangle(80, 40)"
   ]
  },
  {
   "cell_type": "markdown",
   "id": "8b8faaf6",
   "metadata": {
    "id": "8b8faaf6"
   },
   "source": [
    "### Exercise\n",
    "\n",
    "Draw a rhombus:"
   ]
  },
  {
   "cell_type": "code",
   "execution_count": 27,
   "id": "3db6f106",
   "metadata": {
    "id": "3db6f106"
   },
   "outputs": [],
   "source": [
    "def rhombus(length, angle):\n",
    "    for i in range(2):\n",
    "        forward(length)\n",
    "        left(angle)\n",
    "        forward(length)\n",
    "        left(180-angle)"
   ]
  },
  {
   "cell_type": "code",
   "execution_count": 28,
   "id": "1d845de9",
   "metadata": {
    "id": "1d845de9",
    "outputId": "66e0bd71-a207-482a-c855-184f9603b6b5"
   },
   "outputs": [
    {
     "data": {
      "text/html": [
       "<svg width=\"300\" height=\"150\" style=\"fill:none;\">\n",
       "    <rect width=\"100%\" height=\"100%\" fill=\"#F3F3F7\" />\n",
       "\n",
       "\n",
       "<path stroke=\"#663399\" stroke-width=\"2\" d=\"M 150,75 200.0,75.0 225.0,31.69872981077807 175.0,31.698729810778076 150.0,75.00000000000001\" />'\n",
       "\n",
       "<g transform=\"rotate(-90.0,150.0,75.0) translate(150.0, 75.0)\">\n",
       "    <circle stroke=\"#63A375\" stroke-width=\"2\" fill=\"transparent\" r=\"5.5\" cx=\"0\" cy=\"0\"/>\n",
       "    <polygon points=\"0,12 2,9 -2,9\" style=\"fill:#63A375;stroke:#63A375;stroke-width:2\"/>\n",
       "</g>\n",
       "\n",
       "</svg>"
      ],
      "text/plain": [
       "<IPython.core.display.HTML object>"
      ]
     },
     "metadata": {},
     "output_type": "display_data"
    }
   ],
   "source": [
    "make_turtle()\n",
    "rhombus(50, 60)"
   ]
  },
  {
   "cell_type": "markdown",
   "id": "a9175a90",
   "metadata": {
    "id": "a9175a90"
   },
   "source": [
    "### Exercise\n",
    "\n",
    "Write `parallelogram`, then rewrite `rectangle` and `rhombus` to use it:"
   ]
  },
  {
   "cell_type": "code",
   "execution_count": 29,
   "id": "895005cb",
   "metadata": {
    "id": "895005cb"
   },
   "outputs": [],
   "source": [
    "# Solution\n",
    "\n",
    "def parallelogram(length1, length2, angle):\n",
    "    for i in range(2):\n",
    "        forward(length1)\n",
    "        left(angle)\n",
    "        forward(length2)\n",
    "        left(180-angle)"
   ]
  },
  {
   "cell_type": "code",
   "execution_count": 30,
   "id": "7e7d34b0",
   "metadata": {
    "id": "7e7d34b0"
   },
   "outputs": [],
   "source": [
    "# Solution\n",
    "\n",
    "def rectangle(length1, length2):\n",
    "    \"\"\"Draw a rectangle with the given lengths.\n",
    "\n",
    "    length1: length of the first side\n",
    "    length2: length of the second size\n",
    "    \"\"\"\n",
    "    parallelogram(length1, length2, 90)"
   ]
  },
  {
   "cell_type": "code",
   "execution_count": 31,
   "id": "481396f9",
   "metadata": {
    "id": "481396f9"
   },
   "outputs": [],
   "source": [
    "# Solution\n",
    "\n",
    "def rhombus(length, angle):\n",
    "    parallelogram(length, length, angle)"
   ]
  },
  {
   "cell_type": "code",
   "execution_count": 32,
   "id": "c8dfebc9",
   "metadata": {
    "id": "c8dfebc9",
    "outputId": "a6b35bd8-69c7-44ed-cb5f-c540b8abacd8"
   },
   "outputs": [
    {
     "data": {
      "text/html": [
       "<svg width=\"300\" height=\"150\" style=\"fill:none;\">\n",
       "    <rect width=\"100%\" height=\"100%\" fill=\"#F3F3F7\" />\n",
       "\n",
       "\n",
       "<path stroke=\"#663399\" stroke-width=\"2\" d=\"M 150,75\" />'\n",
       "\n",
       "<path stroke=\"#663399\" stroke-width=\"2\" d=\"M 30.0,75.0 110.0,75.0 109.99999999999999,35.0 29.999999999999986,35.00000000000001 29.99999999999999,75.0\" />'\n",
       "\n",
       "<path stroke=\"#663399\" stroke-width=\"2\" d=\"M 130.0,75.0 180.0,75.0 205.0,31.69872981077807 155.0,31.698729810778076 130.0,75.00000000000001\" />'\n",
       "\n",
       "<path stroke=\"#663399\" stroke-width=\"2\" d=\"M 210.0,75.00000000000001 290.0,75.00000000000001 315.0,31.698729810778083 235.0,31.698729810778094 210.0,75.00000000000003\" />'\n",
       "\n",
       "<g transform=\"rotate(-90.0,210.0,75.0) translate(210.0, 75.0)\">\n",
       "    <circle stroke=\"#63A375\" stroke-width=\"2\" fill=\"transparent\" r=\"5.5\" cx=\"0\" cy=\"0\"/>\n",
       "    <polygon points=\"0,12 2,9 -2,9\" style=\"fill:#63A375;stroke:#63A375;stroke-width:2\"/>\n",
       "</g>\n",
       "\n",
       "</svg>"
      ],
      "text/plain": [
       "<IPython.core.display.HTML object>"
      ]
     },
     "metadata": {},
     "output_type": "display_data"
    }
   ],
   "source": [
    "make_turtle(delay=0.05)\n",
    "jump(-120)\n",
    "\n",
    "rectangle(80, 40)\n",
    "jump(100)\n",
    "rhombus(50, 60)\n",
    "jump(80)\n",
    "parallelogram(80, 50, 60)"
   ]
  },
  {
   "cell_type": "markdown",
   "id": "b9bd3ad7-f086-4470-82a5-8a3a82593719",
   "metadata": {},
   "source": [
    "### Exercise\n",
    "\n",
    "A `triangle` function:\n"
   ]
  },
  {
   "cell_type": "code",
   "execution_count": 33,
   "id": "8be6442e",
   "metadata": {
    "id": "8be6442e"
   },
   "outputs": [],
   "source": [
    "# Solution\n",
    "import math\n",
    "\n",
    "from jupyturtle import forward, left, right\n",
    "\n",
    "def triangle(radius,  angle):\n",
    "    \"\"\"Draws an icosceles triangle.\n",
    "\n",
    "    The turtle starts and ends at the peak, facing the middle of the base.\n",
    "\n",
    "    radius: length of the equal legs\n",
    "    angle: half peak angle in degrees\n",
    "    \"\"\"\n",
    "    y = radius * math.sin(angle * math.pi / 180)\n",
    "\n",
    "    right(angle)\n",
    "    forward(radius)\n",
    "    left(90+angle)\n",
    "    forward(2*y)\n",
    "    left(90+angle)\n",
    "    forward(radius)\n",
    "    left(180-angle)"
   ]
  },
  {
   "cell_type": "markdown",
   "id": "b8aeab81-bc97-400c-917f-bc962d834cb5",
   "metadata": {},
   "source": [
    "(a little demonstration)"
   ]
  },
  {
   "cell_type": "code",
   "execution_count": 34,
   "id": "2666dcde",
   "metadata": {},
   "outputs": [
    {
     "data": {
      "text/html": [
       "<svg width=\"300\" height=\"150\" style=\"fill:none;\">\n",
       "    <rect width=\"100%\" height=\"100%\" fill=\"#F3F3F7\" />\n",
       "\n",
       "\n",
       "<path stroke=\"#663399\" stroke-width=\"2\" d=\"M 150,75 199.2403876506104,83.68240888334651 199.2403876506104,66.31759111665347 150.0,74.99999999999999 196.98463103929544,57.898992833716555 188.30222215594893,42.86061951567303 150.00000000000003,75.0 182.13938048432698,36.697777844051096 167.10100716628344,28.015368960704578 150.0,75.0 158.6824088833465,25.75961234938959 141.3175911166535,25.759612349389595 150.0,75.0 132.89899283371656,28.015368960704578 117.86061951567304,36.69777784405109 150.0,75.0 111.6977778440511,42.86061951567304 103.01536896070459,57.89899283371656 150.0,75.0 100.7596123493896,66.31759111665347 100.7596123493896,83.68240888334651 150.0,74.99999999999999 103.01536896070459,92.10100716628344 111.6977778440511,107.13938048432696 150.0,74.99999999999999 117.86061951567302,113.3022221559489 132.89899283371656,121.98463103929541 150.0,75.0 141.3175911166535,124.2403876506104 158.6824088833465,124.2403876506104 150.0,75.0 167.10100716628344,121.98463103929541 182.13938048432695,113.30222215594888 149.99999999999997,74.99999999999999 188.30222215594887,107.13938048432695 196.98463103929538,92.10100716628342 149.99999999999994,74.99999999999999\" />'\n",
       "\n",
       "</svg>"
      ],
      "text/plain": [
       "<IPython.core.display.HTML object>"
      ]
     },
     "metadata": {},
     "output_type": "display_data"
    }
   ],
   "source": [
    "from jupyturtle import make_turtle, hide\n",
    "make_turtle(delay=0)\n",
    "hide()\n",
    "\n",
    "for i in range(12):\n",
    "    triangle(50, 10)\n",
    "    left(30)"
   ]
  },
  {
   "cell_type": "code",
   "execution_count": 35,
   "id": "be1b7ed8",
   "metadata": {
    "id": "be1b7ed8"
   },
   "outputs": [],
   "source": [
    "# Solution\n",
    "\n",
    "def draw_pie(n, radius):\n",
    "    \"\"\"Draws a pie divided into radial segments.\n",
    "\n",
    "    n: number of segments\n",
    "    radius: length of the radial spokes\n",
    "    \"\"\"\n",
    "    angle = 360.0 / n\n",
    "    for i in range(n):\n",
    "        triangle(radius,  angle/2)\n",
    "        left(angle)"
   ]
  },
  {
   "cell_type": "code",
   "execution_count": 36,
   "id": "9b1f5a1e",
   "metadata": {},
   "outputs": [
    {
     "data": {
      "text/html": [
       "<svg width=\"300\" height=\"150\" style=\"fill:none;\">\n",
       "    <rect width=\"100%\" height=\"100%\" fill=\"#F3F3F7\" />\n",
       "\n",
       "\n",
       "<path stroke=\"#663399\" stroke-width=\"2\" d=\"M 150,75 182.3606797749979,98.51141009169893 182.3606797749979,51.48858990830108 150.0,75.00000000000001 182.3606797749979,51.48858990830108 137.63932022500208,36.95773934819387 149.99999999999997,75.0 137.63932022500208,36.95773934819386 109.99999999999997,75.0 149.99999999999997,75.0 109.99999999999997,75.0 137.63932022500208,113.04226065180615 149.99999999999997,75.0 137.63932022500208,113.04226065180615 182.3606797749979,98.51141009169892 150.0,75.0\" />'\n",
       "\n",
       "<g transform=\"rotate(-90.0,150.0,75.0) translate(150.0, 75.0)\">\n",
       "    <circle stroke=\"#63A375\" stroke-width=\"2\" fill=\"transparent\" r=\"5.5\" cx=\"0\" cy=\"0\"/>\n",
       "    <polygon points=\"0,12 2,9 -2,9\" style=\"fill:#63A375;stroke:#63A375;stroke-width:2\"/>\n",
       "</g>\n",
       "\n",
       "</svg>"
      ],
      "text/plain": [
       "<IPython.core.display.HTML object>"
      ]
     },
     "metadata": {},
     "output_type": "display_data"
    }
   ],
   "source": [
    "make_turtle(delay=0.01)\n",
    "draw_pie(5, 40)"
   ]
  },
  {
   "cell_type": "code",
   "execution_count": 37,
   "id": "89ce198a",
   "metadata": {
    "id": "89ce198a",
    "outputId": "252a28de-d853-4851-abb0-525ea33c0998"
   },
   "outputs": [
    {
     "data": {
      "text/html": [
       "<svg width=\"300\" height=\"150\" style=\"fill:none;\">\n",
       "    <rect width=\"100%\" height=\"100%\" fill=\"#F3F3F7\" />\n",
       "\n",
       "\n",
       "<path stroke=\"#663399\" stroke-width=\"2\" d=\"M 150,75\" />'\n",
       "\n",
       "<path stroke=\"#663399\" stroke-width=\"2\" d=\"M 30.0,75.0 62.3606797749979,98.51141009169893 62.36067977499789,51.48858990830108 30.0,75.00000000000001 62.36067977499789,51.48858990830108 17.639320225002088,36.95773934819387 29.999999999999986,75.0 17.639320225002084,36.95773934819386 -10.000000000000018,75.0 29.999999999999982,75.0 -10.000000000000018,75.0 17.639320225002088,113.04226065180615 29.99999999999998,75.0 17.639320225002084,113.04226065180615 62.36067977499788,98.51141009169892 29.99999999999998,75.0\" />'\n",
       "\n",
       "<path stroke=\"#663399\" stroke-width=\"2\" d=\"M 109.99999999999997,75.0 144.64101615137753,95.0 144.64101615137753,55.00000000000001 109.99999999999997,75.0 144.6410161513775,54.999999999999986 109.99999999999997,34.999999999999986 109.99999999999997,74.99999999999999 109.99999999999996,34.999999999999986 75.35898384862242,54.99999999999998 109.99999999999997,74.99999999999997 75.35898384862243,54.99999999999997 75.35898384862243,94.99999999999997 109.99999999999997,74.99999999999996 75.35898384862242,94.99999999999996 109.99999999999996,114.99999999999994 109.99999999999994,74.99999999999994 109.99999999999994,114.99999999999994 144.64101615137747,94.99999999999993 109.99999999999993,74.99999999999993\" />'\n",
       "\n",
       "<path stroke=\"#663399\" stroke-width=\"2\" d=\"M 189.99999999999994,74.99999999999993 226.03875471609672,92.35534956470225 226.03875471609672,57.6446504352976 189.99999999999994,74.99999999999993 226.03875471609672,57.64465043529759 198.90083735825252,36.00288351272698 189.99999999999997,74.99999999999993 198.90083735825255,36.00288351272698 165.06040792565062,43.72674070127875 190.0,74.99999999999993 165.06040792565062,43.726740701278764 150.0,74.99999999999997 190.0,74.99999999999993 150.0,74.99999999999997 165.0604079256507,106.27325929872114 190.0,74.99999999999993 165.0604079256507,106.27325929872116 198.90083735825263,113.99711648727286 189.99999999999997,74.99999999999994 198.9008373582526,113.99711648727288 226.03875471609675,92.3553495647022 189.99999999999994,74.99999999999994\" />'\n",
       "\n",
       "<path stroke=\"#663399\" stroke-width=\"2\" d=\"M 269.99999999999994,74.99999999999979 306.95518130045144,90.3073372946033 306.9551813004514,59.69266270539612 269.99999999999994,74.99999999999977 306.9551813004514,59.69266270539609 285.3073372946035,38.04481869954825 270.0,74.99999999999974 285.3073372946035,38.04481869954824 254.6926627053963,38.044818699548294 269.99999999999994,74.99999999999973 254.69266270539626,38.044818699548294 233.04481869954841,59.692662705396216 269.9999999999999,74.99999999999973 233.0448186995484,59.69266270539621 233.04481869954844,90.3073372946034 269.9999999999999,74.99999999999972 233.04481869954844,90.30733729460337 254.69266270539637,111.95518130045122 269.9999999999999,74.99999999999972 254.69266270539637,111.95518130045122 285.30733729460354,111.95518130045116 269.9999999999999,74.99999999999972 285.30733729460354,111.95518130045116 306.9551813004514,90.30733729460323 269.9999999999999,74.99999999999972\" />'\n",
       "\n",
       "<g transform=\"rotate(270.0,270.0,75.0) translate(270.0, 75.0)\">\n",
       "    <circle stroke=\"#63A375\" stroke-width=\"2\" fill=\"transparent\" r=\"5.5\" cx=\"0\" cy=\"0\"/>\n",
       "    <polygon points=\"0,12 2,9 -2,9\" style=\"fill:#63A375;stroke:#63A375;stroke-width:2\"/>\n",
       "</g>\n",
       "\n",
       "</svg>"
      ],
      "text/plain": [
       "<IPython.core.display.HTML object>"
      ]
     },
     "metadata": {},
     "output_type": "display_data"
    }
   ],
   "source": [
    "make_turtle(delay=0.01)\n",
    "jump(-120)\n",
    "\n",
    "size = 40\n",
    "draw_pie(5, size)\n",
    "jump(2*size)\n",
    "draw_pie(6, size)\n",
    "jump(2*size)\n",
    "draw_pie(7, size)\n",
    "jump(2*size)\n",
    "draw_pie(8, size)"
   ]
  },
  {
   "cell_type": "markdown",
   "id": "7c665dd1",
   "metadata": {
    "id": "7c665dd1"
   },
   "source": [
    "### Exercise\n",
    "\n",
    "Draw flowers with `petal`:"
   ]
  },
  {
   "cell_type": "code",
   "execution_count": 38,
   "id": "0f0e7498",
   "metadata": {
    "id": "0f0e7498"
   },
   "outputs": [],
   "source": [
    "# Solution\n",
    "\n",
    "def petal(radius,  angle):\n",
    "    \"\"\"Draws a petal using two arcs.\n",
    "\n",
    "    t: Turtle\n",
    "    radius: radius of the arcs\n",
    "    angle: angle (degrees) that subtends the arcs\n",
    "    \"\"\"\n",
    "    for i in range(2):\n",
    "        arc(radius,  angle)\n",
    "        left(180-angle)"
   ]
  },
  {
   "cell_type": "code",
   "execution_count": 39,
   "id": "6c0d0bff",
   "metadata": {
    "id": "6c0d0bff"
   },
   "outputs": [],
   "source": [
    "# Solution\n",
    "\n",
    "def flower(n, radius, angle):\n",
    "    \"\"\"Draws a flower with n petals.\n",
    "\n",
    "    n: number of petals\n",
    "    radius: radius of the arcs\n",
    "    angle: angle (degrees) that subtends the arcs\n",
    "    \"\"\"\n",
    "    for i in range(n):\n",
    "        petal(radius,  angle)\n",
    "        left(360/n)"
   ]
  },
  {
   "cell_type": "code",
   "execution_count": 40,
   "id": "2f4b4c22-198d-4e30-8d38-68d04023309a",
   "metadata": {
    "id": "4cfea3b0",
    "outputId": "cb03438b-e82a-4c35-97dc-884bfde25056"
   },
   "outputs": [
    {
     "data": {
      "text/html": [
       "<svg width=\"300\" height=\"150\" style=\"fill:none;\">\n",
       "    <rect width=\"100%\" height=\"100%\" fill=\"#F3F3F7\" />\n",
       "\n",
       "\n",
       "<path stroke=\"#663399\" stroke-width=\"2\" d=\"M 150,75\" />'\n",
       "\n",
       "<path stroke=\"#663399\" stroke-width=\"2\" d=\"M 50.0,75.0 52.09439510239319,75.0 54.18751435587867,74.9269066650303 56.27680761706637,74.78080904806039 58.35972940394848,74.56188514653194 60.433741997177194,74.2704016854963 62.49631853188481,73.90671379265117 64.54494607627934,73.47126456567217 66.57712869326484,72.96458453236654 68.59039048135624,72.38729100430682 70.58227859118394,71.74008732473166 72.55036621391297,71.02376201163057 74.49225553793569,70.23918779705608 76.4055806702359,69.38732056383427 78.28801051886505,68.46919818096873 80.13725163301865,67.48593923915708 81.95105099725286,66.43874168796047 83.72719877643675,65.32888137628665 85.46353100809597,64.15771049796449 87.15793223886772,62.92665594430418 88.8083381018548,61.637217565649955 90.41273783173871,60.29096634404344 91.9691767145874,58.88954247922406 93.47575846937318,57.4346533902983 94.93064755829894,55.92807163551253 96.33207142311832,54.37163275266383 97.67832264472484,52.76723302277992 98.96776102337907,51.116827159792834 100.19881557703937,49.42242592902108 101.36998645536153,47.686093697361855 102.47984676703535,45.90994591817796 100.38545166464216,45.90994591817796 98.29233241115668,45.983039253147666 96.20303914996899,46.129136870117584 94.12011736308688,46.34806077164605 92.04610476985816,46.63954423268168 89.98352823515054,47.0032321255268 87.93490069075601,47.4386813525058 85.90271807377052,47.945361385811424 83.88945628567912,48.52265491387116 81.89756817585142,49.169858593446314 79.92948055312239,49.886183906547416 77.98759122909966,50.6707581211219 76.07426609679945,51.5226253543437 74.1918362481703,52.440747737209236 72.3425951340167,53.424006679020884 70.52879576978249,54.47120423021748 68.7526479905986,55.58106454189131 67.01631575893938,56.752235420213474 65.32191452816764,57.98328997387378 63.671508665180546,59.272728352528006 62.06710893529664,60.61897957413452 60.510670052447935,62.020403438953906 59.004088297662165,63.47529252787967 57.549199208736404,64.98187428266543 56.14777534391702,66.53831316551413 54.801524122310504,68.14271289539803 53.51208574365628,69.79311875838512 52.28103118999597,71.48751998915688 51.109860311673806,73.2238522208161 49.99999999999998,74.99999999999999 51.305833987405016,73.36253597222213 52.55372582558948,71.68049649434975 53.74215515057155,69.95593087238831 54.869674044282235,68.19094022389919 55.93490879863052,66.38767491811161 56.93656158915506,64.54833195602896 57.8734120562234,62.67515229372146 58.744318791852166,60.77041811206643 59.54822073033689,58.836450036262406 60.28413844099712,56.87560430850481 60.95117532146186,54.890269917267794 61.54851869004142,52.88286568668975 62.07544077585487,50.85583732960872 62.53129960550678,48.81165446783803 62.91553978523288,46.75280762331252 63.22769317756184,44.681805183771196 63.46737947166865,42.601170346673165 63.63430664672479,40.51343804507021 63.72827132768061,38.42115185918132 63.74915903304651,36.32686091743203 63.69694431437102,34.23311679073406 63.571690787245764,32.14247038378924 63.37355105379974,30.05746882720504 63.10276651677705,27.980652374208287 62.7596670854249,25.91455130573791 62.34467077354998,23.861682847687366 61.858283190233024,21.824548104052646 61.301096923822044,19.805629009722317 60.6737908199547,17.807385306622173 59.97712915448945,15.832251546898599 58.67129516708441,17.469715574676453 57.423403328899944,19.151755052548836 56.23497400391788,20.876320674510282 55.10745511020719,22.6413113229994 54.0422203558589,24.444576628786972 53.04056756533436,26.283919590869626 52.10371709826602,28.157099253177126 51.23281036263725,30.061833434832156 50.42890842415253,31.995801510636177 49.6929907134923,33.95664723839377 49.02595383302756,35.94198162963079 48.428610464448,37.949385860208835 47.901688378634546,39.976414217289864 47.44582954898264,42.02059707906055 47.06158936925654,44.07944392358606 46.74943597692758,46.15044636312739 46.50974968282077,48.23108120022542 46.34282250776463,50.31881350182837 46.24885782680881,52.41109968771726 46.22797012144291,54.505390629466554 46.2801848401184,56.599134756164524 46.40543836724365,58.689781163109345 46.603578100689674,60.77478271969355 46.87436263771236,62.8515991726903 47.21746206906451,64.91770024116067 47.63245838093943,66.97056869921121 48.11884596425639,69.00770344284594 48.67603223066737,71.02662253717627 49.303338334534715,73.02486624027641 49.99999999999997,74.99999999999999 49.533953245741905,72.95811575553995 48.99692966211795,70.93374016895521 48.38958352964261,68.92933963006688 47.7126548060238,66.94735619217734 46.966968224638386,64.99020459680453 46.153432289721565,63.060269331691316 45.273038169494434,61.159901725674494 44.32685848857817,59.291417083952815 43.31604602116616,57.457091867244216 42.24183228654622,55.65916091826912 41.10552604868405,53.89981473893882 39.908511721695916,52.18119682156633 38.65224768315334,50.50540103735117 37.33826449727465,48.87446908531985 35.968163050168236,47.29038800483012 34.54361259939945,45.75508775466957 33.06634874025738,44.27043886169814 31.53817129119934,42.838250141899294 29.960942101049312,41.46026649661634 28.336582780621967,40.13816678665896 26.66707236153587,38.873561786869864 24.95444488506831,37.66799222364385 23.200786923989327,36.522926897789944 21.408235040394196,35.43976089502391 19.578973182631625,34.419813886271186 17.71523002449911,33.46432851985114 15.819276249947212,32.574468907501526 13.893421786600928,31.75131920608762 11.940012991468711,30.9958822967241 9.96142979226787,30.309078562918902 10.427476546525936,32.350962807378934 10.964500130149892,34.375338393963666 11.571846262625233,36.379738932852 12.248774986244037,38.36172237074153 12.994461567629452,40.31887396611434 13.807997502546272,42.248809231227554 14.688391622773405,44.149176837244376 15.634571303689674,46.017661478966055 16.645383771101685,47.851986695674654 17.719597505721623,49.64991764464975 18.855903743583795,51.40926382398005 20.052918070571927,53.12788174135254 21.309182109114502,54.8036775255677 22.623165294993196,56.43460947759902 23.99326674209961,58.01869055808875 25.417817192868394,59.5539908082493 26.895081052010465,61.03863970122073 28.423258501068506,62.470828421019576 30.000487691218535,63.84881206630253 31.624847011645883,65.17091177625991 33.29435743073198,66.435516776049 35.00698490719954,67.64108633927502 36.76064286827852,68.78615166512893 38.55319475187365,69.86931766789496 40.382456609636215,70.88926467664768 42.24619976776873,71.84475004306773 44.14215354232063,72.73460965541734 46.06800800566691,73.55775935683126 48.02141680079913,74.31319626619477 49.99999999999997,74.99999999999997 48.113015215656404,74.09127602178411 46.19546592197761,73.24896043292175 44.24968835740211,72.47407946520914 42.278053152168276,71.76757719174418 40.28296244006658,71.13031437671876 38.26684693180953,70.56306742671016 36.232162953585174,70.0665274447493 34.18138945440192,69.64129938831806 32.1170249858711,69.28790133230184 30.04158465810663,69.0067638377951 27.957597075450828,68.798229427529 25.86760125575948,68.66255216856015 23.774143536999706,68.59989736272915 21.67977447492937,68.61034134526568 19.587045735637783,68.69387139178578 17.498506986733624,68.85038573379457 15.416702790967697,69.07969368267551 13.344169506075193,69.38151586201508 11.283432194614473,69.75548454797988 9.237001547567303,70.20114411733152 7.207370825448634,70.71795160253336 5.197012820652722,71.30527735327277 3.2083768447364998,71.96240580359306 1.243885744310733,72.68853634370039 -0.6940670508253666,73.48278429538348 -2.6031204437096696,74.34418198985772 -4.480948546850078,75.27167994672054 -6.32526351596016,76.2641481525816 -8.133818337344998,77.32037743781008 -9.904409565541247,78.43908094972157 -8.017424781197677,79.34780492793743 -6.099875487518879,80.1901205167998 -4.154097922943376,80.9650014845124 -2.1824627177095453,81.67150375797735 -0.1873720056078425,82.30876657300277 1.8287435026492007,82.87601352301137 3.8634274808735602,83.37255350497223 5.91420098005681,83.79778156140347 7.978565448587636,84.15117961741969 10.054005776352103,84.43231711192642 12.137993359007904,84.64085152219253 14.22798917869925,84.77652878116137 16.321446897459026,84.83918358699238 18.41581595952936,84.82873960445585 20.50854469882095,84.74520955793575 22.597083447725108,84.58869521592696 24.678887643491034,84.35938726704602 26.75142092838354,84.05756508770645 28.81215823984426,83.68359640174165 30.85858888689143,83.23793683239 32.8882196090101,82.72112934718817 34.89857761380601,82.13380359644876 36.887213589722236,81.47667514612847 38.851704690148004,80.75054460602114 40.7896574852841,79.95629665433805 42.698710878168406,79.09489895986381 44.576538981308815,78.16740100300099 46.420853950418895,77.17493279713993 48.22940877180373,76.11870351191145 49.999999999999986,74.99999999999996 48.11301521565642,75.90872397821582 46.25889394094008,76.88274920559591 44.439895137018716,77.92088898243777 42.65823497373963,79.0218784953365 40.91608412956807,80.18437635816503 39.215565146949885,81.40696624634658 37.55874984632053,82.68815862242796 35.94765680191099,84.02639255085147 34.384248882426014,85.42003759971443 32.87043085959097,86.86739582719939 31.40804708748089,88.3667038502546 29.998879255459144,89.91613499300465 28.64464421746338,91.51380151227367 27.346991900283484,93.15775689750961 26.107503293379924,94.84599824230747 24.927688522691625,96.57646868464225 23.80898501078014,98.3470599128385 22.75275572555167,100.15561473422335 21.760287519690607,101.99992970333344 20.832789562827795,103.87775780647385 19.97139186835356,105.78681119935816 19.177143916670474,107.72476399449425 18.451013376563147,109.68925509492003 17.793884926242864,111.67789107083625 17.206559175503465,113.68824907563217 16.689751690301627,115.71787979775084 16.24409212094998,117.76431044479801 15.87012343498518,119.82504775625874 15.568301255645618,121.89758104115124 15.338993306764678,123.97938523691717 17.225978091108246,123.0706612587013 19.080099365824584,122.09663603132121 20.89909816974594,121.05849625447935 22.680758333025025,119.95750674158063 24.42290917719659,118.7950088787521 26.12342815981478,117.57241899057054 27.780243460444137,116.29122661448916 29.39133650485368,114.95299268606566 30.954744424338656,113.55934763720269 32.4685624471737,112.11198940971774 33.93094621928378,110.61268138666253 35.34011405130553,109.06325024391248 36.69434908930129,107.46558372464345 37.99200140648119,105.82162833940751 39.23149001338475,104.13338699460965 40.411304784073046,102.40291655227487 41.53000829598453,100.63232532407862 42.586237581213005,98.82377050269378 43.578705787074064,96.97945553358369 44.50620374393688,95.10162743044327 45.367601438411114,93.19257403755897 46.1618493900942,91.25462124242287 46.887979930201524,89.2901301419971 47.5451083805218,87.30149416608087 48.1324341312612,85.29113616128495 48.64924161646304,83.26150543916629 49.094901185814685,81.21507479211911 49.46886987177948,79.15433748065838 49.77069205111904,77.08180419576588 49.99999999999998,74.99999999999996 49.53395324574192,77.04188424446 49.13945112703081,79.0987894253716 48.81697428392991,81.16820952061381 48.56691560479879,83.2476232605703 48.38957974761938,85.33449719990804 48.285182768817165,87.42628880419026 48.25385186002969,89.52044954756293 48.29562519314316,91.61442801774098 48.41045187378586,93.70567302451116 48.59819200333512,95.7916367079643 48.85861684936224,97.86977764267021 49.19140912430771,99.93756393401301 49.59616337204722,101.99247630291477 50.07238646187752,104.03201115518895 50.61949818932019,106.05368363178434 51.23683198301144,108.05503063620296 51.92363571681665,110.0336138354038 52.679072626180165,111.98702263053602 53.502222327594076,113.9128770938823 54.392081939943694,115.8088308684342 55.34756730636374,117.6725740265667 56.36751431511647,119.50183588432928 57.45068031788251,121.2943877679244 58.595745643736414,123.04804572900339 59.801315206962435,124.76067320547095 61.06592020675153,126.43018362455705 62.38801991670892,128.05454294498438 63.76600356199187,129.6317721351344 65.19819228179072,131.15994958419245 66.68284117476216,132.6372134433345 67.14888792902022,130.59532919887448 67.54339004773132,128.53842401796285 67.86586689083222,126.46900392272065 68.11592556996334,124.38959018276417 68.29326142714274,122.30271624342642 68.39765840594495,120.2109246391442 68.42898931473242,118.11676389577153 68.38721598161895,116.02278542559348 68.27238930097624,113.9315404188233 68.08464917142697,111.84557673537016 67.82422432539985,109.76743580066424 67.49143205045439,107.69964950932145 67.08667780271487,105.64473714041969 66.61045471288458,103.6052022881455 66.0633429854419,101.58352981155012 65.44600919175065,99.5821828071315 64.75920545794544,97.60359960793066 64.00376854858192,95.65019081279844 63.180618847168006,93.72433634945216 62.29075923481839,91.82838257490026 61.33527386839834,89.96463941676775 60.31532685964561,88.13537755900518 59.232160856879574,86.34282567541005 58.08709553102567,84.58916771433107 56.88152596779965,82.87654023786351 55.616920968010554,81.20702981877741 54.29482125805316,79.58267049835007 52.91683761277021,78.00544130820005 51.48464889297136,76.47726385914201 49.99999999999993,74.99999999999994 51.30583398740497,76.6374640277778 52.66801916646523,78.22835760777527 54.08489592436857,79.7707424812235 55.554738015038616,81.26273948974037 57.07575466229971,82.70253086479553 58.64609274166181,84.08836244238134 60.26383903806726,85.41854580019148 61.9270225768486,86.6914603147035 63.6336170250576,87.90555513565894 65.38154316023986,89.05935107553542 67.16867140364701,90.15144241170883 68.9928244148005,91.18049859910984 70.85177974424543,92.14526589128803 72.74327254126302,93.04456886790892 74.66499831324222,93.87731186682248 76.61461573334904,94.64248031895877 78.58974949307262,95.33914198442403 80.58799319617276,95.96644808829137 82.60691229050309,96.52363435470235 84.64404703413781,97.0100219380193 86.69691549218835,97.42501824989422 88.76301656065873,97.76811768124637 90.83983301365548,98.03890221826904 92.92483457023968,98.23704195171507 95.0154809771845,98.36229547884031 97.10922510388247,98.4145101975158 99.20351604563176,98.39362249214989 101.29580223152065,98.29965781119407 103.38353453312361,98.13273063613792 105.46416937022164,97.8930443420311 104.1583353828166,96.25558031425325 102.79615020375634,94.66468673425578 101.379273445853,93.12230186080755 99.90943135518296,91.63030485229068 98.38841470792187,90.19051347723551 96.81807662855977,88.80468189964971 95.20033033215432,87.47449854183957 93.53714679337298,86.20158402732754 91.83055234516398,84.9874892063721 90.08262620998173,83.83369326649563 88.29549796657456,82.74160193032222 86.47134495542107,81.71254574292121 84.61238962597614,80.74777845074301 82.72089682895854,79.84847547412213 80.79917105697935,79.01573247520857 78.84955363687253,78.25056402307227 76.87441987714895,77.55390235760703 74.87617617404881,76.92659625373969 72.85725707971848,76.36940998732871 70.82012233608376,75.88302240401175 68.76725387803322,75.46802609213684 66.70115280956284,75.1249266607847 64.62433635656609,74.85414212376202 62.53933479998189,74.65600239031599 60.44868839303707,74.53074886319075 58.354944266339096,74.47853414451527 56.2606533245898,74.49942184988117 54.168367138700916,74.593386530837 52.08063483709796,74.76031370589314 49.99999999999993,74.99999999999996\" />'\n",
       "\n",
       "<path stroke=\"#663399\" stroke-width=\"2\" d=\"M 149.99999999999994,74.99999999999976 151.86168453546057,74.99999999999976 153.7213530738465,74.91338454577374 155.57497798720908,74.74034122710827 157.4185447367457,74.48124481729882 159.2480605673969,74.13665646147419 161.0595631552646,73.7073224612812 162.84912918912363,73.19417265856143 164.61288286743988,72.59831842152089 166.34700429249358,71.92105023775395 168.0477377434271,71.16383491933455 169.71139981030004,70.32831242602794 171.3343873715349,69.41629231350292 172.91318539747613,68.42974981423728 174.44437456316163,67.37082155960407 175.92463865381922,66.24180095240378 177.35077174704935,65.04513319986464 178.7196851561392,63.783410017868206 180.0284141194703,62.459364017869895 181.27412422153196,61.07586278867104 182.45411753163418,59.63590268586012 183.56583844702467,58.14260234237375 184.60687922775548,56.59919591423221 185.5749852113114,55.00902607607767 186.46805969570704,53.375536781685234 187.28416848047638,51.70226580512599 188.0215440557203,49.99283707873612 188.67858943013948,48.25095284448645 189.25388158976182,46.48038563575071 189.74617457987395,44.684970106838335 190.15440220348162,42.86859472798714 188.292717668021,42.86859472798716 186.43304912963507,42.9552101822132 184.57942421627249,43.128253500878685 182.73585746673587,43.38734991068816 180.90634163608468,43.7319382665128 179.09483904821695,44.16127226670581 177.30527301435794,44.67442206942559 175.54151933604172,45.270276306466144 173.80739791098804,45.9475444902331 172.10666446005453,46.7047598086525 170.44300239318162,47.54028230195912 168.82001483194676,48.45230241448414 167.24121680600553,49.438844913749776 165.71002764032002,50.497773168383 164.22976354966244,51.62679377558329 162.8036304564323,52.82346152812243 161.43471704734245,54.08518471011886 160.12598808401134,55.40923071011717 158.8802779819497,56.79273193931603 157.70028467184747,58.23269204212695 156.58856375645698,59.725992385613324 155.54752297572617,61.26939881375486 154.57941699217025,62.859568651909406 153.6863425077746,64.49305794630183 152.87023372300527,66.16632892286107 152.13285814776134,67.87575764925094 151.47581277334217,69.61764188350062 150.90052061371983,71.38820909223637 150.4082276236077,73.18362462114874 150.00000000000003,74.99999999999994 151.5061344273527,73.90572928563522 152.95972659219663,72.7425701701753 154.35762833758443,71.51304179725544 155.6968121196162,70.21980705154364 156.97437756442557,68.8656667915254 158.18755774974358,67.45355378346798 159.3337251974362,65.98652634970166 160.41039756403694,64.46776174497465 161.41524301694994,62.900549275226766 162.34608528468024,61.28828317368523 163.20090837015312,59.63445524971132 163.97786091691492,57.94264732631885 164.6752602187589,56.216523482743085 165.29159586409202,54.45982211886105 165.82553300715034,52.676347858649834 166.27591525897753,50.869963310218274 166.64176719190593,49.044580700257896 166.92229645211563,47.20415340103105 167.11689547569645,45.35266736824695 167.22514280449607,43.494132508369155 167.24680399890448,41.63257399405111 167.18183214559804,39.77202354650846 167.0303679591433,37.9165107037087 166.79273947724047,36.07005409328923 166.469461350267,34.23665272910469 166.06123372665928,32.4202773502535 165.5689407365471,30.624861821341145 164.9936485769247,28.85429461260542 164.33660320250547,27.112410378355758 163.59922762726148,25.40298165196591 162.09309319990882,26.49725236633065 160.63950103506488,27.660411481790575 159.24159928967708,28.88993985471044 157.90241550764532,30.18317460042225 156.62485006283595,31.537314860440492 155.41166987751794,32.94942786849792 154.26550242982532,34.41645530226424 153.1888300632246,35.93521990699126 152.1839846103116,37.50243237673915 151.25314234258133,39.114698478280694 150.39831925710845,40.76852640225461 149.62136671034665,42.46033432564708 148.9239674085027,44.186458169222846 148.30763176316958,45.94315953310488 147.77369462011126,47.7266337933161 147.32331236828406,49.533018341747656 146.95746043535567,51.35840095170804 146.67693117514597,53.19882825093489 146.48233215156515,55.05031428371899 146.37408482276555,56.90884914359678 146.35242362835714,58.77040765791483 146.4173954816636,60.63095810545748 146.56885966811834,62.486470948257235 146.80648815002115,64.33292755867672 147.12976627699462,66.16632892286125 147.53799390060234,67.98270430171245 148.03028689071454,69.7781198306248 148.60557905033693,71.54868703936053 149.26262442475615,73.29057127361018 150.00000000000014,75.00000000000003 150.57529215962248,73.22943279126429 151.06758514973458,71.43401726235192 151.47581277334226,69.61764188350071 151.79909090031566,67.78424051931616 152.0367193822184,65.93778390889668 152.18818356867308,64.08227106609692 152.25315542197944,62.22172061855427 152.23149422757098,60.360162104236224 152.1232468987713,58.50162724435844 151.9286478751904,56.65014121157434 151.64811861498063,54.80971391234751 151.28226668205218,52.98433130238715 150.83188443022493,51.17794675395561 150.29794728716655,49.394472493744416 149.68161164183334,47.6377711298624 148.9842123399893,45.91164728628666 148.20725979322745,44.21983936289421 147.35243670775452,42.566011438920334 146.42159444002417,40.95374533737883 145.4167489871111,39.386532867630976 144.34007662051033,37.867768262904 143.19390917281765,36.400740829137725 141.9807289874996,34.98862782108034 140.70316354269016,33.63448756106215 139.36397976065834,32.34125281535039 137.9660780152705,31.111724442430575 136.51248585042651,29.9485653269707 135.00635142307382,28.854294612606015 133.4509366850005,27.83128224603486 131.84961031817406,26.88174384424185 131.27431815855172,28.6523110529776 130.78202516843962,30.44772658188997 130.37379754483194,32.26410196074117 130.05051941785854,34.097503324925725 129.8128909359558,35.94395993534521 129.66142674950112,37.79947277814497 129.59645489619476,39.66002322568762 129.61811609060322,41.521581740005665 129.7263634194029,43.38011659988345 129.92096244298378,45.231602632667546 130.20149170319354,47.07202993189438 130.567343636122,48.89741254185475 131.01772588794924,50.703797090286294 131.55166303100762,52.48727135049749 132.16799867634083,54.2439727143795 132.86539797818486,55.970096557955245 133.64235052494672,57.66190448134769 134.49717361041965,59.31573240532157 135.42801587815,60.92799850686308 136.43286133106307,62.495210976610934 137.50953369766384,64.01397558133792 138.65570114535652,65.48100301510419 139.86888133067458,66.89311602316158 141.146446775484,68.24725628317978 142.48563055751583,69.54049102889154 143.88353230290366,70.77001940181135 145.33712446774766,71.93317851727123 146.84325889510035,73.02744923163591 148.39867363317367,74.05046159820706 150.0000000000001,75.00000000000007 149.42470784037772,73.22943279126434 148.7676624659585,71.48754855701469 148.0302868907145,69.77811983062485 147.2141781059451,68.10484885406562 146.3211036215494,66.47135955967322 145.35299763799344,64.8811897215187 144.3119568572626,63.337783293377186 143.20023594187205,61.844482949890846 142.0202426317698,60.40452284707995 140.7745325297081,59.02102161788113 139.46580356637696,57.696975617882856 138.09689015728708,56.43525243588646 136.67075706405691,55.23858468334736 135.1904929733993,54.10956407614711 133.65930380771377,53.05063582151393 132.0805057817725,52.06409332224833 130.45751822053762,51.152073209723355 128.79385615366468,50.31655071641678 127.09312270273114,49.55933539799742 125.35900127767744,48.88206721423052 123.59524759936119,48.28621297719001 121.80568156550217,47.77306317447028 119.99417897763442,47.34372917427732 118.16466314698323,46.99914081845273 116.3210963974466,46.74004440864331 114.467471484084,46.56700108997787 112.60780294569808,46.48038563575188 110.74611841023747,46.48038563575191 108.88644987185155,46.56700108997796 107.03282495848897,46.74004440864345 107.60811711811137,48.510611617379176 108.26516249253058,50.25249585162884 109.00253806777457,51.96192457801869 109.81864685254395,53.63519555457791 110.71172133693963,55.268684848970324 111.67982732049559,56.85885468712485 112.72086810122643,58.40226111526636 113.83258901661696,59.89556145875271 115.01258232671921,61.33552156156361 116.2582924287809,62.71902279076244 117.56702139211203,64.04306879076071 118.93593480120191,65.30479197275712 120.36206789443207,66.50145972529621 121.84233198508967,67.63048033249648 123.37352115077519,68.68940858712966 124.95231917671644,69.67595108639527 126.57530673795132,70.58797119892026 128.23896880482428,71.42349369222684 129.93970225575782,72.1807090106462 131.67382368081152,72.85797719441311 133.43757735912777,73.45383143145362 135.2271433929868,73.96698123417336 137.03864598085454,74.39631523436631 138.86816181150573,74.74090359019091 140.71172856104238,75.00000000000034 142.56535347440496,75.17304331866578 144.4250220127909,75.25965877289177 146.28670654825152,75.25965877289174 148.14637508663745,75.17304331866569 150.00000000000003,75.0000000000002 148.49386557264734,73.9057292856355 146.938450834574,72.88271691906434 145.33712446774757,71.93317851727132 143.69335458849991,71.05917056899432 142.01070123635967,70.2625859808278 140.2928086637993,69.54514997760862 138.5433974435957,68.90841636596322 136.7662564108981,68.35376416910847 134.96523445745484,67.88239464019443 133.1442321957708,67.49532866065756 131.30719351124938,67.19340452921884 129.4580970206149,66.97727614631536 127.60094745511472,66.84741159789769 125.73976698716314,66.80409214165982 123.87858651921155,66.84741159789773 122.02143695371139,66.97727614631546 120.1723404630769,67.19340452921898 118.33530177855549,67.49532866065776 116.51429951687146,67.88239464019468 114.7132775634282,68.35376416910876 112.93613653073065,68.90841636596356 111.18672531052707,69.545149977609 109.46883273796671,70.26258598082822 107.78617938582649,71.05917056899479 106.14240950657886,71.93317851727183 104.54108313975244,72.88271691906489 102.98566840167915,73.9057292856361 101.47953397432649,75.00000000000084 100.02594180948253,76.16315911546076 98.62804006409473,77.39268748838062 100.13417449144741,78.48695820274531 101.68958922952072,79.50997056931648 103.29091559634716,80.4595089711095 104.93468547559482,81.3335169193865 106.61733882773505,82.13010150755302 108.33523140029543,82.84753751077221 110.08464262049903,83.48427112241761 111.8617836531966,84.03892331927237 113.66280560663985,84.51029284818641 115.4838078683239,84.89735882772328 117.32084655284531,85.19928295916202 119.16994304347979,85.4154113420655 121.02709260897997,85.54527589048318 122.88827307693155,85.58859534672105 124.74945354488314,85.54527589048314 126.6066031103833,85.41541134206541 128.45569960101778,85.19928295916189 130.2927382855392,84.89735882772311 132.11374054722322,84.5102928481862 133.91476250066646,84.03892331927212 135.691903533364,83.48427112241731 137.44131475356758,82.84753751077187 139.15920732612793,82.13010150755265 140.84186067826815,81.33351691938608 142.48563055751578,80.45950897110905 144.0869569243422,79.50997056931598 145.64237166241548,78.48695820274477 147.14850608976815,77.39268748838003 148.6020982546121,76.22952837292011 149.9999999999999,75.00000000000026 148.13831546453926,75.00000000000028 146.27864692615333,75.08661545422633 144.42502201279075,75.25965877289183 142.58145526325413,75.51875518270131 140.75193943260294,75.86334353852595 138.94043684473522,76.29267753871896 137.1508708108762,76.80582734143876 135.38711713255998,77.40168157847931 133.6529957075063,78.07894976224628 131.9522622565728,78.8361650806657 130.28860018969988,79.67168757397232 128.66561262846503,80.58370768649735 127.0868146025238,81.570250185763 125.55562543683831,82.62917844039623 124.07536134618074,83.75819904759653 122.64922825295062,84.95486680013568 121.28031484386076,86.2165899821321 119.97158588052967,87.54063598213042 118.72587577846802,88.92413721132928 117.54588246836582,90.36409731414021 116.43416155297531,91.85739765762659 115.39312077224452,93.40080408576814 114.4250147886886,94.9909739239227 113.53194030429297,96.62446321831513 112.71583151952363,98.29773419487438 111.9784559442797,100.00716292126425 111.32141056986053,101.74904715551394 110.7461184102382,103.51961436424968 110.25382542012608,105.31502989316205 109.8455977965184,107.13140527201325 111.70728233197902,107.13140527201323 113.56695087036493,107.04478981778718 115.42057578372751,106.87174649912168 117.26414253326415,106.6126500893122 119.09365836391532,106.26806173348756 120.90516095178306,105.83872773329455 122.69472698564206,105.32557793057475 124.4584806639583,104.7297236935342 126.19260208901198,104.05245550976723 127.8933355399455,103.29524019134782 129.5569976068184,102.45971769804119 131.17998516805326,101.54769758551616 132.75878319399447,100.56115508625051 134.28997235967995,99.50222683161726 135.7702364503375,98.37320622441696 137.1963695435676,97.1765384718778 138.56528295265747,95.91481528988136 139.87401191598855,94.59076928988303 141.1197220180502,93.20726806068416 142.2997153281524,91.76730795787321 143.41143624354288,90.27400761438683 144.45247702427366,88.73060118624528 145.42058300782955,87.14043134809073 146.31365749222516,85.50694205369828 147.12976627699447,83.83367107713903 147.8671418522384,82.12424235074916 148.52418722665755,80.38235811649947 149.09947938627985,78.61179090776372 149.59177237639196,76.81637537885135 149.99999999999963,75.00000000000014 148.493865572647,76.0942707143649 147.04027340780306,77.25742982982483 145.64237166241526,78.4869582027447 144.3031878803835,79.78019294845652 143.02562243557412,81.13433320847477 141.81244225025614,82.5464462165322 140.66627480256352,84.01347365029854 139.5896024359628,85.53223825502556 138.58475698304983,87.09945072477346 137.65391471531956,88.71171682631501 136.79909162984669,90.36554475028893 136.02213908308488,92.05735267368141 135.32473978124094,93.78347651725718 134.7084041359078,95.54017788113923 134.17446699284952,97.32365214135045 133.72408474102235,99.13003668978202 133.358232808094,100.9554192997424 133.0777035478843,102.79584659896925 132.8831045243035,104.64733263175336 132.7748571955039,106.50586749163115 132.75319600109552,108.3674260059492 132.81816785440196,110.22797645349185 132.96963204085674,112.0834892962916 133.20726052275955,113.92994590671108 133.53053864973305,115.76334727089562 133.9387662733408,117.57972264974681 134.431059263453,119.37513817865917 135.0063514230754,121.1457053873949 135.6633967974946,122.88758962164455 136.4007723727386,124.5970183480344 137.90690680009124,123.50274763366964 139.36049896493518,122.33958851820971 140.75840071032295,121.11006014528984 142.0975844923547,119.81682539957801 143.37514993716405,118.46268513955975 144.58833012248203,117.0505721315023 145.73449757017465,115.58354469773597 146.81116993677537,114.06478009300895 147.81601538968835,112.49756762326105 148.74685765741862,110.8853015217195 149.60168074289146,109.23147359774558 150.37863328965324,107.53966567435309 151.07603259149718,105.81354183077731 151.6923682368303,104.05684046689527 152.2263053798886,102.27336620668405 152.67668763171577,100.46698165825248 153.04253956464413,98.6415990482921 153.3230688248538,96.80117174906525 153.5176678484346,94.94968571628114 153.6259151772342,93.09115085640335 153.64757637164257,91.2295923420853 153.5826045183361,89.36904189454265 153.43114033188132,87.51352905174289 153.19351184997848,85.66707244132343 152.870233723005,83.83367107713889 152.46200609939723,82.01729569828771 151.969713109285,80.22188016937537 151.3944209496626,78.45131296063965 150.73737557524333,76.70942872639 149.99999999999932,75.00000000000017 149.424707840377,76.77056720873593 148.93241485026493,78.56598273764831 148.5241872266573,80.38235811649952 148.2009090996839,82.21575948068407 147.96328061778118,84.06221609110356 147.81181643132652,85.91772893390332 147.7468445780202,87.77827938144597 147.76850577242868,89.63983789576402 147.8767531012284,91.49837275564181 148.0713521248093,93.3498587884259 148.35188138501908,95.19028608765274 148.71773331794756,97.0156686976131 149.16811556977484,98.82205324604463 149.70205271283325,100.60552750625583 150.31838835816646,102.36222887013783 151.01578766001052,104.08835271371356 151.7927402067724,105.780160637106 152.64756329224537,107.43398856107986 153.57840555997572,109.04625466262135 154.5832510128888,110.6134671323692 155.6599233794896,112.13223173709616 156.80609082718232,113.59925917086242 158.01927101250038,115.01137217891979 159.2968364573098,116.36551243893797 160.63602023934163,117.65874718464971 162.0339219847295,118.88827555756951 163.48751414957349,120.05143467302936 164.9936485769262,121.14570538739403 166.54906331499953,122.16871775396517 168.150389681826,123.11825615575816 168.7256818414483,121.3476889470224 169.21797483156038,119.55227341811002 169.62620245516803,117.73589803925881 169.9494805821414,115.90249667507426 170.1871090640441,114.05604006465477 170.33857325049877,112.20052722185501 170.4035451038051,110.33997677431236 170.3818839093966,108.47841825999431 170.2736365805969,106.61988340011652 170.07903755701597,104.76839736733243 169.79850829680618,102.9279700681056 169.4326563638777,101.10258745814524 168.98227411205042,99.2962029097137 168.448336968992,97.51272864950252 167.83200132365877,95.75602728562052 167.13460202181471,94.02990344204478 166.35764947505282,92.33809551865235 165.50282638957987,90.68426759467849 164.5719841218495,89.072001493137 163.56713866893642,87.50478902338915 162.49046630233562,85.9860244186622 161.34429885464291,84.51899698489594 160.13111866932485,83.10688397683857 158.85355322451542,81.7527437168204 157.51436944248357,80.45950897110866 156.11646769709571,79.22998059818887 154.66287553225172,78.06682148272903 153.156741104899,76.97255076836436 151.60132636682567,75.94953840179322 149.9999999999992,75.00000000000023 150.57529215962163,76.77056720873594 151.23233753404088,78.5124514429856 151.9697131092849,80.22188016937542 152.78582189405432,81.89515114593463 153.67889637845002,83.52864044032702 154.647002362006,85.11881027848153 155.68804314273686,86.66221670662303 156.79976405812744,88.15551705010935 157.9797573682297,89.59547715292022 159.22546747029142,90.97897838211902 160.53419643362258,92.30302438211729 161.9031098427125,93.56474756411366 163.3292429359427,94.76141531665273 164.8095070266003,95.89043592385296 166.34069619228583,96.94936417848612 167.9194942182271,97.93590667775169 169.542481779462,98.84792679027665 171.20614384633498,99.68344928358319 172.90687729726852,100.44066460200251 174.64099872232225,101.1179327857694 176.4047524006385,101.71378702280987 178.19431843449755,102.22693682552956 180.0058210223653,102.65627082572249 181.83533685301649,103.00085918154704 183.67890360255313,103.25995559135643 185.53252851591571,103.43299891002184 187.39219705430165,103.5196143642478 189.25388158976227,103.51961436424774 191.1135501281482,103.43299891002165 192.96717504151079,103.25995559135612 192.39188288188836,101.4893883826204 191.7348375074691,99.74750414837075 190.9974619322251,98.03807542198092 190.18135314745567,96.36480444542171 189.28827866305997,94.73131515102932 188.320172679504,93.14114531287481 187.27913189877313,91.59773888473332 186.16741098338255,90.10443854124699 184.98741767328028,88.66447843843612 183.74170757121857,87.28097720923732 182.4329786078874,85.95693120923906 181.0640651987975,84.69520802724269 179.6379321055673,83.4985402747036 178.1576680149097,82.36951966750337 176.62647884922416,81.31059141287021 175.0476808232829,80.32404891360463 173.42469326204798,79.41202880107967 171.761031195175,78.57650630777312 170.06029774424147,77.81929098935379 168.32617631918777,77.1420228055869 166.56242264087152,76.54616856854642 164.7728566070125,76.03301876582671 162.96135401914475,75.60368476563379 161.13183818849356,75.25909640980923 159.2882714389569,74.99999999999983 157.43464652559433,74.82695668133442 155.5749779872084,74.74034122710846 153.71329345174777,74.74034122710852 151.85362491336184,74.8269566813346 149.99999999999926,75.00000000000011 151.50613442735195,76.09427071436478 153.06154916542528,77.11728308093592 154.66287553225175,78.06682148272891 156.3066454114994,78.94082943100588 157.98929876363965,79.73741401917238 159.70719133620005,80.45485002239153 161.45660255640365,81.0915836340369 163.23374358910124,81.64623583089161 165.0347655425445,82.11760535980562 166.85576780422855,82.50467133934247 168.69280648874997,82.80659547078116 170.54190297938445,83.02272385368461 172.39905254488463,83.15258840210225 174.2602330128362,83.19590785834009 176.1214134807878,83.15258840210215 177.97856304628797,83.0227238536844 179.82765953692245,82.80659547078085 181.66469822144387,82.50467133934204 183.48570048312789,82.1176053598051 185.28672243657113,81.64623583089099 187.06386346926868,81.09158363403616 188.81327468947225,80.45485002239067 190.5311672620326,79.73741401917141 192.2138206141728,78.94082943100481 193.8575904934204,78.06682148272773 195.45891686024677,77.11728308093464 197.01433159832004,76.0942707143634 198.52046602567268,74.99999999999864 199.9740581905166,73.83684088453869 201.37195993590436,72.6073125116188 199.86582550855164,71.51304179725413 198.3104107704783,70.490029430683 196.70908440365184,69.54049102889 195.06531452440416,68.66648308061303 193.3826611722639,67.86989849244655 191.6647685997035,67.1524624892274 189.9153573794999,66.51572887758203 188.13821634680232,65.96107668072732 186.33719439335906,65.48970715181332 184.516192131675,65.10264117227649 182.6791534471536,64.8007170408378 180.83005695651912,64.58458865793436 178.97290739101894,64.45472410951672 177.11172692306735,64.4114046532789 175.25054645511577,64.45472410951685 173.3933968896156,64.5845886579346 171.5443003989811,64.80071704083817 169.7072617144597,65.10264117227698 167.88625945277568,65.48970715181393 166.08523749933244,65.96107668072806 164.30809646663488,66.51572887758289 162.5586852464313,67.15246248922837 160.84079267387096,67.86989849244763 159.15813932173077,68.66648308061423 157.51436944248314,69.5404910288913 155.91304307565673,70.49002943068439 154.35762833758346,71.51304179725562 152.85149391023083,72.60731251162038 151.3979017453869,73.77047162708033 149.99999999999912,75.00000000000021\" />'\n",
       "\n",
       "<path stroke=\"#663399\" stroke-width=\"2\" d=\"M 249.99999999999912,74.99999999999726 251.62897396852716,74.99999999999721 253.25783766855545,74.98104645488978 254.8863705780131,74.94314193068158 256.51435221961293,74.88629155903843 258.1415621907006,74.8105030365906 259.76778019309364,74.71578662389086 261.3927860629063,74.60215514402532 263.01635980035604,74.46962398087739 264.6382815995483,74.31821107704505 266.25833187823434,74.14793693141175 267.87629130753953,73.95882459637113 269.4919408416566,73.75089967470615 271.1050617475011,73.52419031612283 272.7154356343246,73.27872721343925 274.32284448328085,73.01454359843028 275.9270706769423,72.73167523732846 277.5278970287621,72.43016042598187 279.1251068124774,72.11003998466944 280.7184837914509,71.7713572525746 282.3078122479457,71.4141580819178 283.89287701232996,71.03849083174889 285.47346349220754,70.64440636140002 287.0493577014704,70.23195802360016 288.6203462892687,69.80120165725197 290.1862165688953,69.35219557987212 291.7467565465801,68.885000579696 293.30175495019046,68.399679907448 294.8510012578342,67.89629926777837 296.39428572636086,67.37492681036785 297.9313994197576,66.83563312070127 296.30242545122957,66.83563312070135 294.67356175120125,66.8545866658088 293.0450288417436,66.89249119001701 291.41704720014377,66.94934156166018 289.7898372290561,67.02513008410801 288.16361922666306,67.11984649680775 286.5386133568504,67.2334779766733 284.91503961940066,67.36600913982124 283.2931178202084,67.51742204365358 281.67306754152236,67.6876961892869 280.0551081122172,67.87680852432752 278.4394585781002,68.08473344599251 276.82633767225565,68.31144280457585 275.21596378543217,68.55690590725942 273.6085549364759,68.8210895222684 272.00432874281444,69.10395788337021 270.4035023909947,69.40547269471682 268.8062926072794,69.72559313602925 267.21291562830584,70.06427586812408 265.62358717181104,70.42147503878088 264.0385224074268,70.7971422889498 262.4579359275492,71.19122675929867 260.88204171828636,71.60367509709853 259.31105313048806,72.03443146344671 257.74518285086145,72.48343754082656 256.18464287317664,72.95063254100266 254.62964446956627,73.43595321325064 253.08039816192252,73.93933385292026 251.53711369339584,74.46070631033078 249.9999999999991,74.99999999999734 251.46765483226628,74.29321468360718 252.92698668102736,73.56940065684785 254.37779797611032,72.82865591255212 255.81989230088968,72.07108073570087 257.2530744188782,71.29677768984617 258.67715030015887,70.50585160322571 260.0919271476532,69.69840955457087 261.49721342322323,68.8745608586099 262.8928188736023,68.03441705126843 264.2785545561527,67.17809187456939 265.65423286444513,66.30570126123402 267.0196675536579,65.41736331898657 268.3746737657913,64.51319831456433 269.7190680546945,63.59332865743545 271.0526684109012,62.657878883226665 272.3752942862709,61.70697563686318 273.68676661843193,60.74074765542293 274.98690785502396,59.759325750707696 276.27554197773566,58.76284279153324 277.5524945261346,57.751433685741 278.81759262128656,56.725235361933755 280.0706649891606,55.68438675093765 281.3115419838167,54.6290287669932 282.5400556103731,53.55930428867777 283.7560395477502,52.47535813956208 284.9593291711879,51.377337068603424 286.14976157453276,50.26538973027821 287.3271755922933,49.13966666445653 288.491411821459,48.00032027602144 289.6423126430809,46.84750481423584 288.1746578108137,47.55429013062602 286.71532596205265,48.27810415738536 285.2645146669697,49.018848901681096 283.82242034219036,49.77642407853235 282.38923822420185,50.55072712438707 280.9651623429212,51.34165321100754 279.55038549542684,52.14909525966238 278.14509921985683,52.972943955623364 276.74949376947774,53.81308776296483 275.36375808692736,54.669412939663886 273.9880797786349,55.54180355299926 272.6226450894222,56.430141495246716 271.2676388772888,57.33430649966896 269.92324458838556,58.25417615679785 268.58964423217884,59.18962593100663 267.26701835680916,60.14052917737013 265.95554602464813,61.106757158810375 264.6554047880561,62.08817906352561 263.3667706653444,63.084662022700066 262.0898181169455,64.0960711284923 260.8247200217935,65.12226945229955 259.57164765391946,66.16311806329566 258.33077065926335,67.2184760472401 257.1022570327069,68.28820052555554 255.88627309532976,69.37214667467123 254.68298347189207,70.47016774562988 253.4925510685472,71.58211508395509 252.31513705078663,72.70783814977676 251.15090082162095,73.84718453821185 249.999999999999,74.99999999999744 251.01564865686953,73.72641686728129 252.01641008418568,72.44110260386624 253.0021487948699,71.14423122072887 253.97273133567998,69.83597829349475 254.92802630527655,68.51652093866834 255.86790437201262,67.18603778965424 256.7922382914431,65.84470897257307 257.7009029235515,64.49271608187533 258.5937752496922,63.13024215575634 259.4707343892449,61.75747165137588 260.33166161598007,60.37459041988558 261.1764403741325,58.98178568126767 262.0049562941811,57.579245998988405 262.8170972083328,56.16716125446958 263.6127531657083,54.74572262138163 264.3918164472273,53.31512253976175 265.15418158019247,51.87555468996064 265.89974535256835,50.42721396642123 266.62840682695474,48.97029645129314 267.34006735425214,47.50499938788628 268.0346305870171,46.031521153967255 268.7120024925061,44.5500612349022 269.37209136540616,43.06082019664965 270.0148078402503,41.56399965860712 270.64006490351613,40.059802266315074 271.2477779054061,38.54843166402195 271.83786457130776,37.03009246711399 272.4102450129323,35.50499023441361 272.9648417391304,33.97333144035001 273.501579666383,32.435323447005835 272.4859310095125,33.708906579722 271.48516958219636,34.99422084313705 270.4994308715122,36.29109222627443 269.5288483307021,37.59934515350855 268.57355336110555,38.91880250833497 267.6336752943695,40.249285657349084 266.7093413749391,41.590614474430254 265.80067674283066,42.942607365128005 264.90780441668994,44.305081291247 264.03084527713725,45.67785179562747 263.16991805040215,47.06073302711778 262.3251392922498,48.45353776573569 261.4966233722012,49.85607744801496 260.6844824580495,51.26816219253378 259.88882650067404,52.68960082562174 259.109763219155,54.12020090724162 258.34739808618986,55.55976875704274 257.601834313814,57.008109480582156 256.8731728394276,58.46502699571025 256.1615123121302,59.93032405911711 255.46694907936526,61.40380229303614 254.7895771738763,62.885262212101196 254.12948830097625,64.37450325035375 253.48677182613213,65.87132378839628 252.8615147628663,67.37552118068834 252.25380176097636,68.88689178298146 251.66371509507474,70.40523097988942 251.0913346534502,71.9303332125898 250.53673792725212,73.4619920066534 249.99999999999952,74.99999999999758 250.36248080886682,73.41186780986199 250.7064587405246,71.81962556300554 251.0318872258671,70.22348882354063 251.3387222070868,68.62367368283158 251.6269221436388,67.02039673023936 251.89644801786514,65.41387502379885 252.14726334027685,63.80432606083267 252.37933415449425,62.19196774850552 252.59262904184394,60.57701837432301 252.7871191256125,58.95969657657907 252.96277807495588,57.340221314755794 253.11958210846424,55.71881183987985 253.25750999738148,54.09568766483937 253.3765430684793,52.47106853466546 253.4766652065853,50.84517439678223 253.5578628567647,49.21822537122939 253.62012502615545,47.59044172086158 253.66344328545645,45.96204382152827 253.68781177006883,44.333252132238414 253.69322718088986,42.70428716531382 253.67968878475958,41.07536945653532 253.6471984145601,39.44671953528573 253.5957604689675,37.81855789469374 253.5253819118562,36.19110496178264 253.4360722713562,34.56458106762807 253.32784363856328,32.939206417528666 253.2007106659018,31.31520106119383 253.05469056514116,29.6927848629525 252.8898031050656,28.072177471987054 252.70607060879777,26.45359829259632 252.3435897999305,28.04173048273192 251.99961186827275,29.63397272958836 251.67418338293024,31.23010946905327 251.3673484017106,32.82992460976232 251.07914846515857,34.43320156235455 250.80962259093224,36.03972326879506 250.55880726852052,37.64927223176124 250.32673645430316,39.2616305440884 250.1134415669535,40.876579918270906 249.91895148318494,42.49390171601485 249.74329253384155,44.11337697783812 249.58648850033322,45.734786452714076 249.448560611416,47.357910627754556 249.3295275403182,48.98252975792846 249.2294054022122,50.6084238958117 249.1482077520328,52.23537292136454 249.08594558264204,53.86315657173235 249.04262732334104,55.491554471065655 249.01825883872866,57.12034616035551 249.01284342790765,58.7493111272801 249.02638182403794,60.378228836058604 249.0588721942374,62.00687875730819 249.11031013983003,63.635040397900184 249.18068869694136,65.26249333081128 249.26999833744134,66.88901722496585 249.3782269702343,68.51439187506526 249.5053599428958,70.13839723140009 249.65138004365645,71.76081342964142 249.816267503732,73.38142082060686 249.99999999999983,74.9999999999976 249.63751919113236,73.41186780986204 249.25658457915443,71.8280606841238 248.85724773651472,70.24879304491488 248.4395627270293,68.67427869979345 248.0035860985624,67.10473081279777 247.54937687537057,65.54036187558715 247.0769965501119,63.981383678674035 246.58650907552072,62.42800728275089 246.07798085574967,60.880442990116016 245.5514807373794,59.338900316201965 245.00708000009797,57.8035879612105 244.4448523470507,56.27471378185795 243.86487389486194,54.75248476323469 243.2672231633301,53.23710699078273 242.65198106479733,51.72878562239501 242.01923089319527,50.22772486064032 241.36905831276837,48.73412792511755 240.70155134647638,47.24819702494296 240.0168003640774,45.77013333137437 239.31489806989327,44.300136950575734 238.59593949025893,42.838406896526024 237.8600219606573,41.385141064075874 237.10724511254165,39.94053620215581 236.33771085984716,38.504787887139585 235.5515233851933,37.07809049636628 234.74878912577918,35.66063718182471 233.9296167589738,34.252619844003746 233.09411718760265,32.854229105912054 232.24240352493342,31.4656542872708 231.37459107936223,30.087083378882788 231.7370718882297,31.67521556901835 232.11800650020763,33.25902269475659 232.51734334284734,34.83829033396552 232.93502835233272,36.41280467908695 233.37100498079963,37.98235256608264 233.82521420399146,39.546721503293256 234.29759452925015,41.10569970020638 234.7880820038413,42.659076096129525 235.29661022361236,44.2066403887644 235.82311034198264,45.74818306267845 236.36751107926406,47.28349541766991 236.92973873231134,48.81236959702247 237.5097171845001,50.33459861564573 238.1073679160319,51.849976388097694 238.72261001456468,53.35829775648541 239.35536018616673,54.8593585182401 240.00553276659363,56.352955453762874 240.67303973288563,57.83888635393746 241.3577907152846,59.316950047506054 242.05969300946873,60.78694642830469 242.77865158910308,62.2486764823544 243.5145691187047,63.70194231480455 244.26734596682036,65.14654717672461 245.03688021951484,66.58229549174084 245.8230676941687,68.00899288251414 246.62580195358282,69.42644619705571 247.4449743203882,70.83446353487668 248.28047389175936,72.23285427296837 249.13218755442858,73.62142909160961 249.99999999999977,74.99999999999763 248.9843513431291,73.72641686728159 247.95395295927418,72.46473728803369 246.90894434788203,71.2151320734726 245.84946698639064,69.9777704001413 244.77566431107513,68.75281978700325 243.68768169762885,67.54044607276303 242.58566644148172,66.34081339341448 241.46976773785892,65.1540841600192 240.3401366615821,63.98041903671881 239.19692614661645,62.81997691898353 238.04029096536567,61.672914912100296 236.87038770771846,60.53938830990322 235.68737475984867,59.41955057374928 234.4914122827723,58.31355331174211 233.28266219066435,57.22154625820673 232.0612881289382,56.14367725341785 230.82745545209065,55.0800922235847 229.58133120131552,54.03093516109496 228.323084081889,52.99634810502048 227.05288444032965,51.97647112188748 225.77090424133618,50.97144228671376 224.4773170445062,49.98139766431559 223.17229798083903,49.00647129088667 221.85602372902576,48.04679515585182 220.52867249152982,47.102499183997665 219.19042397046113,46.17371121788297 217.8414593432474,45.26055700053074 216.4819612381056,44.36316015840467 215.11211370931696,43.481642184672076 213.73210221230897,42.61612242275569 214.74775086917964,43.889705555471735 215.77814925303457,45.15138513471963 216.82315786442672,46.40099034928072 217.8826352259181,47.638352022612025 218.95643790123358,48.86330263575008 220.04442051467987,50.075676349990296 221.14643577082697,51.27530902933886 222.26233447444977,52.46203826273414 223.39196555072655,53.635703386034535 224.5351760656922,54.79614550376982 225.691811246943,55.94320751065306 226.8617145045902,57.07673411285015 228.04472745246,58.196571849004094 229.24068992953636,59.30256911101126 230.4494400216443,60.39457616454664 231.67081408337046,61.47244516933553 232.90464676021801,62.536030199168685 234.15077101099314,63.58518726165843 235.40901813041967,64.61977431773292 236.679217771979,65.63965130086592 237.96119797097248,66.64468013603964 239.25478516780245,67.63472475843781 240.55980423146963,68.60965113186673 241.8760784832829,69.56932726690158 243.20342972077884,70.51362323875574 244.54167824184753,71.44241120487044 245.89064286906125,72.35556542222267 247.25014097420305,73.25296226434874 248.6199885029917,74.13448023808134 249.9999999999997,74.99999999999773 248.53234516773242,74.2932146836077 247.05656604892982,73.60355376500478 245.572862440461,72.93111061323758 244.0814352120441,72.27597626634471 242.58248627905184,71.63823941902966 241.07621857517523,71.01798641065297 239.5628360249498,70.41530121354324 238.04254351614733,69.83026542162868 236.5155468720374,69.26295823939054 234.98205282352217,68.7134564711401 233.44226898114837,68.18183451062063 231.89640380700013,67.66816433093562 230.34466658647656,67.17251547480483 228.78726739995784,66.69495504514924 227.22441709436373,66.23554769600649 225.65632725460821,65.79435562377768 224.0832101749544,65.37143855880697 222.5052788302731,64.96685375729513 220.9227468472097,64.58065599354786 219.33582847526225,64.21289755256034 217.74473855777563,63.86362822293854 216.14969250285532,63.53289529015876 214.55090625420436,63.2207435301659 212.94859626188827,62.92721520331147 211.34297945303095,62.65235004863227 209.7342732024464,62.396185278470334 208.1226953032095,62.15875557343497 206.50846393717046,61.940093077707594 204.8917976454164,61.74022739468987 203.27291529868438,61.55918558299592 204.74057013095162,62.26597089938596 206.21634924975422,62.95563181798889 207.70005285822305,63.628074969756085 209.19148008663993,64.28320931664896 210.6904290196322,64.92094616396402 212.19669672350878,65.54119917234073 213.7100792737342,66.14388436945045 215.23037178253668,66.72892016136501 216.75736842664662,67.29622734360316 218.29086247516184,67.8457291118536 219.83064631753564,68.37735107237307 221.37651149168389,68.89102125205808 222.92824871220745,69.38667010818888 224.48564789872617,69.86423053784446 226.04849820432028,70.32363788698721 227.61658804407577,70.76482995921603 229.1897051237296,71.18774702418673 230.76763646841087,71.59233182569858 232.35016845147427,71.97852958944584 233.93708682342174,72.34628803043337 235.52817674090835,72.69555736005518 237.12322279582867,73.02629029283496 238.72200904447962,73.33844205282783 240.3243190367957,73.63197037968226 241.92993584565303,73.90683553436146 243.5386420962376,74.16300030452341 245.1502199954745,74.40043000955878 246.76445136151352,74.61909250528616 248.38111765326758,74.8189581883039 249.9999999999996,74.99999999999784 248.37102603147156,74.99999999999793 246.74216233144327,75.01895354510539 245.11362942198565,75.05685806931362 243.48564778038585,75.11370844095681 241.85843780929818,75.18949696340466 240.2322198069051,75.28421337610443 238.60721393709247,75.39784485597 236.98364019964268,75.53037601911797 235.36171840045043,75.68178892295033 233.74166812176435,75.85206306858366 232.1237086924592,76.04117540362431 230.50805915834215,76.24910032528932 228.8949382524976,76.47580968387267 227.28456436567413,76.72127278655627 225.6771555167179,76.98545640156526 224.07292932305643,77.2683247626671 222.47210297123667,77.56983957401373 220.87489318752137,77.88996001532618 219.28151620854786,78.22864274742103 217.6921877520531,78.58584191807785 216.10712298766884,78.96150916824679 214.52653650779126,79.35559363859568 212.95064229852844,79.76804197639555 211.37965371073014,80.19879834274376 209.81378343110353,80.64780442012362 208.25324345341875,81.11499942029975 206.6982450498084,81.60032009254776 205.14899874216465,82.1037007322174 203.60571427363797,82.62507318962794 202.06860058024122,83.16436687929453 203.69757454876927,83.16436687929446 205.32643824879756,83.14541333418701 206.9549711582552,83.10750880997878 208.582952799855,83.0506584383356 210.21016277094267,82.97486991588775 211.83638077333575,82.880153503188 213.4613866431484,82.76652202332242 215.08496038059818,82.63399086017446 216.70688217979043,82.4825779563421 218.3269324584765,82.31230381070877 219.94489188778167,82.12319147566812 221.5605414218987,81.91526655400311 223.17366232774324,81.68855719541976 224.78403621456673,81.44309409273616 226.39144506352295,81.17891047772717 227.99567125718443,80.89604211662532 229.5964976090042,80.5945273052787 231.1937073927195,80.27440686396625 232.787084371693,79.93572413187138 234.37641282818777,79.57852496121455 235.961477592572,79.20285771104561 237.5420640724496,78.80877324069671 239.11795828171242,78.39632490289682 240.68894686951072,77.9655685365486 242.25481714913732,77.51656245916872 243.8153571268221,77.04936745899258 245.37035553043245,76.56404678674456 246.91960183807618,76.0606661470749 248.46288630660285,75.53929368966435 249.9999999999996,74.99999999999774 248.53234516773242,75.70678531638794 247.07301331897133,76.43059934314729 245.6222020238884,77.17134408744305 244.18010769910907,77.92891926429432 242.74692558112056,78.70322231014906 241.32284969983994,79.49414839676953 239.90807285234558,80.3015904454244 238.5027865767756,81.1254391413854 237.10718112639654,81.96558294872688 235.7214454438462,82.82190812542595 234.34576713555379,83.69429873876133 232.98033244634104,84.58263668100881 231.62532623420765,85.48680168543108 230.28093194530445,86.40667134255997 228.94733158909773,87.34212111676878 227.62470571372808,88.29302436313229 226.31323338156704,89.25925234457256 225.013092144975,90.2406742492878 223.72445802226332,91.23715720846228 222.4475054738644,92.24856631425453 221.1824073787124,93.2747646380618 219.92933501083837,94.31561324905792 218.6884580161823,95.37097123300238 217.4599443896259,96.44069571131783 216.24396045224873,97.52464186043353 215.04067082881105,98.6226629313922 213.8502384254662,99.73461026971742 212.67282440770566,100.86033333553911 211.50858817853998,101.9996797239742 210.35768735691806,103.1524951857598 211.82534218918525,102.44570986936961 213.28467403794633,101.72189584261027 214.73548533302926,100.98115109831451 216.1775796578086,100.22357592146325 217.61076177579713,99.44927287560851 219.03483765707776,98.65834678898804 220.4496145045721,97.85090474033319 221.8549007801421,97.0270560443722 223.25050623052115,96.18691223703073 224.6362419130715,95.33058706033165 226.0119202213639,94.45819644699627 227.37735491057666,93.5698585047488 228.73236112271005,92.66569350032653 230.07675541161325,91.74582384319763 231.41035576781996,90.81037406898882 232.73298164318962,89.85947082262531 234.04445397535065,88.89324284118504 235.34459521194267,87.91182093646978 236.63322933465435,86.9153379772953 237.91018188305327,85.90392887150304 239.17527997820525,84.87773054769578 240.4283523460793,83.83688193669965 241.66922934073534,82.78152395275518 242.89774296729172,81.71179947443973 244.11372690466885,80.62785332532401 245.3170165281065,79.52983225436533 246.50744893145136,78.4178849160401 247.6848629492119,77.29216185021839 248.84909917837754,76.15281546178329 249.99999999999946,74.99999999999767 248.98435134312896,76.27358313271384 247.98358991581284,77.5588973961289 246.99785120512865,78.85576877926628 246.0272686643186,80.16402170650042 245.07197369472206,81.48347906132685 244.13209562798602,82.81396221034097 243.2077617085556,84.15529102742215 242.2990970764472,85.50728391811991 241.4062247503065,86.86975784423892 240.52926561075384,88.2425283486194 239.66833838401874,89.62540958010972 238.82355962586638,91.01821431872764 237.9950437058178,92.42075400100691 237.1829027916661,93.83283874552575 236.38724683429066,95.25427737861371 235.60818355277166,96.6848774602336 234.84581841980653,98.12444531003473 234.1002546474307,99.57278603357415 233.3715931730443,101.02970354870224 232.6599326457469,102.49500061210911 231.965369412982,103.96847884602815 231.28799750749306,105.44993876509321 230.62790863459304,106.93917980334577 229.98519215974892,108.43600034138831 229.35993509648313,109.94019773368036 228.75222209459318,111.4515683359735 228.16213542869158,112.96990753288146 227.58975498706707,114.49500976558186 227.03515826086903,116.02666855964547 226.49842033361645,117.56467655298965 227.51406899048695,116.29109342027348 228.51483041780307,115.00577915685842 229.50056912848726,113.70890777372104 230.4711516692973,112.4006548464869 231.42644663889385,111.08119749166048 232.36632470562986,109.75071434264635 233.29065862506027,108.40938552556516 234.1993232571687,107.05739263486738 235.09219558330935,105.69491870874838 235.96915472286202,104.32214820436789 236.83008194959712,102.93926697287756 237.67486070774947,101.54646223425964 238.50337662779805,100.14392255198035 239.31551754194976,98.73183780746152 240.1111734993252,97.31039917437354 240.8902367808442,95.87979909275364 241.65260191380932,94.4402312429525 242.39816568618514,92.99189051941308 243.12682716057154,91.53497300428496 243.8384876878689,90.06967594087808 244.5330509206338,88.59619770695905 245.21042282612274,87.11473778789397 245.87051169902276,85.6254967496414 246.51322817386685,84.12867621159886 247.13848523713264,82.6244788193068 247.74619823902256,81.11310821701366 248.33628490492416,79.59476902010569 248.90866534654867,78.0696667874053 249.46326207274672,76.53800799334168 249.9999999999993,74.99999999999748 249.63751919113201,76.5881321901331 249.29354125947427,78.18037443698954 248.96811277413178,79.77651117645445 248.66127779291216,81.3763263171635 248.37307785636017,82.97960326975573 248.10355198213387,84.58612497619625 247.85273665972218,86.19567393916243 247.62066584550482,87.80803225148959 247.40737095815516,89.42298162567211 247.21288087438663,91.04030342341605 247.03722192504327,92.65977868523933 246.88041789153493,94.28118816011528 246.74249000261773,95.90431233515575 246.62345693151994,97.52893146532966 246.52333479341397,99.1548256032129 246.4421371432346,100.78177462876575 246.37987497384387,102.40955827913356 246.3365567145429,104.03795617846687 246.31218822993054,105.66674786775673 246.30677281910954,107.29571283468131 246.32031121523985,108.92463054345981 246.35280158543935,110.5532804647094 246.40423953103198,112.1814421053014 246.4746180881433,113.8088950382125 246.5639277286433,115.43541893236707 246.67215636143627,117.06079358246647 246.79928933409778,118.68479893880131 246.94530943485844,120.30721513704263 247.11019689493403,121.92782252800808 247.29392939120189,123.54640170739881 247.65641020006916,121.9582695172632 248.00038813172688,120.36602727040676 248.32581661706936,118.76989053094185 248.632651598289,117.1700753902328 248.92085153484098,115.56679843764057 249.19037740906728,113.96027673120005 249.44119273147896,112.35072776823387 249.6732635456963,110.7383694559067 249.88655843304593,109.12342008172419 250.08104851681446,107.50609828398025 250.25670746615782,105.88662302215697 250.41351149966613,104.26521354728101 250.5514393885833,102.64208937224052 250.6704724596811,101.01747024206661 250.77059459778707,99.39157610418337 250.85179224796644,97.76462707863053 250.91405441735714,96.13684342826271 250.9573726766581,94.5084455289294 250.98174116127046,92.87965383963954 250.98715657209144,91.25068887271496 250.97361817596112,89.62177116393646 250.94112780576162,87.99312124268687 250.88968986016897,86.36495960209487 250.81931130305762,84.73750666918377 250.7300016625576,83.1109827750292 250.62177302976463,81.4856081249298 250.49464005710308,79.86160276859496 250.34861995634242,78.23918657035364 250.18373249626683,76.61857917938819 249.99999999999898,74.99999999999746 250.3624808088665,76.58813219013301 250.74341542084446,78.17193931587124 251.1427522634842,79.75120695508016 251.56043727296964,81.3257213002016 251.99641390143657,82.89526918719727 252.45062312462844,84.45963812440787 252.92300344988718,86.01861632132098 253.41349092447837,87.57199271724411 253.92201914424948,89.11955700987897 254.44851926261978,90.66109968379301 254.99291999990126,92.19641203878446 255.55514765294856,93.725286218137 256.1351261051374,95.24751523676025 256.73277683666925,96.76289300921219 257.34801893520205,98.27121437759989 257.98076910680413,99.77227513935456 258.6309416872311,101.26587207487732 259.2984486535231,102.75180297505189 259.9831996359221,104.22986666862046 260.68510193010627,105.69986304941906 261.40406050974065,107.16159310346876 262.13997803934234,108.61485893591889 262.892754887458,110.05946379783893 263.66228914015255,111.49521211285513 264.44847661480645,112.92190950362841 265.2512108742206,114.33936281816996 266.07038324102604,115.7473801559909 266.90588281239724,117.14577089408256 267.75759647506646,118.53434571272379 268.6254089206377,119.91291662111178 268.2629281117702,118.32478443097622 267.8819934997922,116.74097730523799 267.48265665715246,115.16170966602907 267.06497164766705,113.58719532090764 266.6289950192001,112.01764743391196 266.1747857960082,110.45327849670136 265.7024054707495,108.89430029978826 265.2119179961583,107.34092390386512 264.7033897763872,105.79335961123026 264.1768896580169,104.25181693731622 263.6324889207354,102.71650458232477 263.07026126768807,101.18763040297223 262.49028281549926,99.66540138434898 261.8926320839674,98.15002361189704 261.2773899854346,96.64170224350934 260.6446398138325,95.14064148175467 259.99446723340554,93.64704454623191 259.3269602671135,92.16111364605733 258.6422092847145,90.68304995248876 257.94030699053036,89.21305357169014 257.221348410896,87.75132351764044 256.4854308812943,86.29805768519032 255.73265403317862,84.85345282327027 254.9631197804841,83.41770450825406 254.1769323058302,81.99100711748078 253.37419804641607,80.57355380293923 252.55502567961065,79.16553646511828 251.71952610823948,77.7671457270266 250.86781244557022,76.37857090838537 249.999999999999,74.99999999999737 251.0156486568697,76.2735831327134 252.04604704072466,77.53526271196127 253.09105565211684,78.78486792652232 254.15053301360825,80.0222295998536 255.22433568892376,81.24718021299164 256.31231830237004,82.45955392723182 257.41433355851717,83.65918660658036 258.53023226214,84.84591583997562 259.6598633384168,86.01958096327598 260.8030738533825,87.18002308101124 261.9597090346333,88.32708508789445 263.1296122922805,89.4606116900915 264.31262524015034,90.58044942624541 265.50858771722676,91.68644668825254 266.7173378093347,92.7784537417879 267.9387118710609,93.85632274657675 269.17254454790844,94.91990777640987 270.4186687986836,95.96906483889958 271.6769159181101,97.00365189497404 272.9471155596695,98.02352887810702 274.229095758663,99.0285577132807 275.522682955493,100.01860233567885 276.8277020191602,100.99352870910774 278.1439762709735,101.95320484414256 279.47132750846947,102.89750081599668 280.80957602953816,103.82628878211135 282.1585406567519,104.73944299946355 283.5180387618937,105.63683984158959 284.8878862906824,106.51835781532215 286.2678977876904,107.3838775772385 285.25224913081973,106.11029444452247 284.2218507469648,104.8486148652746 283.1768421355726,103.59900965071354 282.1173647740812,102.36164797738226 281.0435620987657,101.13669736424423 279.9555794853194,99.92432365000404 278.85356422917226,98.7246909706555 277.73766552554946,97.53796173726025 276.6080344492726,96.36429661395988 275.46482393430693,95.20385449622462 274.30818875305613,94.0567924893414 273.1382854954089,92.92326588714435 271.9552725475391,91.80342815099043 270.7593100704627,90.69743088898329 269.5505599783547,89.60542383544794 268.32918591662855,88.52755483065907 267.095353239781,87.46396980082595 265.84922898900584,86.41481273833624 264.5909818695793,85.38022568226178 263.32078222801994,84.3603486991288 262.03880202902644,83.35531986395512 260.74521483219644,82.36527524155697 259.44019576852924,81.39034886812809 258.12392151671594,80.43067273309326 256.79657027921996,79.48637676123914 255.45832175815127,78.55758879512447 254.10935713093755,77.64443457777227 252.74985902579573,76.74703773564623 251.38001149700705,75.86551976191367 249.99999999999906,74.99999999999731 251.46765483226633,75.70678531638731 252.94343395106895,76.3964462349902 254.42713755953778,77.06888938675735 255.91856478795467,77.72402373365018 257.41751372094694,78.3617605809652 258.9237814248236,78.98201358934186 260.43716397504903,79.58469878645155 261.9574564838515,80.16973457836608 263.48445312796144,80.73704176060419 265.0179471764767,81.2865435288546 266.5577310188505,81.81816548937404 268.1035961929988,82.33183566905902 269.6553334135224,82.82748452518979 271.21273260004114,83.30504495484533 272.77558290563525,83.76445230398804 274.34367274539073,84.20564437621682 275.9167898250446,84.62856144118749 277.49472116972584,85.03314624269929 279.07725315278924,85.41934400644651 280.66417152473673,85.787102447434 282.25526144222334,86.13637177705576 283.85030749714366,86.4671047098355 285.4490937457946,86.77925646982833 287.0514037381107,87.07278479668271 288.65702054696806,87.34764995136187 290.26572679755265,87.60381472152378 291.87730469678957,87.8412444265591 293.49153606282863,88.05990692228644 295.1082023545827,88.25977260530414 296.72708470131477,88.44081441699804 295.2594298690475,87.73402910060804 293.7836507502449,87.04436818200516 292.29994714177604,86.371925030238 290.80851991335913,85.71679068334517 289.30957098036686,85.07905383603014 287.8033032764903,84.45880082765348 286.2899207262648,83.85611563054378 284.76962821746235,83.27107983862926 283.2426315733524,82.70377265639115 281.70913752483716,82.15427088814074 280.16935368246334,81.6226489276213 278.62348850831506,81.10897874793632 277.07175128779147,80.61332989180555 275.5143521012727,80.13576946215 273.9515017956786,79.67636211300727 272.3834119559231,79.23517004077848 270.81029487626927,78.81225297580782 269.232363531588,78.40766817429602 267.6498315485246,78.0214704105488 266.0629131765771,77.6537119695613 264.4718232590905,77.30444263993954 262.8767772041702,76.9737097071598 261.2779909555193,76.66155794716697 259.67568096320315,76.36802962031257 258.0700641543458,76.09316446563341 256.4613579037612,75.8369996954715 254.84978000452432,75.59956999043618 253.23554863848528,75.38090749470884 251.6188823467312,75.18104181169114 249.99999999999918,74.99999999999723\" />'\n",
       "\n",
       "<g transform=\"rotate(270.0,250.0,75.0) translate(250.0, 75.0)\">\n",
       "    <circle stroke=\"#63A375\" stroke-width=\"2\" fill=\"transparent\" r=\"5.5\" cx=\"0\" cy=\"0\"/>\n",
       "    <polygon points=\"0,12 2,9 -2,9\" style=\"fill:#63A375;stroke:#63A375;stroke-width:2\"/>\n",
       "</g>\n",
       "\n",
       "</svg>"
      ],
      "text/plain": [
       "<IPython.core.display.HTML object>"
      ]
     },
     "metadata": {},
     "output_type": "display_data"
    }
   ],
   "source": [
    "make_turtle(delay=0)\n",
    "\n",
    "jump(-100)\n",
    "flower(7, 60.0, 60.0)\n",
    "\n",
    "jump(100)\n",
    "flower(10, 40.0, 80.0)\n",
    "\n",
    "jump(100)\n",
    "flower(14, 140.0, 20.0)"
   ]
  },
  {
   "cell_type": "markdown",
   "id": "2c9ab322-9c91-44b2-9490-1567c1a9678c",
   "metadata": {},
   "source": [
    "For faster results, set `auto_render` to `False`.\n",
    "The drawing will only be rendered when you call `render()`."
   ]
  },
  {
   "cell_type": "code",
   "execution_count": 41,
   "id": "c9a31629-d57b-4b1a-b146-4766a799d119",
   "metadata": {},
   "outputs": [
    {
     "data": {
      "text/html": [
       "<svg width=\"300\" height=\"150\" style=\"fill:none;\">\n",
       "    <rect width=\"100%\" height=\"100%\" fill=\"#F3F3F7\" />\n",
       "\n",
       "\n",
       "<path stroke=\"#663399\" stroke-width=\"2\" d=\"M 150,75\" />'\n",
       "\n",
       "<path stroke=\"#663399\" stroke-width=\"2\" d=\"M 250.0,75.0 251.62897396852804,75.0 253.25783766855633,74.98104645489262 254.88637057801398,74.94314193068446 256.5143522196138,74.88629155904135 258.14156219070145,74.81050303659359 259.7677801930945,74.7157866238939 261.39278606290713,74.60215514402842 263.0163598003569,74.46962398088053 264.63828159954915,74.31821107704825 266.25833187823525,74.14793693141499 267.87629130754044,73.95882459637443 269.4919408416575,73.75089967470949 271.105061747502,73.52419031612621 272.7154356343255,73.27872721344269 274.32284448328176,73.01454359843378 275.92707067694323,72.731675237332 277.527897028763,72.43016042598545 279.1251068124783,72.11003998467307 280.71848379145183,71.77135725257827 282.30781224794663,71.41415808192153 283.89287701233087,71.03849083175265 285.47346349220845,70.64440636140382 287.0493577014713,70.23195802360401 288.6203462892696,69.80120165725587 290.1862165688962,69.35219557987607 291.746756546581,68.8850005797 293.3017549501914,68.39967990745207 294.8510012578352,67.8962992677825 296.3942857263619,67.37492681037202 297.93139941975863,66.83563312070548 296.3024254512306,66.8356331207055 294.67356175120227,66.85458666581289 293.0450288417446,66.89249119002106 291.4170472001448,66.94934156166418 289.7898372290571,67.02513008411196 288.1636192266641,67.11984649681166 286.53861335685144,67.23347797667716 284.9150396194017,67.36600913982507 283.29311782020943,67.51742204365736 281.6730675415233,67.68769618929062 280.05510811221814,67.8768085243312 278.4394585781011,68.08473344599614 276.82633767225656,68.31144280457941 275.2159637854331,68.55690590726294 273.6085549364768,68.82108952227186 272.00432874281535,69.10395788337364 270.4035023909956,69.40547269472019 268.8062926072803,69.72559313603257 267.21291562830675,70.06427586812737 265.62358717181195,70.42147503878411 264.0385224074277,70.79714228895298 262.4579359275501,71.19122675930181 260.88204171828727,71.60367509710163 259.311053130489,72.03443146344976 257.74518285086236,72.48343754082957 256.18464287317755,72.95063254100563 254.62964446956718,73.43595321325357 253.08039816192343,73.93933385292314 251.53711369339672,74.46070631033362 249.99999999999994,75.00000000000014 251.46765483226716,74.29321468361002 252.92698668102827,73.56940065685075 254.37779797611122,72.82865591255506 255.8198923008906,72.07108073570387 257.2530744188791,71.29677768984921 258.6771503001598,70.50585160322879 260.0919271476542,69.698409554574 261.4972134232242,68.87456085861307 262.8928188736033,68.03441705127165 264.27855455615367,67.17809187457263 265.6542328644461,66.3057012612373 267.0196675536589,65.4173633189899 268.37467376579235,64.51319831456769 269.7190680546956,63.593328657438846 271.05266841090236,62.657878883230104 272.37529428627204,61.70697563686665 273.6867666184331,60.740747655426446 274.9869078550252,59.75932575071125 276.2755419777369,58.762842791536826 277.5524945261359,57.75143368574463 278.81759262128793,56.72523536193742 280.070664989162,55.68438675094135 281.31154198381813,54.62902876699694 282.54005561037457,53.559304288681545 283.75603954775175,52.47535813956589 284.9593291711895,51.37733706860727 286.1497615745344,50.26538973028209 287.32717559229496,49.139666664460435 288.4914118214607,48.000320276025384 289.6423126430827,46.84750481423981 288.17465781081546,47.55429013062995 286.71532596205435,48.278104157389244 285.26451466697137,49.01884890168494 283.822420342192,49.77642407853615 282.38923822420344,50.55072712439083 280.9651623429228,51.341653211011256 279.55038549542843,52.149095259666055 278.1450992198584,52.972943955626995 276.74949376947933,53.81308776296842 275.36375808692895,54.66941293966744 273.9880797786365,55.54180355300277 272.6226450894237,56.43014149525019 271.26763887729027,57.3343064996724 269.92324458838704,58.25417615680125 268.58964423218026,59.18962593101 267.2670183568106,60.14052917737345 265.9555460246495,61.106757158813664 264.6554047880574,62.08817906352886 263.3667706653457,63.084662022703284 262.08981811694673,64.09607112849548 260.8247200217947,65.12226945230269 259.5716476539206,66.16311806329875 258.3307706592645,67.21847604724316 257.10225703270805,68.28820052555855 255.88627309533086,69.3721466746742 254.68298347189315,70.47016774563282 253.49255106854824,71.582115083958 252.31513705078765,72.70783814977965 251.15090082162195,73.84718453821469 249.99999999999997,75.00000000000026 251.01564865687055,73.72641686728414 252.01641008418673,72.44110260386913 253.00214879487098,71.14423122073178 253.9727313356811,69.83597829349769 254.92802630527768,68.5165209386713 255.86790437201378,67.18603778965723 256.7922382914443,65.8447089725761 257.70090292355275,64.49271608187838 258.59377524969346,63.130242155759426 259.4707343892462,61.75747165137899 260.3316616159814,60.37459041988871 261.1764403741338,58.98178568127083 262.0049562941824,57.579245998991595 262.8170972083342,56.1671612544728 263.6127531657097,54.74572262138487 264.3918164472288,53.31512253976502 265.154181580194,51.87555468996393 265.89974535256994,50.42721396642454 266.6284068269564,48.97029645129647 267.34006735425385,47.50499938788963 268.0346305870188,46.03152115397063 268.7120024925078,44.5500612349056 269.37209136540787,43.06082019665307 270.01480784025205,41.56399965861056 270.6400649035179,40.059802266318535 271.24777790540793,38.54843166402543 271.8378645713096,37.03009246711749 272.4102450129342,35.50499023441713 272.9648417391323,33.97333144035354 273.50157966638494,32.43532344700938 272.4859310095144,33.70890657972551 271.48516958219824,34.994220843140525 270.499430871514,36.29109222627787 269.5288483307039,37.59934515351196 268.5735533611073,38.91880250833835 267.63367529437124,40.24928565735244 266.7093413749408,41.59061447443358 265.8006767428323,42.9426073651313 264.9078044166916,44.30508129125027 264.03084527713884,45.67785179563071 263.1699180504037,47.060733027120996 262.32513929225127,48.453537765738886 261.49662337220263,49.85607744801813 260.68448245805087,51.26816219253693 259.88882650067535,52.68960082562486 259.10976321915626,54.120200907244715 258.34739808619105,55.559768757045816 257.6018343138152,57.00810948058521 256.8731728394287,58.46502699571328 256.16151231213126,59.930324059120125 255.4669490793663,61.40380229303913 254.7895771738773,62.885262212104166 254.1294883009772,64.3745032503567 253.486771826133,65.87132378839921 252.86151476286716,67.37552118069124 252.25380176097715,68.88689178298435 251.6637150950755,70.4052309798923 251.0913346534509,71.93033321259266 250.53673792725277,73.46199200665625 250.00000000000014,75.00000000000041 250.3624808088675,73.41186780986482 250.7064587405253,71.81962556300839 251.03188722586788,70.22348882354349 251.33872220708759,68.62367368283445 251.62692214363966,67.02039673024224 251.89644801786605,65.41387502380174 252.14726334027782,63.804326060835564 252.37933415449524,62.19196774850842 252.592629041845,60.57701837432592 252.7871191256136,58.95969657658198 252.96277807495704,57.340221314758715 253.11958210846544,55.71881183988277 253.2575099973827,54.095687664842295 253.37654306848057,52.47106853466839 253.47666520658663,50.845174396785154 253.5578628567661,49.218225371232315 253.6201250261569,47.590441720864504 253.66344328545796,45.962043821531196 253.6878117700704,44.33325213224135 253.69322718089145,42.70428716531676 253.67968878476123,41.075369456538255 253.6471984145618,39.446719535288665 253.59576046896925,37.818557894696674 253.52538191185798,36.19110496178558 253.43607227135806,34.564581067631 253.32784363856516,32.939206417531594 253.2007106659037,31.315201061196753 253.05469056514312,29.69278486295542 252.8898031050676,28.07217747198997 252.70607060879985,26.453598292599228 252.34358979993252,28.04173048273482 251.9996118682747,29.633972729591253 251.67418338293217,31.230109469056153 251.36734840171246,32.8299246097652 251.07914846516042,34.43320156235742 250.80962259093405,36.03972326879792 250.5588072685223,37.649272231764094 250.32673645430486,39.26163054409125 250.11344156695515,40.87657991827375 249.91895148318656,42.49390171601768 249.74329253384312,44.11337697784096 249.58648850033472,45.734786452716904 249.44856061141746,47.35791062775738 249.32952754031962,48.98252975793128 249.22940540221356,50.60842389581452 249.14820775203412,52.23537292136736 249.08594558264335,53.86315657173517 249.0426273233423,55.491554471068476 249.01825883872985,57.120346160358324 249.0128434279088,58.749311127282915 249.02638182403902,60.37822883606142 249.05887219423843,62.00687875731101 249.110310139831,63.635040397903 249.18068869694227,65.2624933308141 249.2699983374422,66.88901722496867 249.3782269702351,68.51439187506807 249.50535994289655,70.13839723140292 249.65138004365713,71.76081342964426 249.81626750373263,73.3814208206097 250.0000000000004,75.00000000000044 249.63751919113295,73.41186780986487 249.2565845791551,71.82806068412663 248.85724773651543,70.24879304491769 248.43956272703008,68.67427869979625 248.0035860985632,67.10473081280055 247.54937687537142,65.54036187558992 247.07699655011277,63.98138367867679 246.58650907552166,62.42800728275363 246.07798085575064,60.880442990118745 245.55148073738042,59.33890031620468 245.00708000009902,57.8035879612132 244.4448523470518,56.274713781860626 243.8648738948631,54.75248476323735 243.26722316333132,53.23710699078537 242.6519810647986,51.72878562239764 242.01923089319658,50.22772486064294 241.36905831276974,48.73412792512014 240.7015513464778,47.24819702494553 240.01680036407888,45.77013333137692 239.3148980698948,44.30013695057826 238.59593949026052,42.83840689652853 237.86002196065894,41.38514106407836 237.10724511254335,39.94053620215827 236.3377108598489,38.50478788714202 235.55152338519505,37.078090496368695 234.748789125781,35.6606371818271 233.92961675897564,34.25261984400611 233.09411718760452,32.8542291059144 232.24240352493536,31.46565428727312 231.37459107936422,30.08708337888508 231.73707188823167,31.67521556902065 232.11800650020953,33.259022694758904 232.5173433428492,34.83829033396785 232.93502835233454,36.4128046790893 233.3710049808014,37.982352566085 233.82521420399317,39.54672150329563 234.29759452925182,41.10569970020877 234.78808200384293,42.659076096131926 235.29661022361395,44.206640388766814 235.82311034198418,45.74818306268088 236.36751107926557,47.283495417672356 236.92973873231279,48.81236959702493 237.50971718450148,50.33459861564821 238.10736791603327,51.84997638810019 238.722610014566,53.35829775648792 239.355360186168,54.85935851824262 240.00553276659485,56.35295545376542 240.6730397328868,57.838886353940026 241.35779071528572,59.31695004750864 242.05969300946978,60.786946428307296 242.77865158910407,62.24867648235703 243.51456911870565,63.7019423148072 244.26734596682124,65.14654717672728 245.0368802195157,66.58229549174352 245.82306769416954,68.00899288251685 246.6258019535836,69.42644619705844 247.44497432038895,70.83446353487943 248.28047389176007,72.23285427297115 249.13218755442924,73.62142909161243 250.00000000000037,75.00000000000047 248.98435134312976,73.7264168672844 247.95395295927486,72.46473728803647 246.90894434788274,71.21513207347536 245.84946698639138,69.97777040014402 244.77566431107593,68.75281978700595 243.68768169762967,67.5404460727657 242.5856664414826,66.34081339341711 241.46976773785983,65.1540841600218 240.34013666158307,63.98041903672137 239.19692614661744,62.81997691898606 238.0402909653667,61.67291491210279 236.87038770771952,60.539388309905675 235.68737475984975,59.4195505737517 234.4914122827734,58.3135533117445 233.2826621906655,57.22154625820908 232.06128812893937,56.14367725342016 230.82745545209184,55.08009222358697 229.58133120131674,54.03093516109719 228.32308408189024,52.99634810502267 227.05288444033093,51.976471121889624 225.7709042413375,50.97144228671587 224.47731704450754,49.98139766431766 223.1722979808404,49.006471290888705 221.85602372902716,48.04679515585381 220.52867249153124,47.10249918399962 219.19042397046258,46.17371121788488 217.84145934324889,45.26055700053261 216.48196123810712,44.363160158406494 215.1121137093185,43.481642184673866 213.73210221231054,42.61612242275744 214.74775086918115,43.88970555547352 215.77814925303602,45.15138513472145 216.82315786442814,46.400990349282566 217.88263522591947,47.6383520226139 218.95643790123492,48.86330263575199 220.04442051468115,50.075676349992236 221.14643577082822,51.27530902934083 222.262334474451,52.462038262736144 223.39196555072775,53.63570338603657 224.53517606569338,54.79614550377188 225.6918112469441,55.94320751065516 226.86171450459128,57.07673411285228 228.04472745246105,58.19657184900626 229.24068992953738,59.30256911101346 230.4494400216453,60.39457616454888 231.6708140833714,61.4724451693378 232.90464676021892,62.536030199170995 234.15077101099402,63.58518726166078 235.4090181304205,64.6197743177353 236.6792177719798,65.63965130086835 237.96119797097325,66.64468013604211 239.2547851678032,67.63472475844033 240.55980423147034,68.60965113186928 241.87607848328358,69.56932726690418 243.2034297207795,70.51362323875837 244.54167824184816,71.44241120487311 245.89064286906185,72.35556542222538 247.25014097420362,73.2529622643515 248.61998850299224,74.13448023808412 250.0000000000002,75.00000000000055 248.53234516773296,74.29321468361049 247.0565660489304,73.60355376500752 245.5728624404616,72.93111061324028 244.08143521204474,72.27597626634737 242.5824862790525,71.63823941903227 241.07621857517591,71.01798641065554 239.5628360249505,70.41530121354577 238.04254351614807,69.83026542163117 236.51554687203816,69.26295823939297 234.98205282352293,68.71345647114249 233.44226898114914,68.18183451062298 231.89640380700092,67.66816433093793 230.34466658647736,67.17251547480708 228.78726739995867,66.69495504515146 227.22441709436455,66.23554769600867 225.65632725460907,65.79435562377981 224.08321017495527,65.37143855880906 222.50527883027402,64.96685375729717 220.92274684721062,64.58065599354987 219.33582847526316,64.2128975525623 217.74473855777657,63.86362822294045 216.14969250285625,63.53289529016063 214.55090625420533,63.22074353016772 212.94859626188924,62.92721520331324 211.34297945303192,62.65235004863399 209.73427320244735,62.396185278472004 208.12269530321046,62.15875557343659 206.50846393717143,61.940093077709165 204.89179764541737,61.74022739469139 203.27291529868535,61.559185582997394 204.7405701309526,62.265970899387476 206.21634924975515,62.955631817990444 207.70005285822396,63.628074969757684 209.1914800866408,64.2832093166506 210.69042901963306,64.9209461639657 212.19669672350963,65.54119917234244 213.71007927373503,66.14388436945222 215.23037178253747,66.72892016136683 216.7573684266474,67.29622734360503 218.2908624751626,67.84572911185552 219.8306463175364,68.37735107237505 221.37651149168462,68.89102125206011 222.9282487122082,69.38667010819097 224.48564789872688,69.86423053784661 226.048498204321,70.32363788698942 227.61658804407648,70.76482995921829 229.18970512373028,71.18774702418904 230.76763646841152,71.59233182570092 232.35016845147493,71.97852958944823 233.9370868234224,72.34628803043582 235.52817674090898,72.69555736005766 237.1232227958293,73.02629029283749 238.72200904448022,73.3384420528304 240.3243190367963,73.63197037968489 241.92993584565363,73.90683553436413 243.5386420962382,74.16300030452612 245.15021999547508,74.40043000956153 246.76445136151412,74.61909250528896 248.38111765326818,74.81895818830674 250.0000000000002,75.00000000000074 248.37102603147216,75.00000000000078 246.74216233144386,75.0189535451082 245.11362942198622,75.05685806931639 243.48564778038642,75.11370844095953 241.85843780929872,75.18949696340734 240.23221980690565,75.28421337610705 238.607213937093,75.39784485597256 236.98364019964322,75.53037601912048 235.36171840045097,75.68178892295279 233.7416681217649,75.85206306858608 232.12370869245973,76.04117540362667 230.5080591583427,76.24910032529164 228.89493825249815,76.47580968387494 227.28456436567467,76.72127278655849 225.67715551671844,76.98545640156743 224.07292932305697,77.26832476266922 222.47210297123718,77.5698395740158 220.87489318752185,77.8899600153282 219.28151620854834,78.22864274742301 217.69218775205354,78.58584191807978 216.10712298766927,78.96150916824867 214.52653650779166,79.35559363859751 212.95064229852883,79.76804197639734 211.37965371073054,80.1987983427455 209.8137834311039,80.64780442012533 208.25324345341912,81.11499942030142 206.69824504980875,81.60032009254937 205.148998742165,82.10370073221895 203.60571427363828,82.62507318962945 202.0686005802415,83.164366879296 203.69757454876955,83.16436687929597 205.32643824879784,83.14541333418856 206.9549711582555,83.10750880998037 208.5829527998553,83.05065843833724 210.210162770943,82.97486991588944 211.83638077333606,82.88015350318973 213.4613866431487,82.76652202332421 215.0849603805985,82.6339908601763 216.70688217979074,82.48257795634399 218.32693245847682,82.3123038107107 219.94489188778198,82.12319147567011 221.56054142189902,81.91526655400514 223.17366232774356,81.68855719542184 224.78403621456704,81.44309409273829 226.39144506352326,81.17891047772935 227.99567125718474,80.89604211662756 229.59649760900453,80.59452730528098 231.19370739271986,80.27440686396857 232.78708437169337,79.93572413187376 234.37641282818817,79.57852496121698 235.96147759257244,79.20285771104808 237.54206407245005,78.80877324069922 239.11795828171287,78.39632490289938 240.68894686951117,77.96556853655122 242.2548171491378,77.51656245917138 243.8153571268226,77.04936745899529 245.37035553043296,76.56404678674733 246.91960183807672,76.06066614707773 248.46288630660342,75.53929368966722 250.00000000000017,75.00000000000065 248.53234516773296,75.7067853163908 247.07301331897187,76.43059934315012 245.62220202388892,77.17134408744583 244.18010769910956,77.92891926429706 242.74692558112102,78.70322231015176 241.32284969984036,79.4941483967722 239.90807285234598,80.30159044542702 238.50278657677597,81.12543914138799 237.10718112639688,81.96558294872943 235.7214454438465,82.82190812542846 234.34576713555407,83.69429873876382 232.9803324463413,84.58263668101125 231.62532623420788,85.48680168543348 230.28093194530464,86.40667134256235 228.9473315890979,87.34212111677111 227.62470571372822,88.29302436313458 226.31323338156716,89.2592523445748 225.01309214497508,90.24067424929002 223.72445802226338,91.23715720846447 222.44750547386442,92.24856631425668 221.1824073787124,93.2747646380639 219.92933501083834,94.31561324905998 218.68845801618224,95.3709712330044 217.4599443896258,96.4406957113198 216.24396045224861,97.52464186043547 215.0406708288109,98.6226629313941 213.850238425466,99.7346102697193 212.67282440770543,100.86033333554096 211.50858817853972,101.99967972397602 210.35768735691778,103.1524951857616 211.825342189185,102.44570986937144 213.2846740379461,101.72189584261214 214.73548533302906,100.98115109831643 216.17757965780842,100.22357592146521 217.61076177579696,99.44927287561052 219.03483765707762,98.65834678899009 220.449614504572,97.85090474033527 221.854900780142,97.02705604437432 223.2505062305211,96.18691223703289 224.63624191307147,95.33058706033385 226.0119202213639,94.4581964469985 227.37735491057668,93.56985850475107 228.7323611227101,92.66569350032884 230.07675541161333,91.74582384319997 231.41035576782008,90.81037406899121 232.73298164318976,89.85947082262774 234.04445397535082,88.89324284118752 235.34459521194287,87.9118209364723 236.63322933465457,86.91533797729785 237.91018188305353,85.90392887150563 239.17527997820554,84.87773054769839 240.4283523460796,83.8368819367023 241.6692293407357,82.78152395275787 242.89774296729212,81.71179947444244 244.11372690466928,80.62785332532677 245.31701652810696,79.52983225436813 246.50744893145185,78.41788491604294 247.6848629492124,77.29216185022126 248.8490991783781,76.15281546178619 250.00000000000006,75.0000000000006 248.9843513431295,76.27358313271674 247.98358991581335,77.55889739613177 246.99785120512914,78.85576877926913 246.02726866431905,80.16402170650323 245.0719736947225,81.48347906132963 244.13209562798642,82.81396221034373 243.20776170855595,84.15529102742488 242.2990970764475,85.50728391812261 241.4062247503068,86.86975784424159 240.5292656107541,88.24252834862205 239.66833838401894,89.62540958011235 238.82355962586652,91.01821431873024 237.9950437058179,92.4207540010095 237.18290279166615,93.8328387455283 236.3872468342907,95.25427737861625 235.60818355277164,96.68487746023612 234.84581841980645,98.12444531003723 234.10025464743057,99.57278603357663 233.37159317304415,101.02970354870472 232.65993264574672,102.49500061211157 231.96536941298177,103.96847884603058 231.28799750749278,105.44993876509562 230.6279086345927,106.93917980334817 229.98519215974855,108.43600034139068 229.3599350964827,109.94019773368272 228.75222209459272,111.45156833597584 228.16213542869107,112.96990753288378 227.5897549870665,114.49500976558414 227.0351582608684,116.02666855964773 226.49842033361577,117.5646765529919 227.51406899048632,116.29109342027576 228.51483041780247,115.00577915686073 229.5005691284867,113.70890777372337 230.47115166929677,112.40065484648926 231.42644663889334,111.08119749166286 232.3663247056294,109.75071434264876 233.29065862505985,108.4093855255676 234.1993232571683,107.05739263486986 235.092195583309,105.69491870875088 235.9691547228617,104.32214820437042 236.83008194959686,102.93926697288012 237.67486070774925,101.54646223426222 238.50337662779785,100.14392255198297 239.3155175419496,98.73183780746416 240.11117349932505,97.31039917437622 240.89023678084408,95.87979909275634 241.65260191380924,94.44023124295524 242.3981656861851,92.99189051941583 243.12682716057154,91.53497300428775 243.83848768786896,90.0696759408809 244.5330509206339,88.59619770696187 245.21042282612288,87.11473778789683 245.87051169902293,85.62549674964428 246.51322817386708,84.12867621160176 247.1384852371329,82.62447881930972 247.74619823902287,81.11310821701659 248.3362849049245,79.59476902010863 248.90866534654907,78.06966678740825 249.46326207274717,76.53800799334465 249.99999999999977,75.00000000000048 249.63751919113247,76.58813219013608 249.2935412594747,78.18037443699251 248.96811277413215,79.77651117645742 248.66127779291247,81.37632631716647 248.37307785636042,82.9796032697587 248.10355198213406,84.5861249761992 247.85273665972232,86.19567393916537 247.62066584550493,87.80803225149253 247.40737095815524,89.42298162567504 247.21288087438666,91.04030342341898 247.03722192504324,92.65977868524224 246.88041789153488,94.28118816011819 246.74249000261764,95.90431233515866 246.6234569315198,97.52893146533256 246.52333479341377,99.1548256032158 246.44213714323433,100.78177462876863 246.37987497384356,102.40955827913643 246.33655671454252,104.03795617846974 246.31218822993011,105.6667478677596 246.30677281910909,107.29571283468418 246.32031121523934,108.92463054346268 246.35280158543878,110.55328046471227 246.40423953103138,112.18144210530427 246.47461808814268,113.80889503821537 246.56392772864262,115.43541893236994 246.67215636143553,117.06079358246934 246.79928933409698,118.68479893880418 246.9453094348576,120.3072151370455 247.11019689493313,121.92782252801095 247.29392939120092,123.54640170740169 247.65641020006822,121.95826951726609 248.000388131726,120.36602727040966 248.32581661706854,118.76989053094475 248.63265159828822,117.1700753902357 248.92085153484024,115.56679843764347 249.1903774090666,113.96027673120297 249.44119273147834,112.3507277682368 249.67326354569573,110.73836945590963 249.88655843304542,109.12342008172712 250.08104851681398,107.50609828398318 250.2567074661574,105.88662302215991 250.41351149966576,104.26521354728396 250.551439388583,102.64208937224349 250.6704724596808,101.01747024206959 250.77059459778684,99.39157610418636 250.85179224796624,97.76462707863351 250.914054417357,96.1368434282657 250.95737267665803,94.5084455289324 250.9817411612704,92.87965383964254 250.98715657209144,91.25068887271796 250.97361817596118,89.62177116393946 250.94112780576174,87.99312124268987 250.88968986016914,86.36495960209787 250.81931130305784,84.73750666918677 250.73000166255787,83.1109827750322 250.62177302976494,81.4856081249328 250.49464005710345,79.86160276859796 250.34861995634282,78.23918657035664 250.18373249626728,76.61857917939119 249.99999999999946,75.00000000000045 250.36248080886693,76.58813219013602 250.74341542084483,78.17193931587427 251.1427522634845,79.7512069550832 251.5604372729699,81.32572130020465 251.9964139014368,82.89526918720034 252.4506231246286,84.45963812441096 252.9230034498873,86.01861632132407 253.41349092447845,87.57199271724723 253.9220191442495,89.1195570098821 254.44851926261978,90.66109968379615 254.9929199999012,92.19641203878761 255.55514765294845,93.72528621814017 256.1351261051372,95.24751523676343 256.732776836669,96.76289300921539 257.34801893520176,98.2712143776031 257.98076910680385,99.77227513935779 258.63094168723075,101.26587207488056 259.2984486535227,102.75180297505516 259.98319963592166,104.22986666862376 260.68510193010576,105.69986304942239 261.4040605097401,107.1615931034721 262.1399780393417,108.61485893592226 262.89275488745733,110.05946379784233 263.6622891401518,111.49521211285855 264.44847661480566,112.92190950363187 265.25121087421974,114.33936281817344 266.0703832410251,115.7473801559944 266.90588281239627,117.1457708940861 267.7575964750655,118.53434571272736 268.6254089206367,119.91291662111537 268.2629281117692,118.3247844309798 267.8819934997913,116.74097730524156 267.4826566571516,115.16170966603262 267.0649716476662,113.58719532091119 266.6289950191993,112.0176474339155 266.1747857960075,110.45327849670488 265.7024054707488,108.89430029979177 265.21191799615764,107.34092390386861 264.7033897763866,105.79335961123374 264.1768896580163,104.25181693731969 263.6324889207349,102.71650458232823 263.0702612676876,101.18763040297567 262.49028281549886,99.6654013843524 261.89263208396704,98.15002361190044 261.2773899854343,96.64170224351271 260.64463981383227,95.14064148175802 259.9944672334054,93.64704454623524 259.3269602671134,92.16111364606064 258.64220928471445,90.68304995249204 257.94030699053036,89.21305357169341 257.22134841089604,87.7513235176437 256.4854308812944,86.29805768519354 255.7326540331788,84.85345282327347 254.9631197804843,83.41770450825724 254.17693230583043,81.99100711748393 253.37419804641632,80.57355380294236 252.55502567961094,79.16553646512139 251.7195261082398,77.7671457270297 250.8678124455706,76.37857090838844 249.99999999999943,75.00000000000043 251.01564865687007,76.27358313271648 252.046047040725,77.53526271196438 253.09105565211715,78.78486792652546 254.15053301360854,80.02222959985677 255.22433568892401,81.24718021299483 256.3123183023703,82.45955392723505 257.4143335585174,83.65918660658362 258.5302322621402,84.8459158399789 259.659863338417,86.0195809632793 260.8030738533826,87.18002308101458 261.95970903463336,88.32708508789783 263.12961229228057,89.46061169009492 264.31262524015034,90.58044942624888 265.5085877172267,91.68644668825604 266.71733780933465,92.77845374179144 267.9387118710608,93.85632274658033 269.17254454790833,94.9199077764135 270.4186687986835,95.96906483890325 271.67691591811,97.00365189497774 272.9471155596694,98.02352887811075 274.2290957586629,99.02855771328447 275.5226829554929,100.01860233568264 276.82770201916003,100.99352870911157 278.14397627097327,101.95320484414644 279.4713275084692,102.8975008160006 280.8095760295379,103.82628878211531 282.1585406567516,104.73944299946756 283.5180387618934,105.63683984159364 284.88788629068205,106.51835781532624 286.26789778769,107.38387757724263 285.25224913081934,106.11029444452657 284.22185074696444,104.84861486527866 283.1768421355723,103.59900965071758 282.11736477408095,102.36164797738627 281.04356209876545,101.1366973642482 279.95557948531916,99.92432365000799 278.85356422917204,98.72469097065942 277.73766552554923,97.53796173726414 276.60803444927245,96.36429661396375 275.4648239343068,95.20385449622846 274.3081887530561,94.05679248934521 273.13828549540887,92.92326588714812 271.9552725475391,91.80342815099416 270.75931007046273,90.69743088898699 269.5505599783548,89.60542383545159 268.32918591662866,88.5275548306627 267.0953532397811,87.46396980082953 265.849228989006,86.41481273833978 264.5909818695795,85.38022568226528 263.3207822280201,84.36034869913226 262.0388020290266,83.35531986395853 260.74521483219667,82.36527524156034 259.4401957685295,81.39034886813141 258.1239215167163,80.43067273309654 256.79657027922036,79.48637676124238 255.4583217581517,78.55758879512767 254.109357130938,77.64443457777543 252.7498590257962,76.74703773564934 251.38001149700756,75.86551976191674 249.9999999999996,75.00000000000034 251.46765483226685,75.70678531639038 252.94343395106944,76.3964462349933 254.42713755953824,77.06888938676052 255.91856478795512,77.7240237336534 257.4175137209474,78.36176058096846 258.92378142482397,78.98201358934517 260.4371639750494,79.58469878645491 261.95745648385184,80.16973457836947 263.4844531279618,80.73704176060762 265.01794717647704,81.28654352885808 266.55773101885086,81.81816548937756 268.1035961929991,82.33183566906258 269.65533341352267,82.8274845251934 271.21273260004136,83.305044954849 272.7755829056355,83.76445230399176 274.34367274539096,84.20564437622059 275.91678982504476,84.6285614411913 277.494721169726,85.03314624270314 279.0772531527894,85.4193440064504 280.6641715247369,85.78710244743795 282.2552614422235,86.13637177705975 283.85030749714383,86.46710470983953 285.44909374579476,86.7792564698324 287.0514037381109,87.07278479668685 288.6570205469682,87.34764995136605 290.2657267975528,87.603814721528 291.87730469678974,87.84124442656336 293.4915360628288,88.05990692229075 295.1082023545829,88.25977260530848 296.7270847013149,88.44081441700244 295.2594298690476,87.7340291006124 293.78365075024504,87.04436818200948 292.2999471417762,86.37192503024227 290.80851991335936,85.71679068334939 289.3095709803671,85.07905383603432 287.8033032764905,84.45880082765761 286.2899207262651,83.85611563054788 284.76962821746264,83.2710798386333 283.2426315733527,82.70377265639515 281.70913752483744,82.1542708881447 280.1693536824636,81.6226489276252 278.6234885083154,81.10897874794018 277.0717512877918,80.61332989180937 275.5143521012731,80.13576946215377 273.951501795679,79.67636211301101 272.3834119559235,79.23517004078218 270.8102948762697,78.81225297581146 269.2323635315885,78.4076681742996 267.64983154852507,78.02147041055233 266.0629131765776,77.65371196956478 264.47182325909097,77.30444263994296 262.87677720417065,76.97370970716318 261.2779909555197,76.66155794717031 259.6756809632036,76.36802962031587 258.07006415434626,76.09316446563665 256.46135790376167,75.8369996954747 254.84978000452477,75.59956999043933 253.23554863848574,75.38090749471193 251.61888234673168,75.18104181169419 249.99999999999966,75.00000000000023\" />'\n",
       "\n",
       "<g transform=\"rotate(270.0,250.0,75.0) translate(250.0, 75.0)\">\n",
       "    <circle stroke=\"#63A375\" stroke-width=\"2\" fill=\"transparent\" r=\"5.5\" cx=\"0\" cy=\"0\"/>\n",
       "    <polygon points=\"0,12 2,9 -2,9\" style=\"fill:#63A375;stroke:#63A375;stroke-width:2\"/>\n",
       "</g>\n",
       "\n",
       "</svg>"
      ],
      "text/plain": [
       "<IPython.core.display.HTML object>"
      ]
     },
     "metadata": {},
     "output_type": "display_data"
    }
   ],
   "source": [
    "from jupyturtle import get_turtle, render\n",
    "\n",
    "make_turtle(auto_render=False)\n",
    "jump(100)\n",
    "flower(14, 140.0, 20.0)\n",
    "render()"
   ]
  },
  {
   "cell_type": "markdown",
   "id": "9d70ddfa-ed80-42e0-8c7e-34cb8524c8a7",
   "metadata": {},
   "source": [
    "When a turtle is used in a `with` statement,\n",
    "the drawing is rendered only at the end of the `with` block.\n",
    "In this case, the `auto_render` setting is preserved but\n",
    "set to `False` within the block.\n",
    "The `delay` has no effect within the block."
   ]
  },
  {
   "cell_type": "code",
   "execution_count": 42,
   "id": "442e5e7d-c00f-441a-b9e5-67774a8c9d13",
   "metadata": {},
   "outputs": [
    {
     "data": {
      "text/html": [
       "<svg width=\"300\" height=\"150\" style=\"fill:none;\">\n",
       "    <rect width=\"100%\" height=\"100%\" fill=\"#F3F3F7\" />\n",
       "\n",
       "\n",
       "<path stroke=\"#663399\" stroke-width=\"2\" d=\"M 150,75\" />'\n",
       "\n",
       "<path stroke=\"#663399\" stroke-width=\"2\" d=\"M 250.0,75.0 251.62897396852804,75.0 253.25783766855633,74.98104645489262 254.88637057801398,74.94314193068446 256.5143522196138,74.88629155904135 258.14156219070145,74.81050303659359 259.7677801930945,74.7157866238939 261.39278606290713,74.60215514402842 263.0163598003569,74.46962398088053 264.63828159954915,74.31821107704825 266.25833187823525,74.14793693141499 267.87629130754044,73.95882459637443 269.4919408416575,73.75089967470949 271.105061747502,73.52419031612621 272.7154356343255,73.27872721344269 274.32284448328176,73.01454359843378 275.92707067694323,72.731675237332 277.527897028763,72.43016042598545 279.1251068124783,72.11003998467307 280.71848379145183,71.77135725257827 282.30781224794663,71.41415808192153 283.89287701233087,71.03849083175265 285.47346349220845,70.64440636140382 287.0493577014713,70.23195802360401 288.6203462892696,69.80120165725587 290.1862165688962,69.35219557987607 291.746756546581,68.8850005797 293.3017549501914,68.39967990745207 294.8510012578352,67.8962992677825 296.3942857263619,67.37492681037202 297.93139941975863,66.83563312070548 296.3024254512306,66.8356331207055 294.67356175120227,66.85458666581289 293.0450288417446,66.89249119002106 291.4170472001448,66.94934156166418 289.7898372290571,67.02513008411196 288.1636192266641,67.11984649681166 286.53861335685144,67.23347797667716 284.9150396194017,67.36600913982507 283.29311782020943,67.51742204365736 281.6730675415233,67.68769618929062 280.05510811221814,67.8768085243312 278.4394585781011,68.08473344599614 276.82633767225656,68.31144280457941 275.2159637854331,68.55690590726294 273.6085549364768,68.82108952227186 272.00432874281535,69.10395788337364 270.4035023909956,69.40547269472019 268.8062926072803,69.72559313603257 267.21291562830675,70.06427586812737 265.62358717181195,70.42147503878411 264.0385224074277,70.79714228895298 262.4579359275501,71.19122675930181 260.88204171828727,71.60367509710163 259.311053130489,72.03443146344976 257.74518285086236,72.48343754082957 256.18464287317755,72.95063254100563 254.62964446956718,73.43595321325357 253.08039816192343,73.93933385292314 251.53711369339672,74.46070631033362 249.99999999999994,75.00000000000014 251.46765483226716,74.29321468361002 252.92698668102827,73.56940065685075 254.37779797611122,72.82865591255506 255.8198923008906,72.07108073570387 257.2530744188791,71.29677768984921 258.6771503001598,70.50585160322879 260.0919271476542,69.698409554574 261.4972134232242,68.87456085861307 262.8928188736033,68.03441705127165 264.27855455615367,67.17809187457263 265.6542328644461,66.3057012612373 267.0196675536589,65.4173633189899 268.37467376579235,64.51319831456769 269.7190680546956,63.593328657438846 271.05266841090236,62.657878883230104 272.37529428627204,61.70697563686665 273.6867666184331,60.740747655426446 274.9869078550252,59.75932575071125 276.2755419777369,58.762842791536826 277.5524945261359,57.75143368574463 278.81759262128793,56.72523536193742 280.070664989162,55.68438675094135 281.31154198381813,54.62902876699694 282.54005561037457,53.559304288681545 283.75603954775175,52.47535813956589 284.9593291711895,51.37733706860727 286.1497615745344,50.26538973028209 287.32717559229496,49.139666664460435 288.4914118214607,48.000320276025384 289.6423126430827,46.84750481423981 288.17465781081546,47.55429013062995 286.71532596205435,48.278104157389244 285.26451466697137,49.01884890168494 283.822420342192,49.77642407853615 282.38923822420344,50.55072712439083 280.9651623429228,51.341653211011256 279.55038549542843,52.149095259666055 278.1450992198584,52.972943955626995 276.74949376947933,53.81308776296842 275.36375808692895,54.66941293966744 273.9880797786365,55.54180355300277 272.6226450894237,56.43014149525019 271.26763887729027,57.3343064996724 269.92324458838704,58.25417615680125 268.58964423218026,59.18962593101 267.2670183568106,60.14052917737345 265.9555460246495,61.106757158813664 264.6554047880574,62.08817906352886 263.3667706653457,63.084662022703284 262.08981811694673,64.09607112849548 260.8247200217947,65.12226945230269 259.5716476539206,66.16311806329875 258.3307706592645,67.21847604724316 257.10225703270805,68.28820052555855 255.88627309533086,69.3721466746742 254.68298347189315,70.47016774563282 253.49255106854824,71.582115083958 252.31513705078765,72.70783814977965 251.15090082162195,73.84718453821469 249.99999999999997,75.00000000000026 251.01564865687055,73.72641686728414 252.01641008418673,72.44110260386913 253.00214879487098,71.14423122073178 253.9727313356811,69.83597829349769 254.92802630527768,68.5165209386713 255.86790437201378,67.18603778965723 256.7922382914443,65.8447089725761 257.70090292355275,64.49271608187838 258.59377524969346,63.130242155759426 259.4707343892462,61.75747165137899 260.3316616159814,60.37459041988871 261.1764403741338,58.98178568127083 262.0049562941824,57.579245998991595 262.8170972083342,56.1671612544728 263.6127531657097,54.74572262138487 264.3918164472288,53.31512253976502 265.154181580194,51.87555468996393 265.89974535256994,50.42721396642454 266.6284068269564,48.97029645129647 267.34006735425385,47.50499938788963 268.0346305870188,46.03152115397063 268.7120024925078,44.5500612349056 269.37209136540787,43.06082019665307 270.01480784025205,41.56399965861056 270.6400649035179,40.059802266318535 271.24777790540793,38.54843166402543 271.8378645713096,37.03009246711749 272.4102450129342,35.50499023441713 272.9648417391323,33.97333144035354 273.50157966638494,32.43532344700938 272.4859310095144,33.70890657972551 271.48516958219824,34.994220843140525 270.499430871514,36.29109222627787 269.5288483307039,37.59934515351196 268.5735533611073,38.91880250833835 267.63367529437124,40.24928565735244 266.7093413749408,41.59061447443358 265.8006767428323,42.9426073651313 264.9078044166916,44.30508129125027 264.03084527713884,45.67785179563071 263.1699180504037,47.060733027120996 262.32513929225127,48.453537765738886 261.49662337220263,49.85607744801813 260.68448245805087,51.26816219253693 259.88882650067535,52.68960082562486 259.10976321915626,54.120200907244715 258.34739808619105,55.559768757045816 257.6018343138152,57.00810948058521 256.8731728394287,58.46502699571328 256.16151231213126,59.930324059120125 255.4669490793663,61.40380229303913 254.7895771738773,62.885262212104166 254.1294883009772,64.3745032503567 253.486771826133,65.87132378839921 252.86151476286716,67.37552118069124 252.25380176097715,68.88689178298435 251.6637150950755,70.4052309798923 251.0913346534509,71.93033321259266 250.53673792725277,73.46199200665625 250.00000000000014,75.00000000000041 250.3624808088675,73.41186780986482 250.7064587405253,71.81962556300839 251.03188722586788,70.22348882354349 251.33872220708759,68.62367368283445 251.62692214363966,67.02039673024224 251.89644801786605,65.41387502380174 252.14726334027782,63.804326060835564 252.37933415449524,62.19196774850842 252.592629041845,60.57701837432592 252.7871191256136,58.95969657658198 252.96277807495704,57.340221314758715 253.11958210846544,55.71881183988277 253.2575099973827,54.095687664842295 253.37654306848057,52.47106853466839 253.47666520658663,50.845174396785154 253.5578628567661,49.218225371232315 253.6201250261569,47.590441720864504 253.66344328545796,45.962043821531196 253.6878117700704,44.33325213224135 253.69322718089145,42.70428716531676 253.67968878476123,41.075369456538255 253.6471984145618,39.446719535288665 253.59576046896925,37.818557894696674 253.52538191185798,36.19110496178558 253.43607227135806,34.564581067631 253.32784363856516,32.939206417531594 253.2007106659037,31.315201061196753 253.05469056514312,29.69278486295542 252.8898031050676,28.07217747198997 252.70607060879985,26.453598292599228 252.34358979993252,28.04173048273482 251.9996118682747,29.633972729591253 251.67418338293217,31.230109469056153 251.36734840171246,32.8299246097652 251.07914846516042,34.43320156235742 250.80962259093405,36.03972326879792 250.5588072685223,37.649272231764094 250.32673645430486,39.26163054409125 250.11344156695515,40.87657991827375 249.91895148318656,42.49390171601768 249.74329253384312,44.11337697784096 249.58648850033472,45.734786452716904 249.44856061141746,47.35791062775738 249.32952754031962,48.98252975793128 249.22940540221356,50.60842389581452 249.14820775203412,52.23537292136736 249.08594558264335,53.86315657173517 249.0426273233423,55.491554471068476 249.01825883872985,57.120346160358324 249.0128434279088,58.749311127282915 249.02638182403902,60.37822883606142 249.05887219423843,62.00687875731101 249.110310139831,63.635040397903 249.18068869694227,65.2624933308141 249.2699983374422,66.88901722496867 249.3782269702351,68.51439187506807 249.50535994289655,70.13839723140292 249.65138004365713,71.76081342964426 249.81626750373263,73.3814208206097 250.0000000000004,75.00000000000044 249.63751919113295,73.41186780986487 249.2565845791551,71.82806068412663 248.85724773651543,70.24879304491769 248.43956272703008,68.67427869979625 248.0035860985632,67.10473081280055 247.54937687537142,65.54036187558992 247.07699655011277,63.98138367867679 246.58650907552166,62.42800728275363 246.07798085575064,60.880442990118745 245.55148073738042,59.33890031620468 245.00708000009902,57.8035879612132 244.4448523470518,56.274713781860626 243.8648738948631,54.75248476323735 243.26722316333132,53.23710699078537 242.6519810647986,51.72878562239764 242.01923089319658,50.22772486064294 241.36905831276974,48.73412792512014 240.7015513464778,47.24819702494553 240.01680036407888,45.77013333137692 239.3148980698948,44.30013695057826 238.59593949026052,42.83840689652853 237.86002196065894,41.38514106407836 237.10724511254335,39.94053620215827 236.3377108598489,38.50478788714202 235.55152338519505,37.078090496368695 234.748789125781,35.6606371818271 233.92961675897564,34.25261984400611 233.09411718760452,32.8542291059144 232.24240352493536,31.46565428727312 231.37459107936422,30.08708337888508 231.73707188823167,31.67521556902065 232.11800650020953,33.259022694758904 232.5173433428492,34.83829033396785 232.93502835233454,36.4128046790893 233.3710049808014,37.982352566085 233.82521420399317,39.54672150329563 234.29759452925182,41.10569970020877 234.78808200384293,42.659076096131926 235.29661022361395,44.206640388766814 235.82311034198418,45.74818306268088 236.36751107926557,47.283495417672356 236.92973873231279,48.81236959702493 237.50971718450148,50.33459861564821 238.10736791603327,51.84997638810019 238.722610014566,53.35829775648792 239.355360186168,54.85935851824262 240.00553276659485,56.35295545376542 240.6730397328868,57.838886353940026 241.35779071528572,59.31695004750864 242.05969300946978,60.786946428307296 242.77865158910407,62.24867648235703 243.51456911870565,63.7019423148072 244.26734596682124,65.14654717672728 245.0368802195157,66.58229549174352 245.82306769416954,68.00899288251685 246.6258019535836,69.42644619705844 247.44497432038895,70.83446353487943 248.28047389176007,72.23285427297115 249.13218755442924,73.62142909161243 250.00000000000037,75.00000000000047 248.98435134312976,73.7264168672844 247.95395295927486,72.46473728803647 246.90894434788274,71.21513207347536 245.84946698639138,69.97777040014402 244.77566431107593,68.75281978700595 243.68768169762967,67.5404460727657 242.5856664414826,66.34081339341711 241.46976773785983,65.1540841600218 240.34013666158307,63.98041903672137 239.19692614661744,62.81997691898606 238.0402909653667,61.67291491210279 236.87038770771952,60.539388309905675 235.68737475984975,59.4195505737517 234.4914122827734,58.3135533117445 233.2826621906655,57.22154625820908 232.06128812893937,56.14367725342016 230.82745545209184,55.08009222358697 229.58133120131674,54.03093516109719 228.32308408189024,52.99634810502267 227.05288444033093,51.976471121889624 225.7709042413375,50.97144228671587 224.47731704450754,49.98139766431766 223.1722979808404,49.006471290888705 221.85602372902716,48.04679515585381 220.52867249153124,47.10249918399962 219.19042397046258,46.17371121788488 217.84145934324889,45.26055700053261 216.48196123810712,44.363160158406494 215.1121137093185,43.481642184673866 213.73210221231054,42.61612242275744 214.74775086918115,43.88970555547352 215.77814925303602,45.15138513472145 216.82315786442814,46.400990349282566 217.88263522591947,47.6383520226139 218.95643790123492,48.86330263575199 220.04442051468115,50.075676349992236 221.14643577082822,51.27530902934083 222.262334474451,52.462038262736144 223.39196555072775,53.63570338603657 224.53517606569338,54.79614550377188 225.6918112469441,55.94320751065516 226.86171450459128,57.07673411285228 228.04472745246105,58.19657184900626 229.24068992953738,59.30256911101346 230.4494400216453,60.39457616454888 231.6708140833714,61.4724451693378 232.90464676021892,62.536030199170995 234.15077101099402,63.58518726166078 235.4090181304205,64.6197743177353 236.6792177719798,65.63965130086835 237.96119797097325,66.64468013604211 239.2547851678032,67.63472475844033 240.55980423147034,68.60965113186928 241.87607848328358,69.56932726690418 243.2034297207795,70.51362323875837 244.54167824184816,71.44241120487311 245.89064286906185,72.35556542222538 247.25014097420362,73.2529622643515 248.61998850299224,74.13448023808412 250.0000000000002,75.00000000000055 248.53234516773296,74.29321468361049 247.0565660489304,73.60355376500752 245.5728624404616,72.93111061324028 244.08143521204474,72.27597626634737 242.5824862790525,71.63823941903227 241.07621857517591,71.01798641065554 239.5628360249505,70.41530121354577 238.04254351614807,69.83026542163117 236.51554687203816,69.26295823939297 234.98205282352293,68.71345647114249 233.44226898114914,68.18183451062298 231.89640380700092,67.66816433093793 230.34466658647736,67.17251547480708 228.78726739995867,66.69495504515146 227.22441709436455,66.23554769600867 225.65632725460907,65.79435562377981 224.08321017495527,65.37143855880906 222.50527883027402,64.96685375729717 220.92274684721062,64.58065599354987 219.33582847526316,64.2128975525623 217.74473855777657,63.86362822294045 216.14969250285625,63.53289529016063 214.55090625420533,63.22074353016772 212.94859626188924,62.92721520331324 211.34297945303192,62.65235004863399 209.73427320244735,62.396185278472004 208.12269530321046,62.15875557343659 206.50846393717143,61.940093077709165 204.89179764541737,61.74022739469139 203.27291529868535,61.559185582997394 204.7405701309526,62.265970899387476 206.21634924975515,62.955631817990444 207.70005285822396,63.628074969757684 209.1914800866408,64.2832093166506 210.69042901963306,64.9209461639657 212.19669672350963,65.54119917234244 213.71007927373503,66.14388436945222 215.23037178253747,66.72892016136683 216.7573684266474,67.29622734360503 218.2908624751626,67.84572911185552 219.8306463175364,68.37735107237505 221.37651149168462,68.89102125206011 222.9282487122082,69.38667010819097 224.48564789872688,69.86423053784661 226.048498204321,70.32363788698942 227.61658804407648,70.76482995921829 229.18970512373028,71.18774702418904 230.76763646841152,71.59233182570092 232.35016845147493,71.97852958944823 233.9370868234224,72.34628803043582 235.52817674090898,72.69555736005766 237.1232227958293,73.02629029283749 238.72200904448022,73.3384420528304 240.3243190367963,73.63197037968489 241.92993584565363,73.90683553436413 243.5386420962382,74.16300030452612 245.15021999547508,74.40043000956153 246.76445136151412,74.61909250528896 248.38111765326818,74.81895818830674 250.0000000000002,75.00000000000074 248.37102603147216,75.00000000000078 246.74216233144386,75.0189535451082 245.11362942198622,75.05685806931639 243.48564778038642,75.11370844095953 241.85843780929872,75.18949696340734 240.23221980690565,75.28421337610705 238.607213937093,75.39784485597256 236.98364019964322,75.53037601912048 235.36171840045097,75.68178892295279 233.7416681217649,75.85206306858608 232.12370869245973,76.04117540362667 230.5080591583427,76.24910032529164 228.89493825249815,76.47580968387494 227.28456436567467,76.72127278655849 225.67715551671844,76.98545640156743 224.07292932305697,77.26832476266922 222.47210297123718,77.5698395740158 220.87489318752185,77.8899600153282 219.28151620854834,78.22864274742301 217.69218775205354,78.58584191807978 216.10712298766927,78.96150916824867 214.52653650779166,79.35559363859751 212.95064229852883,79.76804197639734 211.37965371073054,80.1987983427455 209.8137834311039,80.64780442012533 208.25324345341912,81.11499942030142 206.69824504980875,81.60032009254937 205.148998742165,82.10370073221895 203.60571427363828,82.62507318962945 202.0686005802415,83.164366879296 203.69757454876955,83.16436687929597 205.32643824879784,83.14541333418856 206.9549711582555,83.10750880998037 208.5829527998553,83.05065843833724 210.210162770943,82.97486991588944 211.83638077333606,82.88015350318973 213.4613866431487,82.76652202332421 215.0849603805985,82.6339908601763 216.70688217979074,82.48257795634399 218.32693245847682,82.3123038107107 219.94489188778198,82.12319147567011 221.56054142189902,81.91526655400514 223.17366232774356,81.68855719542184 224.78403621456704,81.44309409273829 226.39144506352326,81.17891047772935 227.99567125718474,80.89604211662756 229.59649760900453,80.59452730528098 231.19370739271986,80.27440686396857 232.78708437169337,79.93572413187376 234.37641282818817,79.57852496121698 235.96147759257244,79.20285771104808 237.54206407245005,78.80877324069922 239.11795828171287,78.39632490289938 240.68894686951117,77.96556853655122 242.2548171491378,77.51656245917138 243.8153571268226,77.04936745899529 245.37035553043296,76.56404678674733 246.91960183807672,76.06066614707773 248.46288630660342,75.53929368966722 250.00000000000017,75.00000000000065 248.53234516773296,75.7067853163908 247.07301331897187,76.43059934315012 245.62220202388892,77.17134408744583 244.18010769910956,77.92891926429706 242.74692558112102,78.70322231015176 241.32284969984036,79.4941483967722 239.90807285234598,80.30159044542702 238.50278657677597,81.12543914138799 237.10718112639688,81.96558294872943 235.7214454438465,82.82190812542846 234.34576713555407,83.69429873876382 232.9803324463413,84.58263668101125 231.62532623420788,85.48680168543348 230.28093194530464,86.40667134256235 228.9473315890979,87.34212111677111 227.62470571372822,88.29302436313458 226.31323338156716,89.2592523445748 225.01309214497508,90.24067424929002 223.72445802226338,91.23715720846447 222.44750547386442,92.24856631425668 221.1824073787124,93.2747646380639 219.92933501083834,94.31561324905998 218.68845801618224,95.3709712330044 217.4599443896258,96.4406957113198 216.24396045224861,97.52464186043547 215.0406708288109,98.6226629313941 213.850238425466,99.7346102697193 212.67282440770543,100.86033333554096 211.50858817853972,101.99967972397602 210.35768735691778,103.1524951857616 211.825342189185,102.44570986937144 213.2846740379461,101.72189584261214 214.73548533302906,100.98115109831643 216.17757965780842,100.22357592146521 217.61076177579696,99.44927287561052 219.03483765707762,98.65834678899009 220.449614504572,97.85090474033527 221.854900780142,97.02705604437432 223.2505062305211,96.18691223703289 224.63624191307147,95.33058706033385 226.0119202213639,94.4581964469985 227.37735491057668,93.56985850475107 228.7323611227101,92.66569350032884 230.07675541161333,91.74582384319997 231.41035576782008,90.81037406899121 232.73298164318976,89.85947082262774 234.04445397535082,88.89324284118752 235.34459521194287,87.9118209364723 236.63322933465457,86.91533797729785 237.91018188305353,85.90392887150563 239.17527997820554,84.87773054769839 240.4283523460796,83.8368819367023 241.6692293407357,82.78152395275787 242.89774296729212,81.71179947444244 244.11372690466928,80.62785332532677 245.31701652810696,79.52983225436813 246.50744893145185,78.41788491604294 247.6848629492124,77.29216185022126 248.8490991783781,76.15281546178619 250.00000000000006,75.0000000000006 248.9843513431295,76.27358313271674 247.98358991581335,77.55889739613177 246.99785120512914,78.85576877926913 246.02726866431905,80.16402170650323 245.0719736947225,81.48347906132963 244.13209562798642,82.81396221034373 243.20776170855595,84.15529102742488 242.2990970764475,85.50728391812261 241.4062247503068,86.86975784424159 240.5292656107541,88.24252834862205 239.66833838401894,89.62540958011235 238.82355962586652,91.01821431873024 237.9950437058179,92.4207540010095 237.18290279166615,93.8328387455283 236.3872468342907,95.25427737861625 235.60818355277164,96.68487746023612 234.84581841980645,98.12444531003723 234.10025464743057,99.57278603357663 233.37159317304415,101.02970354870472 232.65993264574672,102.49500061211157 231.96536941298177,103.96847884603058 231.28799750749278,105.44993876509562 230.6279086345927,106.93917980334817 229.98519215974855,108.43600034139068 229.3599350964827,109.94019773368272 228.75222209459272,111.45156833597584 228.16213542869107,112.96990753288378 227.5897549870665,114.49500976558414 227.0351582608684,116.02666855964773 226.49842033361577,117.5646765529919 227.51406899048632,116.29109342027576 228.51483041780247,115.00577915686073 229.5005691284867,113.70890777372337 230.47115166929677,112.40065484648926 231.42644663889334,111.08119749166286 232.3663247056294,109.75071434264876 233.29065862505985,108.4093855255676 234.1993232571683,107.05739263486986 235.092195583309,105.69491870875088 235.9691547228617,104.32214820437042 236.83008194959686,102.93926697288012 237.67486070774925,101.54646223426222 238.50337662779785,100.14392255198297 239.3155175419496,98.73183780746416 240.11117349932505,97.31039917437622 240.89023678084408,95.87979909275634 241.65260191380924,94.44023124295524 242.3981656861851,92.99189051941583 243.12682716057154,91.53497300428775 243.83848768786896,90.0696759408809 244.5330509206339,88.59619770696187 245.21042282612288,87.11473778789683 245.87051169902293,85.62549674964428 246.51322817386708,84.12867621160176 247.1384852371329,82.62447881930972 247.74619823902287,81.11310821701659 248.3362849049245,79.59476902010863 248.90866534654907,78.06966678740825 249.46326207274717,76.53800799334465 249.99999999999977,75.00000000000048 249.63751919113247,76.58813219013608 249.2935412594747,78.18037443699251 248.96811277413215,79.77651117645742 248.66127779291247,81.37632631716647 248.37307785636042,82.9796032697587 248.10355198213406,84.5861249761992 247.85273665972232,86.19567393916537 247.62066584550493,87.80803225149253 247.40737095815524,89.42298162567504 247.21288087438666,91.04030342341898 247.03722192504324,92.65977868524224 246.88041789153488,94.28118816011819 246.74249000261764,95.90431233515866 246.6234569315198,97.52893146533256 246.52333479341377,99.1548256032158 246.44213714323433,100.78177462876863 246.37987497384356,102.40955827913643 246.33655671454252,104.03795617846974 246.31218822993011,105.6667478677596 246.30677281910909,107.29571283468418 246.32031121523934,108.92463054346268 246.35280158543878,110.55328046471227 246.40423953103138,112.18144210530427 246.47461808814268,113.80889503821537 246.56392772864262,115.43541893236994 246.67215636143553,117.06079358246934 246.79928933409698,118.68479893880418 246.9453094348576,120.3072151370455 247.11019689493313,121.92782252801095 247.29392939120092,123.54640170740169 247.65641020006822,121.95826951726609 248.000388131726,120.36602727040966 248.32581661706854,118.76989053094475 248.63265159828822,117.1700753902357 248.92085153484024,115.56679843764347 249.1903774090666,113.96027673120297 249.44119273147834,112.3507277682368 249.67326354569573,110.73836945590963 249.88655843304542,109.12342008172712 250.08104851681398,107.50609828398318 250.2567074661574,105.88662302215991 250.41351149966576,104.26521354728396 250.551439388583,102.64208937224349 250.6704724596808,101.01747024206959 250.77059459778684,99.39157610418636 250.85179224796624,97.76462707863351 250.914054417357,96.1368434282657 250.95737267665803,94.5084455289324 250.9817411612704,92.87965383964254 250.98715657209144,91.25068887271796 250.97361817596118,89.62177116393946 250.94112780576174,87.99312124268987 250.88968986016914,86.36495960209787 250.81931130305784,84.73750666918677 250.73000166255787,83.1109827750322 250.62177302976494,81.4856081249328 250.49464005710345,79.86160276859796 250.34861995634282,78.23918657035664 250.18373249626728,76.61857917939119 249.99999999999946,75.00000000000045 250.36248080886693,76.58813219013602 250.74341542084483,78.17193931587427 251.1427522634845,79.7512069550832 251.5604372729699,81.32572130020465 251.9964139014368,82.89526918720034 252.4506231246286,84.45963812441096 252.9230034498873,86.01861632132407 253.41349092447845,87.57199271724723 253.9220191442495,89.1195570098821 254.44851926261978,90.66109968379615 254.9929199999012,92.19641203878761 255.55514765294845,93.72528621814017 256.1351261051372,95.24751523676343 256.732776836669,96.76289300921539 257.34801893520176,98.2712143776031 257.98076910680385,99.77227513935779 258.63094168723075,101.26587207488056 259.2984486535227,102.75180297505516 259.98319963592166,104.22986666862376 260.68510193010576,105.69986304942239 261.4040605097401,107.1615931034721 262.1399780393417,108.61485893592226 262.89275488745733,110.05946379784233 263.6622891401518,111.49521211285855 264.44847661480566,112.92190950363187 265.25121087421974,114.33936281817344 266.0703832410251,115.7473801559944 266.90588281239627,117.1457708940861 267.7575964750655,118.53434571272736 268.6254089206367,119.91291662111537 268.2629281117692,118.3247844309798 267.8819934997913,116.74097730524156 267.4826566571516,115.16170966603262 267.0649716476662,113.58719532091119 266.6289950191993,112.0176474339155 266.1747857960075,110.45327849670488 265.7024054707488,108.89430029979177 265.21191799615764,107.34092390386861 264.7033897763866,105.79335961123374 264.1768896580163,104.25181693731969 263.6324889207349,102.71650458232823 263.0702612676876,101.18763040297567 262.49028281549886,99.6654013843524 261.89263208396704,98.15002361190044 261.2773899854343,96.64170224351271 260.64463981383227,95.14064148175802 259.9944672334054,93.64704454623524 259.3269602671134,92.16111364606064 258.64220928471445,90.68304995249204 257.94030699053036,89.21305357169341 257.22134841089604,87.7513235176437 256.4854308812944,86.29805768519354 255.7326540331788,84.85345282327347 254.9631197804843,83.41770450825724 254.17693230583043,81.99100711748393 253.37419804641632,80.57355380294236 252.55502567961094,79.16553646512139 251.7195261082398,77.7671457270297 250.8678124455706,76.37857090838844 249.99999999999943,75.00000000000043 251.01564865687007,76.27358313271648 252.046047040725,77.53526271196438 253.09105565211715,78.78486792652546 254.15053301360854,80.02222959985677 255.22433568892401,81.24718021299483 256.3123183023703,82.45955392723505 257.4143335585174,83.65918660658362 258.5302322621402,84.8459158399789 259.659863338417,86.0195809632793 260.8030738533826,87.18002308101458 261.95970903463336,88.32708508789783 263.12961229228057,89.46061169009492 264.31262524015034,90.58044942624888 265.5085877172267,91.68644668825604 266.71733780933465,92.77845374179144 267.9387118710608,93.85632274658033 269.17254454790833,94.9199077764135 270.4186687986835,95.96906483890325 271.67691591811,97.00365189497774 272.9471155596694,98.02352887811075 274.2290957586629,99.02855771328447 275.5226829554929,100.01860233568264 276.82770201916003,100.99352870911157 278.14397627097327,101.95320484414644 279.4713275084692,102.8975008160006 280.8095760295379,103.82628878211531 282.1585406567516,104.73944299946756 283.5180387618934,105.63683984159364 284.88788629068205,106.51835781532624 286.26789778769,107.38387757724263 285.25224913081934,106.11029444452657 284.22185074696444,104.84861486527866 283.1768421355723,103.59900965071758 282.11736477408095,102.36164797738627 281.04356209876545,101.1366973642482 279.95557948531916,99.92432365000799 278.85356422917204,98.72469097065942 277.73766552554923,97.53796173726414 276.60803444927245,96.36429661396375 275.4648239343068,95.20385449622846 274.3081887530561,94.05679248934521 273.13828549540887,92.92326588714812 271.9552725475391,91.80342815099416 270.75931007046273,90.69743088898699 269.5505599783548,89.60542383545159 268.32918591662866,88.5275548306627 267.0953532397811,87.46396980082953 265.849228989006,86.41481273833978 264.5909818695795,85.38022568226528 263.3207822280201,84.36034869913226 262.0388020290266,83.35531986395853 260.74521483219667,82.36527524156034 259.4401957685295,81.39034886813141 258.1239215167163,80.43067273309654 256.79657027922036,79.48637676124238 255.4583217581517,78.55758879512767 254.109357130938,77.64443457777543 252.7498590257962,76.74703773564934 251.38001149700756,75.86551976191674 249.9999999999996,75.00000000000034 251.46765483226685,75.70678531639038 252.94343395106944,76.3964462349933 254.42713755953824,77.06888938676052 255.91856478795512,77.7240237336534 257.4175137209474,78.36176058096846 258.92378142482397,78.98201358934517 260.4371639750494,79.58469878645491 261.95745648385184,80.16973457836947 263.4844531279618,80.73704176060762 265.01794717647704,81.28654352885808 266.55773101885086,81.81816548937756 268.1035961929991,82.33183566906258 269.65533341352267,82.8274845251934 271.21273260004136,83.305044954849 272.7755829056355,83.76445230399176 274.34367274539096,84.20564437622059 275.91678982504476,84.6285614411913 277.494721169726,85.03314624270314 279.0772531527894,85.4193440064504 280.6641715247369,85.78710244743795 282.2552614422235,86.13637177705975 283.85030749714383,86.46710470983953 285.44909374579476,86.7792564698324 287.0514037381109,87.07278479668685 288.6570205469682,87.34764995136605 290.2657267975528,87.603814721528 291.87730469678974,87.84124442656336 293.4915360628288,88.05990692229075 295.1082023545829,88.25977260530848 296.7270847013149,88.44081441700244 295.2594298690476,87.7340291006124 293.78365075024504,87.04436818200948 292.2999471417762,86.37192503024227 290.80851991335936,85.71679068334939 289.3095709803671,85.07905383603432 287.8033032764905,84.45880082765761 286.2899207262651,83.85611563054788 284.76962821746264,83.2710798386333 283.2426315733527,82.70377265639515 281.70913752483744,82.1542708881447 280.1693536824636,81.6226489276252 278.6234885083154,81.10897874794018 277.0717512877918,80.61332989180937 275.5143521012731,80.13576946215377 273.951501795679,79.67636211301101 272.3834119559235,79.23517004078218 270.8102948762697,78.81225297581146 269.2323635315885,78.4076681742996 267.64983154852507,78.02147041055233 266.0629131765776,77.65371196956478 264.47182325909097,77.30444263994296 262.87677720417065,76.97370970716318 261.2779909555197,76.66155794717031 259.6756809632036,76.36802962031587 258.07006415434626,76.09316446563665 256.46135790376167,75.8369996954747 254.84978000452477,75.59956999043933 253.23554863848574,75.38090749471193 251.61888234673168,75.18104181169419 249.99999999999966,75.00000000000023\" />'\n",
       "\n",
       "</svg>"
      ],
      "text/plain": [
       "<IPython.core.display.HTML object>"
      ]
     },
     "metadata": {},
     "output_type": "display_data"
    }
   ],
   "source": [
    "from jupyturtle import get_turtle\n",
    "\n",
    "with make_turtle():\n",
    "    hide()\n",
    "    jump(100)\n",
    "    flower(14, 140.0, 20.0)"
   ]
  },
  {
   "cell_type": "markdown",
   "id": "9d9f35d1",
   "metadata": {
    "id": "9d9f35d1"
   },
   "source": [
    "### Ask an assistant\n",
    "\n",
    "Draw a spiral:"
   ]
  },
  {
   "cell_type": "code",
   "execution_count": 43,
   "id": "46d3151c",
   "metadata": {
    "id": "46d3151c",
    "outputId": "47731432-91f7-4efc-d6da-077dd95234f8"
   },
   "outputs": [
    {
     "data": {
      "text/html": [
       "<svg width=\"300\" height=\"150\" style=\"fill:none;\">\n",
       "    <rect width=\"100%\" height=\"100%\" fill=\"#F3F3F7\" />\n",
       "\n",
       "\n",
       "<path stroke=\"#663399\" stroke-width=\"2\" d=\"M 150,75 155.0,75.0 155.0,82.0 146.0,82.0 146.0,71.0 159.0,71.0 159.0,86.0 142.0,86.0 142.0,67.0 163.0,67.0 163.0,90.0 138.0,90.0 138.0,63.0 167.0,63.0 167.0,94.0 134.0,94.0 134.0,59.0 171.0,59.0 171.0,98.0 130.0,98.0 130.0,55.0 175.0,55.0 175.0,102.0 126.0,102.0 125.99999999999999,51.0 179.0,51.0 179.0,106.0 122.0,106.0 121.99999999999999,47.0 183.0,47.0 183.0,110.0 118.0,110.00000000000001 117.99999999999999,43.000000000000014 187.0,43.000000000000014 187.0,114.00000000000001 114.0,114.00000000000003 113.99999999999999,39.00000000000003 191.0,39.00000000000003 191.0,118.00000000000003 110.0,118.00000000000004 109.99999999999999,35.00000000000004 195.0,35.00000000000004 195.0,122.00000000000004 106.0,122.00000000000006 105.99999999999999,31.000000000000057 199.0,31.000000000000057 199.0,126.00000000000006 102.0,126.00000000000007 101.99999999999999,27.00000000000007 203.0,27.00000000000007 203.0,130.00000000000006 98.0,130.00000000000006 97.99999999999999,23.000000000000057 207.0,23.000000000000057 207.0,134.00000000000006 94.0,134.00000000000006 93.99999999999999,19.000000000000057 211.0,19.000000000000057 211.0,138.00000000000006 90.0,138.00000000000009 89.99999999999997,15.000000000000085 214.99999999999997,15.000000000000085 214.99999999999997,142.00000000000009 85.99999999999997,142.0000000000001 85.99999999999994,11.000000000000114 218.99999999999994,11.000000000000114 218.99999999999994,146.0000000000001 81.99999999999994,146.00000000000014 81.99999999999991,7.000000000000142 222.99999999999991,7.000000000000142 222.99999999999991,150.00000000000014 77.99999999999991,150.00000000000017 77.99999999999989,3.0000000000001705 226.9999999999999,3.0000000000001705 226.9999999999999,154.00000000000017 73.99999999999989,154.0000000000002 73.99999999999986,-0.999999999999801 230.99999999999986,-0.999999999999801 230.99999999999986,158.0000000000002 69.99999999999986,158.00000000000023 69.99999999999983,-4.999999999999773 234.99999999999983,-4.999999999999773 234.99999999999983,162.00000000000023 65.99999999999983,162.00000000000026 65.9999999999998,-8.999999999999744 238.9999999999998,-8.999999999999744 238.9999999999998,166.00000000000026 61.9999999999998,166.00000000000028 61.999999999999766,-12.999999999999716 242.99999999999977,-12.999999999999716 242.99999999999977,170.00000000000028 57.99999999999977,170.0000000000003 57.99999999999974,-16.999999999999687 246.99999999999974,-16.999999999999687 246.99999999999974,174.0000000000003 53.999999999999744,174.00000000000034 53.99999999999971,-20.99999999999966 250.99999999999972,-20.99999999999966 250.99999999999972,178.00000000000034 49.999999999999716,178.00000000000037 49.99999999999968,-24.99999999999963\" />'\n",
       "\n",
       "<g transform=\"rotate(-90.0,50.0,-25.0) translate(50.0, -25.0)\">\n",
       "    <circle stroke=\"#63A375\" stroke-width=\"2\" fill=\"transparent\" r=\"5.5\" cx=\"0\" cy=\"0\"/>\n",
       "    <polygon points=\"0,12 2,9 -2,9\" style=\"fill:#63A375;stroke:#63A375;stroke-width:2\"/>\n",
       "</g>\n",
       "\n",
       "</svg>"
      ],
      "text/plain": [
       "<IPython.core.display.HTML object>"
      ]
     },
     "metadata": {},
     "output_type": "display_data"
    }
   ],
   "source": [
    "# Solution\n",
    "\n",
    "from jupyturtle import make_turtle, forward, right\n",
    "\n",
    "make_turtle(delay=0.01)\n",
    "\n",
    "def spiral(length, angle):\n",
    "    for _ in range(100):\n",
    "        forward(length)\n",
    "        right(angle)\n",
    "        length += 2  # Increase the length for each segment\n",
    "\n",
    "spiral(5, 90)"
   ]
  },
  {
   "cell_type": "code",
   "execution_count": 44,
   "id": "186c7fbc",
   "metadata": {
    "id": "186c7fbc",
    "outputId": "45628c53-a3b4-482e-dbf0-32a4ac0edaf9"
   },
   "outputs": [
    {
     "data": {
      "text/html": [
       "<svg width=\"300\" height=\"150\" style=\"fill:none;\">\n",
       "    <rect width=\"100%\" height=\"100%\" fill=\"#F3F3F7\" />\n",
       "\n",
       "\n",
       "<path stroke=\"#663399\" stroke-width=\"2\" d=\"M 150,75 150.87266462599717,75.0 151.74694140437484,74.98473944206819 152.6225629587496,74.95416206360586 153.49926044022266,74.90821629549883 154.37676360992148,74.84685529637147 155.25480092228838,74.7700369853866 156.13309960909035,74.67772407357543 157.01138576412424,74.56988409368249 157.88938442859106,74.44648942851073 158.76681967711252,74.30751733775264 159.64341470436327,74.15294998329347 160.51889191229134,73.98277445297339 161.39297299789968,73.79698278279568 162.2653790415607,73.59557197756865 163.13583059583615,73.3785440299694 164.00404777477388,73.14590593801822 164.86975034365318,72.89766972095254 165.73265780914983,72.63385243349047 166.59248950989212,72.35447617847386 167.4489647073785,72.05956811788157 168.30180267722776,71.74916048220443 169.15072280073176,71.42329057817342 169.99544465668166,71.08200079483352 170.83568811343696,70.72533860795599 171.67117342120804,70.35335658278247 172.50162130452134,69.96611237509487 173.3267530548371,69.56366873060547 174.14629062328933,69.14609348266227 174.9599567135169,68.71345954826513 175.76747487455543,68.26584492238898 176.56856959375887,67.80333267061049 177.3629663897199,67.32601092003583 178.1503919051581,66.8339728485271 178.93057399974475,66.32731667222579 179.7032418428331,65.80614563137243 180.46812600606287,65.27056797442172 181.2249585558076,64.72069694045345 181.97347314543364,64.15665073987971 182.71340510733953,63.57855253344973 183.44449154474398,62.98653040955418 184.16647142319175,62.380717359831245 184.8790856617454,61.76125125307756 185.58207722383204,61.12827480746747 186.27519120771376,60.48193556108479 186.95817493654997,59.82238584077177 187.63077804802117,59.149782729300576 188.29275258348238,58.46428803087305 188.94385307661557,57.76606823495537 189.58383664154977,57.055294478454464 190.21246306041812,56.33214250624385 190.8294948703211,55.596792630047055 191.43469744966515,54.8494296856874 192.0278391038461,54.090242988713335 192.608691150247,53.31942628840941 193.1770280025202,52.53717772020312 193.73262725412326,51.74369975647878 194.2752697610792,50.93919915581001 194.80473972393065,50.123886910622836 195.32082476885898,49.29797819330233 195.82331602793852,48.46169230075578 196.31200821849694,47.61525259744648 196.78669972155276,46.75888645691222 197.24719265930122,45.892825201783616 197.69329297162005,45.01730404231756 198.12481049156685,44.132562013461865 198.54155901984018,43.23884191046756 198.94335639817646,42.33639022306596 199.33002458165555,41.42545706822798 199.70138970988748,40.50629612152389 200.0572821770538,39.579164547102046 200.3975367007768,38.644322926305755 200.72199238979067,37.70203518494788 201.03049281038815,36.75256851926334 201.32288605161787,35.796193320560086 201.59902478920645,34.8331830985897 201.8587663481811,33.86381440365921 202.10197276416778,32.888366747506176 202.32851084334126,31.90712252295956 202.5382522210028,30.920366922409524 202.73107341876275,29.92838785510942 202.90685590030455,28.93147586333407 203.0654861257082,27.929924037418605 203.20685560431048,26.924027929702678 203.33086094608086,25.914085467405314 203.43740391149137,24.90039686445602 203.52639145985998,23.883264532308225 203.59773579614696,22.862992989761565 203.6513544161844,21.83988877181984 203.68717015031956,20.81426033761195 203.70511120545297,19.786417977403467 203.70511120545297,18.75667371872681 203.6871092299286,17.725341231658533 203.65104985134354,16.69273573327236 203.59688317045394,15.65917389129716 203.52456485005382,14.624973727009248 203.43405614701223,13.590454517388842 203.32532394258644,12.555936696570726 203.19834077099654,11.521741756619566 203.05308484624712,10.488192147660587 202.8895400871821,9.45561117739662 202.70769614075954,8.42432291004281 202.50754840353378,7.394652064710575 202.28909804133264,6.366923913272647 202.0523520071184,5.341464177741264 201.79732305702123,4.3185989271918945 201.52402976453487,3.2986544742650343 201.2324965328647,2.2819572712788787 200.92275360541893,1.2688338059859006 200.5948370744342,0.25961049700652805 200.24878888772764,-0.7453864110266517 199.88465685356792,-1.745830952580579 199.50249464365822,-2.7413975465555303 199.10236179422523,-3.731761101807122 198.68432370520816,-4.716597122822436 198.248451637543,-5.695581815516048 197.79482270853754,-6.668392193111618 197.32351988533324,-7.634706182074578 196.83463197645096,-8.594202728061354 196.32825362141796,-9.54656190185046 195.80448527847403,-10.491465005220704 195.2634332103558,-11.428594676741719 194.70520946815833,-12.357634997441908 194.12993187327405,-13.278271596318895 193.53772399740967,-14.190191755657509 192.92871514068216,-15.093084516120307 192.3030403077958,-15.986640781575641 191.66084018230302,-16.87055342362824 191.00226109895155,-17.74451738581732 190.3274550141225,-18.608229787447232 189.63657947436312,-19.461390027015703 188.9297975830197,-20.303699885204757 188.20727796497613,-21.134863627399476 187.46919472950458,-21.954588105699795 186.71572743123528,-22.762582860390637 185.94706102925284,-23.558560220835787 185.16338584432768,-24.342235405760945 184.36489751429121,-25.113326622891602 183.5517969475644,-25.87155516791143 182.72429027484986,-26.61664552270707 181.88258879899817,-27.348325452865303 181.02690894306008,-28.066326104388782 180.15747219653642,-28.770382099596667 179.27450505983833,-29.46023163217668 178.37823898697138,-30.1356165613553 177.4689103264572,-30.796282505153 176.5467602605073,-31.441978932691704 175.6120347424641,-32.07245925552181 174.66498443252496,-32.68748091793634 173.70586463176565,-33.28680548624021 172.73493521447995,-33.87019873694257 171.75246055885307,-34.43743074384073 170.7587094759871,-34.98827596396432 169.75395513729697,-35.52251332234865 168.73847500029638,-36.03992629560654 167.7125507327935,-36.54030299426826 166.6764681355169,-37.02343624385945 165.63051706319277,-37.48912366468737 164.5749913440948,-37.937167750305996 163.510188698089,-38.36737594463101 162.43641065319622,-38.77956071767599 161.35396246069524,-39.1735396398816 160.2631530087906,-39.54913545500973 159.16429473486897,-39.90617615157536 158.0577035363694,-40.24449503278879 156.94369868029216,-40.56393078498184 155.82260271137255,-40.86432754449164 154.6947413589456,-41.14553496297626 153.56044344252865,-41.40740827113694 152.42004077614902,-41.64980834082191 151.27386807144475,-41.87260174548754 150.12226283956633,-42.07566081899274 148.96556529190838,-42.25886371270331 147.8041182397003,-42.422094450883264 146.63826699248568,-42.56524298435062 145.46835925552023,-42.68820524237577 144.29474502611893,-42.790883182801096 143.1177764889832,-42.873184840360814 141.93780791053933,-42.93502437318082 140.75519553232004,-42.976322107438705 139.57029746342096,-42.997004580164656 138.38347357206482,-42.997004580164656 137.19508537630594,-42.97626118704776 136.00549593390835,-42.93471980833998 134.815069731431,-42.87233221466779 133.62417257255402,-42.789056572994944 132.43317146568012,-42.68485747789665 131.24243451084584,-42.559705980856215 130.05233078597743,-42.41357961756933 128.8632302325263,-42.246462433242236 127.67550354051983,-42.05834500587028 126.48952203306295,-41.84922446748433 125.30565755032656,-41.61910452335287 124.12428233305904,-41.36799546912831 122.9457689056573,-41.09591420592688 121.77048995883402,-40.8028842533318 120.59881823191805,-40.488935760310284 119.43112639482504,-40.15410551403564 118.26778692973575,-39.79843694660614 117.10917201251931,-39.42198013965326 115.95565339393936,-39.024791826832434 114.80760228068075,-38.606935394190124 113.66538921623487,-38.16848087840176 112.52938396168157,-37.709504962875684 111.39995537640627,-37.23009097171907 110.27747129879015,-36.73032886156228 109.1622984269123,-36.210315211238935 108.05480219930216,-35.670153209319714 106.95534667578085,-35.10995263949839 105.86429441843022,-34.52982986382952 104.78200637272828,-33.929907803817805 103.7088417488897,-33.31031591935982 102.64515790345035,-32.67119018553952 101.59131022113458,-32.01267306727972 100.547651997044,-31.334913491852273 99.51453431920676,-30.63806681925059 98.49230595152586,-29.922294810428617 97.4813132171654,-29.187765593411306 96.48189988241329,-28.43465362728212 95.49440704105935,-27.66313966405401 94.51917299932687,-26.873410708430818 93.55653316139653,-26.06565997546691 92.60681991556073,-25.24008684613345 91.67036252104677,-24.39689682080046 90.74748699554681,-23.536301470644524 89.83851600349273,-22.65851838699265 88.94376874511362,-21.763771128613538 88.06356084631354,-20.852289166968152 87.19820424940708,-19.92430782943223 86.34800710475,-18.98006824050402 85.51327366330187,-18.019817261011237 84.6943041701579,-17.043807425331863 83.89139475908621,-16.05229687664419 83.10483734810714,-15.045549300222069 82.3349195361508,-14.023833854792098 81.58192450082859,-12.987425101970047 80.84613089735426,-11.93660293379458 80.12781275865,-10.871652498376928 79.42723939667239,-9.792864123685833 78.744675304993,-8.700533239487745 78.08038006266781,-7.594960297462891 77.43460823942992,-6.476450689518463 76.80760930223856,-5.345314664320812 76.19962752321835,-4.201867242069176 75.6109018890214,-3.046428127534055 75.04166601164478,-1.8793216213839956 74.49214804073571,-0.700876529825144 73.96257057741616,0.4885739274214824 73.453150589658,1.688692210779449 72.9640993292399,2.8991365560869404 72.49562225031625,4.11956107145066 72.04791892962805,5.349615835656298 71.62118298838566,6.588946998107713 71.2156020158519,7.837196880266401 70.83135749465475,9.094004078562293 70.46862472785722,10.359003568746376 70.12757276781227,11.631826811655092 69.80836434682973,12.912101860355946 69.51115580968185,14.19945346864326 69.23609704797344,15.493503200852468 68.98333143640212,16.793869542960884 68.75299577093355,18.100168014942366 68.54522020891605,19.41201128434282 68.36012821115843,20.729009281043044 68.1978364859941,22.050769313174918 68.05845493535432,23.376896184156518 67.94208660287228,24.706992310811316 67.84882762403981,26.04065784253612 67.77876717843723,27.37749078148211 67.73198744405663,28.717087103712807 67.70856355373813,30.059040881302483 67.70856355373813,31.402944405338108 67.73204836444756,32.74838830978757 67.77907174327808,34.094961696196556 67.84968024973283,35.44225225917602 67.94391321267842,36.78984641264208 68.06180269983342,38.13732941676948 68.2033734894885,39.4842855056199 68.36864304447235,40.83029801540557 68.55762148837712,42.17494951334884 68.770311584056,43.51782192709779 69.00670871440533,44.85849667465773 69.26680086544249,46.196554794798274 69.55056861169048,47.53157707789537 69.8579851038791,48.86314419716745 70.1890160589721,50.19083684026463 70.54361975252877,51.514235841169715 70.9217470134079,52.83292231236957 71.32334122082112,54.14647777725518 71.74833830374213,55.45448430270869 72.19666674267722,56.75652463183541 72.6682475738021,58.05218231679868 73.16299439546914,59.3410418517155 73.6808133770883,60.62268880557049 74.22160327038445,61.896709955105784 74.78525542303286,63.16269341764441 75.37165379467407,64.42022878380452 75.9806749753082,65.66890725006184 76.6121882060686,66.90832175111767 77.26605540237334,68.1380670920298 77.94213117945283,69.35774008006342 78.64026288025056,70.56693965621956 79.36029060569368,71.76526702639805 80.10204724732901,72.9523257921526 80.86535852231953,74.12772208099514 81.65004301079537,75.29106467620682 82.45591219555297,76.44196514611328 83.2827705040948,77.58003797278162 84.1304153530017,78.70490068009674 84.99863719462887,79.81617396117471 85.88721956611587,80.91348180507119 86.79593914070027,81.99645162274281 87.72456578132362,83.06471437221968 88.67286259651806,84.1179046829473 89.64058599856062,85.15566097925638 90.62748576388192,86.17762560291939 91.63330509571499,87.18344493475246 92.6577806889693,88.17276951522197 93.70064279731434,89.14525416401506 94.76161530245619,90.1005580985336 95.84041578559005,91.0383450512716 96.93675560101072,91.95828338603604 98.0503399518624,92.86004621297155 99.18086796800854,93.74331150234968 100.32803278600153,94.60776219708373 101.49152163113145,95.45308632393046 102.67101590153247,96.27897710334042 103.86619125432456,97.08513305791884 105.07671769376762,97.8712581194595 106.30225966140449,98.63706173451443 107.5424761281685,99.38225896846242 108.7970206884305,100.10657060804006 110.06554165595983,100.8097232622992 111.34768216177298,101.49144946195527 112.64308025384263,102.15148775709129 113.95136899863986,102.78958281318283 115.27217658448099,103.40548550540976 116.60512642665012,103.99895301122095 117.94983727426808,104.56974890111864 119.30592331887726,105.11764322762981 120.67299430471192,105.64241261243215 122.05065564062222,106.14384033160292 123.4385085136204,106.62171639895959 124.83615000401616,107.07583764746148 126.24317320210837,107.50600780864235 127.6591673263993,107.91203759004436 129.08371784329714,108.29374475062447 130.5164065882719,108.65095417410492 131.95681188842957,108.98349794024 133.40450868646835,109.29121539397183 134.8590686659809,109.57395321244883 136.32006037806545,109.83156546988079 137.7870493692084,110.06391370020522 139.25959831040078,110.27086695754052 140.7372671274499,110.45230187440181 142.21961313244765,110.60810271765624 143.70619115635594,110.73816144219498 145.19655368266982,110.84237774230019 146.69025098211793,110.92065910068534 148.18683124836002,110.97292083518867 149.6858407346403,110.99908614309972 151.1868238913554,110.99908614309972 152.68932350449546,110.97285991479774 154.19288083491585,110.9203545358445 155.69703575839745,110.84152511660717 157.20132690645258,110.73633483238883 158.70529180783348,110.60475495317712 160.20846703070004,110.44676487090742 161.71038832540296,110.2623521242266 163.21059076783837,110.05151242074416 164.7086089033298,109.81424965675835 166.2039768909928,109.55057593444563 167.6962286485375,109.2605115765028 169.1848979974642,108.94408513823139 170.66951880860663,108.60133341705557 172.1496251479777,108.23230145946465 173.6247514228719,107.83704256537283 175.0944325281786,107.41561828988922 176.5582039928605,106.96809844249228 178.0156021265511,106.49456108360313 179.4661641662246,105.99509251855378 180.90942842289252,105.4697872889463 182.34493442828028,104.91874816140059 183.77222308143698,104.34208611368835 185.19083679523226,103.73992031825267 186.6003196426934,103.11237812311262 188.0002175031358,102.45959503015354 189.39007820804028,101.78171467080449 190.76945168663065,101.07888877910504 192.1378901111043,100.35127716216444 193.49494804146963,99.59904766801718 194.84018256994332,98.8223761508797 196.17315346486097,98.02144643381376 197.49342331405433,97.19645026880289 198.8005576676488,96.34758729424931 200.0941251802349,95.47506498989931 201.37369775236692,94.57909862920609 202.63885067134314,93.65991122913974 203.88916275122128,92.71773349745511 205.12421647202328,91.75280377742888 206.34359811808375,90.76536799007806 207.54689791549666,89.7556795738732 208.7337101686146,88.72399942195996 209.90363339555586,87.67059581690407 211.05627046267406,86.59574436297488 212.191228717946,85.49972791598415 213.308120123233,84.38283651069713 214.40656138537196,83.2453672858339 215.48617408605168,82.08762440667974 216.54658481043165,80.90991898532424 217.58742527445955,79.7125689985493 218.60833245084447,78.49589920338735 219.6089486936438,77.26024105037168 220.588921861421,76.0059325945015 221.54790543893276,74.73331840394549 222.485558657304,73.44274946650769 223.4015466126496,72.1345830938811 224.29554038310218,70.80918282371458 225.16721714420592,69.46691831951956 226.01626028263638,68.10816526844391 226.84235950820718,66.73330527694075 227.64521096412457,65.3427257643612 228.4245173354515,63.93681985450017 229.17998795574343,62.51598626512551 229.91133891181852,61.08062919552133 230.61829314662498,59.63115821207692 231.30058056016978,58.16798813195353 231.9579381084726,56.691538904861886 232.59010990050984,55.202235492983945 233.1968472931141,53.70050774907306 233.7779089837951,52.186790292767476 234.33306110144844,50.6615223851525 234.86207729491937,49.125147801607554 235.3647388193894,47.57811470297473 235.840834620554,46.02087550508621 236.2901614165605,44.45388674668843 236.71252377767576,42.87760895580149 237.10773420365413,41.29250651455283 237.47561319877641,39.69904752252482 237.81598934453166,38.09770365865645 238.12869936991436,36.48895004173973 238.4135882193097,34.87326508955212 238.67050911794107,33.25113037666669 238.89932363485403,31.623030490982174 239.0999017434123,29.9894528890158 239.27212187928134,28.350887750001903 239.4158709958768,26.70782782884011 239.53104461725474,25.06076830793717 239.61754688842245,23.41020664798692 239.6752906230485,21.75664243773342 239.7041973485521,20.10057724276256 239.7041973485521,18.442514453367977 239.6752297026576,16.78295913153733 239.61724232358162,15.122417857105543 239.53019199156174,13.46139857312182 239.41404438607066,11.80041043047763 239.26877411480223,10.139963631843228 239.0943647399179,8.480569274960509 238.89080880154012,6.82273919534034 238.65810783848,5.166985808412779 238.39627240618725,3.513821951178846 238.10532209191115,1.863760723412781 237.78528552706263,0.21731532846393353 237.4362003967678,-1.425001086292326 237.05811344660478,-3.0626755893050994 236.65108048651592,-4.695195624950086 236.21516639188894,-6.322049173833394 235.75044510180086,-7.942724913246937 235.2569996144202,-9.556712377725175 234.73492197956293,-11.16350211965283 234.1843132883993,-12.762585869873078 233.60528366030925,-14.353456698245685 232.99795222688488,-15.935609174104373 232.36244711307955,-17.508539526562753 231.69890541550436,-19.071745804618025 231.00747317787267,-20.62472803700167 230.28830536359573,-22.166988391726324 229.54156582553176,-23.698031335277996 228.76742727289326,-25.217363791402896 227.96607123531678,-26.72449529943805 227.13768802410175,-28.21893817213506 226.28247669062455,-29.700207652926313 225.40064498193578,-31.167822072583103 224.49240929354937,-32.62130300521523 223.55799461943272,-34.06017542356168 222.59763449920857,-35.483967853522216 221.61157096257972,-36.89221252787979 220.60005447098885,-38.28444553916389 219.56334385652653,-39.660206991605044 218.50170625810122,-41.01904115213106 217.41541705488657,-42.360496600355546 216.30475979706122,-43.68412637750975 215.1700261338581,-44.98948813426878 214.01151573894077,-46.27614427742368 212.82953623312497,-47.543662115351 211.62440310446482,-48.79161400223185 210.39643962572384,-50.01957748097282 209.1459767692517,-51.22713542478118 207.87335311928842,-52.41387617734751 206.57891478171928,-53.57939369158894 205.26301529130325,-54.723287666906714 203.9260155164,-55.84516368491212 202.56828356122034,-56.94463334357527 201.19019466562614,-58.02131438975153 199.7921311025071,-59.07483085004102 198.37448207276145,-60.10481315993679 196.9376435979093,-61.11089829121801 195.48201841036834,-62.092729877544734 194.00801584142135,-63.04995833821153 192.51605170690692,-63.98224100001753 191.00654819066463,-64.88924221721116 189.47993372576752,-65.77063348946828 187.9366428735748,-66.62609357786296 186.37711620063865,-67.45530861879077 184.80180015349995,-68.2579722358049 183.21114693140836,-69.03378564932626 181.6056143570027,-69.78245778418894 179.98566574498855,-70.50370537498338 178.35176976885063,-71.19725306916014 176.70440032563806,-71.86283352785749 175.04403639886155,-72.50018752441717 173.3711619195419,-73.1090640405531 171.68626562545018,-73.6892203601383 169.98984091858028,-74.24042216057646 168.28238572089546,-74.76244360172477 166.56440232839083,-75.25506741233573 164.83639726351478,-75.71808497398617 163.09888112599222,-76.15129640246246 161.35236844209388,-76.55451062657193 159.59737751239592,-76.9275454643506 157.83443025807506,-77.27022769663898 156.06405206578438,-77.58239313799771 154.28677163115645,-77.86388670493601 152.5031208009798,-78.11456248142665 150.71363441409616,-78.33428378168188 148.91885014106612,-78.52292321016556 147.11930832265082,-78.68036271881772 145.3155518071588,-78.80649366146841 143.50812578670644,-78.9012168454187 141.69757763244155,-78.9644425801675 139.8844567287801,-78.99609072326362 138.06931430670602,-78.99609072326362 136.25270327618477,-78.96438165977655 134.43517805774158,-78.90091228057786 132.61729441325573,-78.8056410357754 130.79960927602247,-78.67853610901157 128.98268058013457,-78.51957544568644 127.1670670892357,-78.32874677818747 125.35332822469829,-78.1060476481127 123.54202389327858,-77.85148542547492 121.73371431430216,-77.56507732487525 119.92895984643303,-77.24685041863577 118.12832081408003,-76.89684164688155 116.33235733349419,-76.5150978245633 114.54162913861107,-76.10167564541308 112.75669540669219,-75.65664168282632 110.97811458381977,-75.18007238766417 109.20644421029938,-74.67205408297161 107.44224074602482,-74.13268295560722 105.6860593958601,-73.5620650447818 103.93845393509308,-72.96031622750391 102.19997653501581,-72.32756220093128 100.47117758868619,-71.66393846162822 98.75260553692611,-70.96959028172981 97.04480669461086,-70.24467268201506 95.34832507730471,-69.48935040189174 93.66370222829778,-68.70379786629692 91.99147704609894,-67.88819914951806 90.3321856124395,-67.04274793594048 88.68636102084284,-66.16764747772814 87.05453320581414,-65.26311054944533 85.43722877270532,-64.32935939962839 83.83497082830938,-63.36662569931681 82.24827881223847,-62.375150487554876 80.67766832914006,-61.35518411387516 79.12365098180508,-60.30698617777685 77.58673420522194,-59.23082546521237 76.06742110162998,-58.12697988209699 74.5662102766258,-56.99573638485694 73.08359567637577,-55.83739090803258 71.62006642598728,-54.65224828895413 70.17610666909178,-53.44062218950829 68.75219540869166,-52.20283501501528 67.34880634932311,-50.9392178302365 65.96640774058667,-49.650110272534064 64.60546222209689,-48.33586046220449 63.26642666990197,-46.996824910009565 61.94975204442418,-45.63336842192847 60.655883239971224,-44.24586400115608 59.38525893586834,-42.83469274737329 58.138311449260684,-41.40024375331619 56.91546658963479,-39.94291399867167 55.71714351510783,-38.46310824132799 54.54375459053251,-36.96123890600977 53.39570524746531,-35.437725970327726 52.273393846045025,-33.89299684827418 51.17721153882818,-32.32748627119647 50.107542136627295,-30.741636166281083 49.06476197639743,-29.135895532582154 48.049239791215896,-27.510720314628927 47.06133658239945,-25.86657327364747 46.10140549380259,-24.20392385643281 45.16979168834013,-22.523248061908394 44.26683222677646,-20.82502830541071 43.39285594882326,-19.109753280737472 42.54818335658699,-17.377917819998704 41.73312650040645,-15.630022751310772 40.94798886712037,-13.866574754374113 40.19306527080408,-12.088086213976192 39.46864174601365,-10.295075071461916 38.77499544357529,-8.488064674214463 38.11239452895679,-6.667583623190149 37.48109808325732,-4.834165618551667 36.88135600685103,-2.9883493034447026 36.31340892571899,-1.1306781059635544 35.77748810050355,0.7382999206479128 35.27381533831796,2.618032259513072 34.80260290734374,4.507962093309541 34.36405345424708,6.40752846907824 33.958359924444984,8.316166464605775 33.58570548525091,10.233307356330801 33.246263451928804,12.158378788724534 32.94019721668358,14.090804945094948 32.667660180615265,16.03000671976375 32.428795688663065,17.975401891564626 32.22373696756475,19.926405298610824 32.05260706685587,21.88242901427961 31.915518802932436,23.842882524360686 31.81257470619957,25.80717290531519 31.74386697132805,27.774705003591496 31.70947741063939,29.744881615943537 31.70947741063939,31.717103670697085 31.743927891718997,33.690770409908914 31.81287927104042,35.6652795723635 31.916371428625457,37.64002757735148 32.05443367666202,39.614409709173806 32.22708473204386,41.5878203023152 32.43433269215747,43.55965292723022 32.676175013929196,45.52930057668489 32.95259849614465,47.49615585259674 33.26357926505126,49.459611153315656 33.60908276325412,51.419058861287844 33.98906374191403,53.373891531045 34.403466256255705,55.32350207746042 34.85222366439311,57.26728396421389 35.33525862947779,59.20463139240668 35.8524831251751,61.13493948926821 36.40379844447213,63.05760449689545 36.98909521182024,64.97202396096631 37.60825339861379,66.8775969193681 38.26114234200595,68.77372409068188 38.94762076706115,70.65980806246382 39.66753681224289,72.53525347926438 40.42072805823438,74.39946723032615 41.20702156008866,76.2518586369014 42.026233882703615,78.09183963913007 42.878171139616306,79.91882498241927 43.76262903511008,81.7322324032653 44.67939290962672,83.53148281445925 45.62823778847494,85.31600048961744 46.60892843382552,87.08521324697783 47.62121939998221,88.8385526324042 48.6648550919166,90.5754541015393 49.73956982705407,92.29535720104899 50.84508790029685,93.99770574889935 51.981123652269325,95.68194801360876 53.14738154076944,97.34753689241747 54.343556215409336,98.99393008831731 55.569332595427106,100.6205902858845 56.82438595065052,102.22698532585856 58.10838198559279,103.81258837841105 59.420976926659115,105.37687811504783 60.761817612442,106.91933887908903 62.130541587082234,108.43946085467122 63.5267771966713,109.93674023421677 64.9501436886703,111.41067938431549 66.40025131431918,112.86078700996437 67.87670143400919,114.28657831711158 69.3790866255907,115.68757517345117 70.90699079558713,117.0633062674155 72.4599892932853,118.41330726531305 74.03764902767111,119.73712096655943 75.6395285871788,121.03429745695021 77.26517836222105,122.30439425992459 78.91414067046611,123.5469764857695 80.58594988482753,124.76161697871431 82.2801325641308,125.94789646186679 83.99620758642062,127.10540367994183 85.73368628487151,128.23373553973477 87.49207258626352,129.33249724829184 89.27086315198412,130.40130244873112 91.06954752151634,131.4397733536677 92.88760825837245,132.44754087619793 94.72452109843165,133.4242447583975 96.57975510063942,134.36953369728977 98.45277280002536,135.28306546824095 100.34303036299556,136.16450704573936 102.24997774485473,137.01353472151706 104.17305884951264,137.8298342199729 106.11171169132861,138.6131008108564 108.06536855904699,139.36303941917342 110.03345618177597,140.0793647322745 112.01539589696122,140.76180130408824 114.01060382030526,141.41008365646266 116.01849101758273,142.02395637757843 118.03846367830104,142.60317421739833 120.0699232911553,143.14750218011906 122.11226682122567,143.6567156135912 124.16488688886471,144.13060029567504 126.22717195022183,144.56895251750055 128.298506479351,144.9715791636003 130.3782711518478,145.3382977888858 132.4658430299607,145.66893669243794 134.56059574912163,145.96333498808391 136.66189970583977,146.22134267173308 138.76912224690213,146.44282068544604 140.88162785982442,146.62764097821162 142.99877836449457,146.7756865634078 145.11993310595122,146.88685157292323 147.2444491482389,146.9610413079175 149.37168146928155,146.9981722861987 151.5009831567146,146.9981722861987 153.63170560461703,146.96098038752655 155.76319871108302,146.8865470080824 157.89481107657312,146.7748339377148 160.02589020298453,146.62581436840549 162.15578269337942,146.43947292096692 164.2838344523106,146.2158056682387 166.40939088668253,145.95482015476998 168.53179710708653,145.65653541297684 170.65039812954794,145.3209819757633 172.7645390776232,144.94820188559706 174.8735653847845,144.53824870003146 176.97682299702953,144.09118749366635 179.07365857565335,143.60709485654175 181.16341970012004,143.08605888895914 183.24545507097068,142.52817919272667 185.31911471270476,141.93356685882515 187.38375017657194,141.30234445149333 189.4387147432108,140.63464598873165 191.48336362507135,139.93061691922523 193.51705416855796,139.19041409568746 195.53914605582946,138.41420574462705 197.54900150619292,137.6021714325425 199.54598547702815,136.75450202854867 201.52946586417931,135.87139966344208 203.49881370175078,134.95307768521153 205.45340336124397,133.99976061100284 207.39261274997247,133.01168407554715 209.31582350869218,131.98909477606307 211.22242120838428,130.9322504136447 213.1117955461282,129.84141963114828 214.98334054000244,128.71688194759108 216.83645472295092,127.55892768907808 218.67054133555325,126.36785791627223 220.48500851763708,125.1439843484256 222.27926949867134,123.88762928398987 224.05274278687907,122.59912551782544 225.80485235700928,121.27881625502995 227.53502783670737,119.92705502140747 229.24270469142385,118.54420557060138 230.9273244078019,117.13064178791457 232.58833467548416,115.68674759084179 234.22518956728,114.21291682634012 235.83734971763468,112.70955316486443 237.42428249934233,111.177069991196 238.98546219844516,109.61589029209318 240.5203701872618,108.02644654079424 242.02849509548798,106.4091805784036 243.50933297931377,104.76454349219352 244.9623874885012,103.09299549085428 246.38717003136807,101.39500577672719 247.78319993762267,99.6710524150555 249.15000461899612,97.92162220028924 250.48711972761876,96.14721051948115 251.7940893120881,94.34832121281185 253.0704659711762,92.52546643128302 254.3158110051254,90.67916649161876 255.5296945644814,88.80994972841592 256.711695796414,86.91835234358513 257.8614029884761,85.00491825312537 258.97841370975243,83.07019893127558 260.06233494935043,81.11475325208778 261.11278325218586,79.13914732846708 262.1293848520172,77.14395434872478 263.1117758016833,75.12975441069165 264.05960210049955,73.09713435343917 264.9725198187689,71.0466875866575 265.85019521936425,68.9790139177396 266.69230487634087,66.89471937662192 267.49853579053655,64.7944160384326 268.26858550212023,62.67872184399895 269.00216220004825,60.548260418266935 269.6989848283908,58.403660886685834 270.3587831894903,56.245557689612056 270.9812980439147,54.074590394786895 271.5662812071706,51.891403507943515 272.11349564314065,49.69664628159924 272.6227155542117,47.49097252208985 273.09372646806065,45.27504039490315 273.5263253210661,43.04951222836982 273.92032053831497,40.81505431576996 274.275532110174,38.57233671591457 274.5917916653977,36.322033052261474 274.86894254074383,34.0648203106261 275.1068398470714,31.8013786355476 275.3053505318937,29.532391125371817 275.4643534383626,27.258543626112605 275.5837393606606,24.98052452415384 275.6634110957776,22.69902453785473 275.7032834916513,20.414736508121507 275.7032834916513,18.128355188009 275.6633501753866,15.840577031415986 275.5834347958197,13.552099980938593 275.4635008126695,11.263623254946353 275.30352392208744,8.975847133945889 275.1034920825922,6.689472746297496 274.8634055372493,4.40520185335018 274.58327683208364,2.1237366340610064 274.26313083071284,-0.1542205308351332 273.9030047251924,-2.427967275039026 273.50294804306276,-4.696801463217341 273.06302265059145,-6.960021407782797 272.58330275220294,-9.216926085857382 272.0638748860911,-11.466815356351542 271.5048379160106,-13.708990177092144 270.906303019243,-15.942752821931894 270.268393670737,-18.16740709777282 269.59124562342146,-20.382258561436313 268.87500688469163,-22.586614736312242 268.11983768907095,-24.77978532871956 267.32591046705056,-26.961082443910843 266.4934098101115,-29.129820801653267 265.6225324319338,-31.28531795131843 264.71348712580044,-33.42689448641366 263.76649471820224,-35.55387425848733 262.7817880186538,-37.66558459034107 261.7596117657302,-39.761356488481454 260.70022256933544,-41.84052485474447 259.6038888492155,-43.90242869702568 258.47089076972935,-45.946411339049455 257.3015201708932,-47.97182062911094 256.0960804957132,-49.97800914772433 254.85488671382464,-51.96433441411159 253.5782652414557,-53.930159091465875 252.26655385773492,-55.87485119092415 250.92010161736354,-57.79778427418397 249.5392687596746,-59.698337654699564 248.1244266141014,-61.57589659739279 246.67595750207985,-63.429852516814904 245.19425463540995,-65.2596031736954 243.67972201110265,-67.06455286981475 242.13277430274,-68.8441126411381 240.55383674837685,-70.59770044914758 238.94334503501454,-72.32474137031137 237.3017451796767,-74.02466778362793 235.6294934071199,-75.69691955618471 233.92705602421202,-77.34094422667077 232.19490929101227,-78.9561971867836 230.43353928858855,-80.54214186047082 228.6434417836082,-82.09824988094813 226.82512208973984,-83.62400126543547 224.97909492590415,-85.11888458755388 223.10588427141386,-86.58239714732639 221.20602321804276,-88.01404513872674 219.28005381906559,-89.41334381472058 217.3285269353112,-90.7798176497443 215.3520020782725,-92.11300049956766 213.3510472503177,-93.41243575848674 211.3262387820481,-94.67767651379486 209.2781611668492,-95.90828569747977 207.20740689268186,-97.10383623509586 205.11457627116238,-98.26391119176164 203.00027726398017,-99.38810391523292 200.86512530670333,-100.47601817600331 198.70974313002304,-101.52726830438431 196.5347605784883,-102.54147932451846 194.3408144267841,-103.51828708527944 192.1285481936062,-104.45733838801434 189.89861195318684,-105.35829111108401 187.6516621445266,-106.2208143311584 185.38836137838828,-107.04458844122463 183.1093782421095,-107.8293052652669 180.81538710229134,-108.57466816957759 178.50706790542125,-109.28039217066079 176.18510597648924,-109.94620403968966 173.85019181565676,-110.57184240348072 171.50302089303858,-111.15705784194868 169.14429344165885,-111.70161298200694 166.77471424864257,-112.2052825878793 164.39499244470508,-112.66785364779044 162.00584129200217,-113.0891254570027 159.60797797040428,-113.46890969716871 157.20212336225904,-113.80703051197004 154.78900183570642,-114.10332457901315 152.36934102661178,-114.35764117795537 149.9438716191825,-114.56984225483437 147.5133271253342,-114.73980248257604 145.0784436628733,-114.86740931765661 142.63995973256277,-114.95256305289631 140.19861599413895,-114.9951768663626 137.75515504134697,-114.9951768663626 135.31032117606335,-114.95250213250537 132.86486018157456,-114.86710475281576 130.41951909508018,-114.73894985688301 127.97504597949064,-114.56801564502821 125.53218969458875,-114.35429341347624 123.09169966762529,-114.09778757551874 120.65432566341887,-113.7985156786561 118.22081755403059,-113.45650841770764 115.79192508808421,-113.07180964388024 113.36839765980284,-112.64447636978724 110.95098407783323,-112.17457877041026 108.54043233392906,-111.66220017999832 106.13748937156456,-111.10743708489933 103.74290085455006,-110.5103991123209 101.35741093572119,-109.87120901501812 98.98176202577342,-109.19000265190766 96.61669456231361,-108.46692896460839 94.26294677920062,-107.70214994991044 91.92125447624653,-106.89584062817548 89.59235078935058,-106.04818900767253 87.27696596113722,-105.15939604485477 84.97582711217036,-104.22967560058403 82.68965801281514,-103.25925439231115 80.41917885581896,-102.2483719422213 78.16510602968296,-101.197280521355 75.9281518928954,-100.1062450897165 73.70902454909785,-98.97554323238268 71.50842762325513,-97.80546509162684 69.32706003889966,-96.59631329507295 67.16561579652061,-95.34840287989704 65.02478375316807,-94.0620612130942 62.90524740334202,-92.73762790783013 60.807684661235776,-91.37545473589815 58.73276764440307,-89.9759055363032 56.68116245891769,-88.53935611999621 54.65352898609422,-87.06619417078277 52.65052067083798,-85.55681914243185 50.67278431169184,-84.01164215201125 48.72095985264735,-82.43108586947753 46.79568017678671,-80.81558440354975 44.897570901822284,-79.1655831838972 43.02725017759915,-77.48153883967262 41.18532848562624,-75.76391907442368 39.37240844070075,-74.0132025374164 37.58908459469002,-72.22987869140567 35.83594324253453,-70.41444767688887 34.113562230535074,-68.56742017288 32.422510766986406,-66.68931725424262 30.763349235219202,-64.78067024562121 29.136629009111378,-62.84202057201154 27.54289227112915,-60.873919606011846 25.982671832957582,-58.87692851179753 24.45649095877951,-56.851618085863414 22.964863191261156,-54.79856859457837 21.5082921803018,-52.71836960859842 20.087271514604286,-50.6116198341853 18.702284556122148,-48.478926941478534 17.353804277438485,-46.32090738977017 16.042293102130763,-44.13818624983212 14.768202748174943,-41.931397023347216 13.531974074441393,-39.701181459496034 12.334036930334237,-37.4481893687523 11.17481000862479,-35.173078433940944 10.054700701528876,-32.87651401861346 8.974104960076858,-30.559168972796453 7.93340715682425,-28.221723436169764 6.932979951949818,-25.864864638731888 5.97318416278706,-23.489286699010826 5.054368636834005,-21.095690419879638 4.176870128285185,-18.684783082036645 3.3410131781286503,-16.257278235211096 2.5471099978498177,-13.813895487155854 1.7954603567828964,-11.35536029048945 1.0863514731495458,-8.8824037274506 0.42005790882332905,-6.395762292628997 -0.20315853214256696,-3.8961776737369145 -0.7830489011880134,-1.384396530486828 -1.3193771990838028,1.1388297283590325 -1.8119204659006283,3.6727451697006677 -2.2604688670762654,6.216589562506648 -2.66482577554921,8.769598605847023 -3.024807849928208,11.331004158484404 -3.340245108668289,13.900034469954285 -3.6109810002251437,16.47591441306508 -3.836872469160856,19.05786571774786 -4.017790018175263,21.64510720618521 -4.153617766038412,24.23685502914823 -4.244253501400844,26.832322903470143 -4.28960873245967,29.43072235058455 -4.28960873245967,32.03126293605602 -4.244192581009898,34.633152510030214 -4.153313201197567,37.23559744853041 -4.016937392482246,39.83780289552691 -3.835045859354707,42.43897300570551 -3.6076332357460275,45.0383111878609 -3.3347081051738887,47.63502034884051 -3.0162930166142785,50.22830313796419 -2.652424496088139,52.817362191844616 -2.2431530539538076,55.40140037953349 -1.7885431878974187,57.97962104791793 -1.2886733816147582,60.55122826729169 -0.7436360991793889,63.11542707702544 -0.1535377750931971,65.67142373126029 0.48150119998316254,68.2184259445487 1.1613464978210981,70.75564313736668 1.8858498755360409,73.2822866814213 2.654849202819035,75.79757014467742 3.4681684934851216,78.3007095360275 4.325617941334347,80.79092354952834 5.226993960319868,83.26743380812897 6.172079229016305,85.72946510681327 7.160642739380124,88.17624565508181 8.19243984979254,90.60700731869701 9.267212342374018,93.02098586061571 10.384688484558186,95.41742118103399 11.544583094911605,97.79555755646872 12.74659761318449,100.1546438778008 13.990420174576187,102.49393388720502 15.275725688197857,104.81268641389218 16.602175919713506,107.11016560858879 17.969419578139167,109.38564117668048 19.377092406778765,111.63838860994531 20.82481727827382,113.86768941680351 22.31220429374292,116.07283135101066 23.83885088598554,118.2531086387216 25.40434192672351,120.40782220385294 27.008249837852148,122.53627989167221 28.650134706671814,124.63779669054237 30.329544405069345,126.71169495175087 32.0460147126176,128.75730460735278 33.79906944356003,130.77396338595827 35.58822057764605,132.76101702639505 37.412968394781615,134.7178194891771 39.27280161345832,136.6437331657115 41.167197532923005,138.5381290851762 43.09562217904873,140.40038711900112 45.05753045386672,142.22989618288722 47.05236628871774,144.02605443629733 49.07956280098023,145.78826947935443 51.13854245433118,147.51595854708273 53.22871722249488,149.20854870092876 55.34948875643322,150.8654770174994 57.50024855493035,152.48619077445517 59.680378138523274,154.07014763349804 61.889249226728786,155.61681582039301 64.12622391851635,157.1256743019647 66.39065487597507,158.5962129600099 68.68188551112222,160.0279327620691 70.99925017579942,161.42034592899964 73.34207435460188,162.7729760992952 75.70967486078474,164.08535849009652 78.10136003508998,165.35704005483956 80.51642994743587,166.58757963748806 82.95417660141052,167.77654812329888 85.41388414150981,168.92352858606876 87.894829063059,170.028116431813 90.39628042475687,171.08991953882696 92.91750006377963,172.1085583940828 95.45774281338174,173.08366622591453 98.0162567229294,174.01488913294594 100.59228328030171,174.90188620921674 103.18505763659402,175.7443296654637 105.79380883305674,176.54190494651436 108.41776003020244,177.2943108447522 111.05612873901316,178.00125960961358 113.70812705417914,178.6624770530774 116.37296188929957,179.27770265111005 119.04983521397502,179.84668964102926 121.7379442927208,180.36920511475176 124.43648192562983,180.84503010789078 127.1446366907127,181.27395968467064 129.86159318784223,181.65580301862732 132.58653228422935,181.99038346906437 135.3186313613563,182.27753865323587 138.05706456329256,182.51712051422828 140.80100304631898,182.70899538451542 143.54961522978414,182.85304404516114 146.30206704811746,182.9491617806463 149.05752220392247,182.9972584292977 151.81514242207342,182.9972584292977 154.57408770473822,182.94910086025538 157.33351658724982,182.85273948032034 160.09258639474845,182.70814275882245 162.8504534995161,182.51529390442215 165.606273578925,182.27419088875675 168.35920187392077,181.98484646556997 171.1083934479617,181.64728818531339 173.85300344633427,181.26155840520957 176.59218735576565,180.8277142947683 179.32510126425314,180.34582783674853 182.05090212103104,179.81598582356017 184.76874799659439,179.23828984910136 187.47779834269957,178.61285629602799 190.17721425226188,177.9398163184537 192.86615871906895,177.2193158200806 195.5437968972304,176.45151542776117 198.20929636028285,175.63659046049446 200.86182735986998,174.77473089386024 203.5005630839176,173.86614131989674 206.1246799142229,172.91104090242865 208.73335768337813,171.90966332785354 211.32577993094839,170.86225675139664 213.90113415882357,169.7690837388447 216.45861208566475,168.6304212037716 218.99740990036528,167.44656034026954 221.5167285144472,166.21780655120122 224.0157738133138,164.94447937198927 226.49375690627954,163.62691238996172 228.94989437529838,162.26545315927228 231.38340852231255,160.8604631114169 233.79352761514338,159.41231746136842 236.179486131847,157.9214051093533 238.54052500345716,156.38812853829518 240.87589185503873,154.81290370695191 243.18484124497525,153.19615993877366 245.46663490241446,151.53833980651117 247.72054196279674,149.83989901260483 249.94583920139092,148.1013062653861 252.14181126476342,146.32304315112478 254.3077509001066,144.50560400195604 256.4429591823532,142.64949575972372 258.54674573900365,140.75523783577626 260.6184289725948,138.82336196675408 262.65733628073815,136.85441206640795 264.6628042736568,134.8489440734893 266.6341789891511,132.80752579575463 268.57081610492384,130.73073675012753 270.4720811481954,128.61916799906285 272.3373497025424,126.47342198315928 274.1660076118912,124.29411235006704 275.9574511816011,122.08186377973934 277.7110873765708,119.83731180607697 279.4263340163043,117.56110263501681 281.10261996687166,115.25389295911602 282.73938532970226,112.91634976868494 284.3360816271481,110.54915015952294 285.8921719847564,108.15298113731225 287.4071313101911,105.72853941872631 288.8804464687445,103.27653122930997 290.3116164553798,100.79767209818995 291.7001525632489,98.29268664967539 293.04557854862776,95.76230839180863 294.34743079221533,93.20727950192821 295.60525845674107,90.62835060930638 296.81862364082883,88.02628057492483 297.9871015290647,85.40183626845312 299.1102805382182,82.75579234249527 300.1877624595671,80.08893100417082 301.21916259727755,77.40204178409776 302.2041099027915,74.69592130284543 303.1422471051766,71.97137303492636 304.03323083739167,69.22920707039698 304.87673175842605,66.47023987413795 305.6724346712684,63.6952940428854 306.4200386366649,60.905198060085574 307.11925708262663,58.10078604864569 307.76981790964646,55.28289752165491 308.3714635915891,52.45237713114989 308.92395127221727,49.61007441499995 309.42705285731967,46.75684354198784 309.88055510240645,43.89354305516248 310.28425969594076,41.02103561354081 310.6379833380748,38.14018773223643 310.9415578148609,35.25186952109333 311.19483006791006,32.35695442190356 311.39766225946994,29.456318944288075 311.5499318328982,26.550842400320793 311.6515315685061,23.641406637976075 311.70236963474997,20.728895773480488 311.70236963474997,17.814195922650057 311.6514706481151,14.898194931294677 311.5496272680573,11.981782104771675 311.39680963377685,9.065847936770918 311.1930034581038,6.151283837414182 310.9382100503817,3.238981860751799 310.6324463345803,0.3298344317398847 310.27574486262677,-2.575265927218293 309.86815382294526,-5.4754268700830115 309.4097370441971,-8.369756501256864 308.9005739942139,-11.257363649847429 308.3407597741199,-14.137358144029495 307.73040510763764,-17.008851085422407 307.06963632557705,-19.870955123397955 306.35859534550485,-22.72278472923417 305.5974396465966,-25.563456470030363 304.7863422396727,-28.392089282298674 303.9254916324223,-31.207804745147424 303.0150917898199,-34.00972735297163 302.0553620897422,-36.79698478756601 301.0465372737915,-39.56870818957597 299.9888673933377,-42.32403242920213 298.88261775078774,-45.062096376074074 297.72806883609627,-47.782043168209256 296.5255162585315,-50.483020479972964 295.27527067371165,-53.164180788955775 293.9776577059284,-55.82468164168487 292.6330178657774,-58.46368591808601 291.2417064631139,-61.08036209461326 289.8040935153567,-63.6738845059638 288.3205636511616,-66.24343360529552 286.7915160094903,-68.78819622286551 285.2173641340996,-71.30736582300791 283.59853586347845,-73.80014275937003 281.935473216261,-76.26573452832605 280.22863227214714,-78.70335602048812 278.47848304836015,-81.1122297702352 276.68550937167606,-83.4915862031805 274.8502087460583,-85.84066388149871 272.9730922159331,-88.15870974703522 271.0546842251439,-90.44497936211971 269.0955224716217,-92.69873714800737 267.09615775781276,-94.91925662087144 265.0571538369039,-97.10582062527169 262.9790872548884,-99.25772156502396 260.8625471885158,-101.37426163139655 258.7081352791722,-103.45475302856032 256.516465462736,-105.49851819621965 254.28816379545768,-107.50489002935267 252.02386827591303,-109.47321209498952 249.72422866307951,-111.4028388459588 247.38990629058782,-113.29313583153247 245.02157387720143,-115.14347990490123 242.61991533357826,-116.95325942741245 240.1856255653696,-118.72187446950436 237.71941027271296,-120.4487370082706 235.22198574617653,-122.13327112159058 232.6940786592139,-123.77491317876192 230.13642585718918,-125.37311202757218 227.5497741430337,-126.92732917774835 224.9348800595961,-128.4370389807234 222.29250966874986,-129.90172880566027 219.6234383273216,-131.32089921167503 216.92845045990666,-132.69406411620167 214.20833932863763,-134.02075095944232 211.4639067999738,-135.30050086484795 208.6959631085796,-136.53286879557544 205.90532661836176,-137.71742370686846 203.0928235807356,-138.85374869431047 200.25928789019162,-139.94144113789955 197.40556083723462,-140.9801128418961 194.53249085876877,-141.96939017039543 191.6409332860023,-142.90891417857867 188.73175008994696,-143.79834073959677 185.80580962458757,-144.63734066704356 182.86398636779865,-145.42559983297525 179.90716066008486,-146.1628192814349 176.93621844122373,-146.84871533744194 173.95205098488913,-147.48301971140802 170.95555463133505,-148.06547959894192 167.94763051821988,-148.5958577760077 164.92918430965204,-149.07393268940143 161.90112592353822,-149.49949854251344 158.86436925731658,-149.87236537634442 155.81983191215733,-150.19235914574517 152.76843491571407,-150.45932179085102 149.7111024435095,-150.67311130368367 146.6487615390401,-150.83360178989452 143.58234183268397,-150.94068352562513 140.51277525949777,-150.99426300946158 137.44099577598786,-150.99426300946158 134.36793907594188,-150.94062260523418 131.29454230540748,-150.83329722505366 128.2217437769046,-150.6722586779906 125.15048268295878,-150.45749518104483 122.0816988090429,-150.18901138126603 119.01633224601484,-149.86682837285 115.95532310213942,-149.49098370919947 112.89961121478255,-149.06153140994033 109.8501358618662,-148.5785419628852 106.80783547317257,-148.04210232093865 103.77364734158635,-147.45231589393893 100.74850733436386,-146.8093025354333 97.73334960451797,-146.1131985243855 94.72910630240786,-145.3641565418154 91.73670728762255,-144.56234564237198 88.75707984124739,-143.7079512208436 85.79114837860233,-142.80117497360945 82.83983416254105,-141.84223485503895 79.9040550173999,-140.83136502884693 76.98472504368527,-139.76881581441367 74.08275433358818,-138.6548536280812 71.19904868741455,-137.48976091943814 68.33450933101938,-136.27383610260713 65.49003263433316,-135.00739348255075 62.666509831068076,-133.690763176413 59.86482673969181,-132.32429102991483 57.08586348575614,-130.90833852882477 54.33049422566738,-129.44328270552546 51.599586871985146,-127.92951604070048 48.894002820335864,-126.3674463601656 46.21459667802672,-124.75749672687148 43.56221599444554,-123.10010532810529 40.93770099333146,-121.39572535792104 38.34188430700102,-119.64482489482947 35.77559071261339,-117.84788677477997 33.23963687055843,-116.00540845946844 30.734831065050106,-114.11790190000666 28.26197294700787,-112.18589339598981 25.821853279307362,-110.20992345000083 23.415253684481584,-108.19054661759112 21.04294639495285,-106.12833135277903 18.705694005875134,-104.02385984910866 16.40424923066576,-101.87772787631322 14.139354659304564,-99.69054461262823 11.911742519478018,-97.46293247280168 9.722134440644824,-95.19552693184917 7.571241221098864,-92.88897634460383 5.459762598104405,-90.54394176111188 3.388387021177659,-88.16109673792616 1.3577914285879018,-85.74112714535134 -0.6313589728495856,-83.28473097069563 -2.5784109246174003,-80.79261811758522 -4.482723329906339,-78.26551020139902 -6.343667463522765,-75.70414034088249 -8.160627178224633,-73.1092529460003 -9.932999107418777,-70.48160350208943 -11.660192864153183,-67.82195835037483 -13.341631236338975,-65.13109446491133 -14.976750378137968,-62.40979922601667 -16.56499999745275,-59.65887019026154 -18.105843539457396,-56.87911485708359 -19.59875836610803,-54.071350432093816 -21.043235931573726,-51.23640358714434 -22.438781953529286,-48.37511021722815 -23.784916580252784,-45.48831519428206 -25.081174553471918,-42.57687211796534 -26.327105366904487,-39.64164306348751 -27.522273420439575,-36.683498326559665 -28.666258169907326,-33.70331616554474 -29.758654272386465,-30.701982540883073 -30.79907172700007,-27.68039085187046 -31.787136011151436,-24.63944167086694 -32.722488212153245,-21.58004247501528 -33.60478515420451,-18.503107375549046 -34.433699520671354,-15.409556844771 -35.20891997162893,-12.300317440783303 -35.93015125662316,-9.17632153005183 -36.59711432261265,-6.0385070078876435 -37.20954641705222,-2.8878170169293993 -37.767201186081394,0.2748003362888314 -38.26984876778206,3.448392266599167 -38.71727588047174,6.632001597205127 -39.1092859059997,9.824667048344011 -39.44569896801509,13.025423527519404 -39.72635200517764,16.233302421216173 -39.95109883928302,19.447331888009796 -40.11981023827645,22.666537152981334 -40.23237397412979,25.889940803348857 -40.28869487555878,29.11656308522563 -40.28869487555878,32.34542220141502 -40.23231305373884,35.57553461015158 -40.1195056734356,38.80591532469739 -39.95024621358999,42.0355782137024 -39.72452539537148,45.26353630223727 -39.442351203535964,48.488802073406646 -39.10374890250529,51.71038777045086 -38.7087610471578,54.92730569924354 -38.25744748832098,58.138568531092545 -37.74988537295892,61.34318960575138 -37.186169139049,64.54018323454807 -36.56641050514359,67.72856500353844 -35.89073845461452,70.90735207659051 -35.15929921457955,74.07556349830675 -34.37225622951151,77.23222049669077 -33.52979012953294,80.37634678546519 -32.63209869340009,83.50696886594719 -31.67939680618221,86.62311632838856 -30.67191641164359,89.7238221526869 -29.6099064593373,92.80812300837482 -28.49363284642146,95.87505955379412 -27.323378354210323,98.92367673436213 -26.09944257947417,101.95302407983748 -24.82214186050362,104.96215600049263 -23.491809197955618,107.95013208210135 -22.10879417049997,110.91601737964871 -20.673462845286906,113.85888270967216 -19.186197683257774,116.77780494114235 -17.6473974393226,119.67186728479263 -16.057477057429836,122.54015958080655 -14.416867560555225,125.38177858477339 -12.72601593563829,128.19582825182167 -10.985385013496565,130.98142001884165 -9.195453343749243,133.7376730847077 -7.356715064783514,136.46371468841258 -5.469679768798381,139.15868038502578 -3.5348723619623397,141.8217143193886 -1.5528329197228345,144.45196949745994 0.4758834626930766,147.0486080552262 2.5507068245458715,149.61080152509072 4.671052498576058,152.1377310996578 6.836321274678033,154.62858789282762 9.045899568209844,157.08257319811898 11.299159592891913,159.49889874413748 13.595459538246324,161.8767869471076 15.934143751526824,164.2154711603881 18.314542924088254,166.5141959208907 20.73597428214271,168.7722171923233 23.197741781848315,170.98880260517922 25.699136308675115,173.16323169339586 28.239435880991213,175.2947961276061 30.817905857810924,177.38279994490742 33.43379915064536,179.42655977507428 36.08635643939458,181.42540506314094 38.77480639221899,183.3786782882819 41.49836588932674,185.2857351789194 44.25624025061204,187.14594492398768 47.047623467078594,188.95869038028516 49.87169843598088,190.7233682758465 52.72763719961468,192.4393894092683 55.61460118768738,194.10617884492282 58.531741463197015,195.72317610399523 61.478198971748306,197.28983535128174 64.45310479423232,198.8056255776865 67.45558040279568,200.27003077835698 70.48473792002403,201.68255012639835 73.53968038126327,203.04269814210912 76.61950200000109,204.35000485768123 79.72328843623063,205.6040159773094 82.85011706771648,206.8042930326558 85.99905726408282,207.95041353361754 89.1691706636422,209.04197111434542 92.3595114528828,210.07857567446493 95.56912664853077,211.05985351545044 98.79705638210385,211.9854474721062 102.042334186871,212.8550170391082 105.3039872871326,213.6682384925637 108.58103688973442,214.4248050065451 111.87249847772819,215.12442676455802 115.17738210609058,215.7668310659033 118.49469269941187,216.35176242689585 121.8234303514647,216.87898267690343 125.1625906265628,217.3482710491708 128.51116486261893,217.7594242663957 131.86814047581046,218.11225662102572 135.23250126676072,218.40660005024498 138.60322772814342,218.6423042056231 141.97929735361708,218.8192365173991 145.35968494799602,218.93728225337517 148.74336293856337,218.9963445723967 152.12930168743225,218.9963445723967 155.5164698048594,218.93722133298422 158.90383446341662,218.81893195255824 162.29036171292375,218.64145157993008 165.6750167960477,218.40477344043882 169.05676446447058,218.10890885654658 172.43456929553093,217.75388726290126 175.80739600924088,217.3397562158568 179.17420978558204,216.8665813974423 182.53397658198335,216.3344466137733 185.8856634508831,215.7434537879 189.22823885727763,215.0937229470889 192.5606729961593,214.38539220453643 195.88193810974587,213.61861773551425 199.1910088044038,212.7935737479483 202.48686236716733,211.91045244743458 205.76847908175617,210.96946399669724 209.03484254399388,209.97083646949565 212.2849399765293,208.91481579898888 215.517762542764,207.80166572056834 218.73230565988797,206.63166770916993 221.9275693109269,205.40512091108013 225.10255835570393,204.1223420702509 228.2562828406191,202.7836654491408 231.38775830715034,201.3894427441012 234.49600609897996,199.94004299532767 237.5800536676506,198.4358524913997 240.63893487665533,196.87727466843148 243.6716903038671,195.26473000386045 246.67736754221272,193.5986559048999 249.65502149849712,191.87950659168555 252.60371469028456,190.10775297514581 255.5225175407433,188.28388252962856 258.4105086713613,186.40839916031817 261.2667751924406,184.4818230654783 264.0904129912793,182.50469059355754 266.88052701795004,180.47755409519698 269.6362315685844,178.40098177017975 272.3566505660747,176.27555750936477 275.0409178381032,174.10188073164815 277.68817739241155,171.88056621599748 280.29758368922245,169.6122439286056 282.86830191072744,167.29755884521234 285.39950822755503,164.93717076864365 287.8903900621341,162.5317541416198 290.34014634886853,160.08199785488537 292.7479877910406,157.58860505071502 295.1131371143598,155.05229292185143 297.4348293170772,152.47379250593218 299.7123119165837,149.8538484754643 301.94484519241445,147.19321892340693 304.1317024255796,144.4926751444232 306.27217013414554,141.75300141186474 308.3655483049899,138.97499475055253 310.41115062165534,136.15946470542025 312.40830468822844,133.30723310608693 314.3563522491709,130.4191338274272 316.25464940503144,127.49601254620869 318.1025668239683,124.53872649386761 319.89948994901295,121.54814420549467 321.64481920100724,118.52514526510441 323.33797017714744,115.47062004726308 324.9783738450698,112.38546945515029 326.56547673241363,109.27060465513175 328.09874111179903,106.1269468079212 329.5776451811583,102.95542679641056 331.00168323936066,99.75698495024882 332.3703658570723,96.53257076725102 333.68322004279355,93.28314263171978 334.93978940401865,90.009667529763 336.13963430346297,86.71312076169198 337.2823320103051,83.39448565158584 338.3674768463927,80.05475325410818 339.394680327362,76.69492205866389 340.3635712986222,73.31599769098396 341.2737960661594,69.9189926122277 342.1250185221128,66.50492581569219 342.9169202650814,63.07482252122002 343.64920071511773,59.629713867396674 344.3215772233687,56.17063660163012 344.93378517632465,52.69863276820576 345.48557809463915,49.21474939441045 345.97672772648417,45.720038174820196 346.40702413540606,42.21555515384681 346.7762757826507,38.702360406639116 347.08430960392667,35.18151771843535 347.3309710805775,31.654094262463595 347.5161243051361,28.121160276487796 347.6396520412349,24.58378873809747 347.701455777849,21.04305503883952 347.701455777849,17.500036657291165 347.639591120844,13.95581283117342 347.5158197402953,10.41146422860481 347.33011845488454,6.868072618595535 347.08248299412054,3.3267205408825262 346.7729280181716,-0.21150902479384737 346.40148713191167,-3.7455329898703593 345.96821289317023,-7.274268488497541 345.4731768151781,-10.796633209330839 344.91646936320217,-14.311545727474652 344.29819994536547,-17.817925836477464 343.6184968976487,-21.31469488027614 342.8775074630728,-24.800776084987376 342.0753977650634,-28.275094890444308 341.21235277499954,-31.736579281376137 340.28857627395064,-35.18416011812877 339.3042908086088,-38.61677146682447 338.2597376414235,-42.033350928858475 337.15517669494864,-45.43283996963096 335.9908864904138,-48.81418424641241 334.7671640805328,-52.17633393524105 333.4843249765643,-55.51824405675094 332.142703069642,-58.83887480082967 330.7426505463924,-62.137191850004804 329.2845377988611,-65.41216670145855 327.7687533287697,-68.66277698757044 326.19570364612684,-71.88800679488824 324.56581316221957,-75.0868469814275 322.87952407701266,-78.2582954922008 321.13729626098433,-81.4013576728781 319.3396071314302,-84.51504658148006 317.48695152326763,-87.59838329800665 315.57984155437487,-90.6503972319042 313.6188064855014,-93.67012642727414 311.60439257478737,-96.6566178657279 309.537162926931,-99.6089277667922 307.4176973370459,-102.52612188577079 305.246592129251,-105.40727580896817 303.024459990037,-108.25147524618248 300.7519297964565,-111.057816320375 298.4296464391854,-113.82540585442463 296.0582706405036,-116.5533616548766 293.6384787672489,-119.24081279259525 291.1709626387936,-121.88689988023198 288.6564293301003,-124.49077534641995 286.0956009699119,-127.05160370660836 283.48921453413266,-129.56856183044982 280.83802163445995,-132.04083920565566 278.14278830232706,-134.46763819823445 275.4042947682181,-136.84817430903087 272.62333523641945,-139.18167642648208 269.80071765527174,-141.46738707551103 266.93726348298924,-143.70456266247604 264.03380744911397,-145.89247371609812 261.0911973116738,-148.0304051242881 258.1102936101149,-150.11765636679687 255.09196941408075,-152.1535417436135 252.03711006811028,-154.1373905990371 248.94661293233042,-156.0685475413495 245.82138711921831,-157.94637265801694 242.6623532265105,-159.77024172635095 239.47044306633748,-161.53954641955892 236.24659939066316,-163.25369450811715 232.9917756131101,-164.91211005640002 229.70693552725237,-166.5142336145003 226.39305302145948,-168.05952240517743 223.05111179037524,-169.54745050587147 219.68210504311745,-170.97750902572264 216.28703520828452,-172.34920627753698 212.8669136358568,-173.66206794464077 209.42276029608112,-174.91563724256764 205.9556034754282,-176.10947507552405 202.46647946971348,-177.2431601875798 198.9564322744729,-178.31628930853276 195.42651327268612,-179.32847729439746 191.87778091994073,-180.27935726246977 188.31130042713133,-181.1685807209211 184.7281434407888,-181.99581769287693 181.12938772113588,-182.76075683493667 177.51611681796518,-183.4631055500933 173.88941974443776,-184.10259009501263 170.25039064889995,-184.67895568163408 166.60012848481756,-185.1919665730568 162.93973667892692,-185.64140617367565 159.27032279770307,-186.02707711353494 155.59299821224582,-186.34880132686763 151.90887776168498,-186.60642012479124 148.21907941520706,-186.7997942621324 144.52472393280533,-186.9288039983539 140.8269345248568,-186.99334915256054 137.12683651062895,-186.99334915256054 133.4255569758206,-186.928743077963 129.7242244292406,-186.79948969729156 126.02396845872919,-186.60556749909824 122.3259193864271,-186.3469747170615 118.63120792349723,-186.02372934905586 114.94096482440457,-185.63586917018128 111.25632054086014,-185.18345173974288 107.5784048755347,-184.66655440217303 103.9083466356484,-184.08527428189018 100.24727328654252,-183.43972827209012 96.5963106053397,-182.73005301746764 92.95658233479888,-181.9564048908683 89.32920983747161,-181.11895996387173 85.71531175026588,-180.21791397130994 82.11600363952414,-179.2534822697259 78.5323976567216,-178.22589978977962 74.96560219489128,-177.13542098261058 71.41672154588173,-175.98231976016757 67.88685555855352,-174.76688942951847 64.37709929802021,-173.4894426211549 60.88854270603939,-172.15031121130772 57.42227026265896,-170.74984623829232 53.97936064922384,-169.28841781290316 50.560886412847594,-167.76641502288027 47.167913632453434,-166.184245831471 43.801501586488456,-164.5423369701132 40.46270242241467,-162.8411338252669 37.152560828079864,-161.0811003194241 33.872113705070866,-159.26271878632804 30.622389844151353,-157.3864898404342 27.404409602885615,-155.4529322406488 24.219184585549293,-153.46258274838047 21.06771732542738,-151.41599597994394 17.9510009695992,-149.31374425335574 14.870018966309333,-147.15641742956373 11.82574475502287,-144.94462274815413 8.819141459262472,-142.67898465758148 5.8511615823241385,-140.36014463996838 2.9227467059676178,-137.98876103052413 0.03482719217669272,-135.56550883163248 -2.811678111916356,-133.09107952166084 -5.615862165848654,-130.5661808585447 -8.376830024294502,-127.99153667820275 -11.093699122091403,-125.36788668784006 -13.76559955573376,-122.69598625419769 -16.391674361244657,-119.97660618680948 -18.971079788337118,-117.21053251632767 -21.50298557077737,-114.39856626798114 -23.986575192863658,-111.5415232302311 -26.421046151935347,-108.64023371869115 -28.805610216828097,-105.69554233537943 -31.139493682192157,-102.70830772337291 -33.42193761859196,-99.67940231693464 -35.65219811830646,-96.60971208718661 -37.82954653675084,-93.50013628340217 -39.953269729441615,-90.35158716999356 -42.022670284428294,-87.16498975927112 -44.03706675011622,-83.94128154005249 -45.995793858406486,-80.68141220220123 -47.89820274308023,-77.38634335717586 -49.743661153355966,-74.05704825467114 -51.53155366255008,-70.69451149543532 -53.26128187177203,-67.29972874034773 -54.93226460858723,-63.87370641584283 -56.54393812058221,-60.41746141576766 -58.095756263767875,-56.932020799760906 -59.58719068575858,-53.41842148824312 -61.017731003666,-49.87770995410849 -62.38688497664845,-46.31094191120984 -63.694178673057905,-42.71918199972949 -64.93915663212857,-39.103503468529816 -66.12138202015248,-35.46498785457802 -67.24043678108917,-31.8047246595411 -68.29592178155835,-28.123811023647484 -69.28745695016583,-24.423351396912995 -70.21468141111508,-20.704457207829684 -71.0772536120581,-16.968246529616824 -71.87485144614128,-13.215843744134311 -72.6071723682036,-9.448379203559458 -73.2739335050863,-5.666988889928978 -73.8748717600147,-1.8728140726486822 -74.40974391101507,1.9329990359258562 -74.87832670333091,5.7492996267337455 -75.28041693580484,9.574932641973735 -75.61583154119423,13.408739124684493 -75.88440766039058,17.24955656983439 -76.0860027105143,21.09621927681445 -76.22049444685855,24.94755870322758 -76.28778101865771,28.802403819866715 -76.28778101865771,32.65958146677403 -76.2204335264676,36.51791671027296 -76.08569814567345,40.37623320086437 -75.88355503469757,44.2333535318779 -75.61400493138808,48.08809959876905 -75.27706917132572,51.939292958952414 -74.87278969983652,55.785755192061224 -74.40122907770115,59.626308260522904 -73.86247048055364,63.45977487034049 -73.25661769196387,67.28497883196928 -72.58379509020041,71.10074542117822 -71.84414762867225,74.9059017397852 -71.03784081004949,78.6992770761556 -70.16506065406573,82.47970326535322 -69.22601365900601,86.24601504883286 -68.22092675688681,89.99705043356371 -67.15004726233605,93.7316510504731 -66.01364281518329,97.44866251209974 -64.81200131677213,101.14693476934637 -63.545430860008764,104.82532246722135 -62.21425965316261,108.48268529945933 -60.81883593743677,112.11788836191108 -59.35952789832829,115.72980250459321 -57.8367235707996,119.31730468228832 -56.25083073828507,122.87927830358709 -54.602276825557944,126.41461357826351 -52.891508785485236,129.92220786287567 -51.118992979699854,133.400966004484 -49.2852150532212,136.8498006823803 -47.390679803057346,140.267632747721 -45.435911040823775,143.65339156095806 -43.42145144941557,147.00601532696294 -41.347862433771716,150.32445142773804 -39.21572396577213,153.60765675261192 -37.02563442330977,156.85459802581454 -34.778210423582124,160.06425213132997 -32.47408665064801,163.2356064349243 -30.11391567729764,166.36765910324772 -27.698367781285484,169.45941941991006 -25.228130755977425,172.5099080984306 -22.703909715465304,175.51815759196282 -20.126426894203785,178.48321239969695 -17.496421441226182,181.4041293698429 -14.814649208997611,184.27997799909787 -12.081882536965498,187.10984072850368 -9.298910029869187,189.8928132356 -6.466536330872053,192.6280047227803 -3.5855818895811264,195.3145382017594 -0.6568827250209384,197.9515507740611 2.318709816370173,200.5381939074373 5.340329307651417,203.07363370812945 8.407094493127142,205.55705118888602 11.518109544857682,207.98764253264915 14.672464323858966,210.36461935182666 17.86923464591488,212.68720894306568 21.107482551924875,214.9546545374457 24.386256582707908,217.16621554601062 27.7045920581823,219.32116780056037 31.061511360839724,221.41880378962384 34.45602422343013,223.4584328895369 37.887128020773055,225.4393815905504 41.353808065609456,227.3609937178939 44.85503790840679,229.2226306477239 48.389779641028916,231.0236715178849 51.95698420418099,232.76351343341503 55.555591698538436,234.44157166672787 59.1845316994677,236.05727985240517 62.84272357524547,237.6100901765354 66.5290768086818,239.09947356053593 70.24249132205138,240.52491983939706 73.98185780523639,241.8859379342891 77.74605804698284,243.18205601947403 81.5339652691717,244.41282168346606 85.34444446400494,245.57780208438646 89.1763527340054,246.67658409946011 93.028539634729,247.70877446860274 96.89984752008621,248.67399993204992 100.78911189016942,249.57190736198012 104.69516174148151,250.40216388808673 108.61681991946053,251.16445701705476 112.55290347319406,251.85849474590083 116.50222401221686,252.48400566913614 120.46358806528355,253.04073907971417 124.43579744100869,253.528465063727 128.41764959026483,253.94697458881555 132.40793797022909,254.29607958626164 136.40545240996803,254.57561302673074 140.40897947745023,254.785428989637 144.41730284787477,254.92540272610398 148.42920367320448,254.99543071549567\" />'\n",
       "\n",
       "<g transform=\"rotate(-90.0,148.4,255.0) translate(148.4, 255.0)\">\n",
       "    <circle stroke=\"#63A375\" stroke-width=\"2\" fill=\"transparent\" r=\"5.5\" cx=\"0\" cy=\"0\"/>\n",
       "    <polygon points=\"0,12 2,9 -2,9\" style=\"fill:#63A375;stroke:#63A375;stroke-width:2\"/>\n",
       "</g>\n",
       "\n",
       "</svg>"
      ],
      "text/plain": [
       "<IPython.core.display.HTML object>"
      ]
     },
     "metadata": {},
     "output_type": "display_data"
    },
    {
     "name": "stdout",
     "output_type": "stream",
     "text": [
      "done\n"
     ]
    }
   ],
   "source": [
    "# Solution\n",
    "\n",
    "# prompt: make that a circular spiral, and don't change the name of the module\n",
    "\n",
    "from jupyturtle import make_turtle, forward, left\n",
    "import math\n",
    "\n",
    "make_turtle(delay=0)\n",
    "\n",
    "def circular_spiral(radius, angle):\n",
    "    rotations = 5\n",
    "    distance = 2 * math.pi * radius / 360  # Calculate the distance for each degree of rotation\n",
    "    for _ in range(rotations * 360):\n",
    "        forward(distance)\n",
    "        left(angle)\n",
    "        radius += 0.1  # Increase the radius for each segment\n",
    "        distance = 2 * math.pi * radius / 360  # Recalculate the distance for the updated radius\n",
    "\n",
    "circular_spiral(50, 1)\n",
    "print('done')"
   ]
  },
  {
   "cell_type": "code",
   "execution_count": 45,
   "id": "0cd5b7e3-ccaf-4954-bca0-ccebd10bfbc7",
   "metadata": {},
   "outputs": [
    {
     "data": {
      "text/html": [
       "<svg width=\"550\" height=\"550\" style=\"fill:none;\">\n",
       "    <rect width=\"100%\" height=\"100%\" fill=\"#F3F3F7\" />\n",
       "\n",
       "\n",
       "<path stroke=\"#663399\" stroke-width=\"2\" d=\"M 275,275\" />'\n",
       "\n",
       "<path stroke=\"#663399\" stroke-width=\"2\" d=\"M 275.0,425.0 283.72664625997163,425.0 292.4430758918738,424.54319127971513 301.1253882068607,423.63064348351065 309.74976649439094,422.2646761552931 318.29254335451617,420.44885287879066 326.7302656469111,418.18797200458533 335.03975887840903,415.48805398795764 343.19819085227573,412.3563253709072 351.18313440440863,408.8011994509282 358.97262905408087,404.8322536882195 366.5452413997587,400.46020391197374 373.8801240938932,395.6968753951898 380.95707323441655,390.5551708760686 387.7565840149519,385.04903561245374 394.25990448045474,379.1934195639501 400.44908724013925,373.0042368042656 406.30703899508427,366.498322273958 411.8175677438486,359.69338599110426 416.9654275357381,352.60796484442704 421.7363606480388,345.2613721000924 426.1171370705446,337.67364475971254 430.09559118804515,329.86548891303573 433.6606555590784,321.85822323435934 436.80239169717396,313.6737207768533 439.5120177689953,305.334349223708 441.7819331322084,296.86290975931547 443.6057396445388,288.282574727543 444.9782596843049,279.6168242475481 445.8955508317091,270.889381960512 446.35491716930414,262.1241500831203 446.35491716930414,253.3451439455888 445.8953681447584,244.57642619351927 444.9773472510157,235.84204083386027 443.6031890333625,227.16594730574917 441.7764795261856,218.57195475701408 439.5020469184686,210.08365670662278 436.7859488098515,201.72436627237917 433.6354560908415,193.5170521416888 430.05903349003194,185.4842754612484 426.0663168403436,177.64812781906465 421.66808712531787,170.03017048928092 416.87624137534624,162.65137510689578 411.70376049238354,155.53206593560313 406.1646740901474,148.69186388767977 400.27402244502326,142.1496324501057 394.0478156608541,135.92342566593655 387.5029901584753,130.03043831437103 380.65736260823354,124.4869584269854 373.529581430787,119.30832227125437 366.1390759982017,114.50887192576602 358.506003673716,110.10191556448032 350.65119483452764,106.09969056000007 342.59609602754375,102.51332950813627 334.3627114132141,99.35282926808117 325.97354265732304,96.62702310427046 317.4515274349341,94.34355600754563 308.8199767145518,92.50886326454075 300.102510993976,91.12815233533902 291.3229956622679,90.20538809039657 282.5054756647088,89.74328144854069 273.6741096496175,89.74328144854069 264.85310377738057,90.20557077734729 256.06664537304954,91.12906476862818 247.3388366043576,92.51141387571704 238.69362836701262,94.34900961356844 230.15475455862494,96.63699395479719 221.74566692163563,99.36927215540365 213.48947063412157,102.53852897637321 205.40886082537364,106.13624825801332 197.52606019067838,110.15273579468139 189.86275787678878,114.57714544848703 182.44004980615296,119.39750843164637 175.27838060409098,124.60076567845061 168.39748728877962,130.17280321930804 161.81634487913433,136.09849046105268 155.55311407048052,142.3617212697065 149.62509112229452,148.94545774415653 144.04866009628762,155.8317765617863 138.83924757671508,163.00191777000214 134.01127999803902,170.4363358908381 129.57814369797342,178.11475319942966 125.55214780651347,186.01621503112952 121.94449007381911,194.11914696642094 118.76522573180445,202.40141373757427 116.02323947600436,210.84037969621102 113.7262206457678,219.4129706765963 111.88064167208844,228.09573708558852 110.49173985345108,236.86491804674515 109.56350251097041,245.69650642312533 109.09865556485367,254.5663145408518 109.09865556485367,263.450040433503 109.56368519792113,272.3233344259073 110.49265228674024,281.16186587491046 111.88319228326473,289.94138988418325 113.73167425179061,298.6378138101381 116.03321032653108,307.22726337652216 118.78166861912692,315.68614821625715 121.96968954205605,323.99122666059486 125.5887055045267,332.11966959765033 129.62896392817447,340.0491232248571 134.07955352076004,347.7577705228526 138.92843373710707,355.22439128173903 144.16246734775282,362.4284205145703 149.7674560272315,369.3500050972697 155.72817886559665,375.9700584789862 162.02843369873514,382.27031331212464 168.6510811452564,388.2333718569311 175.5780912302742,393.8427540215593 182.79059246925934,399.0829429049734 190.268923278346,403.93942771683714 197.9926855710434,408.3987439556827 205.9408003952548,412.4485107341223 214.09156545885375,416.0774651476472 222.42271438683073,419.27549359162145 230.91147754821318,422.03365993941094 239.53464428659484,424.3442305031592 248.26862638419692,426.20069570751303 257.0895225859344,427.597788415586 265.9731840069866,428.5314988556049 274.8952802448805,428.99908610598254 283.83136601509153,428.99908610598254 292.75694812766324,428.5313161686542 301.64755262133843,427.59687598229687 310.4787918711921,426.1981450963367 319.2264314857568,424.33877689713637 327.86645681013727,422.02368908888417 336.37513885261797,419.25905070429894 344.7290994537793,416.05226567941025 352.9053755191423,412.411953036109 360.8814821388606,408.34792372548156 368.6354744209619,403.87115419411606 376.14600786809905,398.99375674458133 383.3923971316996,393.72894677009407 390.354672981787,388.0910069519941 397.01363733557474,382.09524851700843 403.3509161931979,375.75796965938525 409.3490103346249,369.09641124079275 414.99134363787437,362.12870988838694 420.2623088851299,354.8738486186325 425.1473109301814,347.35160512129517 429.63280710780685,339.5824978444919 433.7063447732262,331.587730027769 437.35659586758163,323.38913183586254 440.57338841351543,315.0091007510619 443.3477348532943,306.47054038693375 445.6718571505543,297.7967978905557 447.53920858558257,289.01160010434376 448.94449218309126,280.13898866202544 449.88367572064834,271.20325419630115 450.3540032752868,262.22886983823986 450.3540032752868,253.240424190469 449.8834930336976,244.26255395772992 448.9435797498021,235.31987641938267 447.5366579744063,226.4369219289482 445.6664035445315,217.6380666257736 443.3377640027676,208.94746554339676 440.556945526193,200.38898629817032 437.3313963993447,191.9861435401853 433.669787075213,183.76203434651484 429.5819868776058,175.739274734285 425.0790374074604,167.9399374680778 420.173122724738,160.38549133269 414.8775363864092,153.09674203832014 409.2066454296879,146.09377492084474 403.1758513980818,139.3958995949858 396.801548515974,133.021596712878 390.10107912531026,126.98846697483052 383.09268650551644,121.31318253295976 375.7954652049927,116.01144092186267 368.2293090194047,111.09792164362352 360.41485675849555,106.58624552721814 352.3734359492611,102.48893697481911 344.1270046290471,98.8173891996331 335.69809138742283,95.58183255173975 327.10973382054897,92.79130601997151 318.3854155661745,90.45363198919978 309.5490020913527,88.575394323497 300.6246754084535,87.16191983655268 291.6368678980572,86.21726320145737 282.61019541982853,85.74419534255806 273.5693898944978,85.74419534255806 264.53923154159133,86.2174458884081 255.54448095857202,87.16283226984184 246.60981122755672,88.57794493467328 237.75974023577226,90.45908559522259 229.01856339539904,92.80127687049823 220.41028694742693,95.59827543906222 211.95856203261826,98.84258866787003 203.68661971064026,102.52549467283234 195.6172071058989,106.63706575741918 187.77252485558583,111.16619516634451 180.17416603194735,116.10062708225463 172.84305670680817,121.42698978442493 165.79939832194475,127.13083187976747 159.06261202401458,133.1966615079941 152.6512851174221,139.60798841458657 146.58311978275412,146.3473687773215 140.87488420226208,153.39645266450333 135.54236622732347,160.73603399579636 130.60032971589663,168.34610286963502 126.06247366071133,176.20590011465003 121.94139422133262,184.293973916396 118.24854976531606,192.5882383649175 114.99422901546315,201.06603376336545 112.18752239170553,209.704188532985 109.83629662742207,218.47908254535582 107.94717273104482,227.36671170878753 106.52550735466487,236.34275363226752 105.57537762203134,245.38263418733595 105.09956945887117,254.46159478573202 105.09956945887117,263.55476018862254 105.57556030898206,272.63720666169644 106.52641978795401,281.6840302893878 107.94972334222109,290.670415260984 109.84175023344488,299.5717019413783 112.19749324223224,308.3634545397479 115.01067190278562,317.02152819046574 118.27374923355299,325.52213526209806 121.97795191934584,333.8419107123836 126.11329389091239,341.9579763096365 130.66860323861764,349.8480035440554 135.63155238771546,357.49027505594455 140.98869145372726,364.863744411853 146.72548468769108,371.94809406410445 152.82634991253818,378.72379133410584 159.2747008436153,385.17214226518297 166.05299217842148,391.27534319647145 173.14276733299133,397.0165299155848 180.52470869505368,402.3798242543649 188.178690257143,407.35037799897947 196.08383248626387,411.9144139929447 204.21855928052136,416.0592643193031 212.56065685735038,419.7734054561502 221.087334412622,423.0464903079627 229.77528638498725,425.8693770237097 238.60075615535445,428.2341545215049 247.53960100739604,430.13416464855663 256.5673581714569,431.56402091437224 265.6593117711974,432.519623744544 274.7905604897608,432.998172211965 283.9360857702112,432.998172211965 293.07082036345247,432.51944105759327 302.1697170358159,431.5631084810831 311.2078172479929,430.13161403738036 320.1603196169971,428.2287009154821 329.00264797336314,425.859406173183 337.71051882682667,423.03004742064024 346.26000805528264,419.7482059879133 354.6276166338757,416.0227066212899 362.79033522364006,411.8635937627437 370.72570744216483,407.2821044762585 378.4118916423046,402.290638093973 385.8277210289824,396.90272266411966 392.95276194862186,391.1329782915346 399.76737019069446,384.997077470067 406.25274514625625,378.5117025145052 412.3909816741652,371.6945002076278 418.1651195318998,364.56403378566995 423.5591902345214,357.1397323928383 428.55826121232366,349.44183814249834 433.1484771450688,341.4913509292716 437.3170983584069,333.3099711425026 441.0525361760846,324.9200404373661 444.3443851298566,316.3444807252708 447.183451937593,307.60673155015985 449.5617811688999,298.73068602179626 451.47267752662617,289.7406254811448 452.9107246818774,280.66115307650307 453.87180060958735,271.5171264320905 454.3530893812692,262.33358959335965 454.3530893812692,253.13570443534942 453.87161792263663,243.94868172194077 452.90981224858825,234.79771200490526 451.4701269154499,225.70789655214742 449.55632756287713,216.70417849453332 447.1734810870663,207.81127438017094 444.32794224253416,199.0536063239617 441.02733670784767,190.45523493868205 437.28054066039374,182.03979323178152 433.0976569148678,173.83042164950558 428.4899876896027,165.84970444687494 423.47000407412946,158.11960755848446 418.0513122804346,150.66141814103736 412.24861676922825,143.4956859540099 406.07768035114015,136.64216673986604 399.55528137109366,130.11976775981958 392.69916809214504,123.94649563529013 385.52801040279917,118.13940663893425 378.0613489791982,112.7145595724711 370.3195420406076,107.68697136148117 362.32370984327497,103.07057548995611 354.09567706399446,98.87818338963831 345.65791323055043,95.1214488911301 337.0334713616315,91.81083583539849 328.24592498377484,88.95558893567274 319.31930369741485,86.56370797085411 310.27802746815354,84.64192538245342 301.14683982293104,83.19568733776653 291.9507401338464,82.22913831251836 282.7149151749482,81.74510923657562 273.46467013937814,81.74510923657562 264.2253593058021,82.22932099946908 255.02231654409454,83.19659977105567 245.88078585075584,84.6444759936297 236.82585210453186,86.56916157687692 227.8823722321731,88.96555978619945 219.07490697321816,91.82727872272096 210.42765343111486,95.14664835936703 201.9643785959068,98.91474108765154 193.70835402111936,103.12139572015715 185.68229183438285,107.75524488420216 177.90828225774172,112.80374573286308 170.40773280952533,118.25321389039944 163.20130935510986,124.0888605402271 156.30887916889478,130.29483255493568 149.74945616436366,136.8542555594668 143.54114844321373,143.74927981048663 137.70110830823657,150.96112876722052 132.24548487793191,158.47015022159076 127.18937943375428,166.25586984843207 122.5468036234493,174.29704702987055 118.3306406361518,182.57173280166262 114.55260945681304,191.05732976341417 111.22323229912188,199.73065378915678 108.35180530740674,208.56799736975915 105.94637260907639,217.5451944141155 104.01370379000122,226.63768633198674 102.55927485587868,235.82058921779011 101.5872527330923,245.0687619515468 101.1004833528887,254.35687503061243 101.1004833528887,263.6594799437423 101.58743542004302,272.9510788974858 102.56018728916783,282.20619470386544 104.01625440117749,291.39944063778495 105.95182621509919,300.5055900726188 108.36177615793345,309.49964570297396 111.23967518644434,318.3569081646746 114.57780892504998,327.0530438636016 118.36719833416502,335.5641518271172 122.59762385365035,343.8668293944162 127.25765295647527,351.9382365652586 132.33467103832388,359.7561588301504 137.81491555970175,367.2990683091361 143.68351334815068,374.5461830309396 149.92452095947976,381.4775241892259 156.52096798849556,388.0739712182417 163.4549032115866,394.31731453601213 170.7074434357085,400.19030580961055 178.25882492084807,405.6767056037567 186.08845723594004,410.761328281122 194.1749794014844,415.4300840302069 202.49631816578798,419.6700179044841 211.02974825584707,423.4693457646534 219.75195443841332,426.8174870243041 228.63909522176138,429.70509410800867 237.6668680241141,432.12407853985076 246.8105756305952,434.0676335896004 256.0451937569794,435.53025341315856 265.34543953540816,436.5077486334832 274.68584073464115,436.9972583179476 284.0408055253309,436.9972583179476 293.3846925992417,436.50756594653245 302.6918814502934,435.52934097986946 311.93684262479377,434.06508297842413 321.09420774823747,432.11862493382796 330.138839136589,429.695123257482 339.0458988010354,426.8010441369817 347.790916656786,423.44414629641653 356.3498577486091,419.63346020647094 364.6991883084196,415.3792638000059 372.81594046336784,410.69305475840105 380.6777754165103,405.5875194433647 388.2630449262653,400.0764985581453 395.5508509154568,394.1749496310751 402.52110304581436,387.89890642312554 409.1545740993148,381.2654353696251 415.43295301370574,374.2925891744628 421.33889542592544,366.9993576829529 426.85607158391315,359.40561616704406 431.96921149446615,351.5320711637014 436.66414718233096,343.4002040140512 440.9278519435878,335.0322122572361 444.7484764845877,326.4509490388695 448.115381846198,317.6798606994796 451.0191690218919,308.74292271338584 453.4517051872457,299.6645741530367 455.4061464676698,290.46965085794574 456.8769571806637,281.1833174909807 457.8599254985265,271.8309986678799 458.35217548725177,262.4383093484795 458.35217548725177,253.0309846802299 457.8597428115757,243.63480948615165 456.87604474737446,234.2755475904279 455.4035958564935,224.97887117534665 453.44625158122284,215.77029036329304 451.00919817136514,206.67508321694513 448.09893895887546,197.71822634975308 444.7232770163507,188.9243263371788 440.89129424557456,180.3175521170482 436.61332695212985,171.9215685647262 431.90093797174507,163.75947142567207 426.76688542352105,155.85372378427894 421.22508817446015,148.22609424375463 415.29058810876865,140.89759698717512 408.9795093041986,133.88843388474635 402.3090142262135,127.21793880676124 395.29725705898,120.90452429574981 387.96333430008207,114.9656307449088 380.3272327534039,109.41767822307959 372.4097750618106,104.27602107933886 364.2325629280545,99.55490545269411 355.8179181787279,95.26742980445754 347.1888218320538,91.42550858262713 338.36885133584025,88.03983911905726 329.3821161470008,85.11987185137397 320.25319182865525,82.67378395250846 311.0070528449544,80.70845644140985 301.6690042374085,79.22945483898037 292.2646123696356,78.24101342357936 282.81963493006776,77.74602313059319 273.35995038425835,77.74602313059319 263.91148707001275,78.24119611053008 254.50015212961694,79.23036727226953 245.15176047395485,80.71100705258614 235.89196397329138,82.67923755853127 226.74618106894707,85.1298427019007 217.7395269990093,88.05628200637975 208.89674482961138,91.45070805086407 200.24213748117324,95.30398750247076 191.7995009363397,99.60572568289516 183.59205881317973,104.34429460205985 175.64239848353594,109.50686438347155 167.97240891224234,115.07943799637397 160.60322038827482,121.04688920068675 153.55514631377483,127.3930036018773 146.84762721130505,134.10052270434707 140.49917710367313,141.15119084365182 134.52733241421083,148.52580486993776 128.9486035285401,156.20426644738524 123.77842915161168,164.1656368272292 119.03113358618701,172.38819394509113 114.71988705097073,180.84949168692927 110.85666914830976,189.5264211619109 107.45223558278033,198.39527381494813 104.51608822310766,207.4318062065333 102.05644859073041,216.6113062828752 100.08023484895733,225.90866095518592 98.59304235709222,235.29842480331268 97.59912784415299,244.75488971575763 97.10139724690596,254.2521552754928 97.10139724690596,263.76419969886206 97.59931053110371,273.2649511332751 98.59395479038137,282.72835911834295 100.08278546013362,292.12846601458585 102.06190219675324,301.4394782038592 104.52605907363439,310.6358368661999 107.46867847010282,319.6922881388834 110.8818686165467,328.58395246510497 114.75644474898395,337.28639294185064 119.08195381638805,345.7756824791957 123.84670267433266,354.0284695864616 129.03778968893207,362.02204260435605 134.64113966567598,369.73439220641893 140.64154200861003,377.14427199777447 147.02269200642107,384.2312570443457 153.7672351333755,390.97580017130014 160.85681424475146,397.35928587555253 168.27211953842541,403.3640817036361 175.99294114664218,408.9735869531483 183.9982242147368,414.1722785632644 192.2661263167046,418.945754067469 200.77407705105426,423.28077148966497 209.4988396543434,427.1652860731565 218.4165744642043,430.5884837406455 227.5029040585352,433.54081119230756 236.73297989287346,436.0140025581965 246.08155025379403,438.00110253064406 255.52302934250162,439.49648591194483 265.03156729961864,440.4958735224223 274.58112097952124,440.99634442393017 284.1455252804504,440.99634442393017 293.69856483503077,440.4956908354716 303.21404586477075,439.49557347865573 312.6658680015945,437.99855191946784 322.02809587947775,436.0085489521737 331.27503029981483,433.53084034178084 340.381278775244,430.572040853323 349.32182525828927,427.1400866049196 358.07209886334243,423.2442137916518 366.608041393199,418.894933837268 374.90617348457073,414.1040050405435 382.94365919071583,408.88440079275637 390.69836882354804,403.2502744521709 398.1489398822916,397.21692097061555 405.274835900934,390.80073537618404 412.0564030523731,384.01916822474493 418.474924353246,376.8906781412977 424.51267131995087,369.43468158023575 430.1529529333046,361.6714999412497 435.3801617766084,353.6223041849044 440.1798172195929,345.30905709883075 444.5386055287686,336.75445337196953 448.4444167930906,327.9818576403729 451.88637856253916,319.0152406736883 454.8548861061906,309.8791138766117 457.34162920559123,300.59846228427705 459.33961540871326,291.1986762347466 460.84318967944967,281.70548190545816 461.8480503874653,272.1448709036691 462.3512615932341,262.5430291035991 462.3512615932341,252.92626492511016 461.8478677005146,243.32093725036236 460.8422772461605,233.75338317595035 459.337064797537,224.24984579854575 457.33617559956843,214.83640223205265 454.84491525566386,205.5388920537192 451.86993567521665,196.38284637554432 448.41921732485366,187.3934177356754 444.5020478307553,178.59531100231473 440.12899698939185,170.01271547994662 435.3118882538874,161.66923840446904 430.0637667729126,153.58784001007325 424.39886406848564,145.79077034647173 418.332559448309,138.29950802034017 411.88133825725697,131.13470102962648 405.0627470813332,124.31610985370273 397.8953460258148,117.86255295620933 390.3986581973648,111.7918548508832 382.5931165276094,106.12079687368794 374.5000080830135,100.86507079719642 366.14141601283393,96.039235415432 357.5401592934612,91.65667621927665 348.71973043355706,87.72956827412403 339.70423131004884,84.26884240271592 330.51830731022653,81.2841547670751 321.18707995989547,78.78385993416268 311.7360782217551,76.77498750036617 302.19116865188585,75.2632223401941 292.5784846054247,74.25288853464023 282.9243546851873,73.74693702461063 273.2552306291385,73.74693702461063 263.59761483422335,74.25307122159096 253.97798771513925,75.26413477348325 244.4227350971538,76.77753811154244 234.95807584205085,78.78931354018547 225.609989905721,81.2941256176018 216.4041470248004,84.28528529003837 207.36583622810784,87.75476774236095 198.51989636643964,91.69323391728986 189.89064785156,96.09005564563304 181.50182579197656,100.93334431991741 173.3765147093301,106.2099830340799 165.53708501495927,111.90566210234837 158.0051314214397,118.00491786114628 150.8014134586548,124.4911746488188 143.94579825824638,131.3467898492272 137.4572057641325,138.55310187681687 131.3535565201851,146.09048097265486 125.65172217914832,153.93838267317955 120.36747886946911,162.07540380602617 115.51546354892477,170.47934086031157 111.10913346578971,179.1272505721958 107.16072883980655,187.9955125604075 103.68123886643887,197.05989384073936 100.68037113880867,206.29561504330735 98.16652457238453,215.67741815163478 96.14676590791355,225.179635578385 94.62680985830585,234.7762603888351 93.61100295521376,244.44101747996834 93.1023111409233,254.14743552037308 93.1023111409233,263.86891945398173 93.61118564216449,273.5788233690643 94.62772229159499,283.25052353282047 96.14931651908982,292.85749139138676 98.17197817840734,302.3733663350996 100.69034198933538,311.7720280294258 103.69768175376134,321.0276681130921 107.18592830804349,330.11486106660834 111.14569116380294,339.008634056584 115.56628377912581,347.68453556397515 120.43575239219011,356.11870260766443 125.7409083395403,364.28792637856156 131.46736377165027,372.1697161037017 137.59957066906946,379.7423609646093 144.12086305336248,386.9849898994654 151.01350227825554,393.87762912435846 158.25872527791643,400.40125721509287 165.83679564114243,406.53785759766157 173.7270573724364,412.2704683025399 181.9079911935337,417.5832288454068 190.35727323192495,422.46142410473107 199.0518359363207,426.8915250748458 207.96793105283993,430.8612263816595 217.08119448999545,434.3594804569867 226.36671289530915,437.3765282766063 235.79909176163295,439.9039265765421 245.35252487699304,441.9345714716876 255.00086492802401,443.46271841073093 264.7176950638293,444.4839984113612 274.47640122440146,444.99543052991254 284.25024503556995,444.99543052991254 294.0124370708199,444.4838157244105 303.7362102792481,443.46180597744177 313.39489337839524,441.9320208605113 322.96198401071797,439.89847297051926 332.4112214630406,437.3665574260795 341.71665874945256,434.34303756966415 350.85273385979247,430.8360269134224 359.7943399780757,426.8549673768324 368.5168944779784,422.41060387452984 376.99640650577356,417.51495532268564 385.20954296492135,412.1812821421478 393.13369272083077,406.4240503461963 400.74702884912637,400.25889231015583 408.02856875605374,393.7025643292423 414.95823200543146,386.7729010798646 421.5168956927863,379.4887671081325 427.6864472139763,371.8700054775185 433.4498342826961,363.9373837154552 438.7911120587507,355.71253720610724 443.69548725685485,347.2179101836101 448.1493591139493,338.47669448670285 452.14035710159357,329.51276624187614 455.65737527888035,320.35062064789696 458.6906031904893,311.01530503983753 461.2315532239369,301.5323504155173 463.27308434975686,291.9277016115474 464.8094221782359,282.22764631993556 465.8361752764044,272.4587431394582 466.35034769921657,262.64774885871867 466.35034769921657,252.82154516999034 465.83599258945367,243.007065014573 464.8085097449467,233.2312187614727 463.2705337385806,223.5208204217447 461.2260996179141,213.9025141008121 458.6806323399626,204.40270089049312 455.64093239155784,195.04746640133544 452.11515763335655,185.8625091341719 448.112801415936,176.87306988758115 443.64466702665374,168.10386239516694 438.7228385360296,159.5790053832659 433.36064812230404,151.32195623586745 427.572639962511,143.35544644918872 421.37453078784927,135.7014190535051 414.7831672103153,128.38096817450653 407.8164799364529,121.41428090064414 400.49343499264955,114.82058161666878 392.8339820946475,108.61807895685752 384.85900030181494,102.8239155242962 376.5902411042163,97.45412051505389 368.0502690976133,92.52356537816978 359.2624004081945,88.04592263409565 350.25063903506026,84.03362796562084 341.03961128425743,80.49784568637446 331.6544984734523,77.4484376827761 322.1209680911357,74.8939359158168 312.46510359855586,72.84151855932237 302.7133330663632,71.29698984140772 292.89235684121377,70.26476364570101 283.02907444030683,69.74785091862798 273.15051087401866,69.74785091862798 263.2837425984339,70.26494633265173 253.45582330066154,71.29790227469688 243.6937097203527,72.84406917049866 234.02418771081022,74.89938952183961 224.47379874249484,77.45840853330282 215.06876705059145,80.51428857369693 205.83492762660424,84.05882743385776 196.79765525170598,88.08248033210886 187.98179476678024,92.57438560837082 179.41159277077332,97.52239403777487 171.11063093512422,102.91310168468816 163.10176111767618,108.73188620832269 155.40704245460455,114.96294652160573 148.04768060353476,121.58934569576022 141.04396930518772,128.5930569941073 134.41523442459186,135.95501290998183 128.17978062615933,143.65515707537185 122.3548408297565,151.67249889897374 116.9565285873265,159.98517078482303 111.99979351166247,168.5704877755319 107.49837988060864,177.40500945746223 103.46478853130328,186.46460395890398 99.91024215009735,195.7245138665305 96.8446540545096,205.1594238800813 94.27660055403858,214.74353002039427 92.21329696686968,224.450610201584 90.6605773595194,234.2540959743575 89.62287806627447,244.127145244179 89.10322503494058,254.04271576525332 89.10322503494058,263.97363920910135 89.62306075322519,273.8926956048535 90.66148979280855,283.7726879472979 92.21584757804597,293.5865167681876 94.28205416006139,303.30725446633994 96.85462490503633,312.9082191926517 99.92668503741982,322.3630480873008 103.4899879995402,331.64576966811165 107.53493757862185,340.7308751713174 112.0506137418635,349.5933886487546 117.02480211004747,358.2089356288674 122.44402699014846,366.55381015276714 128.2935878776245,374.6050400009845 134.5575993295288,382.34044993144414 141.2190341003038,389.7387227545852 148.2597694231355,396.7794580774169 155.66063631108128,403.44322855463327 163.4014717438593,409.7116334916871 171.46117359823052,415.56734965193147 179.81775817233049,420.99417912754916 188.4484201471452,425.9770941419931 197.32959482158708,430.50227866002666 206.43702245133636,434.55716669016255 215.74581451578652,438.130477173328 225.23052173208305,441.2122453609051 234.86520363039241,443.7938505948879 244.623499500192,445.86804041273126 254.47870051354636,447.4289509095172 264.4038228280399,448.4721233003003 274.3716814692816,448.9945166358951 284.35496479068945,448.9945166358951 294.326309306609,448.4719406133496 304.2583746937255,447.42803847622804 314.12391875519603,445.865489801555 323.89587214195825,443.7883969888651 333.5474126262664,441.20227451037846 343.0520387236612,438.11403428600556 352.3836424612957,434.5319672219256 361.516581092809,430.4657209620134 370.4257475627578,425.92627391179207 379.08663952697646,420.9259056048282 387.4754267391269,415.47816349153953 395.5690166181135,409.597826240222 403.34511781596115,403.3008636496964 410.7823016111734,396.6043932823009 417.8600609584898,389.52663393498455 424.55886703232665,382.08685607496756 430.8602231080017,374.3053293748015 436.74671563208756,366.20326748966096 442.20206234089295,357.80277022731036 447.21115729411684,349.12676326838977 451.76011269913005,340.1989356014364 455.8362974100965,331.0436748433796 459.42837199522154,321.6860006221058 462.526320274788,312.1514962030636 465.1214772422825,302.46623854675784 467.20655329080034,292.6567269883484 468.7756546770219,282.7498107344132 469.8243001653433,272.7726153752476 470.3494338051989,262.7524686138385 470.3494338051989,252.7168254148708 469.82411747839257,242.6931927787839 468.77474224373276,232.70905434699534 467.20400267962407,222.79179504494397 465.1160236362597,212.96862596957186 462.5163494242613,203.26650972726733 459.411929107899,193.71208642712682 455.8110979418595,184.33160053266863 451.7235550011167,175.15082877284783 447.1603370639157,166.19500931038755 442.13378881817187,157.48877236206303 436.6575294716955,149.05607246166193 430.74641585653643,140.920122551906 424.41650212738955,133.10333008667033 417.68499616337357,125.62723531938684 410.57021279157254,118.5124519475858 403.09152395948433,111.77861027712846 395.26930599193025,105.44430306283208 387.12488407602046,99.5270341749047 378.68047412541915,94.0431702329116 369.9591221823927,89.00789534090781 360.9846415229278,84.4351690489149 351.7815476365635,80.3376876571179 342.374991258466,76.72684897003327 332.7906896366781,73.6127205984774 323.054856222376,71.0040118974712 313.19412897535665,68.90804961827887 303.2354974808406,67.33075734262164 293.20622907700294,66.27663875676207 283.13379419542645,65.7487648126456 273.04579111889893,65.7487648126456 262.9698703626446,66.27682144371279 252.933658886184,67.3316697759108 242.9646843435518,68.91060022945516 233.09029957956983,71.00946550349401 223.3376075792689,73.62269144900412 213.73338707638268,76.74329185735576 204.30401902510084,80.36288712535485 195.07541413697254,84.47172674692814 186.07294168200073,89.05871557110888 177.32135974957035,94.11144375563262 168.8447471609186,99.61622033529669 160.66643722039333,105.55811031429728 152.80895348776966,111.92097518206543 145.29394774841495,118.68751674270189 138.14214035212925,125.83932413898759 131.37326308505143,133.35692394314705 125.00600473213377,141.21983317808912 119.05795948036489,149.40661512476822 113.5455783051841,157.8949377636202 108.48412347440038,166.66163469075252 103.88762629542776,175.68276834272893 99.7688482228002,184.93369535740075 96.13924543375602,194.3891338923219 93.00893697021075,204.02323271685552 90.38667653569284,213.80964188915402 88.27982802582603,223.72158482478324 86.69434486073317,233.7319315598801 85.63475317733538,243.81327300838984 85.10413892895806,253.93799601013373 85.10413892895806,264.0783589642211 85.63493586428612,274.2065678406428 86.69525729402233,284.29485236177544 88.28237863700232,294.3155421449885 90.39213014171567,304.24114259758034 93.0189078207375,314.04441035587763 96.15568832107851,323.69842806150956 99.79404769103716,333.1766782696151 103.92418399344102,342.4531162860509 108.53494370460145,351.5022417335342 113.61385182790511,360.29916865007044 119.14714564075688,368.8196939269729 125.11981198359898,377.04036389826746 131.51562798998842,384.93853889827915 138.31720514724537,392.4924556097051 145.50603656801573,399.68128703047546 153.0625473442464,406.4851998941738 160.9661478465765,412.8854093857127 169.1952898240249,418.8642310013231 177.72752515112754,424.4051294096916 186.53956706236573,429.49276417925523 195.60735370685367,434.11303224520753 204.90611384983302,438.25310699866566 214.4104345415778,441.90147388966943 224.09433056885715,445.04796244520406 233.93131549915205,447.6837746132337 243.89447412339115,449.801509353775 253.95653609906887,451.39518340830347 264.08995059225066,452.46024818923945 274.26696171416194,452.9936027418776 284.4596845458092,452.9936027418776 294.6401815423983,452.4600655022887 304.780539108203,451.3942709750143 314.85294413199694,449.79895874259864 324.82976027319864,447.6783210072108 334.68360378949234,445.03799159467724 344.38741869787,441.8850310023468 353.91455106279915,438.2279075304286 363.2388222075425,434.07647454719415 372.3346006475374,429.441943949054 381.1768725481795,424.3368558869704 389.7413105133326,418.77504484093095 398.00434051539645,412.7716021342473 405.94320678279615,406.34283498923656 413.5360344662933,399.50622223535913 420.76188991154834,392.2803667901041 427.60083837186716,384.68494504180217 434.0339990020274,376.74065327208405 440.0435969814793,368.4691512638663 445.6130126230355,359.893003248513 450.72682733137907,351.03561635316896 455.3708662843111,341.9211767161695 459.53223771859973,332.57458344488265 463.19936871156307,323.0213805963142 466.3620373590871,313.28768736628916 469.0114012606284,303.4001266779979 471.14002223184417,293.3857523651489 472.7418871758083,283.2719751488903 473.8124250542825,273.08648761103643 474.34851991118154,262.8571883689578 474.34851991118154,252.61210565975074 473.81224236733175,242.37932054299426 472.7409747425191,232.18688993251746 471.1374716206678,222.06276966814272 469.0059476546055,212.03473783833113 466.35206650856026,202.13031856404106 463.18292582424044,192.37670645291774 459.50703825036265,182.80069193116492 455.3343085862977,173.42858765811405 450.6760071011779,164.28615622560767 445.5447391003144,155.3985393408597 439.95441082108727,146.79018868745595 433.92019175056214,138.4847986546228 427.4584734669301,130.5052411198351 420.5868251164322,122.8735024642667 413.3239456466925,115.61062299452702 405.68961292631934,108.73663893758771 397.7046298892132,102.27052716880621 389.3907678502262,96.23015282551277 380.77070714662227,90.6322199507689 371.86797526717237,85.49222530364543 362.70688263766135,80.82441546373374 353.312456238067,76.64174734861453 343.7103712326749,72.95585225369165 333.92688079990415,69.77700351417823 323.9887443536165,67.11408787912515 313.92315435215767,64.97458067723491 303.7576618953182,63.364524843835106 293.5201013127923,62.28851386782269 283.23851395054623,61.74967870666279 272.9410713637793,61.74967870666279 262.6559981268554,62.28869655477341 252.41149447170656,63.36543727712426 242.23565896675098,64.9771312884112 232.1564114483295,67.11954148514798 222.20141641604303,69.78697436470497 212.398007102174,72.97229514101414 202.77311042359753,76.66694681685148 193.35317302223916,80.86097316174698 184.16408859722125,85.5430455338465 175.23112672836743,90.70049347348991 166.57886338671298,96.31933898590478 158.23111332311052,102.38433442027143 150.2108645209348,108.87900384252471 142.54021489329517,115.78568778964315 135.24031139907083,123.0855912838675 128.33129174551104,130.75883497631187 121.83222883810825,138.784509280806 115.7610781309733,147.1407313505623 110.13462802304173,155.80470474241693 104.96845343713834,164.75278160597273 100.27687271024695,173.96052722799524 96.07290791429719,183.40278675589713 92.36824871741474,193.05375391811287 89.17321988591195,202.88704155362933 86.49675251734713,212.87575375791337 84.3463590847824,222.9925594479821 82.72811236194696,233.20976714540237 81.64662828839631,243.49940077260035 81.10505282297557,253.8332762550138 81.10505282297557,264.18307871934053 81.64681097534705,274.5204400764318 82.72902479523611,284.81701677625273 84.3489096959587,295.0445675217892 86.50220612336994,305.17503072882056 89.18319073643866,315.1806015191034 92.38469160473721,325.0338080357181 96.09810738253411,334.7075868711182 100.31343040826016,344.1753574007841 105.01927366733936,353.41109481831353 110.20290154576271,362.3894016712732 115.85026429136526,371.0855777011783 121.94603608957343,379.4756877955501 128.473656650448,387.5366278651138 135.4153761941869,395.2461884648246 142.75230371289592,402.5831159835336 150.46445837741152,409.5271712337139 158.53082394929365,416.05918527973796 166.92940604981928,422.1611123507144 175.63729212992456,427.8160796918337 184.63071397758623,433.008434216517 193.88511259212027,437.72378583038807 203.37520524832968,441.94904730716837 213.0750545673691,445.6724706060104 222.95813940563124,448.88367952950256 232.99742736791168,451.5736986315791 243.16544874659027,453.7349782948183 253.43437168459138,455.3614159070894 263.7760783564614,456.44837307817824 274.16224195904226,456.9926888478598 284.56440430092886,456.9926888478598 294.95405377818753,456.44819039122746 305.30270352268053,455.3605034738002 315.5819695087978,453.73242768364196 325.763648404439,451.5682450255562 335.8197949527182,448.8737086789758 345.7227986720786,445.6560277186878 355.4454596643024,441.92384783893135 364.96106332227583,437.68722813237474 374.24345373231677,432.95761398631583 383.26710556938235,427.74780616911255 392.00719428753814,422.0719261903223 400.43966441267924,415.9453780282726 408.541295749631,409.3848063287768 416.2897673214131,402.4080511884174 423.6637188646068,395.0340996452237 430.64280971140755,387.2830340086369 437.2077748960529,379.1759771693667 443.3404783308709,370.73503503807177 449.0239629051779,361.9832362697158 454.2424973686411,352.94446943794827 458.9816198694919,343.6434178309027 463.2281780271028,334.1054920463858 466.97036542790437,324.35676057052274 470.1977544433859,314.42387852951487 472.9013252789742,304.33401480923806 475.0734911728879,294.1147777419496 476.7081196745946,283.79413956336765 477.80054994322165,273.40035984682555 478.34760601716414,262.96190812407735 478.34760601716414,252.50738590463092 477.80036725627093,242.06544830720486 476.70720724130547,231.6647255180398 475.0709405617116,221.33374429134167 472.8958716729514,211.10084970709056 470.1877835928592,200.99412740081496 466.9539225405819,191.0413264787088 463.2029785588659,181.26978332966135 458.94506217147875,171.70634654338042 454.1916771384402,162.37730314082793 448.95568938245697,153.3083063196565 443.251292170479,144.52430491325006 437.09396764458785,136.04947475733968 430.50044480647074,127.90715215299991 423.48865406949085,120.11976960914662 416.0776785018125,112.70879404146828 408.28770189315446,105.694667598047 400.1399537864963,99.09675127478037 391.656651624432,92.93327147612088 382.8609401678254,87.2212696686262 373.776828351952,81.97655526638304 364.42912375239496,77.21366187855259 354.84336483957054,72.94580704011118 345.0457512068838,69.18485553735005 335.0630719631302,65.9412864298791 324.922632484857,63.22416386077912 314.65217972895863,61.04111173619096 304.27982630979585,59.398292345048574 293.8339735485817,58.300388978883305 283.3432337056661,57.75059260067998 272.8363516086598,57.75059260067998 262.34212589106636,58.300571665834035 251.88933005722924,59.39920477833774 241.50663358995027,61.04366234736726 231.2225233170893,63.22961746680194 221.0652252528173,65.95125728040583 211.06262712796547,69.20129842467253 201.24220182209436,72.97100650834813 191.63093190750592,77.25021957656583 182.2552355124419,82.02737549658411 173.14089370716462,87.28954319134722 164.31297961250752,93.02245763651287 155.79578942582785,99.21055852624558 147.61277555410007,105.83703250298399 139.78648203817556,112.8838588365844 132.33848244601256,120.3318584287474 125.2893204059708,128.16074600947667 118.65845294408288,136.34918538352284 112.46419678158188,144.8748475763564 106.7236777408995,153.71447172121367 101.45278339987642,162.84392852119294 96.66611912506626,172.23828611326155 92.3769676057943,181.8718781543935 88.59725200107361,191.71837394390388 85.33750280161328,201.75085039040314 82.60682849900158,211.94186562667272 80.41289014373895,222.26353407118094 78.76187986316091,232.6876027309246 77.65850339945743,243.18552853681084 77.10596671699325,253.72855649989384 77.10596671699325,264.28779847446 77.65868608640817,274.8343123122208 78.76279229645007,285.33918119072996 80.41544075491524,295.77359289858975 82.6122821050244,306.1089188600606 85.34747365214001,316.316792682329 88.6136948883961,326.3691880099265 92.40216707403125,336.2384954726213 96.7026768230795,345.89759851551725 101.50360363007748,355.3199479030928 106.7919512636205,364.47963469247594 112.55338294197385,373.3514614753837 118.77226019554807,381.9110116928327 125.43168531090777,390.1347168319485 132.51354724112866,397.99992131994424 139.99857085777631,405.4849449365919 147.86636941057682,412.56914257325417 156.095500052011,419.2329611737634 164.66352227561384,425.45799370010593 173.54705910872178,431.227029973976 182.72186089280692,436.524104253779 192.16287147738706,441.3345394155688 201.84429664682654,445.6449876156713 211.7396745931606,449.4434673223516 221.82194824240557,452.7193966138013 232.06353923667155,455.46362264992473 242.43642336978962,457.66844723586183 252.9122072701141,459.3276484058755 263.4622061206724,460.4364979671172 274.0575222039228,460.99177495384225 284.66912405604876,460.99177495384225 295.267926013977,460.43631528016647 305.8248679371582,459.32673597258633 316.31099488559886,457.6658966246855 326.6975365356796,455.4581690439019 336.95598611594437,452.70942576327457 347.0581786462876,449.4270244350291 356.97636826580606,445.6197881474344 366.68330443700955,441.2979817175556 376.1523068170966,436.47328402357795 385.35733859058564,431.158756451255 394.27307806174406,425.36880753971394 402.87498830996236,419.1191539222982 411.13938471646617,412.42677766831724 419.04350017653314,405.30988014147584 426.56554781766545,397.78783250034354 433.6847810509482,389.88112297547184 440.3815507900787,381.6113010666496 446.6373596802627,373.00091881227746 452.43491318732043,364.07346929091887 457.75816740590335,354.85332252272786 462.5923734546729,345.3656589456362 466.92411833560595,335.6364006478892 470.7413621442458,325.6921405447315 474.03347152768487,315.56006969274085 476.79124929732,305.2679029404785 479.0069601139316,294.84380311875054 480.6743521733809,284.3163039778452 481.7886748321608,273.71423208261484 482.3466921231467,263.06662787919703 482.3466921231467,252.40266614951125 481.78849214521006,241.75157607141563 480.67343974009174,231.14256110356231 479.00440950275527,220.60471891454083 476.78579569129715,210.16696157585022 474.0235006771581,199.85793623758906 470.7249192569233,189.7059465045001 466.898918867369,179.738874728158 462.5558157566596,169.984105428647 457.70734717570224,160.46845005604845 452.36663966459935,151.21807329845356 446.5481735198706,142.25842113904446 440.26774353861333,133.61415086005687 433.5424161460111,125.30906318616506 426.3904830225492,117.36603675402687 418.8314113569322,109.80696508840988 410.8857908599893,102.65269625850664 402.57527768377906,95.92297538075488 393.9225353986376,89.63639012672932 384.95117318902834,83.81031938648387 375.6856814367315,78.46088522912102 366.15136486712834,73.60290829337178 356.37427344107385,69.24986673160818 346.3811311810925,65.41385882100879 336.19926312635613,62.105569345580314 325.8565206160974,59.33423984243344 315.38120510575953,57.10764279514738 304.80199072427337,55.432059846262405 294.14784578437093,54.31226408994428 283.44795346078575,53.75150649469752 272.73163185354014,53.75150649469752 262.0282536552771,54.31244677689501 251.36716564275173,55.432972279551564 240.7776082131494,57.11019340632367 230.2886351858489,59.33969344845626 219.92903408959137,62.11554019610704 209.7272471537567,65.43030170833127 199.71129322059096,69.27506619984511 189.90869079277246,73.63946599138501 180.34638242766238,78.51170545932207 171.05066068596162,83.87859290920487 162.04709583830186,89.72557628712131 153.36046552854498,96.03678263222008 145.01468658726515,102.79506116344362 137.03274918305573,109.982029883526 129.4366534929541,117.57812557362763 122.24734906643036,125.5626570426418 115.48467705005733,133.91386148624002 109.16731543219026,142.60896380215078 103.31272745875711,151.62423870001072 97.93711336261434,160.93507543641343 93.0553655398854,170.51604499852814 88.68102729729124,180.34096955289016 84.82625528473228,190.38299396969518 81.50178571731442,200.61465922717727 78.71690448065583,211.00797749543239 76.47942120269528,221.5345086943801 74.79564736437466,232.1654383164471 73.67037851051832,242.8716563010216 73.1068806110107,253.62383674477417 73.1068806110107,264.39251822957965 73.67056119746904,275.14818454801 74.7965597976638,285.8613456052075 76.48197181387155,296.50261827539066 78.72235808667862,307.042806991301 81.51175656784113,317.4529838455549 84.84269817205474,327.7045679841353 88.70622676552816,337.7694040741247 93.09192323789861,347.6198396302507 97.98793359281537,357.2288009878723 103.38100098147808,366.56986771367895 109.25650159258221,375.6173452495894 115.59848430152249,384.3463355901156 122.3897139713673,392.73280579878343 129.61171828807016,400.75365417506407 137.24483800265648,408.3867738896504 145.26828044374187,415.6111139127946 153.6601761547281,422.4067370677889 162.39763850140815,428.7548750494975 171.45682608751875,434.63798025611834 180.81300780802732,440.039774291041 190.44063036265356,444.94529300074964 200.3133880453231,449.34092792417437 210.4042946189518,453.2144640386929 220.68575707917958,456.5551136981001 231.1296511054311,459.35354666827044 241.7073979929887,461.60191617690543 252.39004285563655,463.2938809046617 263.14833388488313,464.42462285605626 273.9528024488031,464.99086105982474 284.7738438111684,464.99086105982474 295.58179824976617,464.42444016910554 306.3470323516357,463.29296847137255 317.0400202623997,461.59936556572916 327.63142466691994,459.3480930622476 338.09217727917024,456.54514284757335 348.3935586204963,453.19802115137037 358.5072768673094,449.3157284559374 368.40554555174293,444.90873530273643 378.06115990187607,439.98895406084 387.44757161178853,434.56970673339737 396.53896183594964,428.6656888891055 405.31031220724515,422.29292981632375 413.737473683301,415.46874900785764 421.79723303165287,408.2117090945343 429.46737677072383,400.5415653554633 436.72675239048857,392.4792119423067 443.55532668410416,384.0466249639324 449.93424102965423,375.26680258648304 455.84586346946276,366.16370231212176 461.27383744316535,356.7621756075073 466.20312703985365,347.0879000603695 470.6200586441089,337.1673092493925 474.51235886058697,327.02752051894015 477.8691886119836,316.69626085596667 480.6811733156656,306.2017910717188 482.9404290549751,295.57282849555133 484.640584672167,284.8384683923226 485.77679972109974,274.02810431840396 486.34577822912905,263.1713476343166 486.34577822912905,252.29794639439143 485.776617034149,241.43770383562625 484.63967223887784,230.62039668908469 482.9378784437988,219.8756935377398 480.6757197096428,209.23307344460972 477.8592177614569,198.721745074363 474.4959159732645,188.37056653029126 470.594859175872,178.20796612665453 466.16656934184044,168.26186431391346 461.2230172129643,158.5595969712688 455.7775899467417,149.12784027725044 449.8450548692622,139.99253736483868 443.44151943263887,131.17882696277388 436.5843874855515,122.71097421933003 429.2923119756076,114.61230389890692 421.585144212052,106.90513613535128 413.48387982682414,99.61072491896607 405.01060158106185,92.74919948672918 396.18841917284317,86.33950877733757 387.04140621023123,80.39936910434132 377.5945345215109,74.9452151918588 367.87360598186166,69.99215470819078 357.9051820425771,65.55392642310497 347.7165111553011,61.64286210466733 337.3354542895819,58.26985226128133 326.7904087473376,55.44431582408757 316.11023048256027,53.17417385410359 305.3241551387507,51.465827347476036 294.46171802016,50.32413920100506 283.55267321590526,49.752420388714874 272.62691209842023,49.752420388714874 261.71438141948767,50.32432188795579 250.84500122827401,51.466739780765195 240.0485828363483,53.17672446527988 229.3547470546083,55.449769430110386 218.79284292636524,58.279823111808064 208.39186717954777,61.65930499198982 198.1803846190874,65.57912589134192 188.18644967803883,70.02871240620402 178.43752934288264,74.99603542205986 168.9604276647584,80.46764262706233 159.781212064096,86.42869493772956 150.92514163126188,92.86300673819439 142.41659762043,99.75308982390304 134.27901632793566,107.08020093046738 126.53482453989538,114.82439271850767 119.20537772688968,122.96456807580675 112.31090115603152,131.47853758895704 105.8704340827984,140.343080027945 99.90177717661444,149.5340056788076 94.421443325352,159.02622235163378 89.44461195470429,168.79380388379457 84.98508698878793,178.81006095138665 81.05525856839073,189.0476139954863 77.66606863301534,199.4784680639512 74.82698046230985,210.07408936419185 72.5459522616514,220.80548331757907 70.82941486558819,231.64327390196948 69.68225362157901,242.55778406523223 69.10779450502795,253.51911698965438 69.10779450502795,264.4972379846992 69.68243630852973,275.4620567837992 70.83032729887735,286.3835100196849 72.54850287282768,297.23164365219145 74.83243406833266,307.9766951225413 77.67603948354206,318.5891750087807 81.0717014557132,329.03994795834393 85.01028645702486,339.300312675628 89.48116965271751,349.34208074498406 94.47226355555304,359.1376540726518 99.97005069933545,368.6601007348819 105.95962024319037,377.88322902379497 112.42470840749671,386.7816594873984 119.34774263182665,395.33089476561827 126.70988933501148,403.50738703018385 134.49110514753644,411.28860284270877 142.67019147690675,418.65308525233496 151.22485225744504,425.5805129618144 160.1317547272023,432.05175639888904 169.36659306631555,438.04893053826066 178.9041547232476,443.55544432830305 188.7183892479199,448.55604658593046 198.7824794438195,453.03686823267736 209.06891464474285,456.9854607550341 219.54956591595345,460.3908307823989 230.1957629741905,463.2434706866161 240.97837261618758,465.53538511794903 251.86787844115884,467.26011340344786 262.83446164909367,468.4127477449953 273.8480826936832,468.98994716580717 284.8785635662879,468.98994716580717 295.89567048555523,468.41256505804455 306.869196766113,467.2592009701587 317.76904563920044,465.5328345067727 328.56531279816016,463.23801708059324 339.228368442396,460.3808599318721 349.72893859470486,456.9690178677116 360.03818546881257,453.0116687644404 370.1277866664762,448.5194888879172 379.97001298665543,443.50462409810194 389.53780463299137,437.98065701553963 398.8048456101551,431.962570238497 407.7456361045278,425.4667057103491 416.3355626501357,418.51072034739786 424.55096588677253,411.11353804759256 432.36920572378216,403.2952982105829 439.76872373002885,395.0773009091414 446.7291025781296,386.4819488612151 453.23112237904576,377.5326863606885 459.2568137516051,368.2539353333246 464.78950748042735,358.67102869228665 469.81388062503447,348.8101411751028 474.31599895261195,338.6982178508957 478.2833555769283,328.3629004931487 481.7049056962824,317.8324520191924 484.57109733401137,307.13567920295895 486.8738979960188,296.301853872352 488.60681717095326,285.3606328067999 489.76492461003886,274.341976554193 490.34486433511165,263.2760673894361 490.34486433511165,252.19322663927156 489.76474192308814,241.12383159983682 488.6059047376641,230.09823227460697 486.87134738484247,219.1466681609387 484.5656437279885,208.2991853133691 481.69493484575565,197.58555391113686 478.26691268960576,187.03518655608227 474.290799484375,176.6770575251509 469.77732292702126,166.53962319917977 464.73868725022635,156.650743886489 459.1885402288841,147.03760725604718 453.14193621865377,137.72665359063276 446.6152953266644,128.74350306549076 439.6263588250919,120.11288525249485 432.1941409286661,111.85857104378684 424.33887706717184,104.00330718229257 416.0819687936591,96.56875357942539 407.44592547834475,89.57542359270337 398.45430294704886,83.0426274279457 389.1316392314343,76.98841882219867 379.5033876062905,71.42954515459645 369.59584709659515,66.38140112300967 359.43609064408054,61.85798611460166 349.0518911295099,57.871865388325766 338.4716454528079,54.43413517698223 327.72429687857806,51.554391805741574 316.83925585936123,49.24070491305969 305.8463195532283,47.49959484868955 294.77559025594934,46.33601431206572 283.65739297102505,45.753334282732105 272.5221923433007,45.753334282732105 261.40050918369855,46.33619699901645 250.32283681379664,47.500507281978706 239.31955745954753,49.24325552423598 228.42085892336806,51.559845411764385 217.65665176313945,54.44410602750895 207.05648720533915,57.88830827564824 196.64947601758413,61.88318558283859 186.4642085633055,66.41795882102289 176.52867625810322,71.48036538479751 166.87019464355552,77.05669234491967 157.51532828989045,83.13181358833768 148.48981773397912,89.68923084416856 139.8185086535952,96.71111848436234 131.52528347281594,104.17837197740866 123.63299558683701,112.07065986338759 116.16340638734934,120.36647910897157 109.13712526200605,129.0432136916739 102.57355273340687,138.0771962537391 96.49082689447214,147.44377265760434 90.90577328809,157.11736926685398 85.83385836952351,167.07156276906088 81.28914668028496,177.27915234988302 77.2842618520495,187.7122340212773 73.83035154871658,198.342276900725 70.9370564439642,209.1402012329512 68.61248332060784,220.0764579407779 66.86318236680205,231.1211094874917 65.69412873264001,242.24391182944274 65.10870839904553,253.41439723453445 65.10870839904553,264.60195773981866 65.69431141959073,275.7759290195882 66.8640948000912,286.90567443416217 68.61503393178411,297.96066902899213 70.942510049987,308.91058325378145 73.84032239924329,319.72536617200643 77.30070473937197,330.3753279325524 81.31434614852188,340.8312212771311 85.87041606753672,351.0643218597172 90.95659351829103,361.046507157431 96.55910041719311,370.75033375608456 102.66273889379882,380.1491127980003 109.25093251347121,389.21698338468093 116.30577129228628,397.9289837324529 123.80806038195308,406.26111988530334 131.73737229241667,414.1904317957669 140.0721025100719,421.6950565918751 148.78952836016222,428.75428885583966 157.86587095299672,435.34863774828034 167.27636004511265,441.45988082040276 176.99530163846816,447.0711143655648 186.99614813318658,452.166800171111 197.25157084231626,456.7328085411801 207.7335346705342,460.7564574713751 218.4133747527276,464.2265478666974 229.2618748429502,467.1333947049615 240.2493472393868,469.46885405899235 251.3457140266814,471.2263459022338 262.5205894133045,472.40087263393406 273.74336293856356,472.98903327178937 284.9832833214076,472.98903327178937 296.2095427213445,472.4006899469833 307.39136118059054,471.2254334689446 318.49807101600135,469.466303447816 329.49920092940056,467.12794109893866 340.36455960562193,464.2165770161707 351.0643185689136,460.74001458405263 361.56909407031594,456.70760907294317 371.85002778120963,452.1302424730978 381.87886607143497,447.02029413536377 391.6280376541944,441.3916072976818 401.0707293843608,435.2594515878884 410.1809600018107,428.6404816043745 418.9336516169707,421.55269168693815 427.30469874189237,414.0153670006508 435.2710346768406,406.0490310657026 442.81069506956925,397.6753898759762 449.9028784721551,388.9172727584978 456.52800372843734,379.798570134894 462.66776403374746,370.3441683545274 468.30517751768946,360.5798817770661 473.42463421021534,350.53238228983616 478.011939261115,340.229126452399 482.0543522932696,329.6982804673574 485.54062278058126,318.96864318241825 488.4610213523571,308.0695673341993 490.8073669370624,297.0308792491528 492.5730496697395,285.8827972212773 493.75304949897793,274.65584878998214 494.34395044109414,263.38078714455565 494.34395044109414,252.08850688415177 493.7528668120272,240.80995936404744 492.5721372364503,229.57606786012934 490.8048163258861,218.4176427841377 488.4555677463343,207.36529718212861 485.53065193005455,196.44936274791084 482.0379094059471,185.69980658187345 477.9867397928781,175.14614892364747 473.38807651220213,164.81738208444628 468.25435728748846,154.74189080170942 462.59949051102654,144.94737423484415 456.43881756804547,135.46076981642707 449.78907122069006,126.30817916820784 442.66833016463244,117.51479628565988 435.09596988172467,109.10483818866696 427.09260992229173,101.10147822923405 418.68005776049404,93.5267822398849 409.88124937562765,86.40164769867776 400.72018672125455,79.74574607855403 391.2218722526373,73.57746854005622 381.41224069107005,67.91387511733433 371.3180882113286,62.77064753782876 360.9669992455839,58.162045806098554 350.38727110371866,54.10086867198441 339.60783661603386,50.598418092683346 328.6581850098185,47.66446778739579 317.5682812361622,45.307235972015995 306.36848396770586,43.53336234990327 295.08946249173863,42.347889423126595 283.7621127261448,41.75424817674955 272.41747258818106,41.75424817674955 261.08663694790937,42.348072110077325 249.8006723993192,43.53427478319243 238.59053208274673,45.309786583192285 227.48697079212775,47.669921393418605 216.5204605999136,50.608388943210066 205.7211072311305,54.117311559306884 195.11856741608085,58.187245274335496 184.74196744857215,62.807205235842 174.6198231733238,67.96469534753538 164.77996162235263,73.64574206277723 155.2494445156849,79.83493223894604 146.05449383669637,86.51545495014298 137.22041968676038,93.66914714482189 128.77155061769625,101.27654302435018 120.73116663377867,109.31692700826775 113.12143504780903,117.76839014213664 105.96334936798061,126.60788979439101 99.27667138401537,135.8113124795334 93.07987661232985,145.3535396364013 87.39010325082805,155.20851618207442 82.22310478434278,165.3493216543274 77.59320637178202,175.74824374837962 73.51326513570831,186.37685404706855 69.99463446441786,197.20608573749908 67.04713242561859,208.2063131017108 64.67901437956431,219.347432563977 62.89694986801594,230.59894507301416 61.70600384370105,241.93003959365345 61.10962229306314,253.30967747941472 61.10962229306314,264.7066774949383 61.70618653065178,276.0898012553774 62.897862301305096,287.4278388486396 64.6815649907406,298.689694405793 67.0525860316414,309.84447138502185 70.00460531494458,320.86155733523236 73.52970802303079,331.7107079067612 77.61840584001897,342.3621298786345 82.25966248235602,352.7865629744507 87.4409234810291,362.9553602422106 93.14815013505087,372.8405667772876 99.36585754440736,382.414996572206 106.07715661944582,391.65230728196383 113.26379995274601,400.5270726992878 120.90623142889478,409.0148527404232 128.98363943729703,417.0922607488254 137.47401354323713,424.7370279314156 146.35420446287952,431.92806474986526 155.59998717879122,438.64551909767204 165.18612702390982,444.87083110254525 175.0864485536888,450.586784402827 185.27390701845331,455.7775537562919 195.72066224081306,460.42874884968325 206.39815469632563,464.5274541877165 217.27718358950187,468.06226495099634 228.32798671171,471.02331872330734 239.5203218625861,473.4023230000361 250.8235496122041,475.1925784010201 262.20671717751543,476.38899752287324 273.6386431834441,476.988119377772 285.0880030765275,476.988119377772 296.523414957134,476.3888148359225 307.9135255950683,475.191665967731 319.2270963928024,473.39977238885984 330.4330890606411,471.01786511728454 341.50075076884804,468.0522941004696 352.39969854312255,464.51101130039405 363.10000267181954,460.4035493814463 373.5722688959433,455.7409960582787 383.78771915621473,450.53596417262594 393.7182706753976,444.8025575798242 403.3366131585667,438.55633293728005 412.61628389909384,431.8142574984001 421.53174058380586,424.5946630264786 430.05843159701243,416.9171959537093 438.1728636298993,408.80276392082243 445.85266640910993,400.2734788428111 453.0766543661809,391.35259665578064 459.82488507782915,382.06445390909965 466.07871431589007,372.4344013757304 471.82084755495174,362.48873486184556 477.0353877953964,352.25462340456954 481.7078795696182,341.7600350539023 485.82534900961105,331.03366044156604 489.37633986488026,320.1048343456441 492.35094537070296,309.00345546543963 494.74083587810617,297.75990462595365 496.5392821685258,286.40496163575483 497.7411743879171,274.96972102577143 498.34303654707674,263.4855068996754 498.34303654707674,251.98378712903212 497.7409917009664,240.49608712825824 496.53836973523664,229.05390344565188 494.73828526692984,217.68861740733686 492.34549176468005,206.43140905088825 489.36636901435344,195.31317158468494 485.8089061222885,184.3644266076647 481.68268010138115,173.6152403221441 476.998830097383,163.09514096971284 471.7700273247505,152.8330377169299 466.0104407931689,142.85714121364117 459.73569891743705,133.19488604222144 452.96284711471554,123.872855270925 445.7103015041728,114.91670731882499 437.997798834783,106.35110533354717 429.84634277741145,98.1996492761756 421.2781467273289,90.48481090034448 412.31657327291043,83.22787180465222 402.9860704954601,76.44886472916244 393.3121052738402,70.16651825791382 383.3210937758495,64.39820508007224 373.0403293260619,59.1598939526479 362.49790784708716,54.46610549759549 351.72265107792725,50.32987195564309 340.7440277792596,46.7627010083845 329.59207314105873,43.774543769050055 318.29730661296287,41.373767030972346 306.8906483821832,39.56712985111704 295.40333472752775,38.35976453418751 283.8668324812643,37.75516207076703 272.31275283306115,37.75516207076703 260.7727647121199,38.359947221138235 249.2785079848415,39.56804228440619 237.86150670594563,41.37631764214863 226.55308266088716,43.77999737507286 215.38426943668748,46.77267185891121 204.38572725692154,50.34631484296556 193.58765881457725,54.49130496583243 183.0197263338385,59.19645165066113 172.71097008854403,64.4490253102733 162.68972860114943,70.23479178063482 152.983560741479,76.53805088955441 143.61916993941327,83.34167905611741 134.62233071992523,90.62717580528145 126.01781776257619,98.3747140712917 117.82933768071996,106.56319415314793 110.07946370826835,115.17030117530173 102.78957347395482,124.17256589710816 95.97979003462352,133.54542870532777 89.6689263301872,143.26330661519836 83.87443321356571,153.29966309729494 78.61235119916167,163.627080539594 73.8972660632787,174.21733514687628 69.74226841936674,185.04147407285984 66.15891738011877,196.06989457427318 63.1572084072726,207.27242497047047 60.745545438520416,218.6184071871762 58.93071736922946,230.07678065853673 57.71787895476172,241.61616735786427 57.110536187080385,253.2049577242951 57.110536187080385,264.81139725005806 57.71806164171245,276.4036734911667 58.93162980251862,287.9500032631172 60.748096049696706,299.4187197825939 63.16266201329542,310.77835951626224 66.16888823064549,321.9977484984583 69.75871130668922,333.04608788096994 73.92246553151566,343.8930384801379 78.6489088971749,354.50880408918414 83.92525344376676,364.8642133269901 89.7371998529082,374.9307997984906 96.0689761950155,384.6808803464117 102.90338072542,394.0876311792467 110.22182861320532,403.1251616661228 118.00440247583606,411.7685855955431 126.22990658217695,419.994089701884 134.87592457640199,427.7789992709561 143.91888056559642,435.1018406438909 153.33410340458533,441.94240044706373 163.0958940027066,448.28178138468775 173.17759546890903,454.10245444008916 183.55166590371962,459.3883073414729 194.18975363930943,464.1246891581864 205.06277472211664,468.2984509040579 216.1409924262757,471.8979820352953 227.39409858046935,474.91324274165316 238.79129648578495,477.33579194107983 250.30138519772635,479.15881089980644 261.89284494172597,480.37712241181237 273.5339234283242,480.98720548375456 285.192722831647,480.98720548375456 296.83728719292304,480.37693972486164 308.43569000954557,479.1578984665173 319.9561217696031,477.33324132990356 331.36697719188135,474.90778913563037 342.6369419320738,471.8880111847686 353.73507851733115,468.28200801673546 364.63091127332274,464.09948968994945 375.29451001067656,459.35174964345964 385.6965722409941,454.0516342098881 395.80850369660044,448.2135078619667 405.60249693277217,441.85321428667174 415.0516077963765,434.98803339242573 424.1298295506406,427.6366343660191 432.8121644521321,419.8190249067679 441.07469258295765,411.5564967759423 448.89463774865027,402.8715678096461 456.2504302602064,393.7879205530636 463.1217664272207,384.3303376833054 469.4896645980324,374.5246343969335 475.33651759221374,364.3975879466252 480.64614138057715,353.9768645193031 485.4038198781212,343.2909436554058 489.5963457259523,332.3690404157749 493.21205694917904,321.24102550887017 496.24086938904867,309.93734359668014 498.6743048191498,298.48893000275467 500.50551466731207,286.92712605023246 501.72929927685624,275.2835932615608 502.3421226530593,263.5902266547952 502.3421226530593,251.87906737391253 501.7291165899055,240.1822148924691 500.5046022340229,228.53173903117448 498.67175420797355,216.9595920305361 496.23541578302587,205.497520919648 493.20208609865233,194.17698042145915 489.57990283862983,183.02904663345612 485.37862040988426,172.08433172064088 480.60958368256394,161.37289985497955 475.2856973620127,150.9241846321505 469.42139107531136,140.7669081924383 463.0325802668287,130.9290022680159 456.13662300874114,121.43753137364223 448.75227284371323,112.31861835199017 440.8996277878415,103.59737247842745 432.6000756325313,95.29782032311724 423.8762356941638,87.44283956080415 414.7518971701934,80.05409591062676 405.2519542696659,73.15198337977091 395.4023382950433,66.75556797577151 385.2299468606291,60.88253504281025 374.76257044079546,55.549140367467125 364.02881644859065,50.770165189092516 353.05803105213613,46.55887523930186 341.88021894248567,42.92698392408574 330.52596127229924,39.8846197507044 319.0263319897639,37.44029808992878 307.41281279666083,35.60089735233089 295.7172069633171,34.371639645248514 283.97155223638407,33.7560759647846 272.2080330779416,33.7560759647846 260.4588924763308,34.37182233219924 248.75634357036412,35.60180978562005 237.1324813291449,37.44284870110507 225.6191945296469,39.890073356727214 214.2480782734617,42.93695477461246 203.05034728271295,46.57531812662434 192.05675021307403,50.79536465732946 181.2974852191052,55.58569806548036 170.80211700376464,60.933355273011294 160.59949557994656,66.8238414984925 150.7176769672735,73.24116954016289 141.18384604213054,80.16790316209195 132.02424175309045,87.5852044657411 123.2640849074565,95.47288511823332 114.92750872766163,103.8094612980282 107.03749236872804,112.5722122084669 99.61579757992938,121.73724199982537 92.68290868523202,131.2795449311222 86.25797604804492,141.17307359399544 80.35876317630374,151.39081001251546 75.00159761398092,161.90483942486063 70.20132575477577,172.68642654537297 65.97127170302555,183.70609409865116 62.323200295820044,194.93370341104733 59.26728438892698,206.33853683923016 56.81207649747689,217.88938181037537 54.96448487044335,229.55461624405928 53.72975406582276,241.30229512207507 53.111450081097985,253.10023796917545 53.111450081097985,264.91611700517774 53.72993675277348,276.71754572695596 54.9653973037325,288.4721676775947 56.81462710865317,300.1477451593948 59.27273799494979,311.71224764750264 62.33317114634676,323.1339396616842 65.98771459034802,334.38146785517864 70.2265252230127,345.4239470816412 75.03815531199415,356.2310452039175 80.40958340650478,366.7730664117696 86.32624957076591,377.0210328196936 92.77209484562398,386.94676412061733 99.72960483139455,396.52295507652957 107.179857273665,405.7232506329577 115.1025735227777,414.52231845066285 123.47617372705724,422.89591865494236 132.27783560956718,430.82097061049643 141.48355666831367,438.2756165379164 151.0682196303798,445.23928179645526 161.0056609815037,451.69273166683007 171.26874238412958,457.61812447735116 181.82942478898627,462.99906092665367 192.65884503780615,467.82062946668935 203.727394747908,472.06944762039916 215.00480126304984,475.73369911959406 226.46021044922904,478.8031667599988 238.06227110898413,481.2692608821234 249.7792207832489,483.12504339859254 261.57897270593674,484.3652473007513 273.42920367320454,484.98629158973694\" />'\n",
       "\n",
       "<g transform=\"rotate(-90.0,273.4,485.0) translate(273.4, 485.0)\">\n",
       "    <circle stroke=\"#63A375\" stroke-width=\"2\" fill=\"transparent\" r=\"5.5\" cx=\"0\" cy=\"0\"/>\n",
       "    <polygon points=\"0,12 2,9 -2,9\" style=\"fill:#63A375;stroke:#63A375;stroke-width:2\"/>\n",
       "</g>\n",
       "\n",
       "</svg>"
      ],
      "text/plain": [
       "<IPython.core.display.HTML object>"
      ]
     },
     "metadata": {},
     "output_type": "display_data"
    }
   ],
   "source": [
    "# Solution\n",
    "\n",
    "# quick version\n",
    "from jupyturtle import no_pen\n",
    "\n",
    "make_turtle(auto_render=False, width=550, height=550)\n",
    "\n",
    "with no_pen():\n",
    "    penup()\n",
    "    rt(90)\n",
    "    fd(150)\n",
    "    lt(90)\n",
    "\n",
    "circular_spiral(500, 3)\n",
    "render()"
   ]
  },
  {
   "cell_type": "code",
   "execution_count": null,
   "id": "78bc7040-9508-4a8c-bd44-4f7e282df63d",
   "metadata": {},
   "outputs": [],
   "source": []
  }
 ],
 "metadata": {
  "celltoolbar": "Tags",
  "colab": {
   "provenance": []
  },
  "kernelspec": {
   "display_name": "Python 3 (ipykernel)",
   "language": "python",
   "name": "python3"
  },
  "language_info": {
   "codemirror_mode": {
    "name": "ipython",
    "version": 3
   },
   "file_extension": ".py",
   "mimetype": "text/x-python",
   "name": "python",
   "nbconvert_exporter": "python",
   "pygments_lexer": "ipython3",
   "version": "3.12.2"
  }
 },
 "nbformat": 4,
 "nbformat_minor": 5
}
