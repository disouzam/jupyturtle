{
 "cells": [
  {
   "cell_type": "markdown",
   "id": "f63f440d-e0ce-45d1-8a9b-805dca927d1b",
   "metadata": {},
   "source": [
    "# The Turtle's Trail\n",
    "\n",
    "## The design and implementation of Jupyturtle (so far)"
   ]
  },
  {
   "cell_type": "markdown",
   "id": "79d58b42-0cdd-410d-929e-a9a57a35b590",
   "metadata": {},
   "source": [
    "As I reviewed Allen Downey's *Think Python Third Edition*,\n",
    "I thought he could use a simpler and more adaptable\n",
    "module to make turtle graphics, like Python's `turtle` module,\n",
    "but running inside a Jupyter Notebook instead of desktop app.\n",
    "\n",
    "I've been a big fan of turtle graphics since I taught programming\n",
    "for kids using Logo in the 1980's.\n",
    "I also wrote a Logo world (environment) for adults to practice\n",
    "programming. I called it Logol. It was inspired by the book\n",
    "*Karel the Robot* which taught algorithmic thinking through\n",
    "a software environment where learners programmed a robot to\n",
    "move and perform tasks on a grid of streets and avenues.\n",
    "You can think of it as \"turtle on rails\".\n",
    "\n",
    "The core idea of Jupyturtle I stole from Tolga Atam's\n",
    "[ColabTurtle](https://github.com/tolgaatam/ColabTurtle):\n",
    "the simplest way to draw vector graphics on a Jupyter\n",
    "Notebook is to generate SVG.\n",
    "\n",
    "### Hello Turtle World\n",
    "\n",
    "Here is the turtle's \"Hello World!\" with its output:"
   ]
  },
  {
   "cell_type": "code",
   "execution_count": 1,
   "id": "f4366e55-87e9-4adb-9377-be763804db5f",
   "metadata": {},
   "outputs": [
    {
     "data": {
      "text/html": [
       "<svg width=\"300\" height=\"150\" style=\"fill:none; stroke-linecap:round;\">\n",
       "    <rect width=\"100%\" height=\"100%\" fill=\"#F3F3F7\" />\n",
       "\n",
       "\n",
       "<path stroke=\"#663399\" stroke-width=\"2\" d=\"M 150,75 250,75 250,125\" />'\n",
       "\n",
       "<g transform=\"rotate(225.0,250.0,125.0) translate(250.0, 125.0)\">\n",
       "    <circle stroke=\"#63A375\" stroke-width=\"2\" fill=\"transparent\" r=\"5.5\" cx=\"0\" cy=\"0\"/>\n",
       "    <polygon points=\"0,12 2,9 -2,9\" style=\"fill:#63A375;stroke:#63A375;stroke-width:2\"/>\n",
       "</g>\n",
       "\n",
       "</svg>"
      ],
      "text/plain": [
       "<IPython.core.display.HTML object>"
      ]
     },
     "metadata": {},
     "output_type": "display_data"
    }
   ],
   "source": [
    "from jupyturtle import *\n",
    "\n",
    "fd(100)"
   ]
  },
  {
   "cell_type": "markdown",
   "id": "d96cab97-5205-4d94-9e45-c38f3a9f1a4a",
   "metadata": {},
   "source": [
    "The green elements are the turtle's head and body. It starts facing left by default.\n",
    "\n",
    "The purple line is the turtle's trail.\n",
    "The turtle draws a line when it moves, but there ways to move without drawing.\n",
    "\n",
    "`fd(100)` means \"move forward 100 units\".\n",
    "You can also write `forward` but after a while the two letter names become natural.\n",
    "\n",
    "`fd` is one of a few special functions known as *turtle commands*.\n",
    "Guess what these other commands do: `lt(90)`, `bk(50)`, `rt(45)`.\n",
    "\n",
    "Let's see:"
   ]
  },
  {
   "cell_type": "code",
   "execution_count": 2,
   "id": "177101e3-615f-48bf-b618-4531504bccfb",
   "metadata": {},
   "outputs": [],
   "source": [
    "lt(90)\n",
    "bk(50)\n",
    "rt(45)"
   ]
  },
  {
   "cell_type": "markdown",
   "id": "b6a5ab2e-064e-424e-ba3e-2d36ca7afb2a",
   "metadata": {},
   "source": [
    "Note that the commands were sent to the latest turtle rendered in the notebook.\n",
    "\n",
    "If you want to start a new drawing, use the `%%turtle` magic command at the top of the cell:"
   ]
  },
  {
   "cell_type": "code",
   "execution_count": 3,
   "id": "b791e5b0-2ca1-4067-9304-d7d08697994b",
   "metadata": {},
   "outputs": [
    {
     "data": {
      "text/html": [
       "<svg width=\"300\" height=\"150\" style=\"fill:none; stroke-linecap:round;\">\n",
       "    <rect width=\"100%\" height=\"100%\" fill=\"#F3F3F7\" />\n",
       "\n",
       "\n",
       "<path stroke=\"#663399\" stroke-width=\"2\" d=\"M 150,75 210,75 180,23 150,75\" />'\n",
       "\n",
       "<g transform=\"rotate(30.0,150.0,75.0) translate(150.0, 75.0)\">\n",
       "    <circle stroke=\"#63A375\" stroke-width=\"2\" fill=\"transparent\" r=\"5.5\" cx=\"0\" cy=\"0\"/>\n",
       "    <polygon points=\"0,12 2,9 -2,9\" style=\"fill:#63A375;stroke:#63A375;stroke-width:2\"/>\n",
       "</g>\n",
       "\n",
       "</svg>"
      ],
      "text/plain": [
       "<IPython.core.display.HTML object>"
      ]
     },
     "metadata": {},
     "output_type": "display_data"
    }
   ],
   "source": [
    "%%turtle\n",
    "\n",
    "fd(60)\n",
    "lt(120)\n",
    "fd(60)\n",
    "lt(120)\n",
    "fd(60)\n"
   ]
  },
  {
   "cell_type": "markdown",
   "id": "0703ffb3-dd5b-48fa-bf8d-2b5ce5142e50",
   "metadata": {},
   "source": [
    "We can (but rarely do) inspect the generated SVG:"
   ]
  },
  {
   "cell_type": "code",
   "execution_count": 4,
   "id": "7841be54-76b2-435b-ab2b-eda773aada48",
   "metadata": {},
   "outputs": [
    {
     "name": "stdout",
     "output_type": "stream",
     "text": [
      "<svg width=\"300\" height=\"150\" style=\"fill:none; stroke-linecap:round;\">\n",
      "    <rect width=\"100%\" height=\"100%\" fill=\"#F3F3F7\" />\n",
      "\n",
      "\n",
      "<path stroke=\"#663399\" stroke-width=\"2\" d=\"M 150,75 210,75 180,23 150,75\" />'\n",
      "\n",
      "<g transform=\"rotate(30.0,150.0,75.0) translate(150.0, 75.0)\">\n",
      "    <circle stroke=\"#63A375\" stroke-width=\"2\" fill=\"transparent\" r=\"5.5\" cx=\"0\" cy=\"0\"/>\n",
      "    <polygon points=\"0,12 2,9 -2,9\" style=\"fill:#63A375;stroke:#63A375;stroke-width:2\"/>\n",
      "</g>\n",
      "\n",
      "</svg>\n"
     ]
    }
   ],
   "source": [
    "print(get_turtle().get_SVG())"
   ]
  },
  {
   "cell_type": "markdown",
   "id": "c06edfda-5d3b-437d-a680-524dd5351ab8",
   "metadata": {},
   "source": [
    "The `<path>` element draws connected line segments from coordinate pairs in the `d=` attribute.\n",
    "\n",
    "The `<g>` element groups, rotates, and translates a `circle` and a `polygon` to draw the turtle."
   ]
  },
  {
   "cell_type": "code",
   "execution_count": 7,
   "id": "3bd7a320-f2e5-4f67-9efb-93539f77734b",
   "metadata": {},
   "outputs": [
    {
     "data": {
      "text/html": [
       "<svg width=\"300\" height=\"150\" style=\"fill:none; stroke-linecap:round;\">\n",
       "    <rect width=\"100%\" height=\"100%\" fill=\"#F3F3F7\" />\n",
       "\n",
       "\n",
       "<path stroke=\"#663399\" stroke-width=\"2\" d=\"M 150,75 155,75 147.7,80.3 151.7,67.9 157,84.1 140,71.8 165,71.8 141.5,88.8 151.7,57.4 163.2,92.6 130,68.5 175,68.5 135.4,97.3 151.7,46.9 169.4,101.1 120,65.3 185,65.3 129.2,105.8 151.7,36.4 175.5,109.6 110,62 195,62 123,114.3 151.7,25.9 181.7,118.1 100,58.8 205,58.8 116.8,122.8 151.7,15.4 187.9,126.6 90,55.5 215,55.5 110.6,131.3 151.7,4.8 194.1,135.1 80,52.3\" />'\n",
       "\n",
       "<g transform=\"rotate(-90.0,80.0,52.3) translate(80.0, 52.3)\">\n",
       "    <circle stroke=\"#63A375\" stroke-width=\"2\" fill=\"transparent\" r=\"5.5\" cx=\"0\" cy=\"0\"/>\n",
       "    <polygon points=\"0,12 2,9 -2,9\" style=\"fill:#63A375;stroke:#63A375;stroke-width:2\"/>\n",
       "</g>\n",
       "\n",
       "</svg>"
      ],
      "text/plain": [
       "<IPython.core.display.HTML object>"
      ]
     },
     "metadata": {},
     "output_type": "display_data"
    }
   ],
   "source": [
    "%%turtle fast\n",
    "\n",
    "def polyspi(side, angle):\n",
    "    fd(side)\n",
    "    rt(angle)\n",
    "    if side < 140:\n",
    "        polyspi(side + 4, angle)\n",
    "\n",
    "polyspi(5, 144)"
   ]
  },
  {
   "cell_type": "markdown",
   "id": "419ef68c-c21f-421b-bf7b-25e0f6430a8e",
   "metadata": {},
   "source": [
    "If you use the `fast` option with `%%turtle`, Jupyturtle skips the animation and shows the final drawing."
   ]
  },
  {
   "cell_type": "markdown",
   "id": "7e104cb0-fc3b-4105-88fa-6967e683068f",
   "metadata": {},
   "source": [
    "## Implementation details\n",
    "\n",
    "Jupyturtle is a single module `jupyturtle.py`, to make it easy to install on Jupyter Notebook kernels running on remote machines. It is also a [Proper Package™ on PyPI](https://pypi.org/project/jupyturtle/).\n",
    "\n",
    "The module exports top-level functions that work as turtle commands like `fd` etc.\n",
    "\n",
    "When each of those commands is called, it calls `get_turtle()`,\n",
    "which returns the pre-existing \"main turtle\", or creates a new one if there was no main turtle.\n",
    "The command then calls its corresponding method on the main turtle.\n",
    "So `fd(90)` is the same as `get_turtle().forward(90)`.\n",
    "\n",
    "### Metaprogramming to build commands from methods\n",
    "\n",
    "The `@command` decorator is defined and used in `jupyturtle.py` to\n",
    "register methods in the `Turtle` class that we want to work as top-level functions.\n",
    "\n",
    "...\n",
    "\n",
    "## Turtle magic\n",
    "\n",
    "The `%%turtle` magic command creates a new turtle to start a new drawing.\n",
    "The global function `make_turtle()` does the same."
   ]
  },
  {
   "cell_type": "code",
   "execution_count": null,
   "id": "559d531b-8b89-4828-bba8-a6211c14c521",
   "metadata": {},
   "outputs": [],
   "source": []
  }
 ],
 "metadata": {
  "kernelspec": {
   "display_name": "Python 3 (ipykernel)",
   "language": "python",
   "name": "python3"
  },
  "language_info": {
   "codemirror_mode": {
    "name": "ipython",
    "version": 3
   },
   "file_extension": ".py",
   "mimetype": "text/x-python",
   "name": "python",
   "nbconvert_exporter": "python",
   "pygments_lexer": "ipython3",
   "version": "3.12.2"
  }
 },
 "nbformat": 4,
 "nbformat_minor": 5
}
