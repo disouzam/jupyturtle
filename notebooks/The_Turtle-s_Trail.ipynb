{
 "cells": [
  {
   "cell_type": "markdown",
   "id": "f63f440d-e0ce-45d1-8a9b-805dca927d1b",
   "metadata": {},
   "source": [
    "# The Turtle's Trail\n",
    "\n",
    "#### The design and implementation of Jupyturtle (so far)"
   ]
  },
  {
   "cell_type": "markdown",
   "id": "79d58b42-0cdd-410d-929e-a9a57a35b590",
   "metadata": {},
   "source": [
    "As I reviewed Allen Downey's *Think Python Third Edition*,\n",
    "I thought he could use a simpler and more adaptable\n",
    "module to make turtle graphics, like Python's `turtle` module,\n",
    "but running inside a Jupyter Notebook instead of desktop app.\n",
    "\n",
    "I've been a big fan of turtle graphics since I taught programming\n",
    "for kids using Logo in the 1980's.\n",
    "I also wrote a Logo world (environment) for adults to practice\n",
    "programming. I called it Logol. It was inspired by the book\n",
    "*Karel the Robot* which taught algorithmic thinking through\n",
    "a software environment where learners programmed a robot to\n",
    "move and perform tasks on a grid of streets and avenues.\n",
    "You can think of it as \"turtle on rails\".\n",
    "\n",
    "The core idea of Jupyturtle I stole from Tolga Atam's\n",
    "[ColabTurtle](https://github.com/tolgaatam/ColabTurtle):\n",
    "the simplest way to draw vector graphics on a Jupyter\n",
    "Notebook is to generate SVG.\n",
    "\n",
    "## Hello Turtle World\n",
    "\n",
    "Here is the turtle's \"Hello World!\" with its output:"
   ]
  },
  {
   "cell_type": "code",
   "execution_count": 1,
   "id": "f4366e55-87e9-4adb-9377-be763804db5f",
   "metadata": {},
   "outputs": [
    {
     "data": {
      "text/html": [
       "<svg width=\"300\" height=\"150\" style=\"fill:none; stroke-linecap:round;\">\n",
       "    <rect width=\"100%\" height=\"100%\" fill=\"#F3F3F7\" />\n",
       "\n",
       "\n",
       "<path stroke=\"#663399\" stroke-width=\"2\" d=\"M 150,75 250,75 250,125\" />'\n",
       "\n",
       "<g transform=\"rotate(225.0,250.0,125.0) translate(250.0, 125.0)\">\n",
       "    <circle stroke=\"#63A375\" stroke-width=\"2\" fill=\"transparent\" r=\"5.5\" cx=\"0\" cy=\"0\"/>\n",
       "    <polygon points=\"0,12 2,9 -2,9\" style=\"fill:#63A375;stroke:#63A375;stroke-width:2\"/>\n",
       "</g>\n",
       "\n",
       "</svg>"
      ],
      "text/plain": [
       "<IPython.core.display.HTML object>"
      ]
     },
     "metadata": {},
     "output_type": "display_data"
    }
   ],
   "source": [
    "from jupyturtle import *\n",
    "\n",
    "fd(100)"
   ]
  },
  {
   "cell_type": "markdown",
   "id": "d96cab97-5205-4d94-9e45-c38f3a9f1a4a",
   "metadata": {},
   "source": [
    "The green elements are the turtle's head and body. It starts facing right by default.\n",
    "\n",
    "The purple line is the turtle's trail.\n",
    "The turtle draws a line when it moves, but there ways to move without drawing.\n",
    "\n",
    "`fd(100)` means \"move forward 100 units\".\n",
    "You can also write `forward` but after a while the two letter names become natural.\n",
    "\n",
    "`fd` is one of a few special functions known as *turtle commands*.\n",
    "Guess what these other commands do: `lt(90)`, `bk(50)`, `rt(45)`.\n",
    "\n",
    "Let's see:"
   ]
  },
  {
   "cell_type": "code",
   "execution_count": 2,
   "id": "177101e3-615f-48bf-b618-4531504bccfb",
   "metadata": {},
   "outputs": [],
   "source": [
    "lt(90)\n",
    "bk(50)\n",
    "rt(45)"
   ]
  },
  {
   "cell_type": "markdown",
   "id": "b6a5ab2e-064e-424e-ba3e-2d36ca7afb2a",
   "metadata": {},
   "source": [
    "Note that the commands were sent to the latest turtle rendered in the notebook.\n",
    "\n",
    "If you want to start a new drawing, use the `%%turtle` magic command at the top of the cell:"
   ]
  },
  {
   "cell_type": "code",
   "execution_count": 3,
   "id": "b791e5b0-2ca1-4067-9304-d7d08697994b",
   "metadata": {},
   "outputs": [
    {
     "data": {
      "text/html": [
       "<svg width=\"300\" height=\"150\" style=\"fill:none; stroke-linecap:round;\">\n",
       "    <rect width=\"100%\" height=\"100%\" fill=\"#F3F3F7\" />\n",
       "\n",
       "\n",
       "<path stroke=\"#663399\" stroke-width=\"2\" d=\"M 150,75 210,75 180,23 150,75\" />'\n",
       "\n",
       "<g transform=\"rotate(30.0,150.0,75.0) translate(150.0, 75.0)\">\n",
       "    <circle stroke=\"#63A375\" stroke-width=\"2\" fill=\"transparent\" r=\"5.5\" cx=\"0\" cy=\"0\"/>\n",
       "    <polygon points=\"0,12 2,9 -2,9\" style=\"fill:#63A375;stroke:#63A375;stroke-width:2\"/>\n",
       "</g>\n",
       "\n",
       "</svg>"
      ],
      "text/plain": [
       "<IPython.core.display.HTML object>"
      ]
     },
     "metadata": {},
     "output_type": "display_data"
    }
   ],
   "source": [
    "%%turtle\n",
    "\n",
    "fd(60)\n",
    "lt(120)\n",
    "fd(60)\n",
    "lt(120)\n",
    "fd(60)\n"
   ]
  },
  {
   "cell_type": "markdown",
   "id": "0703ffb3-dd5b-48fa-bf8d-2b5ce5142e50",
   "metadata": {},
   "source": [
    "We can (but rarely do) inspect the generated SVG:"
   ]
  },
  {
   "cell_type": "code",
   "execution_count": 4,
   "id": "7841be54-76b2-435b-ab2b-eda773aada48",
   "metadata": {},
   "outputs": [
    {
     "name": "stdout",
     "output_type": "stream",
     "text": [
      "<svg width=\"300\" height=\"150\" style=\"fill:none; stroke-linecap:round;\">\n",
      "    <rect width=\"100%\" height=\"100%\" fill=\"#F3F3F7\" />\n",
      "\n",
      "\n",
      "<path stroke=\"#663399\" stroke-width=\"2\" d=\"M 150,75 210,75 180,23 150,75\" />'\n",
      "\n",
      "<g transform=\"rotate(30.0,150.0,75.0) translate(150.0, 75.0)\">\n",
      "    <circle stroke=\"#63A375\" stroke-width=\"2\" fill=\"transparent\" r=\"5.5\" cx=\"0\" cy=\"0\"/>\n",
      "    <polygon points=\"0,12 2,9 -2,9\" style=\"fill:#63A375;stroke:#63A375;stroke-width:2\"/>\n",
      "</g>\n",
      "\n",
      "</svg>\n"
     ]
    }
   ],
   "source": [
    "print(get_turtle().get_SVG())"
   ]
  },
  {
   "cell_type": "markdown",
   "id": "c06edfda-5d3b-437d-a680-524dd5351ab8",
   "metadata": {},
   "source": [
    "The `<path>` element draws connected line segments from coordinate pairs in the `d=` attribute.\n",
    "\n",
    "The `<g>` element groups, rotates, and translates a `circle` and a `polygon` to draw the turtle."
   ]
  },
  {
   "cell_type": "code",
   "execution_count": 5,
   "id": "3bd7a320-f2e5-4f67-9efb-93539f77734b",
   "metadata": {},
   "outputs": [
    {
     "data": {
      "text/html": [
       "<svg width=\"300\" height=\"150\" style=\"fill:none; stroke-linecap:round;\">\n",
       "    <rect width=\"100%\" height=\"100%\" fill=\"#F3F3F7\" />\n",
       "\n",
       "\n",
       "<path stroke=\"#663399\" stroke-width=\"2\" d=\"M 150,75 155,75 147.7,80.3 151.7,67.9 157,84.1 140,71.8 165,71.8 141.5,88.8 151.7,57.4 163.2,92.6 130,68.5 175,68.5 135.4,97.3 151.7,46.9 169.4,101.1 120,65.3 185,65.3 129.2,105.8 151.7,36.4 175.5,109.6 110,62 195,62 123,114.3 151.7,25.9 181.7,118.1 100,58.8 205,58.8 116.8,122.8 151.7,15.4 187.9,126.6 90,55.5 215,55.5 110.6,131.3 151.7,4.8 194.1,135.1 80,52.3\" />'\n",
       "\n",
       "<g transform=\"rotate(-90.0,80.0,52.3) translate(80.0, 52.3)\">\n",
       "    <circle stroke=\"#63A375\" stroke-width=\"2\" fill=\"transparent\" r=\"5.5\" cx=\"0\" cy=\"0\"/>\n",
       "    <polygon points=\"0,12 2,9 -2,9\" style=\"fill:#63A375;stroke:#63A375;stroke-width:2\"/>\n",
       "</g>\n",
       "\n",
       "</svg>"
      ],
      "text/plain": [
       "<IPython.core.display.HTML object>"
      ]
     },
     "metadata": {},
     "output_type": "display_data"
    }
   ],
   "source": [
    "%%turtle fast\n",
    "\n",
    "def polyspi(side, angle):\n",
    "    fd(side)\n",
    "    rt(angle)\n",
    "    if side < 140:\n",
    "        polyspi(side + 4, angle)\n",
    "\n",
    "polyspi(5, 144)"
   ]
  },
  {
   "cell_type": "markdown",
   "id": "419ef68c-c21f-421b-bf7b-25e0f6430a8e",
   "metadata": {},
   "source": [
    "If you use the `fast` option with `%%turtle`, Jupyturtle skips the animation and shows the final drawing."
   ]
  },
  {
   "cell_type": "markdown",
   "id": "25bf2294-6de4-445c-9eac-569b509ff101",
   "metadata": {},
   "source": [
    "## Turtle magic\n",
    "\n",
    "The `%%turtle` magic command creates a new turtle to start a new drawing.\n",
    "The global function `make_turtle()` does the same.\n",
    "\n",
    "`%%turtle` must be used at the top of a code cell, after importing `jupyturtle` in a previous cell.\n",
    "\n",
    "You can pass optional arguments to `%%turtle` like this:\n",
    "\n",
    "```\n",
    "%%turtle arg1 arg2 arg3\n",
    "```\n",
    "\n",
    "If one of the arguments is the word \"fast\" (no quotes), animation is turned off.\n",
    "\n",
    "If two of them are numbers, they set the drawing width and height in that order.\n",
    "\n",
    "If only one is a number, it sets both width and height so you get a square drawing area."
   ]
  },
  {
   "cell_type": "markdown",
   "id": "32da1f8e-f024-4e9c-9c92-155effa6d362",
   "metadata": {},
   "source": [
    "## Implementation details\n",
    "\n",
    "Jupyturtle is a single module `jupyturtle.py`, to make it easy to install on Jupyter Notebook kernels running on remote machines. It is also a [Proper Package™ on PyPI](https://pypi.org/project/jupyturtle/).\n",
    "\n",
    "The module provides imperative and object-oriented APIs. \n",
    "The imperative API consists of top-level functions that work as turtle commands like `fd(50)` etc.\n",
    "The OO API is provided by the `Turtle` class, which has methods such as `my_turtle.forward(50)`.\n",
    "\n",
    "The imperative API is built automatically at import time on top of the OO API, to avoid duplication.\n",
    "\n",
    "When you use a turtle command, behind the scenes it calls `get_turtle()`,\n",
    "which returns the pre-existing \"main turtle\", or creates a new one if there was no main turtle.\n",
    "The command then calls its corresponding method on the main turtle.\n",
    "So `fd(90)` is the same as `get_turtle().forward(90)`."
   ]
  },
  {
   "cell_type": "markdown",
   "id": "35a8c078-d6f1-4a91-8e88-c320e8837ebb",
   "metadata": {},
   "source": [
    "### Metaprogramming to build commands from methods\n",
    "\n",
    "The `@command` and `@command_alias` decorators in `jupyturtle.py` register\n",
    "methods of the `Turtle` class that we want to work as top-level module functions.\n",
    "\n",
    "`@command` is very simple:\n",
    "\n",
    "```python\n",
    "# mapping of method names to global aliases\n",
    "_commands = {}\n",
    "\n",
    "\n",
    "# decorators to build procedural API with turtle commands\n",
    "def command(method):\n",
    "    \"\"\"Register method for use as a top level function in procedural API.\"\"\"\n",
    "    _commands[method.__name__] = []  # no alias\n",
    "    return method\n",
    "```\n",
    "\n",
    "That's a typical registration decorator:\n",
    "it collects information such as `__name__` from the decorated function or method,\n",
    "then returns it unchanged.\n",
    "There's no inner function to wrap and replace the decorated one.\n",
    "\n",
    "Here is what the `_commands` mapping holds after `jupyturtle` is imported:"
   ]
  },
  {
   "cell_type": "code",
   "execution_count": 6,
   "id": "dd72a380-612c-4840-a968-ee8320e89516",
   "metadata": {},
   "outputs": [
    {
     "data": {
      "text/plain": [
       "{'draw': [],\n",
       " 'hide': [],\n",
       " 'show': [],\n",
       " 'move_to': ['moveto', 'mv'],\n",
       " 'forward': ['fd'],\n",
       " 'leap': ['lp'],\n",
       " 'back': ['bk'],\n",
       " 'jump_to': ['jumpto', 'jp'],\n",
       " 'left': ['lt'],\n",
       " 'right': ['rt'],\n",
       " 'pen_up': ['penup', 'pu'],\n",
       " 'pen_down': ['pendown', 'pd'],\n",
       " 'toggle_pen': [],\n",
       " 'repeat': []}"
      ]
     },
     "execution_count": 6,
     "metadata": {},
     "output_type": "execute_result"
    }
   ],
   "source": [
    "from jupyturtle import jupyturtle  # get module inside package\n",
    "jupyturtle._commands"
   ]
  },
  {
   "cell_type": "markdown",
   "id": "c7ef4420-ef46-4124-ade6-9a56b36888d2",
   "metadata": {},
   "source": [
    "The `@command_alias` accepts aliases (alternative names) for the decorated function.\n",
    "As you can see above, `pen_up` has two aliases: `penup` and `pu`.\n",
    "\n",
    "This how `pen_up` is decorated in the `Turtle` class:\n",
    "\n",
    "```python\n",
    "class Turtle:\n",
    "\n",
    "    # ...many methods omitted here...\n",
    "    \n",
    "    @command_alias('penup', 'pu')\n",
    "    def pen_up(self):\n",
    "        \"\"\"Lift the pen, so turtle stops drawing.\"\"\"\n",
    "        self.active_pen = False\n",
    "```\n",
    "\n",
    "The code for `@command_alias` is a little more complicated:\n",
    "\n",
    "```python\n",
    "def command_alias(*names):\n",
    "    \"\"\"Same as @command, but assigning aliases to the top level function.\"\"\"\n",
    "\n",
    "    def decorator(method):\n",
    "        _commands[method.__name__] = list(names)\n",
    "        return method\n",
    "\n",
    "    return decorator\n",
    "```\n",
    "\n",
    "The outer function `command_alias` exists only to collect the arguments.\n",
    "It then defines and returns an inner function which is the actual decorator:\n",
    "a fuction that gets the method to be decorated.\n",
    "\n",
    "When `jupyturtle` is imported, `@command` and `@command_alias` fill the `_commands` mapping.\n",
    "\n",
    "Then `_install_commands` is called at the top level of the module:\n",
    "it iterates over `_commands` and calls `_make_command` and `_install_command` on each registered method.\n",
    "\n",
    "```python\n",
    "def _install_commands():\n",
    "    for name, aliases in _commands.items():\n",
    "        new_command = _make_command(name)\n",
    "        _install_command(name, new_command)\n",
    "        for alias in aliases:\n",
    "            _install_command(alias, new_command)\n",
    "\n",
    "\n",
    "_install_commands()\n",
    "```\n",
    "\n",
    "`_make_command` gets the named unbound method from the `Turtle` class and creates a new function\n",
    "which gets the main turtle instance with `get_turtle()`, then calls the method on that instance.\n",
    "It also replaces the `__name__` and `__doc__` of the new function with those of the named method.\n",
    "\n",
    "```python\n",
    "def _make_command(name):\n",
    "    method = getattr(Turtle, name)  # get unbound method\n",
    "\n",
    "    def command(*args, **kwargs):\n",
    "        turtle = get_turtle()\n",
    "        method(turtle, *args, **kwargs)\n",
    "\n",
    "    command.__name__ = name\n",
    "    command.__doc__ = method.__doc__\n",
    "    return command\n",
    "```\n",
    "\n",
    "The `_install_command` function to insert each new command and its aliases in the module's global namespace\n",
    "and also in the `__all__` attribute which controls the names that are exported when you write `from jupyturtle import *`.\n",
    "\n",
    "```python\n",
    "def _install_command(name, function):\n",
    "    if name in globals():\n",
    "        raise ValueError(f'duplicate turtle command name: {name}')\n",
    "    globals()[name] = function\n",
    "    __all__.append(name)\n",
    "```\n"
   ]
  },
  {
   "cell_type": "code",
   "execution_count": null,
   "id": "559d531b-8b89-4828-bba8-a6211c14c521",
   "metadata": {},
   "outputs": [],
   "source": []
  }
 ],
 "metadata": {
  "kernelspec": {
   "display_name": "Python 3 (ipykernel)",
   "language": "python",
   "name": "python3"
  },
  "language_info": {
   "codemirror_mode": {
    "name": "ipython",
    "version": 3
   },
   "file_extension": ".py",
   "mimetype": "text/x-python",
   "name": "python",
   "nbconvert_exporter": "python",
   "pygments_lexer": "ipython3",
   "version": "3.12.2"
  }
 },
 "nbformat": 4,
 "nbformat_minor": 5
}
