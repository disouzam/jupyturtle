{
 "cells": [
  {
   "cell_type": "markdown",
   "id": "f63f440d-e0ce-45d1-8a9b-805dca927d1b",
   "metadata": {},
   "source": [
    "# O caminho da tartaruga\n",
    "\n",
    "#### Metaprogramação a serviço da aprendizagem\n",
    "\n",
    "<img src=\"world-turtle.jpg\">\n",
    "\n",
    "[\"Turtles all the way down\"](https://en.wikiquote.org/wiki/Turtles_all_the_way_down) na cultura geral.\n",
    "\n",
    "[\"Tartarugas até o onde a vista alcança\"](https://pythonfluente.com/#dp_further) no *Python Fluente, Segunda Edição*."
   ]
  },
  {
   "cell_type": "markdown",
   "id": "ede42045-a892-4015-a1b5-7feb2e4e0b27",
   "metadata": {},
   "source": [
    "## Gráficos de tartaruga\n",
    "\n",
    "### Em Logo\n",
    "\n",
    "Meu primeiro contato com Logo foi em 1981, num computador de 8 bits Apple II, com esta interface:\n",
    "\n",
    "<img src=\"logo-start.png\">\n",
    "<img src=\"logo-square.png\">\n",
    "<img src=\"logo-star.png\">\n",
    "<img src=\"logo-flower.png\">\n",
    "<img src=\"logo-tv.png\">\n",
    "\n",
    "(imagens da página [The Terrapin Logo Language](http://www.sydlexia.com/logo.htm), de Syd Lexia)\n",
    "\n",
    "Logo foi criada em 1967 por Wally Feurzeig,\n",
    "[Seymour Papert](https://en.wikipedia.org/wiki/Seymour_Papert), e \n",
    "[Cynthia Solomon](https://en.wikipedia.org/wiki/Cynthia_Solomon).\n",
    "\n",
    "<img src=\"Seymour_Papert.jpg\" width=\"400\">"
   ]
  },
  {
   "cell_type": "markdown",
   "id": "b107ab9a-f910-41fa-a5a3-5b872c0f3077",
   "metadata": {},
   "source": [
    "### Em Python\n",
    "\n",
    "O módulo [turtle](https://docs.python.org/pt-br/3/library/turtle.html)\n",
    "da biblioteca padrão implementa gráficos de tartaruga com o pacote\n",
    "[tkinter](https://docs.python.org/pt-br/3/library/tkinter.html#module-tkinter)\n",
    "em uma janela local do seu computador.\n",
    "\n",
    "### Pense em Python\n",
    "\n",
    "Livro de Allen Downey:\n",
    "\n",
    "* [2<sup>a</sup> edição em português](https://penseallen.github.io/PensePython2e/04-caso-interface.html), usa o móddulo\n",
    "  [turtle](https://docs.python.org/pt-br/3/library/turtle.html)\n",
    "* [3<sup>a</sup> edição em inglês](https://colab.research.google.com/github/AllenDowney/ThinkPython/blob/v3/chapters/chap04.ipynb), usa o pacote [jupyturtle](https://pypi.org/project/jupyturtle/)\n",
    "\n",
    "O capítulo 4 usa a tartaruga em todos os exemplos, e alguns capítulos posteriores retomam a tartaruga em alguns exemplos."
   ]
  },
  {
   "cell_type": "markdown",
   "id": "cc5640b5-30a7-486a-aca6-31899f135f1e",
   "metadata": {},
   "source": [
    "## A classe `Turtle` do \"engenheiro de software\""
   ]
  },
  {
   "cell_type": "code",
   "execution_count": null,
   "id": "e0f9e6ca-e7ac-4b3d-bce0-0a1ded0194d1",
   "metadata": {},
   "outputs": [],
   "source": [
    "from jupyturtle import Turtle\n",
    "\n",
    "alcides = Turtle()\n",
    "alcides.forward(50)"
   ]
  },
  {
   "cell_type": "code",
   "execution_count": null,
   "id": "513f8d91-2b12-431e-aa58-0cf0bc9138e3",
   "metadata": {},
   "outputs": [],
   "source": [
    "alcides.left(120)"
   ]
  },
  {
   "cell_type": "code",
   "execution_count": null,
   "id": "c7562e83-0b67-4567-8282-6598a9453fe8",
   "metadata": {},
   "outputs": [],
   "source": [
    "alcides.forward(50, 120)"
   ]
  },
  {
   "cell_type": "code",
   "execution_count": null,
   "id": "e1f55e5e-4603-45db-9412-97c83f29839b",
   "metadata": {},
   "outputs": [],
   "source": [
    "alcides.forward(50, 120)"
   ]
  },
  {
   "cell_type": "code",
   "execution_count": null,
   "id": "a1c63c21-3fc7-4d0a-9841-90cb6380ae9f",
   "metadata": {},
   "outputs": [],
   "source": [
    "अकूपार = Turtle(delay=0.01)  # \"Akūpāra\"\n",
    "\n",
    "for _ in range(18):\n",
    "    अकूपार.left(20)\n",
    "    for _ in range(3):\n",
    "        अकूपार.forward(50, 120)"
   ]
  },
  {
   "cell_type": "markdown",
   "id": "65b90317-f80d-4774-a422-a4a5d7ed95de",
   "metadata": {},
   "source": [
    "### Problemas da interface baseada em classe\n",
    "\n",
    "* Precisa entender minimamente o que é uma classe.\n",
    "* Introduz a sintaxe `método.objeto`. Mas o que é um \"objeto\"? E um \"método\"?\n",
    "* Verbosidade\n",
    "\n",
    "Fica mais fácil de usar assim:"
   ]
  },
  {
   "cell_type": "markdown",
   "id": "92b51296-f281-403d-bb85-5fd3ed8f1a9e",
   "metadata": {},
   "source": [
    "## Interface imperativa"
   ]
  },
  {
   "cell_type": "code",
   "execution_count": null,
   "id": "998f5764-a030-4628-abd3-2a341648e42a",
   "metadata": {},
   "outputs": [],
   "source": [
    "from jupyturtle import *  # o \"engenheiro de software\" surta\n",
    "\n",
    "make_turtle()\n",
    "\n",
    "for _ in range(3):\n",
    "    forward(50)\n",
    "    left(120)"
   ]
  },
  {
   "cell_type": "markdown",
   "id": "fbe8218c-0e87-487c-93c0-5a4fa5cb3d40",
   "metadata": {},
   "source": [
    "Melhor ainda:"
   ]
  },
  {
   "cell_type": "code",
   "execution_count": null,
   "id": "a44fda78-9e87-44c6-9358-453fa8f8dbff",
   "metadata": {},
   "outputs": [],
   "source": [
    "%%turtle\n",
    "\n",
    "for _ in range(3):\n",
    "    fd(50)\n",
    "    lt(120)\n"
   ]
  },
  {
   "cell_type": "markdown",
   "id": "dc59f1e1-ca0c-4cf7-86c5-6394660737e6",
   "metadata": {},
   "source": [
    "As funções movimentam a última tartaruga exibida."
   ]
  },
  {
   "cell_type": "code",
   "execution_count": null,
   "id": "c00fd530-5f0b-4b95-87a7-b09c9dcbe15a",
   "metadata": {},
   "outputs": [],
   "source": [
    "for _ in range(4):\n",
    "    fd(50)\n",
    "    lt(90)\n"
   ]
  },
  {
   "cell_type": "markdown",
   "id": "593799ac-3961-4f45-8b9c-bf3c0008c500",
   "metadata": {},
   "source": [
    "Para começar um novo desenho, use o comando mágico `%%turtle` no topo da célula, ou invoque a função `make_turtle()` como vimos antes.\n",
    "\n",
    "O comando `%%turtle` aceita números para definir a largura e a altura do desenho, e a opção `fast` para desenhar o mais rápido possível."
   ]
  },
  {
   "cell_type": "code",
   "execution_count": null,
   "id": "b791e5b0-2ca1-4067-9304-d7d08697994b",
   "metadata": {},
   "outputs": [],
   "source": [
    "%%turtle 400 fast\n",
    "\n",
    "for i in range(3, 13):\n",
    "    for _ in range(i):\n",
    "        fd(50)\n",
    "        lt(360/i)\n"
   ]
  },
  {
   "cell_type": "markdown",
   "id": "9627c346-ba8b-4e2a-953f-eb3ac40fbd9f",
   "metadata": {},
   "source": [
    "### [Como implementei](Como_implementei.ipynb)"
   ]
  }
 ],
 "metadata": {
  "kernelspec": {
   "display_name": "Python 3 (ipykernel)",
   "language": "python",
   "name": "python3"
  },
  "language_info": {
   "codemirror_mode": {
    "name": "ipython",
    "version": 3
   },
   "file_extension": ".py",
   "mimetype": "text/x-python",
   "name": "python",
   "nbconvert_exporter": "python",
   "pygments_lexer": "ipython3",
   "version": "3.12.2"
  }
 },
 "nbformat": 4,
 "nbformat_minor": 5
}
