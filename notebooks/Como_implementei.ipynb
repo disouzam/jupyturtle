{
 "cells": [
  {
   "cell_type": "markdown",
   "id": "5a561b41-db1e-482f-8203-f539ed7b9273",
   "metadata": {},
   "source": [
    "# Como implementei\n",
    "\n",
    "O ponto de partida foi uma classe `Turtle`:"
   ]
  },
  {
   "cell_type": "code",
   "execution_count": null,
   "id": "8a8b298d-4aec-4333-8abf-0939be820596",
   "metadata": {},
   "outputs": [],
   "source": [
    "from jupyturtle import Turtle\n",
    "\n",
    "alcides = Turtle()\n",
    "alcides.forward(100)"
   ]
  },
  {
   "cell_type": "markdown",
   "id": "3b617389-4b9d-40ee-b69c-c00ad76e2894",
   "metadata": {},
   "source": [
    "Mas eu queria funções globais para controlar \"a\" tartaruga.\n",
    "Qual tartaruga? Por hora, vamos controlar `alcides`:"
   ]
  },
  {
   "cell_type": "code",
   "execution_count": null,
   "id": "7f2c02fc-5baa-47b7-bba0-e0404840dabd",
   "metadata": {},
   "outputs": [],
   "source": [
    "def lt(n):\n",
    "    alcides.left(n)\n",
    "\n",
    "lt(120)"
   ]
  },
  {
   "cell_type": "code",
   "execution_count": null,
   "id": "aec3499c-4a36-47ea-9d17-07c3e9a55b0b",
   "metadata": {},
   "outputs": [],
   "source": [
    "def fd(n):\n",
    "    alcides.forward(n)\n",
    "\n",
    "fd(50)"
   ]
  },
  {
   "cell_type": "markdown",
   "id": "8949c5f7-d423-46a1-aeed-3bed8912bf44",
   "metadata": {},
   "source": [
    "Isso fica chato bem rápido porque `Turtle` tem muitos métodos.\n",
    "\n",
    "Não quero escrever uma função para cada um deles."
   ]
  },
  {
   "cell_type": "markdown",
   "id": "8b059821-c970-40f5-9243-8a5d1f3cd6af",
   "metadata": {},
   "source": [
    "# Ideia: um decorador de métodos\n",
    "\n",
    "Uma classe mais simples, com estado `self.ligado` e três métodos principais: `ligar`, `desligar`, e `clicar` (para alternar entre ligado e desligado automaticamente)."
   ]
  },
  {
   "cell_type": "code",
   "execution_count": null,
   "id": "55e57f5e-d5a9-4d80-9dc3-2541f17be570",
   "metadata": {},
   "outputs": [],
   "source": [
    "class Botão():\n",
    "\n",
    "    def __init__(self):\n",
    "        self.ligado = False\n",
    "\n",
    "    def __repr__(self):\n",
    "        estado = 'LIGADO' if self.ligado else 'desligado'\n",
    "        return f'<Botão {estado} (id={id(self):x})>'\n",
    "\n",
    "    def ligar(self):\n",
    "        self.ligado = True\n",
    "        return self\n",
    "\n",
    "    def desligar(self):\n",
    "        self.ligado = False\n",
    "        return self\n",
    "\n",
    "    def alternar(self):\n",
    "        self.ligado = not self.ligado\n",
    "        return self\n",
    "     "
   ]
  },
  {
   "cell_type": "code",
   "execution_count": null,
   "id": "a208d92b-cf5a-4bba-9ac8-d50274f7e710",
   "metadata": {},
   "outputs": [],
   "source": [
    "b = Botão()\n",
    "b"
   ]
  },
  {
   "cell_type": "code",
   "execution_count": null,
   "id": "e70d8a2c-67ee-4e04-b1a4-bf5579122313",
   "metadata": {},
   "outputs": [],
   "source": [
    "b.ligar()"
   ]
  },
  {
   "cell_type": "code",
   "execution_count": null,
   "id": "077dae78-e089-45f7-8ff9-0bbcd3950d9b",
   "metadata": {},
   "outputs": [],
   "source": [
    "b.alternar()"
   ]
  },
  {
   "cell_type": "code",
   "execution_count": null,
   "id": "551979e5-fe0a-49ac-94e3-cf21626cc7dd",
   "metadata": {},
   "outputs": [],
   "source": [
    "b.alternar()"
   ]
  },
  {
   "cell_type": "markdown",
   "id": "7540a643-fff4-4190-9c35-72a249f022e1",
   "metadata": {},
   "source": [
    "## O decorador que registra os comandos"
   ]
  },
  {
   "cell_type": "code",
   "execution_count": null,
   "id": "72ad15e7-f767-4d6e-b4ce-8bf5ec3488bb",
   "metadata": {},
   "outputs": [],
   "source": [
    "_comandos = []\n",
    "\n",
    "def comando(metodo):\n",
    "    _comandos.append(metodo.__name__)\n",
    "    return metodo  # importante!!!"
   ]
  },
  {
   "cell_type": "markdown",
   "id": "3ffdc721-a7f0-4519-b93e-8989f5e8e12f",
   "metadata": {},
   "source": [
    "A classe decorada:"
   ]
  },
  {
   "cell_type": "code",
   "execution_count": null,
   "id": "0ae95bdf-6285-415f-8380-a0f5f1b86d1b",
   "metadata": {},
   "outputs": [],
   "source": [
    "class Botão():\n",
    "\n",
    "    def __init__(self):\n",
    "        self.ligado = False\n",
    "\n",
    "    def __repr__(self):\n",
    "        estado = 'LIGADO' if self.ligado else 'desligado'\n",
    "        return f'<Botão {estado} (id={id(self):x})>'\n",
    "\n",
    "    @comando\n",
    "    def ligar(self):\n",
    "        self.ligado = True\n",
    "        return self\n",
    "\n",
    "    @comando\n",
    "    def desligar(self):\n",
    "        self.ligado = False\n",
    "        return self\n",
    "\n",
    "    @comando\n",
    "    def alternar(self):\n",
    "        self.ligado = not self.ligado\n",
    "        return self\n",
    "     "
   ]
  },
  {
   "cell_type": "markdown",
   "id": "b170c23b-df85-40f6-81f3-ee1d8719a93c",
   "metadata": {},
   "source": [
    "Resultado do decorador:"
   ]
  },
  {
   "cell_type": "code",
   "execution_count": null,
   "id": "a1cb6b2c-67b6-469f-b3ea-e31ba91ea06f",
   "metadata": {},
   "outputs": [],
   "source": [
    "_comandos"
   ]
  },
  {
   "cell_type": "markdown",
   "id": "9522af9e-142c-49b0-88b3-aa1d5dc7bb65",
   "metadata": {},
   "source": [
    "## Função para construir um comando\n",
    "\n",
    "Primeiro, vamos revisar o conceito de \"método desvinculado\"\n",
    "\n",
    "### Métodos desvinculados\n",
    "\n",
    "Métodos desvinculados (*unbound methods*) podem ser usados como função.\n",
    "\n",
    "Normalmente usamos métodos vinculados, assim:"
   ]
  },
  {
   "cell_type": "code",
   "execution_count": null,
   "id": "583192ef-eff2-4d49-bc1b-fb401f2c6f25",
   "metadata": {},
   "outputs": [],
   "source": [
    "s = \"PyLadies\"\n",
    "s.upper()"
   ]
  },
  {
   "cell_type": "markdown",
   "id": "e947caf0-8c38-476e-8b54-88f3800b99f5",
   "metadata": {},
   "source": [
    "Mas podemos obter o método desvinculado direto na classe `str`, e usar como uma função:"
   ]
  },
  {
   "cell_type": "code",
   "execution_count": null,
   "id": "4874775a-14fe-4991-8b99-d26878040957",
   "metadata": {},
   "outputs": [],
   "source": [
    "str.upper(s)"
   ]
  },
  {
   "cell_type": "markdown",
   "id": "c8120718-4a19-4ef3-8f27-110d0a12f729",
   "metadata": {},
   "source": [
    "Métodos desvinculados são úteis em contextos de programação imperativa ou funcional.\n",
    "\n",
    "Por exemplo:"
   ]
  },
  {
   "cell_type": "code",
   "execution_count": null,
   "id": "29954119-cbd2-4539-814c-04432c0a0878",
   "metadata": {},
   "outputs": [],
   "source": [
    "frutas = ['abacaxi', 'banana', 'caqui', 'damasco']\n",
    "list(map(str.upper, frutas))"
   ]
  },
  {
   "cell_type": "markdown",
   "id": "87f9be1a-a6ac-4939-b748-0a1a454f7a25",
   "metadata": {},
   "source": [
    "Mas eu prefiro obter o mesmo resultado assim:"
   ]
  },
  {
   "cell_type": "code",
   "execution_count": null,
   "id": "baa23278-6aae-4d40-a1e5-868c48fcb648",
   "metadata": {},
   "outputs": [],
   "source": [
    "[fruta.upper() for fruta in frutas]"
   ]
  },
  {
   "cell_type": "markdown",
   "id": "df4bf8a0-de18-48d1-99c7-8231ad87d689",
   "metadata": {},
   "source": [
    "### Voltando ao tema do Botão\n",
    "\n",
    "Para cada comando,  precisamos obter um método desvinculado (*unbound method*) para usar como função:"
   ]
  },
  {
   "cell_type": "code",
   "execution_count": null,
   "id": "f0be6a34-bca6-4b19-8728-358f7b5b3586",
   "metadata": {},
   "outputs": [],
   "source": [
    "alt = getattr(Botão, 'alternar')  # obter método desvinculado (unbound)\n",
    "alt"
   ]
  },
  {
   "cell_type": "code",
   "execution_count": null,
   "id": "57cf2190-e730-49c6-abf1-c256c59e70b5",
   "metadata": {},
   "outputs": [],
   "source": [
    "b = Botão()\n",
    "b"
   ]
  },
  {
   "cell_type": "code",
   "execution_count": null,
   "id": "85e5b0d9-413c-49c8-9e00-6834a07362ed",
   "metadata": {},
   "outputs": [],
   "source": [
    "alt(b)"
   ]
  },
  {
   "cell_type": "code",
   "execution_count": null,
   "id": "4199bdbb-92c3-40b0-8f7e-451534657fb4",
   "metadata": {},
   "outputs": [],
   "source": [
    "alt(b)"
   ]
  },
  {
   "cell_type": "markdown",
   "id": "a966d9fb-ac17-49b0-bf17-b9281e9097d8",
   "metadata": {},
   "source": [
    "Agora vamos reunir essa lógica em uma função:"
   ]
  },
  {
   "cell_type": "code",
   "execution_count": null,
   "id": "f1b473a7-6c90-407c-984b-bb464021cbd5",
   "metadata": {},
   "outputs": [],
   "source": [
    "_botão_principal = Botão()\n",
    "\n",
    "def faz_comando(nome):\n",
    "    método_desvinculado = getattr(Botão, nome)\n",
    "\n",
    "    def cmd(*args):\n",
    "        return método_desvinculado(_botão_principal, *args)\n",
    "\n",
    "    cmd.__name__ = nome\n",
    "    return cmd\n",
    "\n",
    "alt = faz_comando('alternar')"
   ]
  },
  {
   "cell_type": "code",
   "execution_count": null,
   "id": "f9c14789-edb1-4033-86f6-537cf0416f4a",
   "metadata": {},
   "outputs": [],
   "source": [
    "alt()"
   ]
  },
  {
   "cell_type": "markdown",
   "id": "2ee201b7-9a03-4449-bb92-1b78d8a3de79",
   "metadata": {},
   "source": [
    "## Instalar comandos como funções globais\n",
    "\n",
    "Veja como transformar uma mísera função anônima numa impressionante função global:"
   ]
  },
  {
   "cell_type": "code",
   "execution_count": null,
   "id": "dad313c2-b9c1-44e9-bcb5-9e0dc28133a9",
   "metadata": {},
   "outputs": [],
   "source": [
    "globals()['dobro'] = lambda x: x * 2\n",
    "\n",
    "dobro(21)"
   ]
  },
  {
   "cell_type": "markdown",
   "id": "b63c5fe9-0e2b-4da3-b45e-66ecd2948d11",
   "metadata": {},
   "source": [
    "Agora já sabemos como instalar os comandos criados dinamicamente como funções globais:"
   ]
  },
  {
   "cell_type": "code",
   "execution_count": null,
   "id": "c9e5f05a-1b86-40f5-9e6f-0e2f85025922",
   "metadata": {},
   "outputs": [],
   "source": [
    "def instalar_comandos():\n",
    "    for nome in _comandos:\n",
    "        cmd = faz_comando(nome)\n",
    "        nome_curto = nome[:3]\n",
    "        globals()[nome_curto] = cmd\n",
    "\n",
    "instalar_comandos()"
   ]
  },
  {
   "cell_type": "code",
   "execution_count": null,
   "id": "1b5e0251-27d0-45e5-8f33-588747dd0b9c",
   "metadata": {},
   "outputs": [],
   "source": [
    "lig()"
   ]
  },
  {
   "cell_type": "code",
   "execution_count": null,
   "id": "85c03db6-c34c-4522-84ca-17d505ce3ae1",
   "metadata": {},
   "outputs": [],
   "source": [
    "des()"
   ]
  },
  {
   "cell_type": "code",
   "execution_count": null,
   "id": "c8abf5db-1741-41f8-84ad-9fcef9c130a5",
   "metadata": {},
   "outputs": [],
   "source": [
    "alt()"
   ]
  },
  {
   "cell_type": "markdown",
   "id": "ccdda26a-4675-4d80-ab15-787c37ec17fa",
   "metadata": {},
   "source": [
    "## Conteúdo extra\n",
    "\n",
    "### Notebooks\n",
    "\n",
    "* [Exemplos do capítulo 4 de *Think Python, 3e*](ThinkPythonChap04.ipynb)\n",
    "* [Galeria de exemplos](gallery.ipynb)\n",
    "* [Referência de comandos](command-ref.ipynb)\n",
    "\n",
    "### Código de `jupyturtle.py`\n",
    "\n",
    "* [Comandos com apelidos](https://github.com/ramalho/jupyturtle/blob/d26dda0bb9f9bec383f393cfb1b1431e23e17030/src/jupyturtle/jupyturtle.py#L92): `forward` e `fd`\n",
    "\n",
    "* [Mágica `%%turtle`](https://github.com/ramalho/jupyturtle/blob/d26dda0bb9f9bec383f393cfb1b1431e23e17030/src/jupyturtle/jupyturtle.py#L558)"
   ]
  },
  {
   "cell_type": "code",
   "execution_count": null,
   "id": "6e5a1d17-689d-4163-9174-723822106c07",
   "metadata": {},
   "outputs": [],
   "source": []
  }
 ],
 "metadata": {
  "kernelspec": {
   "display_name": "Python 3 (ipykernel)",
   "language": "python",
   "name": "python3"
  },
  "language_info": {
   "codemirror_mode": {
    "name": "ipython",
    "version": 3
   },
   "file_extension": ".py",
   "mimetype": "text/x-python",
   "name": "python",
   "nbconvert_exporter": "python",
   "pygments_lexer": "ipython3",
   "version": "3.12.2"
  }
 },
 "nbformat": 4,
 "nbformat_minor": 5
}
