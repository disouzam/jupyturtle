{
 "cells": [
  {
   "cell_type": "markdown",
   "id": "5a561b41-db1e-482f-8203-f539ed7b9273",
   "metadata": {},
   "source": [
    "# Como implementei\n",
    "\n",
    "O ponto de partida foi uma classe `Turtle`:"
   ]
  },
  {
   "cell_type": "code",
   "execution_count": 2,
   "id": "8a8b298d-4aec-4333-8abf-0939be820596",
   "metadata": {},
   "outputs": [
    {
     "data": {
      "text/html": [
       "<svg width=\"300\" height=\"150\" style=\"fill:none; stroke-linecap:round;\">\n",
       "    <rect width=\"100%\" height=\"100%\" fill=\"#F3F3F7\" />\n",
       "\n",
       "\n",
       "<path stroke=\"#663399\" stroke-width=\"2\" d=\"M 150,75 250,75 225,31.7 237.9,80\" />'\n",
       "\n",
       "<g transform=\"rotate(255.0,237.9,80.0) translate(237.9, 80.0)\">\n",
       "    <circle stroke=\"#63A375\" stroke-width=\"2\" fill=\"transparent\" r=\"5.5\" cx=\"0\" cy=\"0\"/>\n",
       "    <polygon points=\"0,12 2,9 -2,9\" style=\"fill:#63A375;stroke:#63A375;stroke-width:2\"/>\n",
       "</g>\n",
       "\n",
       "</svg>"
      ],
      "text/plain": [
       "<IPython.core.display.HTML object>"
      ]
     },
     "metadata": {},
     "output_type": "display_data"
    }
   ],
   "source": [
    "from jupyturtle import Turtle\n",
    "\n",
    "alcides = Turtle()\n",
    "alcides.forward(100)"
   ]
  },
  {
   "cell_type": "markdown",
   "id": "3b617389-4b9d-40ee-b69c-c00ad76e2894",
   "metadata": {},
   "source": [
    "Mas eu queria funções globais para controlar \"a\" tartaruga.\n",
    "Qual tartaruga? Por hora, vamos controlar `alcides`:"
   ]
  },
  {
   "cell_type": "code",
   "execution_count": 6,
   "id": "7f2c02fc-5baa-47b7-bba0-e0404840dabd",
   "metadata": {},
   "outputs": [],
   "source": [
    "def lt(n):\n",
    "    alcides.left(n)\n",
    "\n",
    "lt(120)"
   ]
  },
  {
   "cell_type": "code",
   "execution_count": 7,
   "id": "aec3499c-4a36-47ea-9d17-07c3e9a55b0b",
   "metadata": {},
   "outputs": [],
   "source": [
    "def fd(n):\n",
    "    alcides.forward(n)\n",
    "\n",
    "fd(50)"
   ]
  },
  {
   "cell_type": "markdown",
   "id": "8949c5f7-d423-46a1-aeed-3bed8912bf44",
   "metadata": {},
   "source": [
    "Isso fica chato bem rápido porque `Turtle` tem muitos métodos.\n",
    "\n",
    "Não quero escrever uma função para cada um deles."
   ]
  },
  {
   "cell_type": "markdown",
   "id": "8b059821-c970-40f5-9243-8a5d1f3cd6af",
   "metadata": {},
   "source": [
    "# Ideia: um decorador de métodos"
   ]
  },
  {
   "cell_type": "code",
   "execution_count": null,
   "id": "55e57f5e-d5a9-4d80-9dc3-2541f17be570",
   "metadata": {},
   "outputs": [],
   "source": []
  }
 ],
 "metadata": {
  "kernelspec": {
   "display_name": "Python 3 (ipykernel)",
   "language": "python",
   "name": "python3"
  },
  "language_info": {
   "codemirror_mode": {
    "name": "ipython",
    "version": 3
   },
   "file_extension": ".py",
   "mimetype": "text/x-python",
   "name": "python",
   "nbconvert_exporter": "python",
   "pygments_lexer": "ipython3",
   "version": "3.12.2"
  }
 },
 "nbformat": 4,
 "nbformat_minor": 5
}
