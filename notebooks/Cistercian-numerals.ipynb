{
 "cells": [
  {
   "cell_type": "markdown",
   "id": "626de490-1945-4bf2-8c72-b1d7ecf53868",
   "metadata": {},
   "source": [
    "# Cistercian numerals\n",
    "\n",
    "A [numeral system](https://en.wikipedia.org/wiki/Cistercian_numerals) created by XIII century Cistercian monks that can represent any integer from 1 to 9,999 with a single glyph.\n",
    "\n",
    "Examples:\n",
    "\n",
    "<img src=\"Cistercian_numerals.png\" width=\"40%\" />"
   ]
  },
  {
   "cell_type": "markdown",
   "id": "99403523-6b43-4cb9-b613-311fbb2c1125",
   "metadata": {},
   "source": [
    "Combining digits:\n",
    "\n",
    "<img src=\"Cistercian_digits_vertical.png\" width=\"30%\" />"
   ]
  },
  {
   "cell_type": "code",
   "execution_count": 1,
   "id": "68e5db56-044f-4fe7-a490-6ba936985bbc",
   "metadata": {},
   "outputs": [],
   "source": [
    "from jupyturtle import *"
   ]
  },
  {
   "cell_type": "code",
   "execution_count": 2,
   "id": "34afb59c-1349-44b8-a813-1042b67bb7f6",
   "metadata": {},
   "outputs": [
    {
     "data": {
      "text/html": [
       "<svg width=\"1000\" height=\"100\" style=\"fill:none; stroke-linecap:round;\">\n",
       "    <rect width=\"100%\" height=\"100%\" fill=\"#F3F3F7\" />\n",
       "\n",
       "\n",
       "<path stroke=\"#663399\" stroke-width=\"2\" d=\"M 500,50\" />'\n",
       "\n",
       "<path stroke=\"#663399\" stroke-width=\"2\" d=\"M 50,50\" />'\n",
       "\n",
       "<path stroke=\"#663399\" stroke-width=\"2\" d=\"M 50,78 50,22 66,22 50,22 50,78\" />'\n",
       "\n",
       "<path stroke=\"#663399\" stroke-width=\"2\" d=\"M 106,78 106,22 106,38 122,38\" />'\n",
       "\n",
       "<path stroke=\"#663399\" stroke-width=\"2\" d=\"M 106,38\" />'\n",
       "\n",
       "<path stroke=\"#663399\" stroke-width=\"2\" d=\"M 106,78\" />'\n",
       "\n",
       "<path stroke=\"#663399\" stroke-width=\"2\" d=\"M 162,78 162,22 178,38\" />'\n",
       "\n",
       "<path stroke=\"#663399\" stroke-width=\"2\" d=\"M 162,22\" />'\n",
       "\n",
       "<path stroke=\"#663399\" stroke-width=\"2\" d=\"M 162,78\" />'\n",
       "\n",
       "<path stroke=\"#663399\" stroke-width=\"2\" d=\"M 218,78\" />'\n",
       "\n",
       "<g transform=\"rotate(180.0,218.0,78.0) translate(218.0, 78.0)\">\n",
       "    <circle stroke=\"#63A375\" stroke-width=\"2\" fill=\"transparent\" r=\"5.5\" cx=\"0\" cy=\"0\"/>\n",
       "    <polygon points=\"0,12 2,9 -2,9\" style=\"fill:#63A375;stroke:#63A375;stroke-width:2\"/>\n",
       "</g>\n",
       "\n",
       "</svg>"
      ],
      "text/plain": [
       "<IPython.core.display.HTML object>"
      ]
     },
     "metadata": {},
     "output_type": "display_data"
    }
   ],
   "source": [
    "%%turtle fast 1000 100\n",
    "\n",
    "h = 56  # glyph height\n",
    "\n",
    "#initial position\n",
    "with no_pen():\n",
    "    bk(450)\n",
    "    lt(90)\n",
    "    bk(h/2)\n",
    "\n",
    "def space(height):\n",
    "    with no_pen():\n",
    "        rt(90)\n",
    "        fd(height)\n",
    "        lt(90)\n",
    "\n",
    "def d1(height):\n",
    "    h = height\n",
    "    w = width = 2 * height / 7\n",
    "    fd(h, -90)\n",
    "    fd(w, 180)\n",
    "    fd(w, 90)\n",
    "    fd(h, 180)\n",
    "\n",
    "def d2(h):\n",
    "    w = 2 * h / 7    \n",
    "    fd(h, 180)\n",
    "    fd(w, 90)\n",
    "    fd(w, 180)\n",
    "    with no_pen():\n",
    "        fd(w, -90)\n",
    "        bk(5 * h / 7)\n",
    "\n",
    "def d3(h):\n",
    "    w = 2 * h / 7    \n",
    "    fd(h, -135)\n",
    "    fd(w * 2**.5, 180)\n",
    "    with no_pen():\n",
    "        fd(w * 2**.5, -45)\n",
    "        bk(h)\n",
    "    \n",
    "\n",
    "    \n",
    "h = 56\n",
    "d1(h)\n",
    "space(h)\n",
    "d2(h)\n",
    "space(h)\n",
    "d3(h)\n",
    "space(h)"
   ]
  },
  {
   "cell_type": "code",
   "execution_count": null,
   "id": "4753b2ba-db00-42ec-9dac-ebe4aa1b29ec",
   "metadata": {},
   "outputs": [],
   "source": []
  }
 ],
 "metadata": {
  "kernelspec": {
   "display_name": "Python 3 (ipykernel)",
   "language": "python",
   "name": "python3"
  },
  "language_info": {
   "codemirror_mode": {
    "name": "ipython",
    "version": 3
   },
   "file_extension": ".py",
   "mimetype": "text/x-python",
   "name": "python",
   "nbconvert_exporter": "python",
   "pygments_lexer": "ipython3",
   "version": "3.12.2"
  }
 },
 "nbformat": 4,
 "nbformat_minor": 5
}
